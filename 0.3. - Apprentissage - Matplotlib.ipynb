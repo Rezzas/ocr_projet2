{
 "cells": [
  {
   "cell_type": "markdown",
   "metadata": {},
   "source": [
    "# Cours\n",
    "\n",
    "* [Notebook - Exemples de graphes](https://nbviewer.jupyter.org/urls/gist.githubusercontent.com/Jwink3101/e6b57eba3beca4b05ec146d9e38fc839/raw/f486ca3dcad44c33fc4e7ddedc1f83b82c02b492/Matplotlib_Cheatsheet)\n",
    "* [Documentation officielle - Tutoriels](https://matplotlib.org/tutorials/index.html)\n",
    "* [Documentation officielle - API Overview](https://matplotlib.org/3.2.1/api/index.html)\n",
    "* [Matplotlib - Emplacement de la légende](https://pythonspot.com/matplotlib-legend/)\n",
    "* [OpenClassRooms - Matplotlib](https://openclassrooms.com/fr/courses/4452741-decouvrez-les-librairies-python-pour-la-data-science/4740942-maitrisez-les-possibilites-offertes-par-matplotlib)\n",
    "* [Youtube - Matplotlib in 5min](https://www.youtube.com/watch?v=6rKe2IEIu8c)"
   ]
  },
  {
   "cell_type": "markdown",
   "metadata": {},
   "source": [
    "# Sommaire\n",
    "\n",
    "* [Environnement de travail](#envtravail)\n",
    "* [Graphiques simples](#graphiquesimples)\n",
    "* [Viualiser l'incertitude](#visualiserincertitude)\n",
    "* [Personnalisation et sous-grpahes](#personnalisation)\n",
    "* [Différence entre pyplotAPI (plt.) & fig,ax](#diff)"
   ]
  },
  {
   "cell_type": "markdown",
   "metadata": {},
   "source": [
    "# Introduction \n",
    "\n",
    "Matplotlib a vu le jour pour permettre de générer directement des graphiques à partir de Python. \n",
    "\n",
    "Au fil des années, Matplotlib est devenu une librairie puissante, compatible avec beaucoup de plateformes, et capable de générer des graphiques dans beaucoup de formats différents."
   ]
  },
  {
   "cell_type": "markdown",
   "metadata": {},
   "source": [
    "<a id=\"envtravail\"></a>"
   ]
  },
  {
   "cell_type": "markdown",
   "metadata": {},
   "source": [
    "## Environnement de travail"
   ]
  },
  {
   "cell_type": "code",
   "execution_count": null,
   "metadata": {},
   "outputs": [],
   "source": [
    "%matplotlib --list # liste des gestionnaires graphiques possibles"
   ]
  },
  {
   "cell_type": "code",
   "execution_count": null,
   "metadata": {},
   "outputs": [],
   "source": [
    "%matplotlib inline # utilisation du gestionnaire graphique par défaut de Jupyter Notebook"
   ]
  },
  {
   "cell_type": "code",
   "execution_count": null,
   "metadata": {},
   "outputs": [],
   "source": [
    "# mise en place de l'environnement de travail\n",
    "import matplotlib.pyplot as plt\n",
    "plt.style.use('seaborn-whitegrid')\n",
    "import numpy as np"
   ]
  },
  {
   "cell_type": "markdown",
   "metadata": {},
   "source": [
    "<a id=\"graphiquesimples\"></a>"
   ]
  },
  {
   "cell_type": "markdown",
   "metadata": {},
   "source": [
    "## Graphiques simples"
   ]
  },
  {
   "cell_type": "code",
   "execution_count": null,
   "metadata": {
    "scrolled": true
   },
   "outputs": [],
   "source": [
    "fig = plt.figure() # nouvelle figure / conteneur qui contient tous les objets (axes, labels, données, ...)\n",
    "ax = plt.axes() # nouveaux axes / les carrés du graphes qui contiendront les données"
   ]
  },
  {
   "cell_type": "code",
   "execution_count": null,
   "metadata": {},
   "outputs": [],
   "source": [
    "fig = plt.figure()\n",
    "ax = plt.axes()\n",
    "\n",
    "# tableau de réels compris qui vont linéairement de 0 à 10\n",
    "x = np.linspace(0, 20, 1000) \n",
    "\n",
    "# x les valeurs en abscisse, np.sin(x) les valeurs en ordonnées\n",
    "# à une valeur de x est associée son np.sin(x) \n",
    "# on voit que la sinosoïde évolue entre [-1;1]\n",
    "# sin(pi/2) = 1 & sin(-pi/2) = -1\n",
    "ax.plot(x, np.sin(x)); "
   ]
  },
  {
   "cell_type": "code",
   "execution_count": null,
   "metadata": {
    "scrolled": false
   },
   "outputs": [],
   "source": [
    "# Changer la taille de police par défaut\n",
    "# on voit que les labels des axes ont une police plus grande\n",
    "plt.rcParams.update({'font.size': 15})\n",
    "\n",
    "fig = plt.figure()\n",
    "ax = plt.axes()\n",
    "\n",
    "# Couleur spécifiée par son nom, ligne solide\n",
    "ax.plot(x, np.sin(x), color='blue', linestyle='solid', label='sin(x)')\n",
    "\n",
    "# Nom court pour la couleur, ligne avec des traits\n",
    "#plt.plot(x, np.sin(x - 1), color='g', linestyle='dashed', label='sin(x-1)')\n",
    "\n",
    "# Valeur de gris entre 0 et 1, des traits et des points\n",
    "#plt.plot(x, np.sin(x - 2), color='0.75', linestyle='dashdot', label='sin(x-2)')\n",
    "\n",
    "# Couleur spécifié en RGB, avec des points\n",
    "ax.plot(x, np.sin(x - np.pi), color='#FF0000', linestyle='dotted', label='sin(x-pi)')\n",
    "\n",
    "# Les limites des axes, essayez aussi les arguments 'tight' et 'equal' \n",
    "# pour voir leur effet\n",
    "ax.axis([0, 10, -2.0, 2.5]); # manuellement\n",
    "# plt.axis('tight') # automatiquement resseré (trop en haut je trouve)\n",
    "# plt.axis('equal') # automatiquement espacé (hauteur = largeur/2)\n",
    "\n",
    "# Les labels\n",
    "#ax.title(\"titre : un exemple de graphe\")\n",
    "\n",
    "# La légende est générée à partir de l'argument label de la fonction\n",
    "# plot. L'argument loc spécifie le placement de la légende\n",
    "ax.legend(loc='upper center', bbox_to_anchor=(0.5, 1.00), shadow=True, ncol=2)\n",
    "\n",
    "#plt.legend(loc='lower right');\n",
    "\n",
    "# Titres des axes\n",
    "ax = ax.set(xlabel='x', ylabel='sin(x)')\n",
    "#ax.set_xlabel('x-label', fontsize=next(fontsizes))\n",
    "#ax.set_ylabel('y-label', fontsize=next(fontsizes))\n"
   ]
  },
  {
   "cell_type": "markdown",
   "metadata": {},
   "source": [
    "<a id=\"visualiserincertitude\"></a>"
   ]
  },
  {
   "cell_type": "markdown",
   "metadata": {},
   "source": [
    "## Visualiser l'incertitude"
   ]
  },
  {
   "cell_type": "code",
   "execution_count": null,
   "metadata": {
    "scrolled": true
   },
   "outputs": [],
   "source": [
    "# dans cet exemple on part du principe que les données sont discrètes\n",
    "rng = np.random.default_rng()\n",
    "std_rand = rng.standard_normal(50)\n",
    "\n",
    "x = np.linspace(0, 10, 50) # 50 valeurs de 0 à 10 qui progresse linéairement\n",
    "dy = 0.2 # l'incertitude\n",
    "\n",
    "# +dy ça ne fait que changer l'intervalle où sin(x) est compris [-1+dy;1+dy]\n",
    "# du coup on multiple par std_rand histoire de similuer un peu mieux l'incertitude\n",
    "y = np.sin(x) + dy * std_rand\n",
    "\n",
    "#yerr = trace l'erreur possible qui est ici dy\n",
    "#fmt = format de la barre, .k = black, .r=red, .y=yellow, .g=green\n",
    "# plt.errorbar(x, y, yerr=dy, fmt='.y');\n",
    "\n",
    "# fmt, o, v, x, >, <, *, %, -, _, --, s, ^\n",
    "plt.errorbar(x, y, yerr=dy, fmt='-', color='black',\n",
    "             ecolor='gray', elinewidth=3, capsize=0);"
   ]
  },
  {
   "cell_type": "markdown",
   "metadata": {},
   "source": [
    "<a id=\"personnalisation\"></a>"
   ]
  },
  {
   "cell_type": "markdown",
   "metadata": {},
   "source": [
    "## Personnalisation et sous-graphe"
   ]
  },
  {
   "cell_type": "code",
   "execution_count": null,
   "metadata": {
    "scrolled": true
   },
   "outputs": [],
   "source": [
    "print(plt.style.available[:6])\n",
    "\n",
    "# Notez la taille de la figure\n",
    "fig = plt.figure(figsize=(16,12)) #largueur x hauteur\n",
    "for i in range(6):\n",
    "    # On peut ajouter des sous graphes ainsi\n",
    "    fig.add_subplot(3,2,i+1)\n",
    "    plt.style.use(plt.style.available[i])\n",
    "    plt.plot(x, y)\n",
    "    "
   ]
  },
  {
   "cell_type": "markdown",
   "metadata": {},
   "source": [
    "<a id=\"diff\"></a>"
   ]
  },
  {
   "cell_type": "markdown",
   "metadata": {},
   "source": [
    "## Différence entre pyplot API (plt.) & fig,ax\n",
    "\n",
    "* the pyplot API is generally less-flexible than the object-oriented API. \n",
    "* Most of the function calls you see here can also be called as methods from an Axes object. "
   ]
  },
  {
   "cell_type": "markdown",
   "metadata": {},
   "source": [
    "### pyplot API"
   ]
  },
  {
   "cell_type": "code",
   "execution_count": null,
   "metadata": {},
   "outputs": [],
   "source": [
    "%matplotlib inline\n",
    "import matplotlib.pyplot as plt\n",
    "names = ['group_a', 'group_b', 'group_c']\n",
    "values = [1, 10, 100]\n",
    "\n",
    "plt.figure(figsize=(12, 3))\n",
    "\n",
    "plt.subplot(131)\n",
    "plt.bar(names, values)\n",
    "plt.subplot(132)\n",
    "plt.scatter(names, values)\n",
    "plt.subplot(133)\n",
    "plt.plot(names, values)\n",
    "plt.suptitle('Categorical Plotting')\n",
    "plt.show()"
   ]
  },
  {
   "cell_type": "markdown",
   "metadata": {},
   "source": [
    "### fig, ax"
   ]
  },
  {
   "cell_type": "code",
   "execution_count": null,
   "metadata": {
    "scrolled": true
   },
   "outputs": [],
   "source": [
    "%matplotlib inline\n",
    "import matplotlib.pyplot as plt\n",
    "import numpy as np\n",
    "\n",
    "x = np.arange(0, 5, 0.2)\n",
    "\n",
    "fig, ax = plt.subplots(nrows=2, ncols=2, figsize=(12, 5)) #renvoie une figure et des axes\n",
    "ax[0,0].plot(x,  np.power(x,1), 'r--')\n",
    "ax[0,0].plot(x,  np.power(x,2), 'go')\n",
    "ax[0,0].plot(x,  np.power(x,3), 'b^')\n",
    "ax[0,1].plot(x, x+5)\n",
    "ax[1,0].plot(x, np.sin(x))\n",
    "ax[1,1].scatter(x, np.cos(x))\n",
    "fig.tight_layout()\n"
   ]
  },
  {
   "cell_type": "markdown",
   "metadata": {},
   "source": [
    "#### fig, ax - Create just a figure and only one subplot"
   ]
  },
  {
   "cell_type": "code",
   "execution_count": null,
   "metadata": {},
   "outputs": [],
   "source": [
    "# First create some toy data:\n",
    "x = np.linspace(0, 2*np.pi, 400)\n",
    "y = np.sin(x**2)\n",
    "\n",
    "# Create just a figure and only one subplot\n",
    "fig, ax = plt.subplots()\n",
    "ax.plot(x, y)\n",
    "ax.set_title('Simple plot')\n"
   ]
  },
  {
   "cell_type": "markdown",
   "metadata": {},
   "source": [
    "#### fig, ax - Create two subplots and unpack the output array immediately"
   ]
  },
  {
   "cell_type": "code",
   "execution_count": null,
   "metadata": {
    "scrolled": true
   },
   "outputs": [],
   "source": [
    "f, (ax1, ax2) = plt.subplots(1, 2, figsize=(8,4),sharey=True) #True or 'all': x- or y-axis will be shared among all subplots.\n",
    "ax1.plot(x, y)\n",
    "ax1.set_title('Sharing Y axis')\n",
    "ax2.scatter(x, y)\n",
    "\n",
    "f.tight_layout()"
   ]
  },
  {
   "cell_type": "markdown",
   "metadata": {},
   "source": [
    "#### fig, ax - Create four polar axes and access them through the returned array"
   ]
  },
  {
   "cell_type": "code",
   "execution_count": null,
   "metadata": {
    "scrolled": true
   },
   "outputs": [],
   "source": [
    "fig, axs = plt.subplots(2, 2, subplot_kw=dict(polar=True))\n",
    "axs[0, 0].plot(x, y)\n",
    "axs[1, 1].scatter(x, y)"
   ]
  },
  {
   "cell_type": "markdown",
   "metadata": {},
   "source": [
    "#### fig, ax - Shared axis"
   ]
  },
  {
   "cell_type": "code",
   "execution_count": null,
   "metadata": {},
   "outputs": [],
   "source": [
    "#\n",
    "fig, axs = plt.subplots(2, 2, sharex='col')\n",
    "fig.suptitle('Share a X axis with each column of subplots', fontsize=16)\n",
    "\n",
    "# \n",
    "fig, axs = plt.subplots(2, 2, sharey='row')\n",
    "fig.suptitle('Share a Y axis with each row of subplots', fontsize=16)\n",
    "\n",
    "# \n",
    "fig, axs = plt.subplots(2, 2, sharex='all', sharey='all')\n",
    "fig.suptitle('Share both X and Y axes with all subplots', fontsize=16)\n",
    "\n",
    "# \n",
    "fig, axs = plt.subplots(2, 2, sharex=True, sharey=True)\n",
    "fig.suptitle('Note that this is the same as', fontsize=16)\n"
   ]
  },
  {
   "cell_type": "markdown",
   "metadata": {},
   "source": [
    "#### fig,ax - add_subplot\n",
    "\n",
    "Je connais déjà la taille finale de ma figure par contre je peux ajouter des index un par un"
   ]
  },
  {
   "cell_type": "code",
   "execution_count": null,
   "metadata": {},
   "outputs": [],
   "source": [
    "%matplotlib inline\n",
    "import matplotlib.pyplot as plt\n",
    "\n",
    "fig = plt.figure()\n",
    "\n",
    "# equivalent but more general\n",
    "ax1 = fig.add_subplot(2, 2, 1)\n",
    "\n",
    "# add a subplot with no frame\n",
    "ax2 = fig.add_subplot(222, frameon=False)\n",
    "\n",
    "# add a polar subplot\n",
    "ax3 = fig.add_subplot(223, projection='polar')\n",
    "\n",
    "ax4 = fig.add_subplot(224, projection='polar')\n",
    "\n",
    "\n",
    "# création de 6 plots\n",
    "fig = plt.figure()\n",
    "for i in range(6):\n",
    "    fig.add_subplot(3,2,i+1)\n"
   ]
  }
 ],
 "metadata": {
  "kernelspec": {
   "display_name": "Python 3",
   "language": "python",
   "name": "python3"
  },
  "language_info": {
   "codemirror_mode": {
    "name": "ipython",
    "version": 3
   },
   "file_extension": ".py",
   "mimetype": "text/x-python",
   "name": "python",
   "nbconvert_exporter": "python",
   "pygments_lexer": "ipython3",
   "version": "3.7.6"
  }
 },
 "nbformat": 4,
 "nbformat_minor": 4
}
