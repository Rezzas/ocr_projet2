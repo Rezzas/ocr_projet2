{
 "cells": [
  {
   "cell_type": "markdown",
   "metadata": {
    "toc": true
   },
   "source": [
    "<h1>Sommaire<span class=\"tocSkip\"></span></h1>\n",
    "<div class=\"toc\"><ul class=\"toc-item\"><li><span><a href=\"#--Récupérer-&amp;-charger-les-données\" data-toc-modified-id=\"--Récupérer-&amp;-charger-les-données-1\"><span class=\"toc-item-num\">1&nbsp;&nbsp;</span>- Récupérer &amp; charger les données</a></span><ul class=\"toc-item\"><li><span><a href=\"#--Récupérer-le-jeu-de-données\" data-toc-modified-id=\"--Récupérer-le-jeu-de-données-1.1\"><span class=\"toc-item-num\">1.1&nbsp;&nbsp;</span>- Récupérer le jeu de données</a></span></li><li><span><a href=\"#--Définition-des-acronymes\" data-toc-modified-id=\"--Définition-des-acronymes-1.2\"><span class=\"toc-item-num\">1.2&nbsp;&nbsp;</span>- Définition des acronymes</a></span></li><li><span><a href=\"#--Charger-les-données-dans-le-Notebook\" data-toc-modified-id=\"--Charger-les-données-dans-le-Notebook-1.3\"><span class=\"toc-item-num\">1.3&nbsp;&nbsp;</span>- Charger les données dans le Notebook</a></span></li></ul></li><li><span><a href=\"#--Nettoyer-&amp;-consolider\" data-toc-modified-id=\"--Nettoyer-&amp;-consolider-2\"><span class=\"toc-item-num\">2&nbsp;&nbsp;</span>- Nettoyer &amp; consolider</a></span><ul class=\"toc-item\"><li><span><a href=\"#--Analyse-rapide-du-fichier\" data-toc-modified-id=\"--Analyse-rapide-du-fichier-2.1\"><span class=\"toc-item-num\">2.1&nbsp;&nbsp;</span>- Analyse rapide du fichier</a></span></li><li><span><a href=\"#--Suppression-des-données-trop-incomplètes\" data-toc-modified-id=\"--Suppression-des-données-trop-incomplètes-2.2\"><span class=\"toc-item-num\">2.2&nbsp;&nbsp;</span>- Suppression des données trop incomplètes</a></span></li><li><span><a href=\"#--Suppression-/-Modification-/-Merge-des-données\" data-toc-modified-id=\"--Suppression-/-Modification-/-Merge-des-données-2.3\"><span class=\"toc-item-num\">2.3&nbsp;&nbsp;</span>- Suppression / Modification / Merge des données</a></span><ul class=\"toc-item\"><li><span><a href=\"#--Suppression-des-colonnes-toujours-uniques-/-identiques-(ou-quasi)\" data-toc-modified-id=\"--Suppression-des-colonnes-toujours-uniques-/-identiques-(ou-quasi)-2.3.1\"><span class=\"toc-item-num\">2.3.1&nbsp;&nbsp;</span>- Suppression des colonnes toujours uniques / identiques (ou quasi)</a></span><ul class=\"toc-item\"><li><span><a href=\"#--Analyse-plus-poussée---IDEMPLACEMENT\" data-toc-modified-id=\"--Analyse-plus-poussée---IDEMPLACEMENT-2.3.1.1\"><span class=\"toc-item-num\">2.3.1.1&nbsp;&nbsp;</span>- Analyse plus poussée - IDEMPLACEMENT</a></span></li><li><span><a href=\"#--Analyse-plus-poussée---STADE-DE-DEVELOPPEMENT\" data-toc-modified-id=\"--Analyse-plus-poussée---STADE-DE-DEVELOPPEMENT-2.3.1.2\"><span class=\"toc-item-num\">2.3.1.2&nbsp;&nbsp;</span>- Analyse plus poussée - STADE DE DEVELOPPEMENT</a></span></li><li><span><a href=\"#--Analyse-plus-poussée---REMARQUABLE\" data-toc-modified-id=\"--Analyse-plus-poussée---REMARQUABLE-2.3.1.3\"><span class=\"toc-item-num\">2.3.1.3&nbsp;&nbsp;</span>- Analyse plus poussée - REMARQUABLE</a></span></li></ul></li><li><span><a href=\"#--Suppression-des-colonnes-correspondantes-à-une-autre-(lien-1-1)\" data-toc-modified-id=\"--Suppression-des-colonnes-correspondantes-à-une-autre-(lien-1-1)-2.3.2\"><span class=\"toc-item-num\">2.3.2&nbsp;&nbsp;</span>- Suppression des colonnes correspondantes à une autre (lien 1-1)</a></span></li><li><span><a href=\"#--Suppression-/-Merge-des-données-trop-peu-représentées\" data-toc-modified-id=\"--Suppression-/-Merge-des-données-trop-peu-représentées-2.3.3\"><span class=\"toc-item-num\">2.3.3&nbsp;&nbsp;</span>- Suppression / Merge des données trop peu représentées</a></span></li><li><span><a href=\"#--Suppression-des-données-non-utiles\" data-toc-modified-id=\"--Suppression-des-données-non-utiles-2.3.4\"><span class=\"toc-item-num\">2.3.4&nbsp;&nbsp;</span>- Suppression des données non utiles</a></span></li><li><span><a href=\"#--Analyse-des-données-anormales\" data-toc-modified-id=\"--Analyse-des-données-anormales-2.3.5\"><span class=\"toc-item-num\">2.3.5&nbsp;&nbsp;</span>- Analyse des données anormales</a></span><ul class=\"toc-item\"><li><span><a href=\"#CIRCONFERENCE-(cm)\" data-toc-modified-id=\"CIRCONFERENCE-(cm)-2.3.5.1\"><span class=\"toc-item-num\">2.3.5.1&nbsp;&nbsp;</span>CIRCONFERENCE (cm)</a></span></li><li><span><a href=\"#HAUTEUR-(m)\" data-toc-modified-id=\"HAUTEUR-(m)-2.3.5.2\"><span class=\"toc-item-num\">2.3.5.2&nbsp;&nbsp;</span>HAUTEUR (m)</a></span></li></ul></li><li><span><a href=\"#--Supprimer-les-données-anormales\" data-toc-modified-id=\"--Supprimer-les-données-anormales-2.3.6\"><span class=\"toc-item-num\">2.3.6&nbsp;&nbsp;</span>- Supprimer les données anormales</a></span><ul class=\"toc-item\"><li><span><a href=\"#CIRCONFERENCE-(cm)\" data-toc-modified-id=\"CIRCONFERENCE-(cm)-2.3.6.1\"><span class=\"toc-item-num\">2.3.6.1&nbsp;&nbsp;</span>CIRCONFERENCE (cm)</a></span></li><li><span><a href=\"#HAUTEUR-(m)\" data-toc-modified-id=\"HAUTEUR-(m)-2.3.6.2\"><span class=\"toc-item-num\">2.3.6.2&nbsp;&nbsp;</span>HAUTEUR (m)</a></span></li></ul></li></ul></li><li><span><a href=\"#--Compléter-les-données-manquantes-(y.c-celles-égales-à-0)\" data-toc-modified-id=\"--Compléter-les-données-manquantes-(y.c-celles-égales-à-0)-2.4\"><span class=\"toc-item-num\">2.4&nbsp;&nbsp;</span>- Compléter les données manquantes (y.c celles égales à 0)</a></span><ul class=\"toc-item\"><li><span><a href=\"#--Complétion-de-la-colonne-LIBELLE-FRANCAIS\" data-toc-modified-id=\"--Complétion-de-la-colonne-LIBELLE-FRANCAIS-2.4.1\"><span class=\"toc-item-num\">2.4.1&nbsp;&nbsp;</span>- Complétion de la colonne LIBELLE FRANCAIS</a></span><ul class=\"toc-item\"><li><span><a href=\"#complétion-avec-le-GENRE\" data-toc-modified-id=\"complétion-avec-le-GENRE-2.4.1.1\"><span class=\"toc-item-num\">2.4.1.1&nbsp;&nbsp;</span>complétion avec le GENRE</a></span></li><li><span><a href=\"#complétion-avec-l'ESPECE\" data-toc-modified-id=\"complétion-avec-l'ESPECE-2.4.1.2\"><span class=\"toc-item-num\">2.4.1.2&nbsp;&nbsp;</span>complétion avec l'ESPECE</a></span></li><li><span><a href=\"#suppression-des-derniers-LIBELLE-FRANCAIS-vides\" data-toc-modified-id=\"suppression-des-derniers-LIBELLE-FRANCAIS-vides-2.4.1.3\"><span class=\"toc-item-num\">2.4.1.3&nbsp;&nbsp;</span>suppression des derniers LIBELLE FRANCAIS vides</a></span></li></ul></li><li><span><a href=\"#--Complétion-de-la-colonne-ESPECE\" data-toc-modified-id=\"--Complétion-de-la-colonne-ESPECE-2.4.2\"><span class=\"toc-item-num\">2.4.2&nbsp;&nbsp;</span>- Complétion de la colonne ESPECE</a></span><ul class=\"toc-item\"><li><span><a href=\"#complétion-avec-le-GENRE\" data-toc-modified-id=\"complétion-avec-le-GENRE-2.4.2.1\"><span class=\"toc-item-num\">2.4.2.1&nbsp;&nbsp;</span>complétion avec le GENRE</a></span></li><li><span><a href=\"#complétion-avec-le-LIBELLE-FRANCAIS\" data-toc-modified-id=\"complétion-avec-le-LIBELLE-FRANCAIS-2.4.2.2\"><span class=\"toc-item-num\">2.4.2.2&nbsp;&nbsp;</span>complétion avec le LIBELLE FRANCAIS</a></span></li><li><span><a href=\"#analyse-des-données-ESPECE---pourquoi-si-peu-de-modifications-?\" data-toc-modified-id=\"analyse-des-données-ESPECE---pourquoi-si-peu-de-modifications-?-2.4.2.3\"><span class=\"toc-item-num\">2.4.2.3&nbsp;&nbsp;</span>analyse des données ESPECE - pourquoi si peu de modifications ?</a></span></li><li><span><a href=\"#complétion-des-données-ESPECE\" data-toc-modified-id=\"complétion-des-données-ESPECE-2.4.2.4\"><span class=\"toc-item-num\">2.4.2.4&nbsp;&nbsp;</span>complétion des données ESPECE</a></span></li><li><span><a href=\"#suppression-des-dernières-ESPECEs-vides\" data-toc-modified-id=\"suppression-des-dernières-ESPECEs-vides-2.4.2.5\"><span class=\"toc-item-num\">2.4.2.5&nbsp;&nbsp;</span>suppression des dernières ESPECEs vides</a></span></li></ul></li><li><span><a href=\"#--Remplacer-les-valeurs-égales-à-0-pour-CIRCONFERENCE-(cm)-et-HAUTEUR-(m)\" data-toc-modified-id=\"--Remplacer-les-valeurs-égales-à-0-pour-CIRCONFERENCE-(cm)-et-HAUTEUR-(m)-2.4.3\"><span class=\"toc-item-num\">2.4.3&nbsp;&nbsp;</span>- Remplacer les valeurs égales à 0 pour CIRCONFERENCE (cm) et HAUTEUR (m)</a></span><ul class=\"toc-item\"><li><span><a href=\"#Analyse-des-circonférences-et-hauteurs-égales-à-0\" data-toc-modified-id=\"Analyse-des-circonférences-et-hauteurs-égales-à-0-2.4.3.1\"><span class=\"toc-item-num\">2.4.3.1&nbsp;&nbsp;</span>Analyse des circonférences et hauteurs égales à 0</a></span></li><li><span><a href=\"#Remplacement-grâce-aux-LIBELLE-FRANCAIS-et-ESPECE\" data-toc-modified-id=\"Remplacement-grâce-aux-LIBELLE-FRANCAIS-et-ESPECE-2.4.3.2\"><span class=\"toc-item-num\">2.4.3.2&nbsp;&nbsp;</span>Remplacement grâce aux LIBELLE FRANCAIS et ESPECE</a></span></li><li><span><a href=\"#Remplacement-de-manière-itérative-(pour-les-HAUTEURs-égales-à-0-restantes)\" data-toc-modified-id=\"Remplacement-de-manière-itérative-(pour-les-HAUTEURs-égales-à-0-restantes)-2.4.3.3\"><span class=\"toc-item-num\">2.4.3.3&nbsp;&nbsp;</span>Remplacement de manière itérative (pour les HAUTEURs égales à 0 restantes)</a></span></li></ul></li><li><span><a href=\"#--Complétion-de-la-colonne-STADE-DE-DEVELOPPEMENT\" data-toc-modified-id=\"--Complétion-de-la-colonne-STADE-DE-DEVELOPPEMENT-2.4.4\"><span class=\"toc-item-num\">2.4.4&nbsp;&nbsp;</span>- Complétion de la colonne STADE DE DEVELOPPEMENT</a></span></li></ul></li><li><span><a href=\"#--Résumé-des-données-supprimées-/-complétés-/-mergées\" data-toc-modified-id=\"--Résumé-des-données-supprimées-/-complétés-/-mergées-2.5\"><span class=\"toc-item-num\">2.5&nbsp;&nbsp;</span>- Résumé des données supprimées / complétés / mergées</a></span><ul class=\"toc-item\"><li><span><a href=\"#Données-supprimées\" data-toc-modified-id=\"Données-supprimées-2.5.1\"><span class=\"toc-item-num\">2.5.1&nbsp;&nbsp;</span>Données supprimées</a></span><ul class=\"toc-item\"><li><span><a href=\"#Colonnes-supprimées\" data-toc-modified-id=\"Colonnes-supprimées-2.5.1.1\"><span class=\"toc-item-num\">2.5.1.1&nbsp;&nbsp;</span>Colonnes supprimées</a></span></li><li><span><a href=\"#Lignes-supprimées\" data-toc-modified-id=\"Lignes-supprimées-2.5.1.2\"><span class=\"toc-item-num\">2.5.1.2&nbsp;&nbsp;</span>Lignes supprimées</a></span></li></ul></li><li><span><a href=\"#Données-complétées\" data-toc-modified-id=\"Données-complétées-2.5.2\"><span class=\"toc-item-num\">2.5.2&nbsp;&nbsp;</span>Données complétées</a></span></li><li><span><a href=\"#Données-mergées\" data-toc-modified-id=\"Données-mergées-2.5.3\"><span class=\"toc-item-num\">2.5.3&nbsp;&nbsp;</span>Données mergées</a></span></li><li><span><a href=\"#Au-global,-avant-/-après\" data-toc-modified-id=\"Au-global,-avant-/-après-2.5.4\"><span class=\"toc-item-num\">2.5.4&nbsp;&nbsp;</span>Au global, avant / après</a></span></li></ul></li></ul></li><li><span><a href=\"#--Analyser-&amp;-exploiter\" data-toc-modified-id=\"--Analyser-&amp;-exploiter-3\"><span class=\"toc-item-num\">3&nbsp;&nbsp;</span>- Analyser &amp; exploiter</a></span><ul class=\"toc-item\"><li><span><a href=\"#Distribution-des-variables-continues\" data-toc-modified-id=\"Distribution-des-variables-continues-3.1\"><span class=\"toc-item-num\">3.1&nbsp;&nbsp;</span>Distribution des variables continues</a></span><ul class=\"toc-item\"><li><span><a href=\"#CIRCONFERENCE-(cm)\" data-toc-modified-id=\"CIRCONFERENCE-(cm)-3.1.1\"><span class=\"toc-item-num\">3.1.1&nbsp;&nbsp;</span>CIRCONFERENCE (cm)</a></span></li><li><span><a href=\"#HAUTEUR-(m)\" data-toc-modified-id=\"HAUTEUR-(m)-3.1.2\"><span class=\"toc-item-num\">3.1.2&nbsp;&nbsp;</span>HAUTEUR (m)</a></span></li></ul></li><li><span><a href=\"#Distribution-des-variables-catégorielles\" data-toc-modified-id=\"Distribution-des-variables-catégorielles-3.2\"><span class=\"toc-item-num\">3.2&nbsp;&nbsp;</span>Distribution des variables catégorielles</a></span><ul class=\"toc-item\"><li><span><a href=\"#ARRONDISSEMENT\" data-toc-modified-id=\"ARRONDISSEMENT-3.2.1\"><span class=\"toc-item-num\">3.2.1&nbsp;&nbsp;</span>ARRONDISSEMENT</a></span></li><li><span><a href=\"#LIBELLE-FRANCAIS\" data-toc-modified-id=\"LIBELLE-FRANCAIS-3.2.2\"><span class=\"toc-item-num\">3.2.2&nbsp;&nbsp;</span>LIBELLE FRANCAIS</a></span></li><li><span><a href=\"#ESPECE\" data-toc-modified-id=\"ESPECE-3.2.3\"><span class=\"toc-item-num\">3.2.3&nbsp;&nbsp;</span>ESPECE</a></span></li><li><span><a href=\"#STADE-DE-DEVELOPPEMENT\" data-toc-modified-id=\"STADE-DE-DEVELOPPEMENT-3.2.4\"><span class=\"toc-item-num\">3.2.4&nbsp;&nbsp;</span>STADE DE DEVELOPPEMENT</a></span></li></ul></li></ul></li></ul></div>"
   ]
  },
  {
   "cell_type": "code",
   "execution_count": null,
   "metadata": {},
   "outputs": [],
   "source": []
  },
  {
   "cell_type": "code",
   "execution_count": null,
   "metadata": {},
   "outputs": [],
   "source": []
  },
  {
   "cell_type": "markdown",
   "metadata": {},
   "source": [
    ">> TO DO\n",
    "\n",
    "3....\n",
    "* Analyse des colonnes\n",
    "  \n",
    "  * distribution variables catégorielles (barplot)\n",
    "  \n",
    "* Affichage de la carte Folium"
   ]
  },
  {
   "cell_type": "code",
   "execution_count": null,
   "metadata": {},
   "outputs": [],
   "source": []
  },
  {
   "cell_type": "code",
   "execution_count": null,
   "metadata": {},
   "outputs": [],
   "source": []
  },
  {
   "cell_type": "markdown",
   "metadata": {},
   "source": [
    "# - Récupérer & charger les données\n",
    "---\n",
    "---"
   ]
  },
  {
   "cell_type": "markdown",
   "metadata": {},
   "source": [
    "## - Récupérer le jeu de données\n",
    "---\n",
    "\n",
    "[Lien officiel de la Mairie de Paris pour exporter le jeu de données - les arbres](https://opendata.paris.fr/explore/dataset/les-arbres/export/)"
   ]
  },
  {
   "cell_type": "markdown",
   "metadata": {},
   "source": [
    "## - Définition des acronymes\n",
    "---"
   ]
  },
  {
   "cell_type": "markdown",
   "metadata": {},
   "source": [
    "* **Stade de développement** (dans l'ordre de croissance)\n",
    "  * J = **J**eune\n",
    "  * JA = **J**eune **A**rbre\n",
    "  * A = **A**dulte\n",
    "  * M = **M**ature\n",
    "  \n",
    "  \n",
    "* **Domanialité**\n",
    "  * DASCO = **D**irection des **A**ffaires **SCO**laires\n",
    "  * DJS = **D**irection de la **J**eunesse et des **S**ports\n",
    "  * DFPE = **D**irection des **F**amilles et de la **P**etite **E**nfance\n",
    "  * DAC = **D**irection des **A**ffaires **C**ulturelles\n",
    "  * DASES = **D**irection de l'**A**ction **S**ociale, de l'**E**nfance et de la **S**anté\n",
    "  * Alignement = le long des voies\n",
    " \n",
    " \n",
    "* **Espece**\n",
    "  * n. sp. = new specie (nouvelle espèce)"
   ]
  },
  {
   "cell_type": "markdown",
   "metadata": {},
   "source": [
    "## - Charger les données dans le Notebook\n",
    "---"
   ]
  },
  {
   "cell_type": "code",
   "execution_count": 1,
   "metadata": {
    "scrolled": true
   },
   "outputs": [
    {
     "data": {
      "text/html": [
       "<div>\n",
       "<style scoped>\n",
       "    .dataframe tbody tr th:only-of-type {\n",
       "        vertical-align: middle;\n",
       "    }\n",
       "\n",
       "    .dataframe tbody tr th {\n",
       "        vertical-align: top;\n",
       "    }\n",
       "\n",
       "    .dataframe thead th {\n",
       "        text-align: right;\n",
       "    }\n",
       "</style>\n",
       "<table border=\"1\" class=\"dataframe\">\n",
       "  <thead>\n",
       "    <tr style=\"text-align: right;\">\n",
       "      <th></th>\n",
       "      <th>IDBASE</th>\n",
       "      <th>TYPE EMPLACEMENT</th>\n",
       "      <th>DOMANIALITE</th>\n",
       "      <th>ARRONDISSEMENT</th>\n",
       "      <th>COMPLEMENT ADRESSE</th>\n",
       "      <th>NUMERO</th>\n",
       "      <th>LIEU / ADRESSE</th>\n",
       "      <th>IDEMPLACEMENT</th>\n",
       "      <th>LIBELLE FRANCAIS</th>\n",
       "      <th>GENRE</th>\n",
       "      <th>ESPECE</th>\n",
       "      <th>VARIETE OUCULTIVAR</th>\n",
       "      <th>CIRCONFERENCE (cm)</th>\n",
       "      <th>HAUTEUR (m)</th>\n",
       "      <th>STADE DE DEVELOPPEMENT</th>\n",
       "      <th>REMARQUABLE</th>\n",
       "      <th>geo_point_2d</th>\n",
       "    </tr>\n",
       "  </thead>\n",
       "  <tbody>\n",
       "    <tr>\n",
       "      <th>0</th>\n",
       "      <td>205333</td>\n",
       "      <td>Arbre</td>\n",
       "      <td>Alignement</td>\n",
       "      <td>PARIS 16E ARRDT</td>\n",
       "      <td>NaN</td>\n",
       "      <td>NaN</td>\n",
       "      <td>AVENUE RAPHAEL</td>\n",
       "      <td>000402003</td>\n",
       "      <td>Marronnier</td>\n",
       "      <td>Aesculus</td>\n",
       "      <td>x carnea</td>\n",
       "      <td>''Briotii''</td>\n",
       "      <td>45</td>\n",
       "      <td>6</td>\n",
       "      <td>JA</td>\n",
       "      <td>NON</td>\n",
       "      <td>48.8588402306,2.26763110493</td>\n",
       "    </tr>\n",
       "    <tr>\n",
       "      <th>1</th>\n",
       "      <td>240074</td>\n",
       "      <td>Arbre</td>\n",
       "      <td>Alignement</td>\n",
       "      <td>PARIS 14E ARRDT</td>\n",
       "      <td>NaN</td>\n",
       "      <td>NaN</td>\n",
       "      <td>AVENUE JEAN MOULIN</td>\n",
       "      <td>000802013</td>\n",
       "      <td>Frêne</td>\n",
       "      <td>Fraxinus</td>\n",
       "      <td>excelsior</td>\n",
       "      <td>NaN</td>\n",
       "      <td>115</td>\n",
       "      <td>10</td>\n",
       "      <td>A</td>\n",
       "      <td>NON</td>\n",
       "      <td>48.8250125374,2.32019536596</td>\n",
       "    </tr>\n",
       "    <tr>\n",
       "      <th>2</th>\n",
       "      <td>246914</td>\n",
       "      <td>Arbre</td>\n",
       "      <td>Alignement</td>\n",
       "      <td>PARIS 6E ARRDT</td>\n",
       "      <td>F40 guynemer</td>\n",
       "      <td>NaN</td>\n",
       "      <td>RUE GUYNEMER</td>\n",
       "      <td>000101028</td>\n",
       "      <td>Chêne</td>\n",
       "      <td>Quercus</td>\n",
       "      <td>rubra</td>\n",
       "      <td>NaN</td>\n",
       "      <td>60</td>\n",
       "      <td>10</td>\n",
       "      <td>A</td>\n",
       "      <td>NON</td>\n",
       "      <td>48.8452824993,2.33245623015</td>\n",
       "    </tr>\n",
       "    <tr>\n",
       "      <th>3</th>\n",
       "      <td>150768</td>\n",
       "      <td>Arbre</td>\n",
       "      <td>CIMETIERE</td>\n",
       "      <td>SEINE-SAINT-DENIS</td>\n",
       "      <td>NaN</td>\n",
       "      <td>NaN</td>\n",
       "      <td>CIMETIERE DE PANTIN / AVENUE DES MARRONNIERS A...</td>\n",
       "      <td>A06400210008</td>\n",
       "      <td>Marronnier</td>\n",
       "      <td>Aesculus</td>\n",
       "      <td>hippocastanum</td>\n",
       "      <td>''Baumannii''</td>\n",
       "      <td>0</td>\n",
       "      <td>0</td>\n",
       "      <td>NaN</td>\n",
       "      <td>NaN</td>\n",
       "      <td>48.9071597597,2.40980703764</td>\n",
       "    </tr>\n",
       "    <tr>\n",
       "      <th>4</th>\n",
       "      <td>184316</td>\n",
       "      <td>Arbre</td>\n",
       "      <td>DASCO</td>\n",
       "      <td>PARIS 18E ARRDT</td>\n",
       "      <td>NaN</td>\n",
       "      <td>NaN</td>\n",
       "      <td>ECOLE ELEMENTAIRE / 5 RUE FERDINAND FLOCON</td>\n",
       "      <td>105401006</td>\n",
       "      <td>Platane</td>\n",
       "      <td>Platanus</td>\n",
       "      <td>x hispanica</td>\n",
       "      <td>NaN</td>\n",
       "      <td>180</td>\n",
       "      <td>18</td>\n",
       "      <td>A</td>\n",
       "      <td>NON</td>\n",
       "      <td>48.8916314581,2.34521334828</td>\n",
       "    </tr>\n",
       "  </tbody>\n",
       "</table>\n",
       "</div>"
      ],
      "text/plain": [
       "   IDBASE TYPE EMPLACEMENT DOMANIALITE     ARRONDISSEMENT COMPLEMENT ADRESSE  \\\n",
       "0  205333            Arbre  Alignement    PARIS 16E ARRDT                NaN   \n",
       "1  240074            Arbre  Alignement    PARIS 14E ARRDT                NaN   \n",
       "2  246914            Arbre  Alignement     PARIS 6E ARRDT       F40 guynemer   \n",
       "3  150768            Arbre   CIMETIERE  SEINE-SAINT-DENIS                NaN   \n",
       "4  184316            Arbre       DASCO    PARIS 18E ARRDT                NaN   \n",
       "\n",
       "   NUMERO                                     LIEU / ADRESSE IDEMPLACEMENT  \\\n",
       "0     NaN                                     AVENUE RAPHAEL     000402003   \n",
       "1     NaN                                 AVENUE JEAN MOULIN     000802013   \n",
       "2     NaN                                       RUE GUYNEMER     000101028   \n",
       "3     NaN  CIMETIERE DE PANTIN / AVENUE DES MARRONNIERS A...  A06400210008   \n",
       "4     NaN         ECOLE ELEMENTAIRE / 5 RUE FERDINAND FLOCON     105401006   \n",
       "\n",
       "  LIBELLE FRANCAIS     GENRE         ESPECE VARIETE OUCULTIVAR  \\\n",
       "0       Marronnier  Aesculus       x carnea        ''Briotii''   \n",
       "1            Frêne  Fraxinus      excelsior                NaN   \n",
       "2            Chêne   Quercus          rubra                NaN   \n",
       "3       Marronnier  Aesculus  hippocastanum      ''Baumannii''   \n",
       "4          Platane  Platanus    x hispanica                NaN   \n",
       "\n",
       "   CIRCONFERENCE (cm)  HAUTEUR (m) STADE DE DEVELOPPEMENT REMARQUABLE  \\\n",
       "0                  45            6                     JA         NON   \n",
       "1                 115           10                      A         NON   \n",
       "2                  60           10                      A         NON   \n",
       "3                   0            0                    NaN         NaN   \n",
       "4                 180           18                      A         NON   \n",
       "\n",
       "                  geo_point_2d  \n",
       "0  48.8588402306,2.26763110493  \n",
       "1  48.8250125374,2.32019536596  \n",
       "2  48.8452824993,2.33245623015  \n",
       "3  48.9071597597,2.40980703764  \n",
       "4  48.8916314581,2.34521334828  "
      ]
     },
     "execution_count": 1,
     "metadata": {},
     "output_type": "execute_result"
    }
   ],
   "source": [
    "# import des librairies utiles à l'analyse\n",
    "import numpy as np\n",
    "import pandas as pd\n",
    "import seaborn as sns\n",
    "\n",
    "# lecture du fichier les-arbres.csv pour le charger en tant que DataFrame\n",
    "data = pd.read_csv('les-arbres.csv', sep=';')\n",
    "\n",
    "# données sauvegardées qui ne subiront pas de modification\n",
    "data_save = data\n",
    "\n",
    "# affichage des 5 premières lignes du fichier\n",
    "data.head(5)"
   ]
  },
  {
   "cell_type": "markdown",
   "metadata": {},
   "source": [
    "# - Nettoyer & consolider\n",
    "---\n",
    "---"
   ]
  },
  {
   "cell_type": "markdown",
   "metadata": {},
   "source": [
    "## - Analyse rapide du fichier\n",
    "---"
   ]
  },
  {
   "cell_type": "code",
   "execution_count": 2,
   "metadata": {
    "scrolled": true
   },
   "outputs": [
    {
     "name": "stdout",
     "output_type": "stream",
     "text": [
      ">>> nombre de lignes : 205301\n",
      ">>> nombre de colonnes : 17\n"
     ]
    }
   ],
   "source": [
    "# nombre de lignes\n",
    "print(\">>> nombre de lignes :\", len(data))\n",
    "\n",
    "# nombre de colonnes\n",
    "print(\">>> nombre de colonnes :\", len(data.columns))"
   ]
  },
  {
   "cell_type": "markdown",
   "metadata": {},
   "source": [
    "## - Suppression des données trop incomplètes\n",
    "---"
   ]
  },
  {
   "cell_type": "code",
   "execution_count": 3,
   "metadata": {},
   "outputs": [
    {
     "name": "stdout",
     "output_type": "stream",
     "text": [
      ">>> complétude de chaque colonne : ( nombre de lignes totale : 205301 )\n",
      "\n",
      "IDBASE : ( 100.0 % ) - ( 205301 )\n",
      "TYPE EMPLACEMENT : ( 100.0 % ) - ( 205301 )\n",
      "DOMANIALITE : ( 100.0 % ) - ( 205301 )\n",
      "ARRONDISSEMENT : ( 100.0 % ) - ( 205301 )\n",
      "COMPLEMENT ADRESSE : ( 18.09 % ) - ( 37135 )\n",
      "NUMERO : ( 0.0 % ) - ( 0 )\n",
      "LIEU / ADRESSE : ( 100.0 % ) - ( 205301 )\n",
      "IDEMPLACEMENT : ( 100.0 % ) - ( 205301 )\n",
      "LIBELLE FRANCAIS : ( 99.65 % ) - ( 204573 )\n",
      "GENRE : ( 100.0 % ) - ( 205300 )\n",
      "ESPECE : ( 98.98 % ) - ( 203213 )\n",
      "VARIETE OUCULTIVAR : ( 18.57 % ) - ( 38127 )\n",
      "CIRCONFERENCE (cm) : ( 100.0 % ) - ( 205301 )\n",
      "HAUTEUR (m) : ( 100.0 % ) - ( 205301 )\n",
      "STADE DE DEVELOPPEMENT : ( 72.11 % ) - ( 148041 )\n",
      "REMARQUABLE : ( 81.63 % ) - ( 167579 )\n",
      "geo_point_2d : ( 100.0 % ) - ( 205301 )\n"
     ]
    }
   ],
   "source": [
    "# complétude de chaque colonne\n",
    "print(\">>> complétude de chaque colonne : ( nombre de lignes totale :\", len(data),\")\")\n",
    "print()\n",
    "\n",
    "for column in data.columns:\n",
    "    print(column, \n",
    "          \": (\", \n",
    "          round(data[column].count()/len(data)*100,2), \"% )\",\n",
    "          \"- (\",\n",
    "          data[column].count(),\n",
    "          \")\"\n",
    "         )"
   ]
  },
  {
   "cell_type": "markdown",
   "metadata": {},
   "source": [
    "* Les colonnes suivantes peuvent être supprimées :\n",
    "  * **COMPLEMENT ADRESSE** n'est complète qu'à **18%**\n",
    "  * **NUMERO** est toujours **vide**\n",
    "  * **VARIETE OUCULTIVAR** n'est complète qu'à **19%**\n",
    "\n",
    "\n",
    "* À noter que certaines colonnes ne sont que partiellement incomplètes :\n",
    "  * **LIBELLE FRANCAIS** est complète à **99%**\n",
    "  * **ESPECE** est complète à **99%**\n",
    "  * **STADE DE DEVELOPPEMENT** est complète à **72%**\n",
    "  * **REMARQUABLE** est complète à **82%**\n",
    "* Une analyse plus poussée est à faire sur ces colonnes (voir plus bas)"
   ]
  },
  {
   "cell_type": "code",
   "execution_count": 4,
   "metadata": {},
   "outputs": [
    {
     "name": "stdout",
     "output_type": "stream",
     "text": [
      ">>> suppression des colonnes trop incomplètes\n",
      ">>> nombre de colonnes restantes : 14\n"
     ]
    }
   ],
   "source": [
    "# suppression des colonnes trop incomplètes\n",
    "try:\n",
    "    data = data.drop(columns=['COMPLEMENT ADRESSE', 'NUMERO', 'VARIETE OUCULTIVAR'])\n",
    "    print(\">>> suppression des colonnes trop incomplètes\")\n",
    "except KeyError:\n",
    "    print(\">>> les colonnes ont déjà été supprimées\")\n",
    "\n",
    "# nombre de colonnes restantes après suppression (normalement 14)\n",
    "print(\">>> nombre de colonnes restantes :\", len(data.columns))"
   ]
  },
  {
   "cell_type": "markdown",
   "metadata": {},
   "source": [
    "## - Suppression / Modification / Merge des données\n",
    "---\n",
    "\n",
    "**Une colonne peut être jugée inutile si :**\n",
    "* l'ensemble de ses valeurs sont toujours uniques (hors coordonnées GPS)\n",
    "  - suppression de la donnée\n",
    "  \n",
    "  \n",
    "* l'ensemble de ses valeurs sont toujours identiques ou quasiment identiques\n",
    "  * suppression de la donnée\n",
    "  \n",
    "  \n",
    "* l'ensemble de ses valeurs, bien que différentes, correspondent valeur par valeur à une autre colonne (lien 1-1)\n",
    "  * suppression d'une des données\n",
    "\n",
    "**Une donnée peut être jugée inutile si :**\n",
    "* elle est trop peu représentée pour avoir un réel impact sur l'analyse\n",
    "  * ex : la domanialité DASES ne concerne que 11 lignes du fichier\n",
    "  * suppression ou merge de la donnée\n",
    "  \n",
    "  \n",
    "* par rapport à l'ensemble des données du même type, sa valeur est radicalement différente sans raison apparente\n",
    "  * ex : une hauteur de 10 000 mètres pour un arbre n'est pas crédible\n",
    "  * suppression ou modification de la donnée"
   ]
  },
  {
   "cell_type": "markdown",
   "metadata": {},
   "source": [
    "> ### - Suppression des colonnes toujours uniques / identiques (ou quasi)"
   ]
  },
  {
   "cell_type": "code",
   "execution_count": 5,
   "metadata": {
    "scrolled": true
   },
   "outputs": [
    {
     "name": "stdout",
     "output_type": "stream",
     "text": [
      ">>> unicité de chaque colonne :\n",
      "\n",
      "IDBASE : ( 100.0 % ) - ( 205300 )\n",
      "TYPE EMPLACEMENT : ( 0.0 % ) - ( 1 )\n",
      "DOMANIALITE : ( 0.0 % ) - ( 9 )\n",
      "ARRONDISSEMENT : ( 0.01 % ) - ( 25 )\n",
      "LIEU / ADRESSE : ( 3.48 % ) - ( 7148 )\n",
      "IDEMPLACEMENT : ( 34.3 % ) - ( 70427 )\n",
      "LIBELLE FRANCAIS : ( 0.09 % ) - ( 192 )\n",
      "GENRE : ( 0.09 % ) - ( 175 )\n",
      "ESPECE : ( 0.26 % ) - ( 540 )\n",
      "CIRCONFERENCE (cm) : ( 0.25 % ) - ( 508 )\n",
      "HAUTEUR (m) : ( 0.07 % ) - ( 147 )\n",
      "STADE DE DEVELOPPEMENT : ( 0.0 % ) - ( 4 )\n",
      "REMARQUABLE : ( 0.0 % ) - ( 2 )\n",
      "geo_point_2d : ( 100.0 % ) - ( 205292 )\n"
     ]
    }
   ],
   "source": [
    "# unicité de chaque colonne\n",
    "print(\">>> unicité de chaque colonne :\")\n",
    "print()\n",
    "\n",
    "for column in data.columns:\n",
    "    print(column, \n",
    "          \": (\", \n",
    "          round(data[column].value_counts().count()/len(data)*100,2), \"% )\", \n",
    "          \"- (\", \n",
    "          data[column].value_counts().count(),\n",
    "          \")\"\n",
    "         )"
   ]
  },
  {
   "cell_type": "markdown",
   "metadata": {},
   "source": [
    "* Les colonnes suivantes peuvent être supprimées :\n",
    "  * **IDBASE** est unique à **100%** puisque c'est un ID\n",
    "  * **TYPE EMPLACEMENT** contient une **unique valeur ( 1 )** (Arbre)\n",
    "  \n",
    "\n",
    "\n",
    "* À noter que la colonne **geo_point_2d** ne contient que des valeurs uniques mais reste pertinente pour l'analyse des données\n",
    "\n",
    "\n",
    "* À noter qu'une analyse plus poussée est nécessaire pour les colonnes suivantes :\n",
    "  * **IDEMPLACEMENT** n'est **pas toujours unique** malgré que ce soit à priori un ID\n",
    "  * **STADE DE DEVELOPPEMENT** ne contient que **4 valeurs distinctes**\n",
    "  * **REMARQUABLE** ne contient que **2 valeurs distinctes**"
   ]
  },
  {
   "cell_type": "code",
   "execution_count": 6,
   "metadata": {},
   "outputs": [
    {
     "name": "stdout",
     "output_type": "stream",
     "text": [
      ">>> suppression des colonnes 'uniques'\n",
      ">>> nombre de colonnes restantes : 12\n"
     ]
    }
   ],
   "source": [
    "# suppression des colonnes \"uniques\"\n",
    "try:\n",
    "    data = data.drop(columns=['IDBASE', 'TYPE EMPLACEMENT'])\n",
    "    print(\">>> suppression des colonnes 'uniques'\")\n",
    "except KeyError:\n",
    "    print(\">>> les colonnes ont déjà été supprimées\")\n",
    "\n",
    "# nombre de colonnes restantes après suppression (normalement 12)\n",
    "print(\">>> nombre de colonnes restantes :\", len(data.columns))"
   ]
  },
  {
   "cell_type": "markdown",
   "metadata": {},
   "source": [
    ">> #### - Analyse plus poussée - IDEMPLACEMENT"
   ]
  },
  {
   "cell_type": "code",
   "execution_count": 7,
   "metadata": {
    "scrolled": true
   },
   "outputs": [
    {
     "name": "stdout",
     "output_type": "stream",
     "text": [
      ">>> complétude de la colonne : ( 100.0 % ) - ( 205301 )\n",
      ">>> unicité de la colonne : ( 34.3 % ) - ( 70427 )\n",
      "\n",
      ">>> zoom 1 : aucun identifiant n'est en doublon + de 20530 fois (10%)\n",
      "(0.0, 0.1]    70427\n",
      "(0.1, 0.2]        0\n",
      "(0.2, 0.3]        0\n",
      "(0.3, 0.4]        0\n",
      "(0.4, 0.5]        0\n",
      "(0.5, 0.6]        0\n",
      "(0.6, 0.7]        0\n",
      "(0.7, 0.8]        0\n",
      "(0.8, 0.9]        0\n",
      "Name: IDEMPLACEMENT, dtype: int64\n",
      "\n",
      ">>> zoom 2 : aucun identifiant n'est en doublon + de 2053 fois (1%)\n",
      "(0.0, 0.01]     70427\n",
      "(0.01, 0.02]        0\n",
      "(0.02, 0.03]        0\n",
      "(0.03, 0.04]        0\n",
      "(0.04, 0.05]        0\n",
      "(0.05, 0.06]        0\n",
      "(0.06, 0.07]        0\n",
      "(0.07, 0.08]        0\n",
      "(0.08, 0.09]        0\n",
      "Name: IDEMPLACEMENT, dtype: int64\n",
      "\n",
      ">>> zoom 3  : la plupart des identifiants sont en doublons + de 205 fois (0.1%)\n",
      "(0.0, 0.001]      70321\n",
      "(0.001, 0.002]       72\n",
      "(0.002, 0.003]       16\n",
      "(0.003, 0.004]        7\n",
      "(0.004, 0.005]        4\n",
      "(0.005, 0.006]        4\n",
      "(0.006, 0.007]        1\n",
      "(0.007, 0.008]        2\n",
      "(0.008, 0.009]        0\n",
      "Name: IDEMPLACEMENT, dtype: int64\n",
      "\n",
      ">>> zoom 4  : la plupart des identifiants sont en doublons + de 205 fois (0.01%)\n",
      "(0.001, 0.0015]    53\n",
      "(0.0015, 0.002]    19\n",
      "(0.002, 0.0025]    11\n",
      "(0.0025, 0.003]     5\n",
      "(0.003, 0.0035]     5\n",
      "(0.0035, 0.004]     2\n",
      "(0.004, 0.0045]     2\n",
      "(0.0045, 0.005]     2\n",
      "(0.005, 0.0055]     2\n",
      "(0.0055, 0.006]     2\n",
      "(0.006, 0.0065]     1\n",
      "(0.0065, 0.007]     0\n",
      "(0.007, 0.0075]     1\n",
      "(0.0075, 0.008]     1\n",
      "(0.008, 0.0085]     0\n",
      "Name: IDEMPLACEMENT, dtype: int64\n",
      "\n",
      ">>> liste des identifiants en doublon:\n",
      "000101001       1568\n",
      "000101002       1451\n",
      "000101003       1305\n",
      "000101004       1180\n",
      "000202001       1135\n",
      "                ... \n",
      "20370265           1\n",
      "720060096          1\n",
      "A11100054002       1\n",
      "A09600046009       1\n",
      "A08100156009       1\n",
      "Name: IDEMPLACEMENT, Length: 70427, dtype: int64\n"
     ]
    }
   ],
   "source": [
    "# complétude de la colonne\n",
    "print(\">>> complétude de la colonne : (\",\n",
    "      round(data['IDEMPLACEMENT'].count()/len(data)*100,2),\n",
    "      \"% )\",\n",
    "      \"- (\",\n",
    "      data[column].count(),\n",
    "      \")\"\n",
    "     )\n",
    "\n",
    "# unicité de la colonne\n",
    "print(\">>> unicité de la colonne : (\",\n",
    "      round(data['IDEMPLACEMENT'].value_counts().count()/len(data)*100,2), \"% )\", \n",
    "      \"- (\", \n",
    "      data['IDEMPLACEMENT'].value_counts().count(),\n",
    "      \")\"\n",
    "     )\n",
    "print()\n",
    "\n",
    "\n",
    "#zoom 1:\n",
    "idcut = pd.cut(data['IDEMPLACEMENT'].value_counts(normalize=True),np.arange(0,1,0.1))\n",
    "print(\">>> zoom 1 : aucun identifiant n'est en doublon + de\", int(round(0.1*len(data),0)), \"fois (10%)\")\n",
    "print(idcut.value_counts().sort_index())\n",
    "print()\n",
    "\n",
    "#zoom 2:\n",
    "idcut = pd.cut(data['IDEMPLACEMENT'].value_counts(normalize=True),np.arange(0,0.1,0.01))\n",
    "print(\">>> zoom 2 : aucun identifiant n'est en doublon + de\", int(round(0.01*len(data),0)), \"fois (1%)\")\n",
    "print(idcut.value_counts().sort_index())\n",
    "print()\n",
    "\n",
    "#zoom 3: \n",
    "idcut = pd.cut(data['IDEMPLACEMENT'].value_counts(normalize=True),np.arange(0,0.01,0.001))\n",
    "print(\">>> zoom 3  : la plupart des identifiants sont en doublons + de\", int(round(0.001*len(data),0)), \"fois (0.1%)\")\n",
    "print(idcut.value_counts().sort_index())\n",
    "print()\n",
    "\n",
    "#zoom 4: \n",
    "idcut = pd.cut(data['IDEMPLACEMENT'].value_counts(normalize=True),np.arange(0.001,0.009,0.0005))\n",
    "print(\">>> zoom 4  : la plupart des identifiants sont en doublons + de\", int(round(0.001*len(data),0)), \"fois (0.01%)\")\n",
    "print(idcut.value_counts().sort_index())\n",
    "print()\n",
    "\n",
    "#liste des identifiants en doublon\n",
    "print(\">>> liste des identifiants en doublon:\")\n",
    "print(data['IDEMPLACEMENT'].value_counts())\n",
    "\n"
   ]
  },
  {
   "cell_type": "markdown",
   "metadata": {},
   "source": [
    "* Cette donnée ressemble plus à une catégorie qu'à un ID (qui serait unique pour chaque ligne)\n",
    "* Mais si l'on affiche sur une carte les arbres ayant un IDEMPLACEMENT communs, on remarque qu'ils sont dispatchés sur toute la carte sans lien apparent\n",
    "* De plus si l'on regarde les autres données de ces arbres, il n'y a aucun point commun qui revient\n",
    "* Enfin, si l'on prend un arbre en particulier ayant un IDEMPLACEMENT partagé et que l'on regarde les IDEMPLACEMENT d'autres arbres très proches de lui, ils ne sont pas identiques mais incrémentés ou décrémentés de 1\n",
    "* Cet ID fonctionne à un niveau local (ex : SQUARE REJANE) mais au niveau global de Paris, il y a des similitudes forfuites\n",
    "\n",
    "> **Cette donnée peut être supprimée, c'est très certainement un ID**"
   ]
  },
  {
   "cell_type": "code",
   "execution_count": 8,
   "metadata": {},
   "outputs": [
    {
     "name": "stdout",
     "output_type": "stream",
     "text": [
      ">>> suppression des colonnes IDEMPLACEMENT\n",
      ">>> nombre de colonnes restantes : 11\n"
     ]
    }
   ],
   "source": [
    "# suppression de la colonne IDEMPLACEMENT\n",
    "try:\n",
    "    data = data.drop(columns=['IDEMPLACEMENT'])\n",
    "    print(\">>> suppression des colonnes IDEMPLACEMENT\")\n",
    "except KeyError:\n",
    "    print(\">>> les colonnes ont déjà été supprimées\")\n",
    "\n",
    "# nombre de colonnes restantes après suppression (normalement 11)\n",
    "print(\">>> nombre de colonnes restantes :\", len(data.columns))"
   ]
  },
  {
   "cell_type": "markdown",
   "metadata": {},
   "source": [
    ">> #### - Analyse plus poussée - STADE DE DEVELOPPEMENT"
   ]
  },
  {
   "cell_type": "code",
   "execution_count": 9,
   "metadata": {
    "scrolled": true
   },
   "outputs": [
    {
     "name": "stdout",
     "output_type": "stream",
     "text": [
      ">>> complétude de la colonne : ( 72.11 % ) - ( 205301 )\n",
      "\n",
      ">>> répartition des valeurs :\n",
      "A : ( 34.87 % ) - ( 71582 )\n",
      "JA : ( 18.28 % ) - ( 37520 )\n",
      "J : ( 15.51 % ) - ( 31833 )\n",
      "M : ( 3.46 % ) - ( 7106 )\n"
     ]
    }
   ],
   "source": [
    "# complétude de la colonne\n",
    "print(\">>> complétude de la colonne : (\",\n",
    "      round(data['STADE DE DEVELOPPEMENT'].count()/len(data)*100,2),\n",
    "      \"% )\",\n",
    "      \"- (\",\n",
    "      data[column].count(),\n",
    "      \")\"\n",
    "     )\n",
    "print()\n",
    "\n",
    "# répartition des valeurs\n",
    "print(\">>> répartition des valeurs :\")\n",
    "\n",
    "serie = data['STADE DE DEVELOPPEMENT'].value_counts()\n",
    "\n",
    "for index in serie.index:\n",
    "    print(index,\n",
    "          \": (\",\n",
    "          round(serie[index]/len(data)*100,2), \"% )\", \n",
    "          \"- (\", \n",
    "          serie[index],\n",
    "          \")\"\n",
    "         )"
   ]
  },
  {
   "cell_type": "markdown",
   "metadata": {},
   "source": [
    "* Bilan de l'analyse de la colonne **STADE DE DEVELOPPEMENT** :\n",
    "  * elle est complète à **72%**\n",
    "  * ces données sont suffisamment réparties entre les différentes catégories\n",
    "\n",
    "\n",
    "* **/!\\ Pour être exploitée, cette colonne doit être complétée (voir plus bas) /!\\**\n",
    " \n",
    " \n",
    "* Pour compléter intelligemment les données manquantes, il y a sûrement un lien à faire avec:\n",
    "  * LIBELLE FRANCAIS / ESPECE\n",
    "  * CIRCONFERENCE / HAUTEUR"
   ]
  },
  {
   "cell_type": "markdown",
   "metadata": {},
   "source": [
    ">> #### - Analyse plus poussée - REMARQUABLE"
   ]
  },
  {
   "cell_type": "code",
   "execution_count": 10,
   "metadata": {
    "scrolled": true
   },
   "outputs": [
    {
     "name": "stdout",
     "output_type": "stream",
     "text": [
      ">>> complétude de la colonne : ( 81.63 % ) - ( 205301 )\n",
      "\n",
      ">>> répartition des valeurs :\n",
      "NON : ( 81.54 % ) - ( 167397 )\n",
      "OUI : ( 0.09 % ) - ( 182 )\n"
     ]
    }
   ],
   "source": [
    "# complétude de la colonne\n",
    "print(\">>> complétude de la colonne : (\",\n",
    "      round(data['REMARQUABLE'].count()/len(data)*100,2),\n",
    "      \"% )\",\n",
    "      \"- (\",\n",
    "      data[column].count(),\n",
    "      \")\"\n",
    "     )\n",
    "print()\n",
    "\n",
    "# répartition des valeurs\n",
    "print(\">>> répartition des valeurs :\")\n",
    "\n",
    "serie = data['REMARQUABLE'].value_counts()\n",
    "\n",
    "for index in serie.index:\n",
    "    print(index,\n",
    "          \": (\",\n",
    "          round(serie[index]/len(data)*100,2), \"% )\", \n",
    "          \"- (\", \n",
    "          serie[index],\n",
    "          \")\"\n",
    "         )"
   ]
  },
  {
   "cell_type": "markdown",
   "metadata": {},
   "source": [
    "* Bilan de l'analyse de la colonne **REMARQUABLE** :\n",
    "  * elle est complète à **82%**\n",
    "  * la quasi totalité des données est répartie dans une seule catégorie (NON)\n",
    " \n",
    "\n",
    "* **/!\\ Cette colonne peut être supprimée /!\\**"
   ]
  },
  {
   "cell_type": "code",
   "execution_count": 11,
   "metadata": {},
   "outputs": [
    {
     "name": "stdout",
     "output_type": "stream",
     "text": [
      ">>> suppression de la colonne REMARQUABLE\n",
      ">>> nombre de colonnes restantes : 10\n"
     ]
    }
   ],
   "source": [
    "# suppression des de la colonne REMARQUABLE\n",
    "try:\n",
    "    data = data.drop(columns=['REMARQUABLE'])\n",
    "    print(\">>> suppression de la colonne REMARQUABLE\")\n",
    "except KeyError:\n",
    "    print(\">>> les colonnes ont déjà été supprimées\")\n",
    "\n",
    "# nombre de colonnes restantes après suppression (normalement 10)\n",
    "print(\">>> nombre de colonnes restantes :\", len(data.columns))"
   ]
  },
  {
   "cell_type": "markdown",
   "metadata": {},
   "source": [
    "> ### - Suppression des colonnes correspondantes à une autre (lien 1-1)"
   ]
  },
  {
   "cell_type": "code",
   "execution_count": 12,
   "metadata": {
    "scrolled": true
   },
   "outputs": [
    {
     "name": "stdout",
     "output_type": "stream",
     "text": [
      ">>> nombre d'index distincts par colonne :\n",
      "\n",
      "DOMANIALITE : ( 9 )\n",
      "ARRONDISSEMENT : ( 25 )\n",
      "LIEU / ADRESSE : ( 7148 )\n",
      "LIBELLE FRANCAIS : ( 192 )\n",
      "GENRE : ( 175 )\n",
      "ESPECE : ( 540 )\n",
      "CIRCONFERENCE (cm) : ( 508 )\n",
      "HAUTEUR (m) : ( 147 )\n",
      "STADE DE DEVELOPPEMENT : ( 4 )\n",
      "geo_point_2d : ( 205292 )\n",
      "\n"
     ]
    }
   ],
   "source": [
    "# nombre d'index distincts par colonne\n",
    "print(\">>> nombre d'index distincts par colonne :\")\n",
    "print()\n",
    "for column in data.columns:\n",
    "    print(column, \": (\", len(data[column].value_counts()), \")\")\n",
    "print()"
   ]
  },
  {
   "cell_type": "markdown",
   "metadata": {},
   "source": [
    "* les colonnes les plus suceptibles de se correspondre ont un nombre d'index et des données similaires\n",
    "* les seules assez proches dans ce cas sont **LIBELLE FRANCAIS** & **GENRE**"
   ]
  },
  {
   "cell_type": "code",
   "execution_count": 13,
   "metadata": {},
   "outputs": [
    {
     "name": "stdout",
     "output_type": "stream",
     "text": [
      ">>> Chimonanthe\n",
      "Chimonanthus    3\n",
      "Chionanthus     2\n",
      "Name: GENRE, dtype: int64\n",
      "\n",
      ">>> Chêne\n",
      "Quercus     4327\n",
      "Sapindus       1\n",
      "Name: GENRE, dtype: int64\n",
      "\n",
      ">>> Cyprès\n",
      "x Cupressocyparis    679\n",
      "Cupressus            598\n",
      "Name: GENRE, dtype: int64\n",
      "\n",
      ">>> Fevier\n",
      "Gleditsia      1599\n",
      "Gymnocladus       4\n",
      "Name: GENRE, dtype: int64\n",
      "\n",
      ">>> Mûrier\n",
      "Morus           686\n",
      "Broussonetia    235\n",
      "Cudrania          2\n",
      "Name: GENRE, dtype: int64\n",
      "\n",
      ">>> Palmier\n",
      "Trachycarpus    225\n",
      "Brahea            2\n",
      "Washingtonia      1\n",
      "Name: GENRE, dtype: int64\n",
      "\n",
      ">>> Pin\n",
      "Pinus          4936\n",
      "Sciadopitys       1\n",
      "Name: GENRE, dtype: int64\n",
      "\n",
      ">>> Poirier à fruits\n",
      "Pyrus           744\n",
      "x Sorbopyrus      1\n",
      "Name: GENRE, dtype: int64\n",
      "\n",
      ">>> Sequoia\n",
      "Sequoiadendron    67\n",
      "Sequoia           44\n",
      "Name: GENRE, dtype: int64\n",
      "\n",
      ">>> Sterculier\n",
      "Firmiana        12\n",
      "Brachychiton     1\n",
      "Name: GENRE, dtype: int64\n",
      "\n",
      ">>> Thuya\n",
      "Thuja          365\n",
      "Platycladus     56\n",
      "Name: GENRE, dtype: int64\n",
      "\n"
     ]
    }
   ],
   "source": [
    "# liste des LIBELLE FRANCAIS ayant plus de 1 genre\n",
    "\n",
    "try:\n",
    "    sub_data = data[['LIBELLE FRANCAIS', 'GENRE']]\n",
    "    serie = sub_data.groupby('LIBELLE FRANCAIS').GENRE.nunique() > 1\n",
    "\n",
    "    for index in serie.index:\n",
    "        if serie[index]:\n",
    "            print(\">>>\", index)\n",
    "            #print(\">>>\", data_save.loc[data_save['LIBELLE FRANCAIS'] == index, 'GENRE'].unique())\n",
    "            print(data.loc[data['LIBELLE FRANCAIS'] == index, 'GENRE'].value_counts())\n",
    "            print()\n",
    "except KeyError:\n",
    "    print(\"La colonne GENRE a déjà été supprimée\")"
   ]
  },
  {
   "cell_type": "markdown",
   "metadata": {},
   "source": [
    "**Analyse des LIBELLE FRANCAIS:**\n",
    "* Chimonanthe:\n",
    "  * Il y a une simple confusion entre l'ESPECE (Chionanthus) et le le GENRE (Chimonanthus)\n",
    "* Chêne:\n",
    "  * 1 seule différence qui semble être une erreur (Sapindus)\n",
    "* Cyprès:\n",
    "  * les deux catégories font référence à des Cyprès bien qu'il y ait de légères différences\n",
    "* ...\n",
    "\n",
    "\n",
    "* dans l'ensemble la colonne **GENRE** n'apporte que très peu de valeur ajoutée par rapport à **LIBELLE FRANCAIS**\n",
    "  * Soit il s'agit d'erreurs (ex : un chêne ayant pour genre Sapindus)\n",
    "  * Soit il n'y a qu'une seule différence qui est négligeable\n",
    "  * Soit la différence concrète entre les genres est trop subtile pour être exploitée\n",
    "\n",
    "\n",
    "* **/!\\ Nous pouvons supprimer la colonne GENRE /!\\**"
   ]
  },
  {
   "cell_type": "code",
   "execution_count": 14,
   "metadata": {},
   "outputs": [
    {
     "name": "stdout",
     "output_type": "stream",
     "text": [
      ">>> suppression de la colonne GENRE\n",
      ">>> nombre de colonnes restantes : 9\n"
     ]
    }
   ],
   "source": [
    "# suppression de la colonne GENRE\n",
    "try:\n",
    "    data = data.drop(columns=['GENRE'])\n",
    "    print(\">>> suppression de la colonne GENRE\")\n",
    "except KeyError:\n",
    "    print(\">>> les colonnes ont déjà été supprimées\")\n",
    "\n",
    "# nombre de colonnes restantes après suppression (normalement 9)\n",
    "print(\">>> nombre de colonnes restantes :\", len(data.columns))"
   ]
  },
  {
   "cell_type": "markdown",
   "metadata": {},
   "source": [
    "> ### - Suppression / Merge des données trop peu représentées"
   ]
  },
  {
   "cell_type": "code",
   "execution_count": 15,
   "metadata": {},
   "outputs": [
    {
     "name": "stdout",
     "output_type": "stream",
     "text": [
      ">>> nombre d'index distincts par colonne :\n",
      "\n",
      "DOMANIALITE : ( 9 )\n",
      "ARRONDISSEMENT : ( 25 )\n",
      "LIEU / ADRESSE : ( 7148 )\n",
      "LIBELLE FRANCAIS : ( 192 )\n",
      "ESPECE : ( 540 )\n",
      "CIRCONFERENCE (cm) : ( 508 )\n",
      "HAUTEUR (m) : ( 147 )\n",
      "STADE DE DEVELOPPEMENT : ( 4 )\n",
      "geo_point_2d : ( 205292 )\n",
      "\n",
      ">>> répartition des valeurs par colonne ayant peu d'index distincts (< 50) :\n",
      "\n",
      "              DOMANIALITE          %\n",
      "Alignement         106391  51.821959\n",
      "Jardin              48673  23.708116\n",
      "CIMETIERE           32201  15.684775\n",
      "DASCO                7126   3.471001\n",
      "PERIPHERIQUE         5399   2.629797\n",
      "DJS                  4073   1.983916\n",
      "DFPE                 1406   0.684848\n",
      "DAC                    21   0.010229\n",
      "DASES                  11   0.005358\n",
      "\n",
      "                   ARRONDISSEMENT         %\n",
      "PARIS 15E ARRDT             17379  8.465132\n",
      "PARIS 16E ARRDT             17060  8.309750\n",
      "PARIS 13E ARRDT             17058  8.308776\n",
      "PARIS 20E ARRDT             15553  7.575706\n",
      "PARIS 19E ARRDT             14441  7.034062\n",
      "PARIS 12E ARRDT             12606  6.140253\n",
      "PARIS 14E ARRDT             12001  5.845563\n",
      "BOIS DE VINCENNES           11841  5.767629\n",
      "SEINE-SAINT-DENIS           11622  5.660956\n",
      "PARIS 17E ARRDT             11048  5.381367\n",
      "PARIS 18E ARRDT             10470  5.099829\n",
      "PARIS 7E ARRDT               8756  4.264957\n",
      "VAL-DE-MARNE                 7553  3.678988\n",
      "PARIS 8E ARRDT               7238  3.525555\n",
      "PARIS 11E ARRDT              5919  2.883084\n",
      "HAUTS-DE-SEINE               5497  2.677532\n",
      "BOIS DE BOULOGNE             4100  1.997068\n",
      "PARIS 10E ARRDT              3435  1.673153\n",
      "PARIS 4E ARRDT               2771  1.349726\n",
      "PARIS 5E ARRDT               2503  1.219185\n",
      "PARIS 6E ARRDT               1783  0.868481\n",
      "PARIS 1ER ARRDT              1702  0.829027\n",
      "PARIS 3E ARRDT               1244  0.605940\n",
      "PARIS 9E ARRDT               1184  0.576714\n",
      "PARIS 2E ARRDT                537  0.261567\n",
      "\n",
      "    STADE DE DEVELOPPEMENT          %\n",
      "A                    71582  34.866854\n",
      "JA                   37520  18.275605\n",
      "J                    31833  15.505526\n",
      "M                     7106   3.461259\n",
      "\n"
     ]
    }
   ],
   "source": [
    "# nombre d'index distincts par colonne\n",
    "print(\">>> nombre d'index distincts par colonne :\")\n",
    "print()\n",
    "for column in data.columns:\n",
    "    print(column, \": (\", len(data[column].value_counts()), \")\")\n",
    "print()\n",
    "\n",
    "# répartition des valeurs par colonne ayant peu d'index distincts (< 50)\n",
    "print(\">>> répartition des valeurs par colonne ayant peu d'index distincts (< 50) :\")\n",
    "print()\n",
    "\n",
    "for column in data.columns:\n",
    "    if len(data[column].value_counts()) < 50:\n",
    "        serie = data[column].value_counts()\n",
    "        serie2 = data[column].value_counts()/len(data)*100\n",
    "        serie_f = serie.to_frame()\n",
    "        serie_f['%'] = serie2\n",
    "        print(serie_f)\n",
    "        print()"
   ]
  },
  {
   "cell_type": "markdown",
   "metadata": {},
   "source": [
    "**DOMANIALITE**\n",
    "* **On remarque que:**\n",
    "  * les index DAC / DASES / DFPE sont très faiblement représentés (< %1)\n",
    "  * les index DASCO / PERIPHERIQUE / DJS sont faiblement représentés (< 5%)\n",
    "    * les deux groupes d'index faiblements cumulés = 8%\n",
    "  * les trois autres index sont représentés comme suit :\n",
    "    * Alignement : 52%\n",
    "    * Jardin : 24%\n",
    "    * CIMETIERE :16%\n",
    "    * total = 92% \n",
    "* **Que faire des données ?**\n",
    "  * Même s'il peut y avoir un lien entre les domanialités et d'autres données (ex : les arbres des jardins ont tendance à être plus petits que ceux en alignement), ce lien n'est pas utile\n",
    "  * Les domanialités n'ont en réalité que peu d'intérêt pour établir une stratégie viable d'optimisation des trajets\n",
    "  * En effet, il est tout à fait possible que géographiquement un jardin puisse être à la fois à l'Est de Paris et un autre complétement à l'Ouest\n",
    "  * Nous lui préferons une autre donnée géographique comme l'arrondissement ou les coordonées GPS\n",
    "  * **/!\\ Suppression de la donnée /!\\**\n",
    "  \n",
    ">\n",
    "\n",
    "**ARRONDISSEMENT**\n",
    "* **On remarque que:** \n",
    "  * l'ensemble des index sont plutôt bien répartis\n",
    "  * mais certaines valeurs sont très faibles par rapport à d'autres\n",
    "* **Que faire des données ?** : \n",
    "  * Il est préférable de merge des arrondissement proches entre eux\n",
    "  * [arrondissement de Paris](https://homeselect.paris/wp-content/uploads/Capture-d%E2%80%99e%CC%81cran-2019-07-09-a%CC%80-13.53.12-1024x512.jpg)\n",
    "    * ex: 1er + 2eme + 3eme + 4eme (centre Paris)\n",
    "    * ex : 5eme  + 6eme + 7eme\n",
    "    * ex : 8eme + 9eme + 10eme + 11eme\n",
    "    * ex : Val de Marne + Bois de Vincenne ? (Est de Paris)\n",
    "    * ex : Hauts de Seine + Bois de Boulogne (Ouest de Paris)\n",
    "\n",
    ">\n",
    "\n",
    "**STADE DE DEVELOPPEMENT**\n",
    "* **On remarque que:** l'ensemble des index sont plutôt bien répartis\n",
    "* **Que faire des données ?** : on ne les supprime pas et on ne les merge pas, il faut les compléter"
   ]
  },
  {
   "cell_type": "code",
   "execution_count": 16,
   "metadata": {},
   "outputs": [
    {
     "name": "stdout",
     "output_type": "stream",
     "text": [
      ">>> suppression de la colonne DOMANIALITE\n",
      ">>> nombre de colonnes restantes : 8\n"
     ]
    }
   ],
   "source": [
    "# suppression de la colonne DOMANIALITE\n",
    "try:\n",
    "    data = data.drop(columns=['DOMANIALITE'])\n",
    "    print(\">>> suppression de la colonne DOMANIALITE\")\n",
    "except KeyError:\n",
    "    print(\">>> les colonnes ont déjà été supprimées\")\n",
    "\n",
    "# nombre de colonnes restantes après suppression (normalement 8)\n",
    "print(\">>> nombre de colonnes restantes :\", len(data.columns))"
   ]
  },
  {
   "cell_type": "code",
   "execution_count": 17,
   "metadata": {},
   "outputs": [
    {
     "data": {
      "text/plain": [
       "PARIS EST             19394\n",
       "PARIS 891011 ARRDT    17776\n",
       "PARIS 15E ARRDT       17379\n",
       "PARIS 16E ARRDT       17060\n",
       "PARIS 13E ARRDT       17058\n",
       "PARIS 20E ARRDT       15553\n",
       "PARIS 19E ARRDT       14441\n",
       "PARIS 567 ARRDT       13042\n",
       "PARIS 12E ARRDT       12606\n",
       "PARIS 14E ARRDT       12001\n",
       "SEINE-SAINT-DENIS     11622\n",
       "PARIS 17E ARRDT       11048\n",
       "PARIS 18E ARRDT       10470\n",
       "PARIS OUEST            9597\n",
       "PARIS 1234 ARRDT       6254\n",
       "Name: ARRONDISSEMENT, dtype: int64"
      ]
     },
     "execution_count": 17,
     "metadata": {},
     "output_type": "execute_result"
    }
   ],
   "source": [
    "# Merge des données de la colonne ARRONDISSEMENT\n",
    "\n",
    "## Merge des arrondissements 1, 2, 3, et 4\n",
    "data.loc[(data['ARRONDISSEMENT'] == 'PARIS 1ER ARRDT') \n",
    "         | (data['ARRONDISSEMENT'] == 'PARIS 2E ARRDT')\n",
    "         | (data['ARRONDISSEMENT'] == 'PARIS 3E ARRDT')\n",
    "         | (data['ARRONDISSEMENT'] == 'PARIS 4E ARRDT')\n",
    "         ,'ARRONDISSEMENT'] = 'PARIS 1234 ARRDT'\n",
    "\n",
    "## Merge des arrondissements 5, 6, et 7\n",
    "data.loc[(data['ARRONDISSEMENT'] == 'PARIS 5E ARRDT')\n",
    "         | (data['ARRONDISSEMENT'] == 'PARIS 6E ARRDT')\n",
    "         | (data['ARRONDISSEMENT'] == 'PARIS 7E ARRDT')\n",
    "         ,'ARRONDISSEMENT'] = 'PARIS 567 ARRDT'\n",
    "\n",
    "\n",
    "## Merge des arrondissements 8, 9, 10 et 11\n",
    "data.loc[(data['ARRONDISSEMENT'] == 'PARIS 8E ARRDT')\n",
    "         | (data['ARRONDISSEMENT'] == 'PARIS 9E ARRDT')\n",
    "         | (data['ARRONDISSEMENT'] == 'PARIS 10E ARRDT')\n",
    "         | (data['ARRONDISSEMENT'] == 'PARIS 11E ARRDT')\n",
    "         ,'ARRONDISSEMENT'] = 'PARIS 891011 ARRDT'\n",
    "\n",
    "## Merge des arrondissements Val de Marne + Bois de Vincenne (Est de Paris)\n",
    "data.loc[(data['ARRONDISSEMENT'] == 'VAL-DE-MARNE')\n",
    "         | (data['ARRONDISSEMENT'] == 'BOIS DE VINCENNES')\n",
    "         ,'ARRONDISSEMENT'] = 'PARIS EST'\n",
    "\n",
    "## Merge des arrondissements Hauts de Seine + Bois de Boulogne (Ouest de Paris)\n",
    "data.loc[(data['ARRONDISSEMENT'] == 'HAUTS-DE-SEINE')\n",
    "         | (data['ARRONDISSEMENT'] == 'BOIS DE BOULOGNE')\n",
    "         ,'ARRONDISSEMENT'] = 'PARIS OUEST'\n",
    "\n",
    "data['ARRONDISSEMENT'].value_counts()"
   ]
  },
  {
   "cell_type": "markdown",
   "metadata": {},
   "source": [
    "> ### - Suppression des données non utiles"
   ]
  },
  {
   "cell_type": "markdown",
   "metadata": {},
   "source": [
    "* La colonne LIEU / ADRESSE n'apporte pas de valeur ajoutée par rapport aux arrondissements ou aux coordonées GPS\n",
    "* **/!\\ Supprimer la colonne /!\\**"
   ]
  },
  {
   "cell_type": "code",
   "execution_count": 18,
   "metadata": {},
   "outputs": [
    {
     "name": "stdout",
     "output_type": "stream",
     "text": [
      ">>> suppression de la colonne LIEU / ADRESSE\n",
      ">>> nombre de colonnes restantes : 7\n"
     ]
    }
   ],
   "source": [
    "# suppression de la colonne LIEU / ADRESSE\n",
    "try:\n",
    "    data = data.drop(columns=['LIEU / ADRESSE'])\n",
    "    print(\">>> suppression de la colonne LIEU / ADRESSE\")\n",
    "except KeyError:\n",
    "    print(\">>> les colonnes ont déjà été supprimées\")\n",
    "\n",
    "# nombre de colonnes restantes après suppression (normalement 8)\n",
    "print(\">>> nombre de colonnes restantes :\", len(data.columns))"
   ]
  },
  {
   "cell_type": "markdown",
   "metadata": {},
   "source": [
    "> ### - Analyse des données anormales"
   ]
  },
  {
   "cell_type": "markdown",
   "metadata": {},
   "source": [
    "**Les colonnes les plus suceptibles d'abriter des donnnées anormales sont:**\n",
    "* CIRCONFERENCE (cm)\n",
    "* HAUTEUR (m)\n",
    "    "
   ]
  },
  {
   "cell_type": "markdown",
   "metadata": {},
   "source": [
    "#### CIRCONFERENCE (cm)"
   ]
  },
  {
   "cell_type": "code",
   "execution_count": 19,
   "metadata": {
    "scrolled": true
   },
   "outputs": [
    {
     "data": {
      "text/plain": [
       "<matplotlib.axes._subplots.AxesSubplot at 0x27d00072c70>"
      ]
     },
     "execution_count": 19,
     "metadata": {},
     "output_type": "execute_result"
    },
    {
     "data": {
      "image/png": "[encoded data removed]",
      "text/plain": [
       "<Figure size 432x288 with 1 Axes>"
      ]
     },
     "metadata": {
      "needs_background": "light"
     },
     "output_type": "display_data"
    }
   ],
   "source": [
    "sns.stripplot(x=data[['CIRCONFERENCE (cm)']], orient='v')"
   ]
  },
  {
   "cell_type": "markdown",
   "metadata": {},
   "source": [
    "* Quelques données semblent avoir des circonférences anormales\n",
    "  * des circonférences ont l'air bien trop élevées\n",
    "  * des circonférences sont égales à 0\n",
    "  \n",
    "\n",
    "* Si la valeur est proche de 0 nous pouvons considérer qu'elle est juste\n",
    "\n",
    "\n",
    "* À noter : le conifère Taxodium mucronatum est l'arbre le plus gros du monde avec 50 mètres de circonférence au sol et 34.50m à 1m50 du sol.\n",
    "  * À minima nous pouvons partir du principe que toute circonference au-delà de cette valeur est anormale\n",
    "  * [Ce que ça donne en vrai](https://scontent-cdg2-1.xx.fbcdn.net/v/t1.0-9/69862665_1104919109697608_4295910582487351296_o.jpg?_nc_cat=102&_nc_sid=8024bb&_nc_ohc=daP98v15geMAX9ydgz-&_nc_ht=scontent-cdg2-1.xx&oh=7d490189780f044e08d8adab0e38ba48&oe=5F09B800)\n",
    "  * Le plus grand arbre de France à une circonférence de 370 cm\n",
    "  * Sans trop de risques, nous pouvons estimer qu'une circonférence au delà de 1500 est anormale"
   ]
  },
  {
   "cell_type": "code",
   "execution_count": 20,
   "metadata": {
    "scrolled": false
   },
   "outputs": [
    {
     "data": {
      "text/plain": [
       "<matplotlib.axes._subplots.AxesSubplot at 0x27d003d4460>"
      ]
     },
     "execution_count": 20,
     "metadata": {},
     "output_type": "execute_result"
    },
    {
     "data": {
      "image/png": "[encoded data removed]",
      "text/plain": [
       "<Figure size 432x288 with 1 Axes>"
      ]
     },
     "metadata": {
      "needs_background": "light"
     },
     "output_type": "display_data"
    }
   ],
   "source": [
    "# données sans valeurs anormales\n",
    "clean_data_circ = data[~(data['CIRCONFERENCE (cm)'] > 1500)]\n",
    "clean_data_circ = clean_data_circ[~(clean_data_circ['CIRCONFERENCE (cm)'] == 0)]\n",
    "\n",
    "sns.stripplot(x='CIRCONFERENCE (cm)', data=clean_data_circ, orient='v')"
   ]
  },
  {
   "cell_type": "code",
   "execution_count": 21,
   "metadata": {},
   "outputs": [
    {
     "data": {
      "text/plain": [
       "<matplotlib.axes._subplots.AxesSubplot at 0x27d0041a400>"
      ]
     },
     "execution_count": 21,
     "metadata": {},
     "output_type": "execute_result"
    },
    {
     "data": {
      "image/png": "[encoded data removed]",
      "text/plain": [
       "<Figure size 432x288 with 1 Axes>"
      ]
     },
     "metadata": {
      "needs_background": "light"
     },
     "output_type": "display_data"
    }
   ],
   "source": [
    "sns.distplot(clean_data_circ['CIRCONFERENCE (cm)'])"
   ]
  },
  {
   "cell_type": "markdown",
   "metadata": {},
   "source": [
    "* La plupart des circonférences sont entre 0 et 500 cm\n",
    "\n",
    ">\n",
    "\n",
    "* **Que faire des données ?** : \n",
    "  * une analyse plus poussée doit être faite pour les valeurs égales à 0 : (voir plus bas)\n",
    "    * combien y'en-a-t-il dans le dataset ?\n",
    "      * s'il y en a peu, nous pouvons les supprimer\n",
    "      * sinon, il faudra les modifier intelligemment en croisant avec \n",
    "        * la hauteur\n",
    "        * le stade de developpement\n",
    "        * le libelle français et l'espece\n",
    "  * pour les valeurs anormalement grandes\n",
    "     * supprimer les lignes"
   ]
  },
  {
   "cell_type": "markdown",
   "metadata": {},
   "source": [
    "#### HAUTEUR (m)"
   ]
  },
  {
   "cell_type": "code",
   "execution_count": 22,
   "metadata": {},
   "outputs": [
    {
     "data": {
      "text/plain": [
       "<matplotlib.axes._subplots.AxesSubplot at 0x27d005088b0>"
      ]
     },
     "execution_count": 22,
     "metadata": {},
     "output_type": "execute_result"
    },
    {
     "data": {
      "image/png": "[encoded data removed]",
      "text/plain": [
       "<Figure size 432x288 with 1 Axes>"
      ]
     },
     "metadata": {
      "needs_background": "light"
     },
     "output_type": "display_data"
    }
   ],
   "source": [
    "sns.stripplot(x=data[['HAUTEUR (m)']], orient='v')"
   ]
  },
  {
   "cell_type": "markdown",
   "metadata": {},
   "source": [
    "* Quelques données semblent avoir des hauteurs anormales\n",
    "  * des hauteurs ont l'air bien trop élevées\n",
    "  * des hauteurs sont égales à 0 \n",
    "\n",
    ">\n",
    "\n",
    "* À noter que l'arbre le plus grand de France mesure 67 mètres\n",
    "  * À minima nous pouvons partir du principe que toute hauteur au-delà de cette valeur est anormale"
   ]
  },
  {
   "cell_type": "code",
   "execution_count": 23,
   "metadata": {
    "scrolled": false
   },
   "outputs": [
    {
     "data": {
      "text/plain": [
       "<matplotlib.axes._subplots.AxesSubplot at 0x27d0064a4c0>"
      ]
     },
     "execution_count": 23,
     "metadata": {},
     "output_type": "execute_result"
    },
    {
     "data": {
      "image/png": "[encoded data removed]",
      "text/plain": [
       "<Figure size 432x288 with 1 Axes>"
      ]
     },
     "metadata": {
      "needs_background": "light"
     },
     "output_type": "display_data"
    }
   ],
   "source": [
    "clean_data_haut = data[~(data['HAUTEUR (m)'] > 67)]\n",
    "clean_data_haut = clean_data_haut[~(clean_data_haut['HAUTEUR (m)'] == 0)]\n",
    "sns.stripplot(x=\"HAUTEUR (m)\", data=clean_data_haut, orient='v')"
   ]
  },
  {
   "cell_type": "code",
   "execution_count": 24,
   "metadata": {},
   "outputs": [
    {
     "data": {
      "text/plain": [
       "<matplotlib.axes._subplots.AxesSubplot at 0x27d006a78b0>"
      ]
     },
     "execution_count": 24,
     "metadata": {},
     "output_type": "execute_result"
    },
    {
     "data": {
      "image/png": "[encoded data removed]",
      "text/plain": [
       "<Figure size 432x288 with 1 Axes>"
      ]
     },
     "metadata": {
      "needs_background": "light"
     },
     "output_type": "display_data"
    }
   ],
   "source": [
    "sns.distplot(clean_data_haut['HAUTEUR (m)'])"
   ]
  },
  {
   "cell_type": "markdown",
   "metadata": {},
   "source": [
    "* La plupart des données se situent entre 0 et 35 mètres\n",
    "\n",
    ">\n",
    "\n",
    "* **Que faire des données ?** : \n",
    "  * pour les valeurs égales à 0 : même réponse que pour la circonférence (voir plus bas)\n",
    "  * pour les valeurs anormalement grandes (z-score)\n",
    "     * supprimer les lignes"
   ]
  },
  {
   "cell_type": "markdown",
   "metadata": {},
   "source": [
    "> ### - Supprimer les données anormales"
   ]
  },
  {
   "cell_type": "markdown",
   "metadata": {},
   "source": [
    "#### CIRCONFERENCE (cm)"
   ]
  },
  {
   "cell_type": "code",
   "execution_count": 25,
   "metadata": {},
   "outputs": [
    {
     "name": "stdout",
     "output_type": "stream",
     "text": [
      ">>> AVANT SUPPR - nombre de lignes aberrantes: 26\n",
      ">>> APRES SUPPR - nombre de lignes aberrantes: 0\n"
     ]
    }
   ],
   "source": [
    "# éliminer les valeurs vraiment très aberrantes\n",
    "data_circ = data[(data['CIRCONFERENCE (cm)'] > 1500)]\n",
    "\n",
    "nbr_circ_anor_suppr = len(data_circ)\n",
    "\n",
    "print(\">>> AVANT SUPPR - nombre de lignes aberrantes:\", nbr_circ_anor_suppr)\n",
    "\n",
    "data = data.drop(data_circ.index, axis=0)\n",
    "\n",
    "print(\">>> APRES SUPPR - nombre de lignes aberrantes:\", len(data[(data['CIRCONFERENCE (cm)'] > 1500)]))"
   ]
  },
  {
   "cell_type": "code",
   "execution_count": 26,
   "metadata": {},
   "outputs": [],
   "source": [
    "# on filtre les données sans valeurs égales à 0 car elles modifieraient trop la moyenne étant très nombreuses\n",
    "# on complétera ces données dans un second temps, plutôt que de les supprimer\n",
    "clean_data_circ = data[~(data['CIRCONFERENCE (cm)'] == 0)]"
   ]
  },
  {
   "cell_type": "code",
   "execution_count": 27,
   "metadata": {
    "scrolled": false
   },
   "outputs": [
    {
     "data": {
      "text/plain": [
       "<matplotlib.axes._subplots.AxesSubplot at 0x27d026353a0>"
      ]
     },
     "execution_count": 27,
     "metadata": {},
     "output_type": "execute_result"
    },
    {
     "data": {
      "image/png": "[encoded data removed]",
      "text/plain": [
       "<Figure size 432x288 with 1 Axes>"
      ]
     },
     "metadata": {
      "needs_background": "light"
     },
     "output_type": "display_data"
    }
   ],
   "source": [
    "sns.boxplot(x=clean_data_circ['CIRCONFERENCE (cm)'])"
   ]
  },
  {
   "cell_type": "markdown",
   "metadata": {},
   "source": [
    "* Toutes les valeurs au dessus de 250cm semblent aberrantes"
   ]
  },
  {
   "cell_type": "code",
   "execution_count": 28,
   "metadata": {
    "scrolled": true
   },
   "outputs": [
    {
     "data": {
      "text/plain": [
       "<matplotlib.axes._subplots.AxesSubplot at 0x27d008c8a60>"
      ]
     },
     "execution_count": 28,
     "metadata": {},
     "output_type": "execute_result"
    },
    {
     "data": {
      "image/png": "[encoded data removed]",
      "text/plain": [
       "<Figure size 432x288 with 1 Axes>"
      ]
     },
     "metadata": {
      "needs_background": "light"
     },
     "output_type": "display_data"
    }
   ],
   "source": [
    "sns.distplot(clean_data_circ['CIRCONFERENCE (cm)'])"
   ]
  },
  {
   "cell_type": "markdown",
   "metadata": {},
   "source": [
    "* On remarque que les données forment une pseudo distribution normale\n",
    "* Nous pouvons utiliser la méthode des intervalles interquatile pour filtrer les données aberrantes\n",
    "* 99,3% des données sont comprises entre \\[Q1-\\(1.5\\*IQR\\) ; Q3+\\(1.5\\*IQR\\)\\]\n",
    "* les 0.7% restantes sont considérées comme aberrantes\n",
    "* en revanche notre courbe est très resserée, nous pouvons augmenter la borne max afin de ne pas exclure des arbres potentiellement larges"
   ]
  },
  {
   "cell_type": "code",
   "execution_count": 29,
   "metadata": {},
   "outputs": [
    {
     "name": "stdout",
     "output_type": "stream",
     "text": [
      ">>> mediane: 80.0\n",
      ">>> Q1: 45.0\n",
      "\t>>> n plus petits élements: 89574\n",
      ">>> Q3: 125.0\n",
      "\t>>> n plus grands élements: 89574\n",
      ">>> IQR: 80.0\n",
      ">>> Q3+(3*IQR): 365.0\n",
      ">>> Q1-(3*IQR): 0\n"
     ]
    }
   ],
   "source": [
    "# calcul des valeurs utiles\n",
    "mediane = clean_data_circ['CIRCONFERENCE (cm)'].median()\n",
    "Q1 = clean_data_circ[clean_data_circ['CIRCONFERENCE (cm)'] < mediane]['CIRCONFERENCE (cm)'].median()\n",
    "Q3 = clean_data_circ[clean_data_circ['CIRCONFERENCE (cm)'] > mediane]['CIRCONFERENCE (cm)'].median()\n",
    "IQR = Q3 - Q1\n",
    "ecart = 3\n",
    "high_outliers = Q3+(ecart*IQR)\n",
    "low_outliers = Q1-(ecart*IQR) if Q1-(ecart*IQR) > 0 else 0\n",
    "\n",
    "print(\">>> mediane:\" , mediane)\n",
    "print(\">>> Q1:\" , Q1)\n",
    "print(\"\\t>>> n plus petits élements:\", len(clean_data_circ[clean_data_circ['CIRCONFERENCE (cm)'] < mediane]['CIRCONFERENCE (cm)']))\n",
    "print(\">>> Q3:\", Q3)\n",
    "print(\"\\t>>> n plus grands élements:\", len(clean_data_circ[clean_data_circ['CIRCONFERENCE (cm)'] < mediane]['CIRCONFERENCE (cm)']))\n",
    "print(\">>> IQR:\", IQR)\n",
    "print(\">>> Q3+({}*IQR): {}\".format(ecart, high_outliers))\n",
    "print(\">>> Q1-({}*IQR): {}\".format(ecart, low_outliers))\n"
   ]
  },
  {
   "cell_type": "code",
   "execution_count": 30,
   "metadata": {},
   "outputs": [
    {
     "name": "stdout",
     "output_type": "stream",
     "text": [
      ">>> AVANT SUPPR - nombre de lignes aberrantes: 329\n",
      ">>> APRES SUPPR - nombre de lignes aberrantes: 0\n"
     ]
    }
   ],
   "source": [
    "# suppression des high_outliers\n",
    "data_high_outliers = clean_data_circ[clean_data_circ['CIRCONFERENCE (cm)'] > high_outliers]\n",
    "\n",
    "nbr_circ_anor_suppr = nbr_circ_anor_suppr + len(data_high_outliers)\n",
    "\n",
    "print(\">>> AVANT SUPPR - nombre de lignes aberrantes:\", len(data_high_outliers))\n",
    "\n",
    "data = data.drop(data_high_outliers.index, axis=0)\n",
    "\n",
    "print(\">>> APRES SUPPR - nombre de lignes aberrantes:\", len(data[(data['CIRCONFERENCE (cm)'] > high_outliers)]))"
   ]
  },
  {
   "cell_type": "code",
   "execution_count": 31,
   "metadata": {},
   "outputs": [
    {
     "name": "stdout",
     "output_type": "stream",
     "text": [
      ">>> AVANT SUPPR - nombre de lignes aberrantes: 0\n",
      ">>> APRES SUPPR - nombre de lignes aberrantes: 0\n"
     ]
    }
   ],
   "source": [
    "# suppression des low_outliers\n",
    "data_low_outliers = clean_data_circ[clean_data_circ['CIRCONFERENCE (cm)'] < low_outliers]\n",
    "\n",
    "nbr_circ_anor_suppr = nbr_circ_anor_suppr + len(data_low_outliers)\n",
    "\n",
    "print(\">>> AVANT SUPPR - nombre de lignes aberrantes:\", len(data_low_outliers))\n",
    "\n",
    "data = data.drop(data_low_outliers.index, axis=0)\n",
    "\n",
    "print(\">>> APRES SUPPR - nombre de lignes aberrantes:\", len(data[(data['CIRCONFERENCE (cm)'] < low_outliers)]))"
   ]
  },
  {
   "cell_type": "markdown",
   "metadata": {},
   "source": [
    "#### HAUTEUR (m)"
   ]
  },
  {
   "cell_type": "code",
   "execution_count": 32,
   "metadata": {},
   "outputs": [
    {
     "name": "stdout",
     "output_type": "stream",
     "text": [
      ">>> AVANT SUPPR - nombre de lignes aberrantes: 349\n",
      ">>> APRES SUPPR - nombre de lignes aberrantes: 0\n"
     ]
    }
   ],
   "source": [
    "# éliminer les valeurs vraiment très aberrantes\n",
    "data_haut = data[(data['HAUTEUR (m)'] > 67)]\n",
    "\n",
    "nbr_haut_anor_suppr = len(data_haut)\n",
    "\n",
    "print(\">>> AVANT SUPPR - nombre de lignes aberrantes:\", nbr_haut_anor_suppr)\n",
    "\n",
    "data = data.drop(data_haut.index, axis=0)\n",
    "\n",
    "print(\">>> APRES SUPPR - nombre de lignes aberrantes:\", len(data[(data['HAUTEUR (m)'] > 67)]))"
   ]
  },
  {
   "cell_type": "code",
   "execution_count": 33,
   "metadata": {},
   "outputs": [],
   "source": [
    "# on filtre les données sans valeurs égales à 0 car elles modifieraient trop la moyenne étant très nombreuses\n",
    "# on complétera ces données dans un second temps, plutôt que de les supprimer\n",
    "clean_data_haut= data[~(data['HAUTEUR (m)'] == 0)]"
   ]
  },
  {
   "cell_type": "code",
   "execution_count": 34,
   "metadata": {
    "scrolled": true
   },
   "outputs": [
    {
     "data": {
      "text/plain": [
       "<matplotlib.axes._subplots.AxesSubplot at 0x27d00977eb0>"
      ]
     },
     "execution_count": 34,
     "metadata": {},
     "output_type": "execute_result"
    },
    {
     "data": {
      "image/png": "[encoded data removed]",
      "text/plain": [
       "<Figure size 432x288 with 1 Axes>"
      ]
     },
     "metadata": {
      "needs_background": "light"
     },
     "output_type": "display_data"
    }
   ],
   "source": [
    "sns.boxplot(x=clean_data_haut['HAUTEUR (m)'])"
   ]
  },
  {
   "cell_type": "markdown",
   "metadata": {},
   "source": [
    "* Toutes les valeurs au dessus de 27m semblent aberrantes"
   ]
  },
  {
   "cell_type": "code",
   "execution_count": 35,
   "metadata": {},
   "outputs": [
    {
     "data": {
      "text/plain": [
       "<matplotlib.axes._subplots.AxesSubplot at 0x27d022e26d0>"
      ]
     },
     "execution_count": 35,
     "metadata": {},
     "output_type": "execute_result"
    },
    {
     "data": {
      "image/png": "[encoded data removed]",
      "text/plain": [
       "<Figure size 432x288 with 1 Axes>"
      ]
     },
     "metadata": {
      "needs_background": "light"
     },
     "output_type": "display_data"
    }
   ],
   "source": [
    "sns.distplot(clean_data_haut['HAUTEUR (m)'])"
   ]
  },
  {
   "cell_type": "markdown",
   "metadata": {},
   "source": [
    "* Gros mailles, on remarque que les données forment une pseudo distribution normale\n",
    "* Nous pouvons utiliser la méthode des intervalles interquatile pour filtrer les données aberrantes\n",
    "* 99,3% des données sont comprises entre \\[Q1-\\(1.5\\*IQR\\) ; Q3+\\(1.5\\*IQR\\)\\]\n",
    "* les 0.7% restantes sont considérées comme aberrantes"
   ]
  },
  {
   "cell_type": "code",
   "execution_count": 36,
   "metadata": {
    "scrolled": true
   },
   "outputs": [
    {
     "name": "stdout",
     "output_type": "stream",
     "text": [
      ">>> mediane: 10.0\n",
      ">>> Q1: 5.0\n",
      "\t>>> n plus petits élements: 82114\n",
      ">>> Q3: 15.0\n",
      "\t>>> n plus grands élements: 82114\n",
      ">>> IQR: 10.0\n",
      ">>> Q3+(1.5*IQR): 30.0\n",
      ">>> Q1-(1.5*IQR): 0\n"
     ]
    }
   ],
   "source": [
    "# calcul des valeurs utiles\n",
    "mediane = clean_data_haut['HAUTEUR (m)'].median()\n",
    "Q1 = clean_data_haut[clean_data_haut['HAUTEUR (m)'] < mediane]['HAUTEUR (m)'].median()\n",
    "Q3 = clean_data_haut[clean_data_haut['HAUTEUR (m)'] > mediane]['HAUTEUR (m)'].median()\n",
    "IQR = Q3 - Q1\n",
    "ecart = 1.5\n",
    "high_outliers = Q3+(ecart*IQR)\n",
    "low_outliers = Q1-(ecart*IQR) if Q1-(ecart*IQR) > 0 else 0\n",
    "\n",
    "print(\">>> mediane:\" , mediane)\n",
    "print(\">>> Q1:\" , Q1)\n",
    "print(\"\\t>>> n plus petits élements:\", len(clean_data_haut[clean_data_haut['HAUTEUR (m)'] < mediane]['HAUTEUR (m)']))\n",
    "print(\">>> Q3:\", Q3)\n",
    "print(\"\\t>>> n plus grands élements:\", len(clean_data_haut[clean_data_haut['HAUTEUR (m)'] < mediane]['HAUTEUR (m)']))\n",
    "print(\">>> IQR:\", IQR)\n",
    "print(\">>> Q3+({}*IQR): {}\".format(ecart, high_outliers))\n",
    "print(\">>> Q1-({}*IQR): {}\".format(ecart, low_outliers))"
   ]
  },
  {
   "cell_type": "code",
   "execution_count": 37,
   "metadata": {
    "scrolled": true
   },
   "outputs": [
    {
     "name": "stdout",
     "output_type": "stream",
     "text": [
      ">>> AVANT SUPPR - nombre de lignes aberrantes: 208\n",
      ">>> APRES SUPPR - nombre de lignes aberrantes: 0\n"
     ]
    }
   ],
   "source": [
    "# suppression des high_outliers\n",
    "data_high_outliers = clean_data_haut[clean_data_haut['HAUTEUR (m)'] > high_outliers]\n",
    "\n",
    "nbr_haut_anor_suppr = nbr_haut_anor_suppr + len(data_high_outliers)\n",
    "\n",
    "print(\">>> AVANT SUPPR - nombre de lignes aberrantes:\", len(data_high_outliers))\n",
    "\n",
    "data = data.drop(data_high_outliers.index, axis=0)\n",
    "\n",
    "print(\">>> APRES SUPPR - nombre de lignes aberrantes:\", len(data[(data['HAUTEUR (m)'] > high_outliers)]))\n"
   ]
  },
  {
   "cell_type": "code",
   "execution_count": 38,
   "metadata": {},
   "outputs": [
    {
     "name": "stdout",
     "output_type": "stream",
     "text": [
      ">>> AVANT SUPPR - nombre de lignes aberrantes: 0\n",
      ">>> APRES SUPPR - nombre de lignes aberrantes: 0\n"
     ]
    },
    {
     "data": {
      "text/plain": [
       "<matplotlib.axes._subplots.AxesSubplot at 0x27d02ad4190>"
      ]
     },
     "execution_count": 38,
     "metadata": {},
     "output_type": "execute_result"
    },
    {
     "data": {
      "image/png": "[encoded data removed]",
      "text/plain": [
       "<Figure size 432x288 with 1 Axes>"
      ]
     },
     "metadata": {
      "needs_background": "light"
     },
     "output_type": "display_data"
    }
   ],
   "source": [
    "# suppression des low_outliers\n",
    "data_low_outliers = clean_data_haut[clean_data_haut['HAUTEUR (m)'] < low_outliers]\n",
    "\n",
    "nbr_haut_anor_suppr = nbr_haut_anor_suppr + len(data_low_outliers)\n",
    "\n",
    "print(\">>> AVANT SUPPR - nombre de lignes aberrantes:\", len(data_low_outliers))\n",
    "\n",
    "data = data.drop(data_low_outliers.index, axis=0)\n",
    "\n",
    "print(\">>> APRES SUPPR - nombre de lignes aberrantes:\", len(data[(data['HAUTEUR (m)'] < low_outliers)]))\n",
    "sns.boxplot(x=clean_data_haut['HAUTEUR (m)'])"
   ]
  },
  {
   "cell_type": "markdown",
   "metadata": {},
   "source": [
    "## - Compléter les données manquantes (y.c celles égales à 0)\n",
    "---"
   ]
  },
  {
   "cell_type": "markdown",
   "metadata": {},
   "source": [
    "> ### - Complétion de la colonne LIBELLE FRANCAIS"
   ]
  },
  {
   "cell_type": "code",
   "execution_count": 39,
   "metadata": {},
   "outputs": [
    {
     "name": "stdout",
     "output_type": "stream",
     "text": [
      "nombre de libellés français vide 727\n"
     ]
    }
   ],
   "source": [
    "print(\"nombre de libellés français vide\", len(data[(data['LIBELLE FRANCAIS'].isna())]))"
   ]
  },
  {
   "cell_type": "markdown",
   "metadata": {},
   "source": [
    ">> #### complétion avec le GENRE"
   ]
  },
  {
   "cell_type": "code",
   "execution_count": 40,
   "metadata": {
    "scrolled": true
   },
   "outputs": [
    {
     "name": "stdout",
     "output_type": "stream",
     "text": [
      ">>> nombre de libelle français vide ayant un genre non vide: 601\n"
     ]
    }
   ],
   "source": [
    "# tous les libellés français vides qui ont un genre défini\n",
    "save = data_save\n",
    "emptylibfr_genre = save[(save['LIBELLE FRANCAIS'].isna()) & ~(save['GENRE'] == 'Non spécifié') & ~(save['GENRE'].isna())]\n",
    "print(\">>> nombre de libelle français vide ayant un genre non vide:\", len(emptylibfr_genre))"
   ]
  },
  {
   "cell_type": "code",
   "execution_count": 41,
   "metadata": {
    "scrolled": false
   },
   "outputs": [
    {
     "name": "stdout",
     "output_type": "stream",
     "text": [
      ">>> (== 1) - genre : Quercus >>> Chêne\n",
      ">>> (== 1) - genre : Juniperus >>> Genévrier\n",
      ">>> (== 1) - genre : Taxus >>> If\n",
      ">>> (== 1) - genre : Olea >>> Olivier\n",
      ">>> (== 1) - genre : Ulmus >>> Orme\n",
      ">>> (== 1) - genre : Acer >>> Erable\n",
      ">>> (== 1) - genre : Populus >>> Peuplier\n",
      ">>> (== 1) - genre : Tilia >>> Tilleul\n",
      ">>> (== 1) - genre : Eucalyptus >>> Eucalyptus\n",
      ">>> (== 1) - genre : Picea >>> Epicéa\n",
      ">>> (== 1) - genre : Pinus >>> Pin\n",
      ">>> (== 1) - genre : Liriodendron >>> Tulipier\n",
      ">>> (== 1) - genre : Celtis >>> Micocoulier\n",
      ">>> (== 1) - genre : Cotoneaster >>> Cotoneaster\n",
      ">>> (== 1) - genre : Paulownia >>> Paulownia\n",
      ">>> (== 1) - genre : Chamaecyparis >>> Faux-cyprès\n",
      ">>> (== 1) - genre : Platanus >>> Platane\n",
      ">>> (== 1) - genre : Sophora >>> Sophora\n",
      ">>> (== 1) - genre : Cornus >>> Cornouiller\n",
      ">>> (== 1) - genre : Toona >>> Cedrele\n",
      ">>> (== 1) - genre : Ehretia >>> Cabrillet\n",
      ">>> (== 1) - genre : Trachycarpus >>> Palmier\n",
      ">>> (== 1) - genre : Aesculus >>> Marronnier\n",
      ">>> (== 1) - genre : Salix >>> Saule\n",
      ">>> (== 1) - genre : Pterocarya >>> Pterocarya\n",
      ">>> (== 1) - genre : Morus >>> Mûrier\n",
      ">>> (== 1) - genre : Carpinus >>> Charme\n",
      ">>> (== 1) - genre : Alnus >>> Aulne\n",
      ">>> (== 1) - genre : Thuja >>> Thuya\n",
      ">>> (== 1) - genre : Zanthoxylum >>> Poivrier\n",
      ">>> (== 1) - genre : Koelreuteria >>> Savonnier\n",
      ">>> (== 1) - genre : Liquidambar >>> Copalme\n",
      ">>> (== 1) - genre : Sambucus >>> Sureau\n",
      ">>> (== 1) - genre : Robinia >>> Robinier\n",
      ">>> (== 1) - genre : x Chitalpa >>> Chitalpa\n",
      ">>> (== 1) - genre : Alangium >>> Alangium\n",
      ">>> (== 1) - genre : Gleditsia >>> Fevier\n",
      ">>> (== 1) - genre : Ailanthus >>> Ailante\n",
      ">>> (== 1) - genre : Cedrus >>> Cèdre\n",
      ">>> (== 1) - genre : Styrax >>> Styrax\n",
      ">>> (== 1) - genre : Clerodendrum >>> Clerodendron\n",
      ">>> (== 1) - genre : Phillyrea >>> Filaire\n",
      ">>> (== 1) - genre : Ilex >>> Houx\n",
      ">>> (== 1) - genre : Amelanchier >>> Amélanchier\n",
      ">>> (== 1) - genre : Betula >>> Bouleau\n",
      ">>> (== 1) - genre : Castanea >>> Châtaignier\n",
      ">>> (== 1) - genre : Magnolia >>> Magnolia\n",
      ">>> (== 1) - genre : Laburnum >>> Cytise\n",
      ">>> (== 1) - genre : Catalpa >>> Catalpa\n",
      ">>> (== 1) - genre : Poncirus >>> Citronnier\n",
      ">>> (== 1) - genre : Cephalotaxus >>> Céphalotaxe\n",
      ">>> (== 1) - genre : Elaeagnus >>> Eleagnus - Chalef\n",
      ">>> (== 1) - genre : Acacia >>> Mimosa\n",
      ">>> (== 1) - genre : Platycladus >>> Thuya\n",
      ">>> (== 1) - genre : Cydonia >>> Cognassier\n",
      ">>> (== 1) - genre : Tetradium >>> Arbre à miel\n",
      ">>> (== 1) - genre : Carya >>> Caryer\n",
      ">>> (== 1) - genre : Sequoiadendron >>> Sequoia\n",
      ">>> (== 1) - genre : Fagus >>> Hêtre\n",
      ">>> (== 1) - genre : Lagerstroemia >>> Lilas des indes\n",
      ">>> (== 1) - genre : Cupressus >>> Cyprès\n",
      ">>> (== 1) - genre : Buxus >>> Buis\n",
      "\n",
      ">>> OK :)\n",
      "\t>>> nombre de modifications effectuées: 374\n",
      "\t>>> nombre de données non modifiées : 227\n",
      "\t>>> nombre de libelle français vides ayant un genre non vide: 601\n"
     ]
    }
   ],
   "source": [
    "# nombre de modifications\n",
    "count_modif = 0\n",
    "count_non_modif = 0\n",
    "\n",
    "# pour chaque genre ayant un libelle fr vide\n",
    "for genre in emptylibfr_genre[\"GENRE\"].unique():\n",
    "    \n",
    "    # liste des remplacents (non vides) possibles pour ce genre\n",
    "    liste_remplacents = save[(save['GENRE'] == genre)]['LIBELLE FRANCAIS'].dropna().unique()\n",
    "    \n",
    "    # s'il y a un seul remplacent on modifie le libelle fr de chaque index correspondant à ce genre\n",
    "    if (len(liste_remplacents) == 1):\n",
    "        print(\">>> (== 1) - genre :\", genre, \">>>\",  liste_remplacents[0])\n",
    "        for index in emptylibfr_genre[emptylibfr_genre['GENRE']==genre].index:\n",
    "            data.loc[index,'LIBELLE FRANCAIS'] = liste_remplacents[0]\n",
    "            count_modif +=1\n",
    "            \n",
    "    # s'il y a plusieurs remplacents, on ne fait rien\n",
    "    elif (len(liste_remplacents) > 1):\n",
    "        #print(\">>> (> 1) - genre :\", genre, \">>>\",  liste_remplacents)\n",
    "        for index in emptylibfr_genre[emptylibfr_genre['GENRE']==genre].index:\n",
    "            count_non_modif +=1\n",
    "    \n",
    "    # si l'espece n'a pas de correspondance ou si elle en a trop car trop générique (n. sp.), on ne fait rien\n",
    "    else:\n",
    "        #print(\">>> vide:\", liste_remplacents)\n",
    "        for index in emptylibfr_genre[emptylibfr_genre['GENRE']==genre].index:\n",
    "            count_non_modif +=1\n",
    "        \n",
    "print()\n",
    "\n",
    "nbr_libfr_comp = count_modif\n",
    "\n",
    "if count_modif+count_non_modif == len(emptylibfr_genre):\n",
    "    print('>>> OK :)')\n",
    "    print(\"\\t>>> nombre de modifications effectuées:\" , count_modif)\n",
    "    print(\"\\t>>> nombre de données non modifiées :\" , count_non_modif)\n",
    "    print(\"\\t>>> nombre de libelle français vides ayant un genre non vide:\", len(emptylibfr_genre))\n",
    "else:\n",
    "    print('>>> KO !!')\n",
    "    print(\"\\t>>> nombre de modifications effectuées:\" , count_modif)\n",
    "    print(\"\\t>>> nombre de données non modifiées :\" , count_non_modif)\n",
    "    print(\"\\>>> nombre de libelle français vides ayant un genre non vide:\", len(emptylibfr_genre))"
   ]
  },
  {
   "cell_type": "code",
   "execution_count": 42,
   "metadata": {},
   "outputs": [
    {
     "name": "stdout",
     "output_type": "stream",
     "text": [
      "nombre de libellés français vide 354\n"
     ]
    }
   ],
   "source": [
    "print(\"nombre de libellés français vide\", len(data[(data['LIBELLE FRANCAIS'].isna())]))"
   ]
  },
  {
   "cell_type": "markdown",
   "metadata": {},
   "source": [
    ">> #### complétion avec l'ESPECE"
   ]
  },
  {
   "cell_type": "code",
   "execution_count": 43,
   "metadata": {
    "scrolled": true
   },
   "outputs": [
    {
     "name": "stdout",
     "output_type": "stream",
     "text": [
      ">>> nombre de libelle français vide ayant une espece non vide: 117\n"
     ]
    }
   ],
   "source": [
    "# tous les libellés français vides qui ont une espèce définie\n",
    "emptylibfr_espece = data[(data['LIBELLE FRANCAIS'].isna()) & ~(data['ESPECE'].isna())]\n",
    "print(\">>> nombre de libelle français vide ayant une espece non vide:\", len(emptylibfr_espece))"
   ]
  },
  {
   "cell_type": "code",
   "execution_count": 44,
   "metadata": {},
   "outputs": [
    {
     "name": "stdout",
     "output_type": "stream",
     "text": [
      ">>> (== 1) - espece : pyrifolia >>> Poirier à fruits\n",
      ">>> (== 1) - espece : cerasifera >>> Prunier à fleurs\n",
      ">>> (== 1) - espece : x subhirtella >>> Cerisier à fleurs\n",
      ">>> (== 1) - espece : x hillieri >>> Cerisier à fleurs\n",
      ">>> (== 1) - espece : floribunda >>> Pommier à fleurs\n",
      ">>> (== 1) - espece : baccata var. mandshurica >>> Pommier à fleurs\n",
      ">>> (== 1) - espece : padus >>> Cerisier à grappes\n",
      ">>> (== 1) - espece : torminalis >>> Alisier\n",
      ">>> (== 1) - espece : sinense >>> Troene\n",
      ">>> (== 1) - espece : maxima >>> Noisetier\n",
      ">>> (== 1) - espece : x robusta >>> Pommier à fleurs\n",
      "\n",
      ">>> OK :)\n",
      "\t>>> nombre de modifications effectuées: 32\n",
      "\t>>> nombre de données non modifiées : 85\n",
      "\t>>> nombre de libelle français vides ayant un genre non vide: 117\n"
     ]
    }
   ],
   "source": [
    "# nombre de modifications\n",
    "count_modif = 0\n",
    "count_non_modif = 0\n",
    "\n",
    "# pour chaque espece ayant un libelle fr vide\n",
    "for espece in emptylibfr_espece[\"ESPECE\"].unique():\n",
    "    \n",
    "    # liste des remplacents possibles pour cette espece\n",
    "    liste_remplacents = data[(data['ESPECE'] == espece)]['LIBELLE FRANCAIS'].dropna().unique()\n",
    "    \n",
    "    # s'il y a un seul remplacent on modifie le libelle fr de chaque index correspondant à cette espece\n",
    "    if (espece != 'n. sp.') & (len(liste_remplacents) == 1):\n",
    "        print(\">>> (== 1) - espece :\", espece, \">>>\",  liste_remplacents[0])\n",
    "        for index in emptylibfr_espece[emptylibfr_espece['ESPECE']==espece].index:\n",
    "            data.loc[index,'LIBELLE FRANCAIS'] = liste_remplacents[0]\n",
    "            count_modif +=1\n",
    "    \n",
    "    # s'il y a plusieurs remplacents, on ne fait rien\n",
    "    elif (espece != 'n. sp.') & (len(liste_remplacents) > 1):\n",
    "        #print(\">>> (> 1) - espece :\", espece, \">>>\",  liste_remplacents)\n",
    "        for index in emptylibfr_espece[emptylibfr_espece['ESPECE']==espece].index:\n",
    "            count_non_modif +=1\n",
    "        \n",
    "    # si l'espece n'a pas de correspondance ou si elle en a trop car trop générique (n. sp.), on ne fait rien\n",
    "    else:\n",
    "        #print(\">>> vide ou n. sp.\")\n",
    "        for index in emptylibfr_espece[emptylibfr_espece['ESPECE']==espece].index:\n",
    "            count_non_modif +=1\n",
    "            \n",
    "print()\n",
    "\n",
    "nbr_libfr_comp = nbr_libfr_comp + count_modif\n",
    "\n",
    "if count_modif+count_non_modif == len(emptylibfr_espece):\n",
    "    print('>>> OK :)')\n",
    "    print(\"\\t>>> nombre de modifications effectuées:\" , count_modif)\n",
    "    print(\"\\t>>> nombre de données non modifiées :\" , count_non_modif)\n",
    "    print(\"\\t>>> nombre de libelle français vides ayant un genre non vide:\", len(emptylibfr_espece))\n",
    "else:\n",
    "    print('>>> KO !!')\n",
    "    print(\"\\t>>> nombre de modifications effectuées:\" , count_modif)\n",
    "    print(\"\\t>>> nombre de données non modifiées :\" , count_non_modif)\n",
    "    print(\"\\>>> nombre de libelle français vides ayant un genre non vide:\", len(emptylibfr_espece))"
   ]
  },
  {
   "cell_type": "code",
   "execution_count": 45,
   "metadata": {},
   "outputs": [
    {
     "name": "stdout",
     "output_type": "stream",
     "text": [
      "nombre de libellés français vide 322\n"
     ]
    }
   ],
   "source": [
    "print(\"nombre de libellés français vide\", len(data[(data['LIBELLE FRANCAIS'].isna())]))   "
   ]
  },
  {
   "cell_type": "markdown",
   "metadata": {},
   "source": [
    ">> #### suppression des derniers LIBELLE FRANCAIS vides"
   ]
  },
  {
   "cell_type": "code",
   "execution_count": 46,
   "metadata": {},
   "outputs": [
    {
     "name": "stdout",
     "output_type": "stream",
     "text": [
      "AVANT SUPPR - nombre de LIBELLE FRANCAIS encore vides: 322\n",
      "APRES SUPPR - nombre de LIBELLE FRANCAIS encore vides: 0\n"
     ]
    }
   ],
   "source": [
    "nbr_libfr_suppr = len(data[(data['LIBELLE FRANCAIS'].isna())])\n",
    "\n",
    "print(\"AVANT SUPPR - nombre de LIBELLE FRANCAIS encore vides:\", len(data[(data['LIBELLE FRANCAIS'].isna())]))\n",
    "data = data.drop(data[(data['LIBELLE FRANCAIS'].isna())].index)\n",
    "print(\"APRES SUPPR - nombre de LIBELLE FRANCAIS encore vides:\", len(data[(data['LIBELLE FRANCAIS'].isna())]))"
   ]
  },
  {
   "cell_type": "markdown",
   "metadata": {},
   "source": [
    "> ### - Complétion de la colonne ESPECE"
   ]
  },
  {
   "cell_type": "code",
   "execution_count": 47,
   "metadata": {},
   "outputs": [
    {
     "name": "stdout",
     "output_type": "stream",
     "text": [
      "nombre de ESPECE vide 1850\n"
     ]
    }
   ],
   "source": [
    "print(\"nombre de ESPECE vide\", len(data[(data['ESPECE'].isna())]))"
   ]
  },
  {
   "cell_type": "markdown",
   "metadata": {},
   "source": [
    ">> #### complétion avec le GENRE"
   ]
  },
  {
   "cell_type": "code",
   "execution_count": 48,
   "metadata": {},
   "outputs": [
    {
     "name": "stdout",
     "output_type": "stream",
     "text": [
      ">>> nombre de ESPECE vide ayant un GENRE non vide: 1962\n"
     ]
    }
   ],
   "source": [
    "# toutes les ESPECEs vides qui ont un GENRE défini\n",
    "save = data_save\n",
    "emptyespece_genre = save[(save['ESPECE'].isna()) & ~(save['GENRE'] == 'Non spécifié') & ~(save['GENRE'].isna())]\n",
    "print(\">>> nombre de ESPECE vide ayant un GENRE non vide:\", len(emptyespece_genre))"
   ]
  },
  {
   "cell_type": "code",
   "execution_count": 49,
   "metadata": {},
   "outputs": [
    {
     "name": "stdout",
     "output_type": "stream",
     "text": [
      ">>> (== 1) - genre : Liriodendron >>> tulipifera\n",
      ">>> (== 1) - genre : x Chitalpa >>> tashkentensis\n",
      ">>> (== 1) - genre : Styrax >>> japonicus\n",
      ">>> (== 1) - genre : Platycladus >>> orientalis\n",
      ">>> (== 1) - genre : Cydonia >>> oblonga\n",
      ">>> (== 1) - genre : Parrotia >>> persica\n",
      "\n",
      ">>> OK :)\n",
      "\t>>> nombre de modifications effectuées: 8\n",
      "\t>>> nombre de données non modifiées : 1954\n",
      "\t>>> nombre de libelle français vides ayant un genre non vide: 1962\n"
     ]
    }
   ],
   "source": [
    "# nombre de modifications\n",
    "count_modif = 0\n",
    "count_non_modif = 0\n",
    "\n",
    "# pour chaque genre ayant un libelle fr vide\n",
    "for genre in emptyespece_genre[\"GENRE\"].unique():\n",
    "    \n",
    "    # liste des remplacents (non vides) possibles pour ce genre\n",
    "    liste_remplacents = save[(save['GENRE'] == genre)]['ESPECE'].dropna().unique()\n",
    "    \n",
    "    # s'il y a un seul remplacent on modifie le libelle fr de chaque index correspondant à ce genre\n",
    "    if (len(liste_remplacents) == 1):\n",
    "        print(\">>> (== 1) - genre :\", genre, \">>>\",  liste_remplacents[0])\n",
    "        for index in emptyespece_genre[emptyespece_genre['GENRE']==genre].index:\n",
    "            data.loc[index,'ESPECE'] = liste_remplacents[0]\n",
    "            count_modif +=1\n",
    "            \n",
    "    # s'il y a plusieurs remplacents, on ne fait rien\n",
    "    elif (len(liste_remplacents) > 1):\n",
    "        #print(\">>> (> 1) - genre :\", genre, \">>>\",  liste_remplacents)\n",
    "        for index in emptyespece_genre[emptyespece_genre['GENRE']==genre].index:\n",
    "            count_non_modif +=1\n",
    "    \n",
    "    # si l'espece n'a pas de correspondance ou si elle en a trop car trop générique (n. sp.), on ne fait rien\n",
    "    else:\n",
    "        #print(\">>> vide:\", liste_remplacents)\n",
    "        for index in emptyespece_genre[emptyespece_genre['GENRE']==genre].index:\n",
    "            count_non_modif +=1\n",
    "        \n",
    "print()\n",
    "\n",
    "nbr_espece_comp = count_modif\n",
    "\n",
    "if count_modif+count_non_modif == len(emptyespece_genre):\n",
    "    print('>>> OK :)')\n",
    "    print(\"\\t>>> nombre de modifications effectuées:\" , count_modif)\n",
    "    print(\"\\t>>> nombre de données non modifiées :\" , count_non_modif)\n",
    "    print(\"\\t>>> nombre de libelle français vides ayant un genre non vide:\", len(emptyespece_genre))\n",
    "else:\n",
    "    print('>>> KO !!')\n",
    "    print(\"\\t>>> nombre de modifications effectuées:\" , count_modif)\n",
    "    print(\"\\t>>> nombre de données non modifiées :\" , count_non_modif)\n",
    "    print(\"\\>>> nombre de libelle français vides ayant un genre non vide:\", len(emptyespece_genre))"
   ]
  },
  {
   "cell_type": "code",
   "execution_count": 50,
   "metadata": {},
   "outputs": [
    {
     "name": "stdout",
     "output_type": "stream",
     "text": [
      "nombre de ESPECE vide 1843\n"
     ]
    }
   ],
   "source": [
    "print(\"nombre de ESPECE vide\", len(data[(data['ESPECE'].isna())]))"
   ]
  },
  {
   "cell_type": "markdown",
   "metadata": {},
   "source": [
    ">> #### complétion avec le LIBELLE FRANCAIS"
   ]
  },
  {
   "cell_type": "code",
   "execution_count": 51,
   "metadata": {},
   "outputs": [
    {
     "name": "stdout",
     "output_type": "stream",
     "text": [
      ">>> nombre de ESPECE ayant un LIBELLE FRANCAIS non vide: 1843\n"
     ]
    }
   ],
   "source": [
    "# toutes les ESPECEs vides qui ont un LIBELLE FRANCAIS défini\n",
    "emptyespece_libfr = data[(data['ESPECE'].isna()) & ~(data['LIBELLE FRANCAIS'].isna())]\n",
    "print(\">>> nombre de ESPECE ayant un LIBELLE FRANCAIS non vide:\", len(emptyespece_libfr))"
   ]
  },
  {
   "cell_type": "code",
   "execution_count": 52,
   "metadata": {},
   "outputs": [
    {
     "name": "stdout",
     "output_type": "stream",
     "text": [
      "\n",
      ">>> OK :)\n",
      "\t>>> nombre de modifications effectuées: 0\n",
      "\t>>> nombre de données non modifiées : 1843\n",
      "\t>>> nombre de libelle français vides ayant un genre non vide: 1843\n"
     ]
    }
   ],
   "source": [
    "# nombre de modifications\n",
    "count_modif = 0\n",
    "count_non_modif = 0\n",
    "\n",
    "# pour chaque LIBELLE FRANCAIS ayant une ESPECE vide\n",
    "for libfr in emptyespece_libfr[\"LIBELLE FRANCAIS\"].unique():\n",
    "    \n",
    "    # liste des remplacents possibles pour ce LIBELLE FRANCAIS\n",
    "    liste_remplacents = data[(data['LIBELLE FRANCAIS'] == libfr)]['ESPECE'].dropna().unique()\n",
    "    \n",
    "    # s'il y a un seul remplacent on modifie le libelle fr de chaque index correspondant à cette espece\n",
    "    if (len(liste_remplacents) == 1):\n",
    "        print(\">>> (== 1) - libfr :\", libfr, \">>>\",  liste_remplacents[0])\n",
    "        for index in emptyespece_libfr[emptyespece_libfr['LIBELLE FRANCAIS']==libfr].index:\n",
    "            data.loc[index,'ESPECE'] = liste_remplacents[0]\n",
    "            count_modif +=1\n",
    "    \n",
    "    # s'il y a plusieurs remplacents, on ne fait rien\n",
    "    elif (len(liste_remplacents) > 1):\n",
    "        #print(\">>> (> 1) - libfr :\", libfr, \">>>\",  liste_remplacents)\n",
    "        for index in emptyespece_libfr[emptyespece_libfr['LIBELLE FRANCAIS']==libfr].index:\n",
    "            count_non_modif +=1\n",
    "        \n",
    "    # si le LIBELLE FRANCAIS n'a pas de correspondance, on ne fait rien\n",
    "    else:\n",
    "        #print(\">>> vide ou n. sp.\")\n",
    "        for index in emptyespece_libfr[emptyespece_libfr['LIBELLE FRANCAIS']==libfr].index:\n",
    "            count_non_modif +=1\n",
    "            \n",
    "print()\n",
    "\n",
    "nbr_espece_comp = nbr_espece_comp + count_modif\n",
    "\n",
    "if count_modif+count_non_modif == len(emptyespece_libfr):\n",
    "    print('>>> OK :)')\n",
    "    print(\"\\t>>> nombre de modifications effectuées:\" , count_modif)\n",
    "    print(\"\\t>>> nombre de données non modifiées :\" , count_non_modif)\n",
    "    print(\"\\t>>> nombre de libelle français vides ayant un genre non vide:\", len(emptyespece_libfr))\n",
    "else:\n",
    "    print('>>> KO !!')\n",
    "    print(\"\\t>>> nombre de modifications effectuées:\" , count_modif)\n",
    "    print(\"\\t>>> nombre de données non modifiées :\" , count_non_modif)\n",
    "    print(\"\\>>> nombre de libelle français vides ayant un genre non vide:\", len(emptyespece_libfr))"
   ]
  },
  {
   "cell_type": "code",
   "execution_count": 53,
   "metadata": {},
   "outputs": [
    {
     "name": "stdout",
     "output_type": "stream",
     "text": [
      "nombre de ESPECE vide 1843\n"
     ]
    }
   ],
   "source": [
    "print(\"nombre de ESPECE vide\", len(data[(data['ESPECE'].isna())]))   "
   ]
  },
  {
   "cell_type": "markdown",
   "metadata": {},
   "source": [
    "#### analyse des données ESPECE - pourquoi si peu de modifications ?"
   ]
  },
  {
   "cell_type": "code",
   "execution_count": 54,
   "metadata": {},
   "outputs": [
    {
     "name": "stdout",
     "output_type": "stream",
     "text": [
      ">>> nombre de libelle francais ayant une seule espece: 85 soit: 44.0 %\n",
      ">>> nombre de libelle francais ayant + de 1 espece: 107 soit: 56.00000000000001 %\n",
      ">>> nombre de libelle francais ayant + de 5 especes: 34 soit: 18.0 %\n",
      ">>> nombre de libelle francais ayant + de 10 especes: 17 soit: 9.0 %\n",
      ">>> nombre de libelle francais ayant + de 20 especes: 5 soit: 3.0 %\n",
      ">>> nombre de libelle francais ayant + de 50 especes: 0 soit: 0.0 %\n"
     ]
    }
   ],
   "source": [
    "sub_data = data[['LIBELLE FRANCAIS','ESPECE']]\n",
    "pivot = pd.pivot_table(sub_data, index=['LIBELLE FRANCAIS'], aggfunc=lambda x: len(x.unique()))\n",
    "\n",
    "print(\">>> nombre de libelle francais ayant une seule espece:\", \n",
    "      len(pivot[pivot['ESPECE'] == 1]),\n",
    "      \"soit:\",\n",
    "      round(len(pivot[pivot['ESPECE'] == 1])/len(pivot),2)*100,\n",
    "      \"%\"\n",
    "     )\n",
    "\n",
    "#\n",
    "\n",
    "print(\">>> nombre de libelle francais ayant + de 1 espece:\", \n",
    "      len(pivot[pivot['ESPECE'] > 1]),\n",
    "      \"soit:\",\n",
    "      round(len(pivot[pivot['ESPECE'] > 1])/len(pivot),2)*100,\n",
    "      \"%\"\n",
    "     )\n",
    "\n",
    "#\n",
    "\n",
    "print(\">>> nombre de libelle francais ayant + de 5 especes:\", \n",
    "      len(pivot[pivot['ESPECE'] > 5]),\n",
    "      \"soit:\",\n",
    "      round(len(pivot[pivot['ESPECE'] > 5])/len(pivot),2)*100,\n",
    "      \"%\"\n",
    "     )\n",
    "\n",
    "#\n",
    "\n",
    "print(\">>> nombre de libelle francais ayant + de 10 especes:\", \n",
    "      len(pivot[pivot['ESPECE'] > 10]),\n",
    "      \"soit:\",\n",
    "      round(len(pivot[pivot['ESPECE'] > 10])/len(pivot),2)*100,\n",
    "      \"%\"\n",
    "     )\n",
    "\n",
    "#\n",
    "\n",
    "print(\">>> nombre de libelle francais ayant + de 20 especes:\", \n",
    "      len(pivot[pivot['ESPECE'] > 20]),\n",
    "      \"soit:\",\n",
    "      round(len(pivot[pivot['ESPECE'] > 20])/len(pivot),2)*100,\n",
    "      \"%\"\n",
    "     )\n",
    "\n",
    "#\n",
    "\n",
    "print(\">>> nombre de libelle francais ayant + de 50 especes:\", \n",
    "      len(pivot[pivot['ESPECE'] > 50]),\n",
    "      \"soit:\",\n",
    "      round(len(pivot[pivot['ESPECE'] > 50])/len(pivot),2)*100,\n",
    "      \"%\"\n",
    "     )\n"
   ]
  },
  {
   "cell_type": "markdown",
   "metadata": {},
   "source": [
    "* Plus de la moitié des LIBELLE FRANCAIS ont plus de 1 espèces associées et 20% en ont plus de 5"
   ]
  },
  {
   "cell_type": "code",
   "execution_count": 55,
   "metadata": {},
   "outputs": [
    {
     "name": "stdout",
     "output_type": "stream",
     "text": [
      ">>> Bouleau\n",
      "pendula                      1465\n",
      "utilis                        462\n",
      "n. sp.                        216\n",
      "papyrifera                     72\n",
      "nigra                          65\n",
      "pubescens                      55\n",
      "albosinensis                   18\n",
      "populifolia                    18\n",
      "pendula var. pendula           11\n",
      "ermanii                         8\n",
      "maximowicziana                  5\n",
      "davurica                        4\n",
      "alleghaniensis                  3\n",
      "lenta                           3\n",
      "x caerulea                      2\n",
      "medwediewii                     2\n",
      "luminifera                      1\n",
      "delavayi subsp. potaninii       1\n",
      "forrestii                       1\n",
      "nana                            1\n",
      "platyphylla                     1\n",
      "Name: ESPECE, dtype: int64\n",
      "\n",
      ">>> Cerisier à fleurs\n",
      "serrulata        2424\n",
      "x subhirtella     418\n",
      "avium             320\n",
      "serrula           178\n",
      "maackii           126\n",
      "x schmittii       123\n",
      "x hillieri         70\n",
      "sargentii          68\n",
      "x yedoensis        39\n",
      "mahaleb            23\n",
      "x blireana         12\n",
      "nigra               4\n",
      "japonica            4\n",
      "mandshurica         3\n",
      "pendula             3\n",
      "incisa              3\n",
      "virginiana          3\n",
      "speciosa            2\n",
      "serotina            2\n",
      "x gondouinii        1\n",
      "glandulosa          1\n",
      "triloba             1\n",
      "rufa                1\n",
      "Name: ESPECE, dtype: int64\n",
      "\n",
      ">>> Chêne\n",
      "robur                           1241\n",
      "ilex                             813\n",
      "n. sp.                           700\n",
      "rubra                            640\n",
      "cerris                           359\n",
      "petraea                          115\n",
      "pubescens                         90\n",
      "frainetto                         72\n",
      "coccinea                          37\n",
      "palustris                         34\n",
      "suber                             28\n",
      "imbricaria                        27\n",
      "coccifera                         26\n",
      "phellos                           22\n",
      "castaneifolia                     21\n",
      "x turneri                         19\n",
      "macranthera                        9\n",
      "x hispanica                        7\n",
      "pyrenaica                          6\n",
      "acutissima                         5\n",
      "serrata                            4\n",
      "macrocarpa                         4\n",
      "x heterophylla                     4\n",
      "glauca                             3\n",
      "pontica                            3\n",
      "dentata                            3\n",
      "variabilis                         3\n",
      "faginea                            2\n",
      "bicolor                            2\n",
      "marilandica                        2\n",
      "nigra                              2\n",
      "augustinii                         1\n",
      "trojana                            1\n",
      "phillyreoides                      1\n",
      "canariensis                        1\n",
      "ilicifolia                         1\n",
      "suber subsp. Occidentalis          1\n",
      "rysophylla                         1\n",
      "alba                               1\n",
      "ithaburensis var. macrolepis       1\n",
      "lobata                             1\n",
      "muehlenbergii                      1\n",
      "x libanerris                       1\n",
      "x kewensis                         1\n",
      "falcata                            1\n",
      "mukorossi                          1\n",
      "Name: ESPECE, dtype: int64\n",
      "\n",
      ">>> Erable\n",
      "pseudoplatanus                 7296\n",
      "platanoides                    6395\n",
      "campestre                      1792\n",
      "negundo                         983\n",
      "saccharinum                     448\n",
      "n. sp.                          400\n",
      "monspessulanum                  354\n",
      "cappadocicum                    238\n",
      "rubrum                          215\n",
      "palmatum                        165\n",
      "freemanii                       133\n",
      "tataricum subsp. ginnala        118\n",
      "buergerianum                     89\n",
      "davidii                          71\n",
      "opalus                           59\n",
      "griseum                          27\n",
      "x zoeschense                     20\n",
      "rufinerve                        19\n",
      "japonicum                        16\n",
      "capillipes                       11\n",
      "saccharum                         9\n",
      "carpinifolium                     6\n",
      "negundo subsp. Californicum       5\n",
      "cissifolium                       3\n",
      "pensylvanicum                     3\n",
      "davidii subsp. grosseri           3\n",
      "heldreichii                       2\n",
      "hyrcanum                          2\n",
      "triflorum                         2\n",
      "diabolicum                        2\n",
      "circinatum                        1\n",
      "pictum                            1\n",
      "maximowiczianum                   1\n",
      "oliverianum                       1\n",
      "henryi                            1\n",
      "x conspicuum                      1\n",
      "macrophyllum                      1\n",
      "x coriaceum                       1\n",
      "sieboldianum                      1\n",
      "sempervirens                      1\n",
      "x durettii                        1\n",
      "Name: ESPECE, dtype: int64\n",
      "\n",
      ">>> Pin\n",
      "nigra                      2311\n",
      "nigra subsp. nigra         1199\n",
      "sylvestris                  642\n",
      "nigra subsp. laricio        223\n",
      "wallichiana                 139\n",
      "n. sp.                      112\n",
      "pinea                       108\n",
      "mugo                         50\n",
      "strobus                      44\n",
      "pinaster                     27\n",
      "nigra subsp. salzmannii      24\n",
      "parviflora                    9\n",
      "bungeana                      7\n",
      "halepensis                    6\n",
      "banksiana                     5\n",
      "cembra                        5\n",
      "radiata                       3\n",
      "coulteri                      3\n",
      "contorta var. latifolia       2\n",
      "monophylla                    2\n",
      "densiflora                    2\n",
      "sabiniana                     2\n",
      "rigida                        2\n",
      "heldreichii                   2\n",
      "ponderosa                     1\n",
      "verticillata                  1\n",
      "jeffreyi                      1\n",
      "Name: ESPECE, dtype: int64\n",
      "\n"
     ]
    }
   ],
   "source": [
    "# détail quand il y a plus d'une espece\n",
    "for index in pivot[pivot['ESPECE'] > 20].index:\n",
    "    print(\">>>\", index)\n",
    "    print(data[data['LIBELLE FRANCAIS'] == index]['ESPECE'].value_counts())\n",
    "    print()\n",
    "                 "
   ]
  },
  {
   "cell_type": "markdown",
   "metadata": {},
   "source": [
    "* On remarque que pour une LIBELLE FRANCAIS donné, il y a toujours une ESPECE qui ressort nettement\n",
    "* Nous pouvons utiliser cette ESPECE comme référence pour un LIBELLE FRANCAIS donné\n",
    "* On enlève l'espèce générique 'n. sp.'"
   ]
  },
  {
   "cell_type": "markdown",
   "metadata": {},
   "source": [
    "#### complétion des données ESPECE"
   ]
  },
  {
   "cell_type": "code",
   "execution_count": 56,
   "metadata": {
    "scrolled": true
   },
   "outputs": [
    {
     "name": "stdout",
     "output_type": "stream",
     "text": [
      ">>> (> 1) - libfr : Orme >>> minor\n",
      ">>> (> 1) - libfr : Cerisier à fleurs >>> serrulata\n",
      ">>> (> 1) - libfr : Chêne >>> robur\n",
      ">>> (> 1) - libfr : Pommier à fleurs >>> tschonoskii\n",
      ">>> (> 1) - libfr : Amélanchier >>> lamarckii\n",
      ">>> (> 1) - libfr : Erable >>> pseudoplatanus\n",
      ">>> (> 1) - libfr : Peuplier >>> nigra\n",
      ">>> (> 1) - libfr : Tilleul >>> tomentosa\n",
      ">>> (> 1) - libfr : Eucalyptus >>> gunnii\n",
      ">>> (> 1) - libfr : Micocoulier >>> australis\n",
      ">>> (> 1) - libfr : Paulownia >>> tomentosa\n",
      ">>> (> 1) - libfr : Platane >>> x hispanica\n",
      ">>> (> 1) - libfr : Sophora >>> japonica\n",
      ">>> (> 1) - libfr : Cornouiller >>> mas\n",
      ">>> (> 1) - libfr : Cedrele >>> sinensis\n",
      ">>> (> 1) - libfr : If >>> baccata\n",
      ">>> (> 1) - libfr : Pin >>> nigra\n",
      ">>> (> 1) - libfr : Palmier >>> fortunei\n",
      ">>> (> 1) - libfr : Marronnier >>> hippocastanum\n",
      ">>> (> 1) - libfr : Pommier à fruits >>> domestica\n",
      ">>> (> 1) - libfr : Pterocarya >>> fraxinifolia\n",
      ">>> (> 1) - libfr : Mûrier >>> alba\n",
      ">>> (> 1) - libfr : Charme >>> betulus\n",
      ">>> (> 1) - libfr : Aulne >>> cordata\n",
      ">>> (> 1) - libfr : Thuya >>> plicata\n",
      ">>> (> 1) - libfr : Poivrier >>> simulans\n",
      ">>> (> 1) - libfr : Savonnier >>> paniculata\n",
      ">>> (> 1) - libfr : Copalme >>> styraciflua\n",
      ">>> (> 1) - libfr : Sureau >>> nigra\n",
      ">>> (> 1) - libfr : Fevier >>> triacanthos\n",
      ">>> (> 1) - libfr : Noisetier >>> avellana\n",
      ">>> (> 1) - libfr : Ailante >>> altissima\n",
      ">>> (> 1) - libfr : Robinier >>> pseudoacacia\n",
      ">>> (> 1) - libfr : Cèdre >>> libani\n",
      ">>> (> 1) - libfr : Clerodendron >>> trichotomum\n",
      ">>> (> 1) - libfr : Magnolia >>> grandiflora\n",
      ">>> (> 1) - libfr : Filaire >>> angustifolia\n",
      ">>> (> 1) - libfr : Houx >>> aquifolium\n",
      ">>> (> 1) - libfr : Bouleau >>> pendula\n",
      ">>> (> 1) - libfr : Olivier >>> europaea\n",
      ">>> (> 1) - libfr : Châtaignier >>> sativa\n",
      ">>> (> 1) - libfr : Catalpa >>> bignonioides\n",
      ">>> (> 1) - libfr : Céphalotaxe >>> harringtonii\n",
      ">>> (> 1) - libfr : Mimosa >>> dealbata\n",
      ">>> (> 1) - libfr : Faux-cyprès >>> lawsoniana\n",
      ">>> (> 1) - libfr : Arbre à miel >>> daniellii\n",
      ">>> (> 1) - libfr : Hêtre >>> sylvatica\n",
      ">>> (> 1) - libfr : Saule >>> alba\n",
      ">>> (> 1) - libfr : Cyprès >>> leylandii\n",
      ">>> (> 1) - libfr : Buis >>> sempervirens\n",
      "\n",
      ">>> OK :)\n",
      "\t>>> nombre de modifications effectuées: 1842\n",
      "\t>>> nombre de données non modifiées : 1\n",
      "\t>>> nombre de libelle français vides ayant un genre non vide: 1843\n"
     ]
    }
   ],
   "source": [
    "# nombre de modifications\n",
    "count_modif = 0\n",
    "count_non_modif = 0\n",
    "\n",
    "# pour chaque LIBELLE FRANCAIS ayant une ESPECE vide\n",
    "for libfr in emptyespece_libfr[\"LIBELLE FRANCAIS\"].unique():\n",
    "    \n",
    "    # liste des remplacents possibles pour ce LIBELLE FRANCAIS\n",
    "    liste_remplacents = data[(data['LIBELLE FRANCAIS'] == libfr)]['ESPECE'].dropna().unique()\n",
    "    liste_remplacents_count = data[(data['LIBELLE FRANCAIS'] == libfr)]['ESPECE'].dropna().value_counts()\n",
    "    \n",
    "    # s'il y a un seul remplacent on modifie le libelle fr de chaque index correspondant à cette espece\n",
    "    if (len(liste_remplacents) == 1):\n",
    "        #print(\">>> (== 1) - libfr :\", libfr, \">>>\",  liste_remplacents[0])\n",
    "        for index in emptyespece_libfr[emptyespece_libfr['LIBELLE FRANCAIS']==libfr].index:\n",
    "            data.loc[index,'ESPECE'] = liste_remplacents[0]\n",
    "            count_modif +=1\n",
    "    \n",
    "    # s'il y a plusieurs remplacents, on prend celui ayant le plus d'occurences hors n. sp.\n",
    "    elif (len(liste_remplacents) > 1):\n",
    "        print(\">>> (> 1) - libfr :\", libfr, \">>>\",  liste_remplacents_count[liste_remplacents_count.index != 'n. sp.'].idxmax())\n",
    "        for index in emptyespece_libfr[emptyespece_libfr['LIBELLE FRANCAIS']==libfr].index:\n",
    "            data.loc[index,'ESPECE'] = liste_remplacents_count[liste_remplacents_count.index != 'n. sp.'].idxmax()\n",
    "            count_modif +=1\n",
    "            \n",
    "    # si le LIBELLE FRANCAIS n'a pas de correspondance, on ne fait rien\n",
    "    else:\n",
    "        #print(\">>> vide ou n. sp.\")\n",
    "        for index in emptyespece_libfr[emptyespece_libfr['LIBELLE FRANCAIS']==libfr].index:\n",
    "            count_non_modif +=1\n",
    "\n",
    "print()\n",
    "\n",
    "nbr_espece_comp = nbr_espece_comp + count_modif\n",
    "\n",
    "if count_modif+count_non_modif == len(emptyespece_libfr):\n",
    "    print('>>> OK :)')\n",
    "    print(\"\\t>>> nombre de modifications effectuées:\" , count_modif)\n",
    "    print(\"\\t>>> nombre de données non modifiées :\" , count_non_modif)\n",
    "    print(\"\\t>>> nombre de libelle français vides ayant un genre non vide:\", len(emptyespece_libfr))\n",
    "else:\n",
    "    print('>>> KO !!')\n",
    "    print(\"\\t>>> nombre de modifications effectuées:\" , count_modif)\n",
    "    print(\"\\t>>> nombre de données non modifiées :\" , count_non_modif)\n",
    "    print(\"\\>>> nombre de libelle français vides ayant un genre non vide:\", len(emptyespece_libfr))"
   ]
  },
  {
   "cell_type": "code",
   "execution_count": 57,
   "metadata": {},
   "outputs": [
    {
     "name": "stdout",
     "output_type": "stream",
     "text": [
      "nombre de ESPECE vide 1\n"
     ]
    }
   ],
   "source": [
    "print(\"nombre de ESPECE vide\", len(data[(data['ESPECE'].isna())]))   "
   ]
  },
  {
   "cell_type": "markdown",
   "metadata": {},
   "source": [
    ">> #### suppression des dernières ESPECEs vides"
   ]
  },
  {
   "cell_type": "code",
   "execution_count": 58,
   "metadata": {
    "scrolled": true
   },
   "outputs": [
    {
     "name": "stdout",
     "output_type": "stream",
     "text": [
      "AVANT SUPPR - nombre de ESPECEs encore vides: 1\n",
      "APRES SUPPR - nombre de ESPECEs encore vides: 0\n"
     ]
    }
   ],
   "source": [
    "nbr_espece_suppr = len(data[(data['ESPECE'].isna())])\n",
    "\n",
    "print(\"AVANT SUPPR - nombre de ESPECEs encore vides:\", len(data[(data['ESPECE'].isna())]))\n",
    "data = data.drop(data[(data['ESPECE'].isna())].index)\n",
    "print(\"APRES SUPPR - nombre de ESPECEs encore vides:\", len(data[(data['ESPECE'].isna())]))"
   ]
  },
  {
   "cell_type": "markdown",
   "metadata": {},
   "source": [
    "> ### - Remplacer les valeurs égales à 0 pour CIRCONFERENCE (cm) et HAUTEUR (m)"
   ]
  },
  {
   "cell_type": "markdown",
   "metadata": {},
   "source": [
    "#### Analyse des circonférences et hauteurs égales à 0"
   ]
  },
  {
   "cell_type": "code",
   "execution_count": 59,
   "metadata": {
    "scrolled": true
   },
   "outputs": [
    {
     "name": "stdout",
     "output_type": "stream",
     "text": [
      ">>> nombre de circonférences égales à 0\n",
      "False    181086\n",
      "True      22982\n",
      "Name: CIRCONFERENCE (cm), dtype: int64\n",
      "\n",
      ">>> soit : 11.26 %\n"
     ]
    }
   ],
   "source": [
    "# nombre de circonférences égales à 0\n",
    "nbr_zero = (data['CIRCONFERENCE (cm)'] == 0).value_counts()\n",
    "print('>>> nombre de circonférences égales à 0')\n",
    "print(nbr_zero)\n",
    "\n",
    "print()\n",
    "\n",
    "print('>>> soit :',  round(nbr_zero[True]/len(data)*100,2), \"%\")"
   ]
  },
  {
   "cell_type": "code",
   "execution_count": 60,
   "metadata": {},
   "outputs": [
    {
     "name": "stdout",
     "output_type": "stream",
     "text": [
      ">>> nombre de hauteurs égales à 0\n",
      "False    172304\n",
      "True      31764\n",
      "Name: HAUTEUR (m), dtype: int64\n",
      "\n",
      ">>> soit : 15.57 %\n"
     ]
    }
   ],
   "source": [
    "# nombre de hauteurs égales à 0\n",
    "nbr_zero = (data['HAUTEUR (m)'] == 0).value_counts()\n",
    "print('>>> nombre de hauteurs égales à 0')\n",
    "print(nbr_zero)\n",
    "\n",
    "print()\n",
    "\n",
    "print('>>> soit :',  round(nbr_zero[True]/len(data)*100,2), \"%\")"
   ]
  },
  {
   "cell_type": "markdown",
   "metadata": {},
   "source": [
    "* Nous ne pouvons pas simplement supprimer les données car il y a trop de données dans le dataset égales à 0"
   ]
  },
  {
   "cell_type": "code",
   "execution_count": 61,
   "metadata": {},
   "outputs": [
    {
     "name": "stdout",
     "output_type": "stream",
     "text": [
      ">>> nombre de lignes ayant CIRCONFERENCE = 0 et HAUTEUR = 0: 22709\n",
      ">>> soit: 98.81 % des lignes ayant CIRCONFERENCE = 0\n",
      ">>> soit: 71.49 % des lignes ayant HAUTEUR = 0\n"
     ]
    }
   ],
   "source": [
    "# nombre de lignes ayant CIRCONFERENCE = 0 et HAUTEUR = 0\n",
    "nbr_double_zero = len(data[(data['CIRCONFERENCE (cm)'] == 0) & (data['HAUTEUR (m)'] == 0)])\n",
    "print('>>> nombre de lignes ayant CIRCONFERENCE = 0 et HAUTEUR = 0:',nbr_double_zero)\n",
    "\n",
    "print(\">>> soit:\", \n",
    "        round(\n",
    "            nbr_double_zero\n",
    "            /\n",
    "            len(data[(data['CIRCONFERENCE (cm)'] == 0)])*100\n",
    "        ,2), \"% des lignes ayant CIRCONFERENCE = 0\")\n",
    "\n",
    "print(\">>> soit:\", \n",
    "        round(\n",
    "            nbr_double_zero\n",
    "            /\n",
    "            len(data[(data['HAUTEUR (m)'] == 0)])*100\n",
    "        ,2), \"% des lignes ayant HAUTEUR = 0\")"
   ]
  },
  {
   "cell_type": "markdown",
   "metadata": {},
   "source": [
    "* Pour la CIRCONFERENCE nous ne pouvons pas utiliser la HAUTEUR dans 99% des cas\n",
    "* En revanche, pour la HAUTEUR nous pourrions utiliser la CIRCONFERENCE dans 28% des cas\n",
    "* Nous pouvons utiliser d'autres données pour établir une corrélation entre HAUTEUR & CIRCONFERENCE, telles que:\n",
    "  * STADE DE DEVELOPPEMENT\n",
    "  * LIBELLE FRANCAIS / ESPECE "
   ]
  },
  {
   "cell_type": "code",
   "execution_count": 62,
   "metadata": {},
   "outputs": [
    {
     "name": "stdout",
     "output_type": "stream",
     "text": [
      ">>> nombre de lignes ayant CIRCONFERENCE = 0 et HAUTEUR = 0 et STADE DE DEVELOPPEMENT vide: 22406\n",
      ">>> soit: 98.67 %\n"
     ]
    }
   ],
   "source": [
    "# nombre de STADE DE DEVELOPPEMENT vides quand CIRCONFERENCE = 0 et HAUTEUR = 0\n",
    "temp = data[\n",
    "            (data['CIRCONFERENCE (cm)'] == 0) &\n",
    "            (data['HAUTEUR (m)'] == 0) &\n",
    "            (data['STADE DE DEVELOPPEMENT'].isna())\n",
    "           ]\n",
    "\n",
    "print('>>> nombre de lignes ayant CIRCONFERENCE = 0 et HAUTEUR = 0 et STADE DE DEVELOPPEMENT vide:', len(temp))\n",
    "\n",
    "print(\">>> soit:\", \n",
    "        round(\n",
    "            len(temp)\n",
    "            /\n",
    "            len(data[(data['CIRCONFERENCE (cm)'] == 0) & (data['HAUTEUR (m)'] == 0)])*100\n",
    "        ,2), \"%\")"
   ]
  },
  {
   "cell_type": "markdown",
   "metadata": {},
   "source": [
    "* Le stade de développement ne peut pas être utilisé pour déduire la circonférence ou la hauteur\n",
    "  * cette donnée n'est pas renseigné quand CIRCONFERENCE = 0 et HAUTEUR = 0 (ce qui semble logique)\n",
    "* Reste le LIBELLE FRANCAIS et l'ESPECE"
   ]
  },
  {
   "cell_type": "code",
   "execution_count": 63,
   "metadata": {},
   "outputs": [
    {
     "name": "stdout",
     "output_type": "stream",
     "text": [
      ">>> nombre de lignes ayant CIRCONFERENCE = 0 et HAUTEUR = 0 et LIBELLE FRANCAIS vide: 0\n",
      ">>> soit: 0.0 %\n"
     ]
    }
   ],
   "source": [
    "# nombre de LIBELLE FRANCAIS vides quand CIRCONFERENCE = 0 et HAUTEUR = 0\n",
    "temp = data[\n",
    "            (data['CIRCONFERENCE (cm)'] == 0) &\n",
    "            (data['HAUTEUR (m)'] == 0) &\n",
    "            (data['LIBELLE FRANCAIS'].isna())\n",
    "           ]\n",
    "\n",
    "print('>>> nombre de lignes ayant CIRCONFERENCE = 0 et HAUTEUR = 0 et LIBELLE FRANCAIS vide:', len(temp))\n",
    "\n",
    "print(\">>> soit:\", \n",
    "        round(\n",
    "            len(temp)\n",
    "            /\n",
    "            len(data[(data['CIRCONFERENCE (cm)'] == 0) & (data['HAUTEUR (m)'] == 0)])*100\n",
    "        ,2), \"%\")"
   ]
  },
  {
   "cell_type": "code",
   "execution_count": 64,
   "metadata": {},
   "outputs": [
    {
     "name": "stdout",
     "output_type": "stream",
     "text": [
      ">>> nombre de lignes ayant CIRCONFERENCE = 0 et HAUTEUR = 0 et ESPECE vide: 0\n",
      ">>> soit: 0.0 %\n"
     ]
    }
   ],
   "source": [
    "# nombre de ESPECE vides quand CIRCONFERENCE = 0 et HAUTEUR = 0\n",
    "temp = data[\n",
    "            (data['CIRCONFERENCE (cm)'] == 0) &\n",
    "            (data['HAUTEUR (m)'] == 0) &\n",
    "            (data['ESPECE'].isna())\n",
    "           ]\n",
    "\n",
    "print('>>> nombre de lignes ayant CIRCONFERENCE = 0 et HAUTEUR = 0 et ESPECE vide:', len(temp))\n",
    "\n",
    "print(\">>> soit:\", \n",
    "        round(\n",
    "            len(temp)\n",
    "            /\n",
    "            len(data[(data['CIRCONFERENCE (cm)'] == 0) & (data['HAUTEUR (m)'] == 0)])*100\n",
    "        ,2), \"%\")"
   ]
  },
  {
   "cell_type": "markdown",
   "metadata": {},
   "source": [
    "* le LIBELLE FRANCAIS en conjonction avec l'ESPECE peuvent être utilisés"
   ]
  },
  {
   "cell_type": "markdown",
   "metadata": {},
   "source": [
    "#### Remplacement grâce aux LIBELLE FRANCAIS et ESPECE"
   ]
  },
  {
   "cell_type": "code",
   "execution_count": 65,
   "metadata": {},
   "outputs": [
    {
     "name": "stdout",
     "output_type": "stream",
     "text": [
      "172030\n"
     ]
    },
    {
     "data": {
      "text/html": [
       "<div>\n",
       "<style scoped>\n",
       "    .dataframe tbody tr th:only-of-type {\n",
       "        vertical-align: middle;\n",
       "    }\n",
       "\n",
       "    .dataframe tbody tr th {\n",
       "        vertical-align: top;\n",
       "    }\n",
       "\n",
       "    .dataframe thead th {\n",
       "        text-align: right;\n",
       "    }\n",
       "</style>\n",
       "<table border=\"1\" class=\"dataframe\">\n",
       "  <thead>\n",
       "    <tr style=\"text-align: right;\">\n",
       "      <th></th>\n",
       "      <th>LIBELLE FRANCAIS</th>\n",
       "      <th>ESPECE</th>\n",
       "      <th>CIRCONFERENCE (cm)</th>\n",
       "      <th>HAUTEUR (m)</th>\n",
       "    </tr>\n",
       "  </thead>\n",
       "  <tbody>\n",
       "    <tr>\n",
       "      <th>0</th>\n",
       "      <td>Marronnier</td>\n",
       "      <td>x carnea</td>\n",
       "      <td>45.0</td>\n",
       "      <td>6.0</td>\n",
       "    </tr>\n",
       "    <tr>\n",
       "      <th>1</th>\n",
       "      <td>Frêne</td>\n",
       "      <td>excelsior</td>\n",
       "      <td>115.0</td>\n",
       "      <td>10.0</td>\n",
       "    </tr>\n",
       "    <tr>\n",
       "      <th>2</th>\n",
       "      <td>Chêne</td>\n",
       "      <td>rubra</td>\n",
       "      <td>60.0</td>\n",
       "      <td>10.0</td>\n",
       "    </tr>\n",
       "    <tr>\n",
       "      <th>4</th>\n",
       "      <td>Platane</td>\n",
       "      <td>x hispanica</td>\n",
       "      <td>180.0</td>\n",
       "      <td>18.0</td>\n",
       "    </tr>\n",
       "    <tr>\n",
       "      <th>5</th>\n",
       "      <td>Noisetier de Byzance</td>\n",
       "      <td>colurna</td>\n",
       "      <td>140.0</td>\n",
       "      <td>10.0</td>\n",
       "    </tr>\n",
       "  </tbody>\n",
       "</table>\n",
       "</div>"
      ],
      "text/plain": [
       "       LIBELLE FRANCAIS       ESPECE  CIRCONFERENCE (cm)  HAUTEUR (m)\n",
       "0            Marronnier     x carnea                45.0          6.0\n",
       "1                 Frêne    excelsior               115.0         10.0\n",
       "2                 Chêne        rubra                60.0         10.0\n",
       "4               Platane  x hispanica               180.0         18.0\n",
       "5  Noisetier de Byzance      colurna               140.0         10.0"
      ]
     },
     "execution_count": 65,
     "metadata": {},
     "output_type": "execute_result"
    }
   ],
   "source": [
    "# liste des hauteurs et circonférences non nulles et des libelles francais\n",
    "sub_data = data[\n",
    "    ~(data['CIRCONFERENCE (cm)'] == 0) &\n",
    "    ~(data['HAUTEUR (m)'] == 0) &\n",
    "    ~(data['ESPECE'].isna()) &\n",
    "    ~(data['LIBELLE FRANCAIS'].isna())\n",
    "][['LIBELLE FRANCAIS', 'ESPECE', 'CIRCONFERENCE (cm)', 'HAUTEUR (m)']]\n",
    "\n",
    "print(len(sub_data))\n",
    "sub_data.head(5)"
   ]
  },
  {
   "cell_type": "code",
   "execution_count": 66,
   "metadata": {},
   "outputs": [
    {
     "data": {
      "text/html": [
       "<div>\n",
       "<style scoped>\n",
       "    .dataframe tbody tr th:only-of-type {\n",
       "        vertical-align: middle;\n",
       "    }\n",
       "\n",
       "    .dataframe tbody tr th {\n",
       "        vertical-align: top;\n",
       "    }\n",
       "\n",
       "    .dataframe thead th {\n",
       "        text-align: right;\n",
       "    }\n",
       "</style>\n",
       "<table border=\"1\" class=\"dataframe\">\n",
       "  <thead>\n",
       "    <tr style=\"text-align: right;\">\n",
       "      <th></th>\n",
       "      <th></th>\n",
       "      <th>CIRCONFERENCE (cm)</th>\n",
       "      <th>HAUTEUR (m)</th>\n",
       "    </tr>\n",
       "    <tr>\n",
       "      <th>LIBELLE FRANCAIS</th>\n",
       "      <th>ESPECE</th>\n",
       "      <th></th>\n",
       "      <th></th>\n",
       "    </tr>\n",
       "  </thead>\n",
       "  <tbody>\n",
       "    <tr>\n",
       "      <th rowspan=\"2\" valign=\"top\">Abelia</th>\n",
       "      <th>n. sp.</th>\n",
       "      <td>20.000000</td>\n",
       "      <td>5.000000</td>\n",
       "    </tr>\n",
       "    <tr>\n",
       "      <th>triflora</th>\n",
       "      <td>75.000000</td>\n",
       "      <td>6.000000</td>\n",
       "    </tr>\n",
       "    <tr>\n",
       "      <th>Abricotier</th>\n",
       "      <th>armeniaca</th>\n",
       "      <td>15.708333</td>\n",
       "      <td>2.520833</td>\n",
       "    </tr>\n",
       "    <tr>\n",
       "      <th>Abricotier fruit</th>\n",
       "      <th>armeniaca</th>\n",
       "      <td>10.000000</td>\n",
       "      <td>2.000000</td>\n",
       "    </tr>\n",
       "    <tr>\n",
       "      <th>Ailante</th>\n",
       "      <th>altissima</th>\n",
       "      <td>103.719118</td>\n",
       "      <td>10.797059</td>\n",
       "    </tr>\n",
       "    <tr>\n",
       "      <th>...</th>\n",
       "      <th>...</th>\n",
       "      <td>...</td>\n",
       "      <td>...</td>\n",
       "    </tr>\n",
       "    <tr>\n",
       "      <th rowspan=\"2\" valign=\"top\">Viorne</th>\n",
       "      <th>odoratissimum</th>\n",
       "      <td>10.000000</td>\n",
       "      <td>1.000000</td>\n",
       "    </tr>\n",
       "    <tr>\n",
       "      <th>tinus</th>\n",
       "      <td>30.000000</td>\n",
       "      <td>5.000000</td>\n",
       "    </tr>\n",
       "    <tr>\n",
       "      <th rowspan=\"3\" valign=\"top\">Virgilier</th>\n",
       "      <th>kentukea</th>\n",
       "      <td>57.480000</td>\n",
       "      <td>5.320000</td>\n",
       "    </tr>\n",
       "    <tr>\n",
       "      <th>n. sp.</th>\n",
       "      <td>95.000000</td>\n",
       "      <td>5.000000</td>\n",
       "    </tr>\n",
       "    <tr>\n",
       "      <th>sinensis</th>\n",
       "      <td>55.250000</td>\n",
       "      <td>5.625000</td>\n",
       "    </tr>\n",
       "  </tbody>\n",
       "</table>\n",
       "<p>595 rows × 2 columns</p>\n",
       "</div>"
      ],
      "text/plain": [
       "                                CIRCONFERENCE (cm)  HAUTEUR (m)\n",
       "LIBELLE FRANCAIS ESPECE                                        \n",
       "Abelia           n. sp.                  20.000000     5.000000\n",
       "                 triflora                75.000000     6.000000\n",
       "Abricotier       armeniaca               15.708333     2.520833\n",
       "Abricotier fruit armeniaca               10.000000     2.000000\n",
       "Ailante          altissima              103.719118    10.797059\n",
       "...                                            ...          ...\n",
       "Viorne           odoratissimum           10.000000     1.000000\n",
       "                 tinus                   30.000000     5.000000\n",
       "Virgilier        kentukea                57.480000     5.320000\n",
       "                 n. sp.                  95.000000     5.000000\n",
       "                 sinensis                55.250000     5.625000\n",
       "\n",
       "[595 rows x 2 columns]"
      ]
     },
     "execution_count": 66,
     "metadata": {},
     "output_type": "execute_result"
    }
   ],
   "source": [
    "# la moyenne des hauteurs et circonférences par couple de LIBELLE FRANCAIS / ESPECE\n",
    "pivot = pd.pivot_table(sub_data, index=['LIBELLE FRANCAIS', 'ESPECE'], aggfunc='mean')\n",
    "\n",
    "pivot"
   ]
  },
  {
   "cell_type": "code",
   "execution_count": 67,
   "metadata": {},
   "outputs": [
    {
     "name": "stdout",
     "output_type": "stream",
     "text": [
      ">>> nombre de modifications : 22430\n"
     ]
    }
   ],
   "source": [
    "# nombre de modifications \n",
    "count_modif = 0\n",
    "\n",
    "# pour chaque couple libelle francais et espece\n",
    "for lib_fr, espece in pivot.index:\n",
    "    \n",
    "    # on récupère tous les couples ayant CIRCONFERENCE = 0 et HAUTEUR = 0\n",
    "    temp = data[\n",
    "            (data['LIBELLE FRANCAIS'] == lib_fr) & \n",
    "            (data['ESPECE'] == espece) & \n",
    "            (data['CIRCONFERENCE (cm)'] == 0) &\n",
    "            (data['HAUTEUR (m)'] == 0)\n",
    "           ]\n",
    "\n",
    "    # on modifie chaque index de ce couple par la moyenne des CIRCONFERENCE et HAUTEUR correspondante à ce couple\n",
    "    if len(temp) !=0:\n",
    "        data.loc[temp.index, 'CIRCONFERENCE (cm)'] = pivot.loc[lib_fr, espece]['CIRCONFERENCE (cm)']\n",
    "        data.loc[temp.index, 'HAUTEUR (m)'] = pivot.loc[lib_fr,espece]['HAUTEUR (m)']\n",
    "        count_modif = count_modif + len(temp)\n",
    "        \n",
    "nbr_circ_zero_comp = count_modif\n",
    "nbr_haut_zero_comp = count_modif\n",
    "print(\">>> nombre de modifications :\", count_modif)"
   ]
  },
  {
   "cell_type": "code",
   "execution_count": 68,
   "metadata": {
    "scrolled": true
   },
   "outputs": [
    {
     "name": "stdout",
     "output_type": "stream",
     "text": [
      ">>> nombre de circonférences égales à 0\n",
      "False    203516\n",
      "True        552\n",
      "Name: CIRCONFERENCE (cm), dtype: int64\n",
      "\n",
      ">>> soit : 0.27 %\n"
     ]
    }
   ],
   "source": [
    "# nombre de circonférences égales à 0\n",
    "nbr_zero = (data['CIRCONFERENCE (cm)'] == 0).value_counts()\n",
    "print('>>> nombre de circonférences égales à 0')\n",
    "print(nbr_zero)\n",
    "\n",
    "print()\n",
    "\n",
    "print('>>> soit :',  round(nbr_zero[True]/len(data)*100,2), \"%\")"
   ]
  },
  {
   "cell_type": "code",
   "execution_count": 69,
   "metadata": {},
   "outputs": [
    {
     "name": "stdout",
     "output_type": "stream",
     "text": [
      ">>> nombre de données: 203516\n"
     ]
    }
   ],
   "source": [
    "# suppression des circonférences égales à 0 restantes\n",
    "nbr_circ_zero_suppr = len(data[data['CIRCONFERENCE (cm)'] == 0])\n",
    "\n",
    "data = data.drop(data[data['CIRCONFERENCE (cm)'] == 0].index)\n",
    "\n",
    "print(\">>> nombre de données:\", len(data))"
   ]
  },
  {
   "cell_type": "code",
   "execution_count": 70,
   "metadata": {},
   "outputs": [
    {
     "data": {
      "text/plain": [
       "<matplotlib.axes._subplots.AxesSubplot at 0x27d026a2e80>"
      ]
     },
     "execution_count": 70,
     "metadata": {},
     "output_type": "execute_result"
    },
    {
     "data": {
      "image/png": "[encoded data removed]",
      "text/plain": [
       "<Figure size 432x288 with 1 Axes>"
      ]
     },
     "metadata": {
      "needs_background": "light"
     },
     "output_type": "display_data"
    }
   ],
   "source": [
    "sns.distplot(data['CIRCONFERENCE (cm)'])"
   ]
  },
  {
   "cell_type": "code",
   "execution_count": 71,
   "metadata": {},
   "outputs": [
    {
     "name": "stdout",
     "output_type": "stream",
     "text": [
      ">>> nombre de hauteurs égales à 0\n",
      "False    194461\n",
      "True       9055\n",
      "Name: HAUTEUR (m), dtype: int64\n",
      "\n",
      ">>> soit : 4.45 %\n"
     ]
    }
   ],
   "source": [
    "# nombre de hauteurs égales à 0\n",
    "nbr_zero = (data['HAUTEUR (m)'] == 0).value_counts()\n",
    "print('>>> nombre de hauteurs égales à 0')\n",
    "print(nbr_zero)\n",
    "\n",
    "print()\n",
    "\n",
    "nbr_haut_zero_comp = nbr_haut_zero_comp + len(data[data['HAUTEUR (m)']==0])\n",
    "\n",
    "print('>>> soit :',  round(nbr_zero[True]/len(data)*100,2), \"%\")"
   ]
  },
  {
   "cell_type": "markdown",
   "metadata": {},
   "source": [
    "* Il reste ~9k HAUTEURS à modifier, ce sont celles dont la CIRCONFERENCE n'étaient pas égales à 0"
   ]
  },
  {
   "cell_type": "markdown",
   "metadata": {},
   "source": [
    "#### Remplacement de manière itérative (pour les HAUTEURs égales à 0 restantes)"
   ]
  },
  {
   "cell_type": "code",
   "execution_count": 72,
   "metadata": {},
   "outputs": [
    {
     "name": "stdout",
     "output_type": "stream",
     "text": [
      ">>> nombre de données - data : 203514\n",
      ">>> nombre de données - temp : 203514\n"
     ]
    }
   ],
   "source": [
    "from sklearn.experimental import enable_iterative_imputer\n",
    "from sklearn.impute import IterativeImputer\n",
    "\n",
    "# suppression des deux lignes ajoutées de manière forfuite par la complétion utilisant les données save\n",
    "data = data.drop(data[data['LIBELLE FRANCAIS'].isna()].index)\n",
    "data = data.drop(data[data['CIRCONFERENCE (cm)'].isna()].index)\n",
    "data = data.drop(data[data['HAUTEUR (m)'].isna()].index)\n",
    "\n",
    "# on crée des ID équivalent aux colonnes LIBELLE FRANCAIS et ESPECE\n",
    "data['LIBELLE FRANCAIS NBR'] = data['LIBELLE FRANCAIS'].astype(\"category\").cat.codes\n",
    "data['ESPECE NBR'] = data['ESPECE'].astype(\"category\").cat.codes\n",
    "\n",
    "# on récupère toutes les données HAUTEUR (y.c celle égale à 0) \n",
    "# ayant une CIRCONFERENCE != 0, un LIBELLE FRANCAIS et une ESPECE\n",
    "temp = data[\n",
    "    (data['CIRCONFERENCE (cm)'] != 0) & \n",
    "    ~(data['LIBELLE FRANCAIS NBR'] == -1) &\n",
    "    ~(data['ESPECE NBR'] == -1)\n",
    "][['LIBELLE FRANCAIS NBR', 'ESPECE NBR', 'CIRCONFERENCE (cm)','HAUTEUR (m)']]\n",
    "\n",
    "print(\">>> nombre de données - data :\", len(data))\n",
    "print(\">>> nombre de données - temp :\", len(temp))\n",
    "\n",
    "imputer = IterativeImputer(missing_values=0, random_state=0)\n",
    "imputed_data = imputer.fit_transform(temp.values)\n",
    "\n",
    "temp2 = pd.DataFrame(imputed_data, index=temp.index, columns=temp.columns)\n",
    "data['HAUTEUR (m)'] = temp2['HAUTEUR (m)']\n"
   ]
  },
  {
   "cell_type": "code",
   "execution_count": 73,
   "metadata": {},
   "outputs": [
    {
     "name": "stdout",
     "output_type": "stream",
     "text": [
      ">>> nombre de hauteurs égales à 0\n",
      "False    203514\n",
      "Name: HAUTEUR (m), dtype: int64\n"
     ]
    }
   ],
   "source": [
    "# nombre de hauteurs égales à 0\n",
    "nbr_zero = (data['HAUTEUR (m)'] == 0).value_counts()\n",
    "print('>>> nombre de hauteurs égales à 0')\n",
    "print(nbr_zero)"
   ]
  },
  {
   "cell_type": "code",
   "execution_count": 74,
   "metadata": {},
   "outputs": [
    {
     "data": {
      "text/plain": [
       "<matplotlib.axes._subplots.AxesSubplot at 0x27d0029e190>"
      ]
     },
     "execution_count": 74,
     "metadata": {},
     "output_type": "execute_result"
    },
    {
     "data": {
      "image/png": "[encoded data removed]",
      "text/plain": [
       "<Figure size 432x288 with 1 Axes>"
      ]
     },
     "metadata": {
      "needs_background": "light"
     },
     "output_type": "display_data"
    }
   ],
   "source": [
    "sns.distplot(data['HAUTEUR (m)'])"
   ]
  },
  {
   "cell_type": "markdown",
   "metadata": {},
   "source": [
    "> ### - Complétion de la colonne STADE DE DEVELOPPEMENT"
   ]
  },
  {
   "cell_type": "code",
   "execution_count": 75,
   "metadata": {},
   "outputs": [
    {
     "name": "stdout",
     "output_type": "stream",
     "text": [
      ">>> nombre de données non vides: 147016\n",
      ">>> taille du jeu de données pour entrainement du modèle: 137016\n"
     ]
    }
   ],
   "source": [
    "from sklearn.linear_model import SGDClassifier\n",
    "\n",
    "# données de référence\n",
    "temp = data[['CIRCONFERENCE (cm)','HAUTEUR (m)', 'STADE DE DEVELOPPEMENT']].dropna()\n",
    "\n",
    "# taille du jeu de données\n",
    "test_size = len(temp) - 10_000\n",
    "\n",
    "# test_size dernières lignes\n",
    "X_train = temp[['CIRCONFERENCE (cm)','HAUTEUR (m)']][-test_size:] \n",
    "y_train = temp['STADE DE DEVELOPPEMENT'][-test_size:]\n",
    "\n",
    "# entrainement du modèle\n",
    "clf = SGDClassifier(loss=\"hinge\", penalty=\"l1\", max_iter=10000)\n",
    "clf.fit(X_train, y_train)\n",
    "\n",
    "print(\">>> nombre de données non vides:\", len(temp))\n",
    "print(\">>> taille du jeu de données pour entrainement du modèle:\", test_size)\n"
   ]
  },
  {
   "cell_type": "code",
   "execution_count": 76,
   "metadata": {},
   "outputs": [
    {
     "name": "stdout",
     "output_type": "stream",
     "text": [
      "précision du modèle:  0.6508\n"
     ]
    }
   ],
   "source": [
    "# d'autres cas qui n'ont pas servis à entraîner le modèle\n",
    "test_size = 10_000\n",
    "X_test = temp[['CIRCONFERENCE (cm)','HAUTEUR (m)']].head(test_size)\n",
    "y_test = temp['STADE DE DEVELOPPEMENT'].head(test_size)\n",
    "\n",
    "# vérification de la précision du modèle [0;1]\n",
    "print(\"précision du modèle: \", clf.score(X_test,y_test))"
   ]
  },
  {
   "cell_type": "code",
   "execution_count": 77,
   "metadata": {
    "scrolled": true
   },
   "outputs": [],
   "source": [
    "# utilisation du modèle pour définir les STADE DE DEVELOPPEMENT vides\n",
    "temp = data[data['STADE DE DEVELOPPEMENT'].isna()][['CIRCONFERENCE (cm)','HAUTEUR (m)', 'STADE DE DEVELOPPEMENT']]\n",
    "\n",
    "nbr_stddev_comp = len(temp)\n",
    "\n",
    "X = temp[['CIRCONFERENCE (cm)','HAUTEUR (m)']]\n",
    "\n",
    "tab = clf.predict(X.values)\n",
    "\n",
    "temp2 = pd.DataFrame(tab, index=temp.index, columns=['STADE DE DEVELOPPEMENT'])\n",
    "\n",
    "serie1 = data[~data['STADE DE DEVELOPPEMENT'].isna()]['STADE DE DEVELOPPEMENT']\n",
    "serie2 = temp2['STADE DE DEVELOPPEMENT']\n",
    "\n",
    "concat = pd.concat([serie1,serie2])\n",
    "concat = concat.sort_index()\n",
    "\n",
    "data['STADE DE DEVELOPPEMENT'] = concat\n"
   ]
  },
  {
   "cell_type": "markdown",
   "metadata": {},
   "source": [
    "## - Résumé des données supprimées / complétés / mergées\n",
    "---"
   ]
  },
  {
   "cell_type": "markdown",
   "metadata": {},
   "source": [
    "> ### Données supprimées"
   ]
  },
  {
   "cell_type": "markdown",
   "metadata": {},
   "source": [
    "#### Colonnes supprimées"
   ]
  },
  {
   "cell_type": "markdown",
   "metadata": {},
   "source": [
    "* IDBASE\n",
    "* TYPE EMPLACEMENT\n",
    "* COMPLEMENT ADRESSE\n",
    "* NUMERO\n",
    "* LIEU / ADRESSE\n",
    "* IDEMPLACEMENT\n",
    "* GENRE\n",
    "* VARIETE OUCULTIVAR\n",
    "* REMARQUABLE"
   ]
  },
  {
   "cell_type": "markdown",
   "metadata": {},
   "source": [
    "#### Lignes supprimées"
   ]
  },
  {
   "cell_type": "code",
   "execution_count": 87,
   "metadata": {},
   "outputs": [
    {
     "name": "stdout",
     "output_type": "stream",
     "text": [
      ">>> LIBELLE FRANCAIS vides: 322\n",
      ">>> ESPECE vides: 1\n",
      ">>> CIRCONFERENCE (cm) anormales: 355\n",
      ">>> CIRCONFERENCE (cm) égales à 0: 552\n",
      ">>> HAUTEUR (m) anormales: 557\n",
      "\n",
      ">>> total: 1787\n"
     ]
    }
   ],
   "source": [
    "print(\">>> LIBELLE FRANCAIS vides:\", nbr_libfr_suppr)\n",
    "print(\">>> ESPECE vides:\", nbr_espece_suppr)\n",
    "print(\">>> CIRCONFERENCE (cm) anormales:\", nbr_circ_anor_suppr)\n",
    "print(\">>> CIRCONFERENCE (cm) égales à 0:\", nbr_circ_zero_suppr)\n",
    "print(\">>> HAUTEUR (m) anormales:\", nbr_haut_anor_suppr)\n",
    "print()\n",
    "print(\">>> total:\", nbr_libfr_suppr+nbr_espece_suppr+nbr_circ_anor_suppr+nbr_circ_zero_suppr+nbr_haut_anor_suppr)"
   ]
  },
  {
   "cell_type": "markdown",
   "metadata": {},
   "source": [
    "> ### Données complétées"
   ]
  },
  {
   "cell_type": "code",
   "execution_count": 86,
   "metadata": {},
   "outputs": [
    {
     "name": "stdout",
     "output_type": "stream",
     "text": [
      ">>> LIBELLE FRANCAIS complétés: 406\n",
      ">>> ESPECE complétés: 1850\n",
      ">>> CIRCONFERENCE (cm) égales à 0: 22430\n",
      ">>> HAUTEUR (m) égales à 0: 31485\n",
      ">>> STADE DE DEVELOPPEMENT vides: 56498\n",
      "\n",
      ">>> total: 112669\n"
     ]
    }
   ],
   "source": [
    "print(\">>> LIBELLE FRANCAIS complétés:\", nbr_libfr_comp)\n",
    "print(\">>> ESPECE complétés:\", nbr_espece_comp)\n",
    "print(\">>> CIRCONFERENCE (cm) égales à 0:\", nbr_circ_zero_comp)\n",
    "print(\">>> HAUTEUR (m) égales à 0:\", nbr_haut_zero_comp)\n",
    "print(\">>> STADE DE DEVELOPPEMENT complétés:\", nbr_stddev_comp)\n",
    "print()\n",
    "print(\">>> total:\", nbr_libfr_comp+nbr_espece_comp+nbr_circ_zero_comp+nbr_haut_zero_comp+nbr_stddev_comp)"
   ]
  },
  {
   "cell_type": "markdown",
   "metadata": {},
   "source": [
    "> ### Données mergées"
   ]
  },
  {
   "cell_type": "markdown",
   "metadata": {},
   "source": [
    "* Merge des arrondissements 1, 2, 3, et 4 --> PARIS 1234 ARRDT\n",
    "  * PARIS 1ER ARRDT\n",
    "  * PARIS 2E ARRDT\n",
    "  * PARIS 3E ARRDT\n",
    "  * PARIS 4E ARRDT\n",
    "\n",
    "\n",
    "* Merge des arrondissements 5, 6, et 7 --> PARIS 567 ARRDT\n",
    "  * PARIS 5E ARRDT\n",
    "  * PARIS 6E ARRDT\n",
    "  * PARIS 7E ARRDT\n",
    "\n",
    "\n",
    "* Merge des arrondissements 8, 9, 10 et 11 --> PARIS 891011 ARRDT\n",
    "  * PARIS 8E ARRDT\n",
    "  * PARIS 9E ARRDT\n",
    "  * PARIS 10E ARRDT\n",
    "  * PARIS 11E ARRDT\n",
    "\n",
    "\n",
    "* Merge des arrondissements Val de Marne + Bois de Vincenne --> PARIS EST\n",
    "  * VAL-DE-MARNE\n",
    "  * BOIS DE VINCENNES\n",
    "   \n",
    "   \n",
    "* Merge des arrondissements Hauts de Seine + Bois de Boulogne --> PARIS OUEST\n",
    "  * HAUTS-DE-SEINE\n",
    "  * BOIS DE BOULOGNE"
   ]
  },
  {
   "cell_type": "markdown",
   "metadata": {},
   "source": [
    "> ### Au global, avant / après"
   ]
  },
  {
   "cell_type": "code",
   "execution_count": 80,
   "metadata": {},
   "outputs": [
    {
     "name": "stdout",
     "output_type": "stream",
     "text": [
      ">>> AVANT\n",
      "\t>>> nombres de lignes: 205301\n",
      "\t>>> nombres de colonnes: 17\n",
      "\n",
      ">>> APRES\n",
      "\t>>> nombres de lignes: 203514 ( - 1787 ) ( soit: 1.0 %)\n",
      "\t>>> nombres de colonnes: 9 ( - 8 ) ( soit: 47.0 %)\n"
     ]
    }
   ],
   "source": [
    "print(\">>> AVANT\")\n",
    "print(\"\\t>>> nombres de lignes:\", len(data_save))\n",
    "print(\"\\t>>> nombres de colonnes:\", len(data_save.columns))\n",
    "\n",
    "print()\n",
    "\n",
    "lignes_suppr = len(data_save)-len(data)\n",
    "lignes_suppr_pourc = round(lignes_suppr/len(data_save),2)*100\n",
    "\n",
    "colonnes_suppr = len(data_save.columns)-len(data.columns)\n",
    "colonnes_suppr_pourc = round(colonnes_suppr/len(data_save.columns),2)*100\n",
    "\n",
    "print(\">>> APRES\")\n",
    "print(\"\\t>>> nombres de lignes:\", len(data), \"( -\", lignes_suppr , \")\", \"( soit:\", lignes_suppr_pourc, \"%)\")\n",
    "print(\"\\t>>> nombres de colonnes:\", len(data.columns), \"( -\", colonnes_suppr , \")\", \"( soit:\", colonnes_suppr_pourc, \"%)\")"
   ]
  },
  {
   "cell_type": "markdown",
   "metadata": {},
   "source": [
    "# - Analyser & exploiter\n",
    "---\n",
    "---"
   ]
  },
  {
   "cell_type": "markdown",
   "metadata": {},
   "source": [
    "## Distribution des variables continues\n",
    "---"
   ]
  },
  {
   "cell_type": "markdown",
   "metadata": {},
   "source": [
    "* CIRCONFERENCE (cm)\n",
    "* HAUTEUR (m)"
   ]
  },
  {
   "cell_type": "markdown",
   "metadata": {},
   "source": [
    "> ### CIRCONFERENCE (cm)"
   ]
  },
  {
   "cell_type": "code",
   "execution_count": 81,
   "metadata": {},
   "outputs": [
    {
     "data": {
      "text/plain": [
       "<matplotlib.axes._subplots.AxesSubplot at 0x27d035ebc70>"
      ]
     },
     "execution_count": 81,
     "metadata": {},
     "output_type": "execute_result"
    },
    {
     "data": {
      "image/png": "[encoded data removed]",
      "text/plain": [
       "<Figure size 432x288 with 1 Axes>"
      ]
     },
     "metadata": {
      "needs_background": "light"
     },
     "output_type": "display_data"
    }
   ],
   "source": [
    "sns.distplot(data['CIRCONFERENCE (cm)'])"
   ]
  },
  {
   "cell_type": "code",
   "execution_count": 82,
   "metadata": {
    "scrolled": true
   },
   "outputs": [
    {
     "data": {
      "text/plain": [
       "<matplotlib.axes._subplots.AxesSubplot at 0x27d059f4eb0>"
      ]
     },
     "execution_count": 82,
     "metadata": {},
     "output_type": "execute_result"
    },
    {
     "data": {
      "image/png": "[encoded data removed]",
      "text/plain": [
       "<Figure size 432x288 with 1 Axes>"
      ]
     },
     "metadata": {
      "needs_background": "light"
     },
     "output_type": "display_data"
    }
   ],
   "source": [
    "sns.boxplot(x=data['CIRCONFERENCE (cm)'])"
   ]
  },
  {
   "cell_type": "markdown",
   "metadata": {},
   "source": [
    "> ### HAUTEUR (m)"
   ]
  },
  {
   "cell_type": "code",
   "execution_count": 83,
   "metadata": {},
   "outputs": [
    {
     "data": {
      "text/plain": [
       "<matplotlib.axes._subplots.AxesSubplot at 0x27d06ec84c0>"
      ]
     },
     "execution_count": 83,
     "metadata": {},
     "output_type": "execute_result"
    },
    {
     "data": {
      "image/png": "[encoded data removed]",
      "text/plain": [
       "<Figure size 432x288 with 1 Axes>"
      ]
     },
     "metadata": {
      "needs_background": "light"
     },
     "output_type": "display_data"
    }
   ],
   "source": [
    "sns.distplot(data['HAUTEUR (m)'])"
   ]
  },
  {
   "cell_type": "code",
   "execution_count": 94,
   "metadata": {},
   "outputs": [
    {
     "data": {
      "text/plain": [
       "<matplotlib.axes._subplots.AxesSubplot at 0x27d0e8187f0>"
      ]
     },
     "execution_count": 94,
     "metadata": {},
     "output_type": "execute_result"
    },
    {
     "data": {
      "image/png": "[encoded data removed]",
      "text/plain": [
       "<Figure size 432x288 with 1 Axes>"
      ]
     },
     "metadata": {
      "needs_background": "light"
     },
     "output_type": "display_data"
    }
   ],
   "source": [
    "sns.boxplot(x='HAUTEUR (m)', y='ARRONDISSEMENT', data=data)"
   ]
  },
  {
   "cell_type": "markdown",
   "metadata": {},
   "source": [
    "## Distribution des variables catégorielles\n",
    "---"
   ]
  },
  {
   "cell_type": "markdown",
   "metadata": {},
   "source": [
    "* ARRONDISSEMENT\n",
    "* LIBELLE FRANCAIS\n",
    "* ESPECE\n",
    "* STADE DE DEVELOPPEMENT"
   ]
  },
  {
   "cell_type": "markdown",
   "metadata": {},
   "source": [
    "> ### ARRONDISSEMENT"
   ]
  },
  {
   "cell_type": "code",
   "execution_count": 96,
   "metadata": {},
   "outputs": [],
   "source": [
    "#sns.barplot(x=data['ARRONDISSEMENT'])"
   ]
  },
  {
   "cell_type": "markdown",
   "metadata": {},
   "source": [
    "> ### LIBELLE FRANCAIS"
   ]
  },
  {
   "cell_type": "markdown",
   "metadata": {},
   "source": [
    "> ### ESPECE"
   ]
  },
  {
   "cell_type": "markdown",
   "metadata": {},
   "source": [
    "> ### STADE DE DEVELOPPEMENT"
   ]
  }
 ],
 "metadata": {
  "kernelspec": {
   "display_name": "Python 3",
   "language": "python",
   "name": "python3"
  },
  "language_info": {
   "codemirror_mode": {
    "name": "ipython",
    "version": 3
   },
   "file_extension": ".py",
   "mimetype": "text/x-python",
   "name": "python",
   "nbconvert_exporter": "python",
   "pygments_lexer": "ipython3",
   "version": "3.8.3"
  },
  "toc": {
   "base_numbering": "1",
   "nav_menu": {},
   "number_sections": true,
   "sideBar": true,
   "skip_h1_title": false,
   "title_cell": "Sommaire",
   "title_sidebar": "Contents",
   "toc_cell": true,
   "toc_position": {
    "height": "calc(100% - 180px)",
    "left": "10px",
    "top": "150px",
    "width": "384px"
   },
   "toc_section_display": true,
   "toc_window_display": true
  }
 },
 "nbformat": 4,
 "nbformat_minor": 4
}
