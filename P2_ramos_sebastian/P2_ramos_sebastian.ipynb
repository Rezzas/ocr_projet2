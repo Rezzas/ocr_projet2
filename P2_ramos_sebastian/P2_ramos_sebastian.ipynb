{
 "cells": [
  {
   "cell_type": "markdown",
   "metadata": {},
   "source": [
    "# 0. - Sommaire\n",
    "---\n",
    "---"
   ]
  },
  {
   "cell_type": "markdown",
   "metadata": {},
   "source": [
    "- **1\\.** Récupérer & charger les données\n",
    "  - **1.1.** Récupérer le jeu de données\n",
    "  - **1.2.** Charger les données dans le Notebook\n",
    "  \n",
    "\n",
    "- **2\\.** Nettoyer & consolider\n",
    "\n",
    "  - **2.1.** Analyse rapide du fichier\n",
    "  \n",
    "  - **2.2.** Suppression des données trop incomplètes\n",
    "  \n",
    "  - **2.3.** Suppression / Modification / Merge des données\n",
    "    - **2.3.1.** Suppression des colonnes toujours uniques / identiques (ou quasi)\n",
    "    - **2.3.1.** Suppression des colonnes correspondantes à une autre (lien 1-1)\n",
    "    - **2.2.3.** Suppression / Merge des données trop peu representées\n",
    "    - **2.3.4.** Suppression / Modification des données anormales\n",
    "    \n",
    "  - **2.4.** Compléter les données manquantes\n",
    "    - **2.4.1.** Complétion de la colonne ESPECE\n",
    "    - **2.4.2.** Complétion de la colonne STADE DE DEVELOPPEMENT\n",
    "    \n",
    "  - **2.5.** Revérification suite à la complétion des données "
   ]
  },
  {
   "cell_type": "markdown",
   "metadata": {},
   "source": [
    "# 1. - Récupérer & charger les données\n",
    "---\n",
    "---"
   ]
  },
  {
   "cell_type": "markdown",
   "metadata": {},
   "source": [
    "## 1.1. - Récupérer le jeu de données\n",
    "---\n",
    "\n",
    "[Lien officiel de la Mairie de Paris pour exporter le jeu de données - les arbres](https://opendata.paris.fr/explore/dataset/les-arbres/export/)"
   ]
  },
  {
   "cell_type": "markdown",
   "metadata": {},
   "source": [
    "## 1.2. - Charger les données dans le Notebook\n",
    "---"
   ]
  },
  {
   "cell_type": "code",
   "execution_count": 1,
   "metadata": {},
   "outputs": [
    {
     "data": {
      "text/html": [
       "<div>\n",
       "<style scoped>\n",
       "    .dataframe tbody tr th:only-of-type {\n",
       "        vertical-align: middle;\n",
       "    }\n",
       "\n",
       "    .dataframe tbody tr th {\n",
       "        vertical-align: top;\n",
       "    }\n",
       "\n",
       "    .dataframe thead th {\n",
       "        text-align: right;\n",
       "    }\n",
       "</style>\n",
       "<table border=\"1\" class=\"dataframe\">\n",
       "  <thead>\n",
       "    <tr style=\"text-align: right;\">\n",
       "      <th></th>\n",
       "      <th>IDBASE</th>\n",
       "      <th>TYPE EMPLACEMENT</th>\n",
       "      <th>DOMANIALITE</th>\n",
       "      <th>ARRONDISSEMENT</th>\n",
       "      <th>COMPLEMENT ADRESSE</th>\n",
       "      <th>NUMERO</th>\n",
       "      <th>LIEU / ADRESSE</th>\n",
       "      <th>IDEMPLACEMENT</th>\n",
       "      <th>LIBELLE FRANCAIS</th>\n",
       "      <th>GENRE</th>\n",
       "      <th>ESPECE</th>\n",
       "      <th>VARIETE OUCULTIVAR</th>\n",
       "      <th>CIRCONFERENCE (cm)</th>\n",
       "      <th>HAUTEUR (m)</th>\n",
       "      <th>STADE DE DEVELOPPEMENT</th>\n",
       "      <th>REMARQUABLE</th>\n",
       "      <th>geo_point_2d</th>\n",
       "    </tr>\n",
       "  </thead>\n",
       "  <tbody>\n",
       "    <tr>\n",
       "      <th>0</th>\n",
       "      <td>148074</td>\n",
       "      <td>Arbre</td>\n",
       "      <td>CIMETIERE</td>\n",
       "      <td>PARIS 16E ARRDT</td>\n",
       "      <td>NaN</td>\n",
       "      <td>NaN</td>\n",
       "      <td>CIMETIERE DE PASSY / AVENUE CHAUVET / DIV 8</td>\n",
       "      <td>A01400008001</td>\n",
       "      <td>Marronnier</td>\n",
       "      <td>Aesculus</td>\n",
       "      <td>hippocastanum</td>\n",
       "      <td>NaN</td>\n",
       "      <td>219</td>\n",
       "      <td>15</td>\n",
       "      <td>M</td>\n",
       "      <td>NON</td>\n",
       "      <td>48.8627890216,2.28544758344</td>\n",
       "    </tr>\n",
       "    <tr>\n",
       "      <th>1</th>\n",
       "      <td>151493</td>\n",
       "      <td>Arbre</td>\n",
       "      <td>CIMETIERE</td>\n",
       "      <td>HAUTS-DE-SEINE</td>\n",
       "      <td>NaN</td>\n",
       "      <td>NaN</td>\n",
       "      <td>CIMETIERE DE BAGNEUX / AVENUE DE L''AULNAIE / ...</td>\n",
       "      <td>A03200092002</td>\n",
       "      <td>Aulne</td>\n",
       "      <td>Alnus</td>\n",
       "      <td>cordata</td>\n",
       "      <td>NaN</td>\n",
       "      <td>0</td>\n",
       "      <td>0</td>\n",
       "      <td>NaN</td>\n",
       "      <td>NaN</td>\n",
       "      <td>48.8038461392,2.30521618838</td>\n",
       "    </tr>\n",
       "    <tr>\n",
       "      <th>2</th>\n",
       "      <td>164116</td>\n",
       "      <td>Arbre</td>\n",
       "      <td>CIMETIERE</td>\n",
       "      <td>HAUTS-DE-SEINE</td>\n",
       "      <td>NaN</td>\n",
       "      <td>NaN</td>\n",
       "      <td>CIMETIERE DE BAGNEUX / AVENUE DE LA PEUPLERAIE...</td>\n",
       "      <td>A02900002001</td>\n",
       "      <td>Peuplier</td>\n",
       "      <td>Populus</td>\n",
       "      <td>nigra</td>\n",
       "      <td>''Italica''</td>\n",
       "      <td>0</td>\n",
       "      <td>0</td>\n",
       "      <td>NaN</td>\n",
       "      <td>NaN</td>\n",
       "      <td>48.8094182564,2.31652958922</td>\n",
       "    </tr>\n",
       "    <tr>\n",
       "      <th>3</th>\n",
       "      <td>268463</td>\n",
       "      <td>Arbre</td>\n",
       "      <td>Alignement</td>\n",
       "      <td>PARIS 11E ARRDT</td>\n",
       "      <td>NaN</td>\n",
       "      <td>NaN</td>\n",
       "      <td>BOULEVARD VOLTAIRE</td>\n",
       "      <td>003301022</td>\n",
       "      <td>Platane</td>\n",
       "      <td>Platanus</td>\n",
       "      <td>x hispanica</td>\n",
       "      <td>NaN</td>\n",
       "      <td>115</td>\n",
       "      <td>20</td>\n",
       "      <td>A</td>\n",
       "      <td>NON</td>\n",
       "      <td>48.8536851325,2.38720363168</td>\n",
       "    </tr>\n",
       "    <tr>\n",
       "      <th>4</th>\n",
       "      <td>204618</td>\n",
       "      <td>Arbre</td>\n",
       "      <td>Alignement</td>\n",
       "      <td>PARIS 12E ARRDT</td>\n",
       "      <td>32</td>\n",
       "      <td>NaN</td>\n",
       "      <td>RUE CHALIGNY</td>\n",
       "      <td>000402017</td>\n",
       "      <td>Marronnier</td>\n",
       "      <td>Aesculus</td>\n",
       "      <td>x carnea</td>\n",
       "      <td>NaN</td>\n",
       "      <td>25</td>\n",
       "      <td>5</td>\n",
       "      <td>J</td>\n",
       "      <td>NON</td>\n",
       "      <td>48.8484916698,2.38413340284</td>\n",
       "    </tr>\n",
       "  </tbody>\n",
       "</table>\n",
       "</div>"
      ],
      "text/plain": [
       "   IDBASE TYPE EMPLACEMENT DOMANIALITE   ARRONDISSEMENT COMPLEMENT ADRESSE  \\\n",
       "0  148074            Arbre   CIMETIERE  PARIS 16E ARRDT                NaN   \n",
       "1  151493            Arbre   CIMETIERE   HAUTS-DE-SEINE                NaN   \n",
       "2  164116            Arbre   CIMETIERE   HAUTS-DE-SEINE                NaN   \n",
       "3  268463            Arbre  Alignement  PARIS 11E ARRDT                NaN   \n",
       "4  204618            Arbre  Alignement  PARIS 12E ARRDT                 32   \n",
       "\n",
       "   NUMERO                                     LIEU / ADRESSE IDEMPLACEMENT  \\\n",
       "0     NaN        CIMETIERE DE PASSY / AVENUE CHAUVET / DIV 8  A01400008001   \n",
       "1     NaN  CIMETIERE DE BAGNEUX / AVENUE DE L''AULNAIE / ...  A03200092002   \n",
       "2     NaN  CIMETIERE DE BAGNEUX / AVENUE DE LA PEUPLERAIE...  A02900002001   \n",
       "3     NaN                                 BOULEVARD VOLTAIRE     003301022   \n",
       "4     NaN                                       RUE CHALIGNY     000402017   \n",
       "\n",
       "  LIBELLE FRANCAIS     GENRE         ESPECE VARIETE OUCULTIVAR  \\\n",
       "0       Marronnier  Aesculus  hippocastanum                NaN   \n",
       "1            Aulne     Alnus        cordata                NaN   \n",
       "2         Peuplier   Populus          nigra        ''Italica''   \n",
       "3          Platane  Platanus    x hispanica                NaN   \n",
       "4       Marronnier  Aesculus       x carnea                NaN   \n",
       "\n",
       "   CIRCONFERENCE (cm)  HAUTEUR (m) STADE DE DEVELOPPEMENT REMARQUABLE  \\\n",
       "0                 219           15                      M         NON   \n",
       "1                   0            0                    NaN         NaN   \n",
       "2                   0            0                    NaN         NaN   \n",
       "3                 115           20                      A         NON   \n",
       "4                  25            5                      J         NON   \n",
       "\n",
       "                  geo_point_2d  \n",
       "0  48.8627890216,2.28544758344  \n",
       "1  48.8038461392,2.30521618838  \n",
       "2  48.8094182564,2.31652958922  \n",
       "3  48.8536851325,2.38720363168  \n",
       "4  48.8484916698,2.38413340284  "
      ]
     },
     "execution_count": 1,
     "metadata": {},
     "output_type": "execute_result"
    }
   ],
   "source": [
    "# import des librairies utiles à l'analyse\n",
    "import numpy as np\n",
    "import pandas as pd\n",
    "import seaborn as sns\n",
    "\n",
    "# lecture du fichier les-arbres.csv pour le charger en tant que DataFrame\n",
    "data = pd.read_csv('les-arbres.csv', sep=';')\n",
    "data_save = data\n",
    "\n",
    "# affichage des 5 premières lignes du fichier\n",
    "data.head(5)"
   ]
  },
  {
   "cell_type": "markdown",
   "metadata": {},
   "source": [
    "# 2. - Nettoyer & consolider\n",
    "---\n",
    "---"
   ]
  },
  {
   "cell_type": "markdown",
   "metadata": {},
   "source": [
    "## 2.1. - Analyse rapide du fichier\n",
    "---"
   ]
  },
  {
   "cell_type": "code",
   "execution_count": 2,
   "metadata": {
    "scrolled": true
   },
   "outputs": [
    {
     "name": "stdout",
     "output_type": "stream",
     "text": [
      ">>> nombre de lignes : 205319\n",
      ">>> nombre de colonnes : 17\n"
     ]
    }
   ],
   "source": [
    "# nombre de lignes\n",
    "print(\">>> nombre de lignes :\", len(data))\n",
    "\n",
    "# nombre de colonnes\n",
    "print(\">>> nombre de colonnes :\", len(data.columns))"
   ]
  },
  {
   "cell_type": "markdown",
   "metadata": {},
   "source": [
    "## 2.2. - Suppression des données trop incomplètes\n",
    "---"
   ]
  },
  {
   "cell_type": "code",
   "execution_count": 3,
   "metadata": {},
   "outputs": [
    {
     "name": "stdout",
     "output_type": "stream",
     "text": [
      ">>> complétude de chaque colonne : ( nombre de lignes totale : 205319 )\n",
      "\n",
      "IDBASE : ( 100.0 % ) - ( 205319 )\n",
      "TYPE EMPLACEMENT : ( 100.0 % ) - ( 205319 )\n",
      "DOMANIALITE : ( 100.0 % ) - ( 205319 )\n",
      "ARRONDISSEMENT : ( 100.0 % ) - ( 205319 )\n",
      "COMPLEMENT ADRESSE : ( 18.06 % ) - ( 37074 )\n",
      "NUMERO : ( 0.0 % ) - ( 0 )\n",
      "LIEU / ADRESSE : ( 100.0 % ) - ( 205319 )\n",
      "IDEMPLACEMENT : ( 100.0 % ) - ( 205319 )\n",
      "LIBELLE FRANCAIS : ( 99.65 % ) - ( 204591 )\n",
      "GENRE : ( 100.0 % ) - ( 205318 )\n",
      "ESPECE : ( 98.98 % ) - ( 203231 )\n",
      "VARIETE OUCULTIVAR : ( 18.57 % ) - ( 38128 )\n",
      "CIRCONFERENCE (cm) : ( 100.0 % ) - ( 205319 )\n",
      "HAUTEUR (m) : ( 100.0 % ) - ( 205319 )\n",
      "STADE DE DEVELOPPEMENT : ( 72.1 % ) - ( 148035 )\n",
      "REMARQUABLE : ( 81.61 % ) - ( 167562 )\n",
      "geo_point_2d : ( 100.0 % ) - ( 205319 )\n"
     ]
    }
   ],
   "source": [
    "# complétude de chaque colonne\n",
    "print(\">>> complétude de chaque colonne : ( nombre de lignes totale :\", len(data),\")\")\n",
    "print()\n",
    "\n",
    "for column in data.columns:\n",
    "    print(column, \n",
    "          \": (\", \n",
    "          round(data[column].count()/len(data)*100,2), \"% )\",\n",
    "          \"- (\",\n",
    "          data[column].count(),\n",
    "          \")\"\n",
    "         )"
   ]
  },
  {
   "cell_type": "markdown",
   "metadata": {},
   "source": [
    "* Les colonnes suivantes peuvent être supprimées :\n",
    "  * **COMPLEMENT ADRESSE** n'est complète qu'à **18%**\n",
    "  * **NUMERO** est toujours **vide**\n",
    "  * **VARIETE OUCULTIVAR** n'est complète qu'à **19%**\n",
    "\n",
    "\n",
    "* À noter que certaines colonnes ne sont que partiellement incomplètes :\n",
    "  * **ESPECE** est complète à **99%**\n",
    "  * **STADE DE DEVELOPPEMENT** est complète à **72%**\n",
    "  * **REMARQUABLE** est complète à **82%**\n",
    "* Une analyse plus poussée est à faire sur ces colonnes (voir plus bas)"
   ]
  },
  {
   "cell_type": "code",
   "execution_count": 4,
   "metadata": {},
   "outputs": [
    {
     "name": "stdout",
     "output_type": "stream",
     "text": [
      ">>> suppression des colonnes trop incomplètes\n",
      ">>> nombre de colonnes restantes : 14\n"
     ]
    }
   ],
   "source": [
    "# suppression des colonnes trop incomplètes\n",
    "try:\n",
    "    data = data.drop(columns=['COMPLEMENT ADRESSE', 'NUMERO', 'VARIETE OUCULTIVAR'])\n",
    "    print(\">>> suppression des colonnes trop incomplètes\")\n",
    "except KeyError:\n",
    "    print(\">>> les colonnes ont déjà été supprimées\")\n",
    "\n",
    "# nombre de colonnes restantes après suppression (normalement 14)\n",
    "print(\">>> nombre de colonnes restantes :\", len(data.columns))"
   ]
  },
  {
   "cell_type": "markdown",
   "metadata": {},
   "source": [
    "## 2.3. - Suppression / Modification / Merge des données\n",
    "---\n",
    "\n",
    "**Une colonne peut être jugée inutile si :**\n",
    "* l'ensemble de ses valeurs sont toujours uniques (hors coordonnées GPS)\n",
    "  - suppression de la donnée\n",
    "  \n",
    "  \n",
    "* l'ensemble de ses valeurs sont toujours identiques ou quasiment identiques\n",
    "  * suppression de la donnée\n",
    "  \n",
    "  \n",
    "* l'ensemble de ses valeurs, bien que différentes, correspondent valeur par valeur à une autre colonne (lien 1-1)\n",
    "  * suppression d'une des données\n",
    "\n",
    "**Une donnée peut être jugée inutile si :**\n",
    "* elle est trop peu représentée pour avoir un réel impact sur l'analyse\n",
    "  * ex : la domanialité DASES ne concerne que 11 lignes du fichier\n",
    "  * suppression ou merge de la donnée\n",
    "  \n",
    "  \n",
    "* par rapport à l'ensemble des données du même type, sa valeur est radicalement différente sans raison apparente\n",
    "  * ex : une hauteur de 10 000 mètres pour un arbre n'est pas crédible\n",
    "  * suppression ou modification de la donnée"
   ]
  },
  {
   "cell_type": "markdown",
   "metadata": {},
   "source": [
    "> ### 2.3.1. - Suppression des colonnes toujours uniques / identiques (ou quasi)"
   ]
  },
  {
   "cell_type": "code",
   "execution_count": 5,
   "metadata": {
    "scrolled": true
   },
   "outputs": [
    {
     "name": "stdout",
     "output_type": "stream",
     "text": [
      ">>> unicité de chaque colonne :\n",
      "\n",
      "IDBASE : ( 100.0 % ) - ( 205318 )\n",
      "TYPE EMPLACEMENT : ( 0.0 % ) - ( 1 )\n",
      "DOMANIALITE : ( 0.0 % ) - ( 9 )\n",
      "ARRONDISSEMENT : ( 0.01 % ) - ( 25 )\n",
      "LIEU / ADRESSE : ( 3.48 % ) - ( 7147 )\n",
      "IDEMPLACEMENT : ( 34.3 % ) - ( 70426 )\n",
      "LIBELLE FRANCAIS : ( 0.09 % ) - ( 192 )\n",
      "GENRE : ( 0.09 % ) - ( 175 )\n",
      "ESPECE : ( 0.26 % ) - ( 540 )\n",
      "CIRCONFERENCE (cm) : ( 0.25 % ) - ( 510 )\n",
      "HAUTEUR (m) : ( 0.07 % ) - ( 147 )\n",
      "STADE DE DEVELOPPEMENT : ( 0.0 % ) - ( 4 )\n",
      "REMARQUABLE : ( 0.0 % ) - ( 2 )\n",
      "geo_point_2d : ( 100.0 % ) - ( 205310 )\n"
     ]
    }
   ],
   "source": [
    "# unicité de chaque colonne\n",
    "print(\">>> unicité de chaque colonne :\")\n",
    "print()\n",
    "\n",
    "for column in data.columns:\n",
    "    print(column, \n",
    "          \": (\", \n",
    "          round(data[column].value_counts().count()/len(data)*100,2), \"% )\", \n",
    "          \"- (\", \n",
    "          data[column].value_counts().count(),\n",
    "          \")\"\n",
    "         )"
   ]
  },
  {
   "cell_type": "markdown",
   "metadata": {},
   "source": [
    "* Les colonnes suivantes peuvent être supprimées :\n",
    "  * **IDBASE** est unique à **100%** puisque c'est un ID\n",
    "  * **TYPE EMPLACEMENT** contient une **unique valeur ( 1 )** (Arbre)\n",
    "  \n",
    "\n",
    "\n",
    "* À noter que la colonne **geo_point_2d** ne contient que des valeurs uniques mais reste pertinente pour l'analyse des données\n",
    "\n",
    "\n",
    "* À noter qu'une analyse plus poussée est nécessaire pour les colonnes suivantes :\n",
    "  * **IDEMPLACEMENT** n'est **pas toujours unique** malgré que ce soit à priori un ID\n",
    "  * **STADE DE DEVELOPPEMENT** ne contient que **4 valeurs distinctes**\n",
    "  * **REMARQUABLE** ne contient que **2 valeurs distinctes**"
   ]
  },
  {
   "cell_type": "code",
   "execution_count": 6,
   "metadata": {},
   "outputs": [
    {
     "name": "stdout",
     "output_type": "stream",
     "text": [
      ">>> suppression des colonnes 'uniques'\n",
      ">>> nombre de colonnes restantes : 12\n"
     ]
    }
   ],
   "source": [
    "# suppression des colonnes \"uniques\"\n",
    "try:\n",
    "    data = data.drop(columns=['IDBASE', 'TYPE EMPLACEMENT'])\n",
    "    print(\">>> suppression des colonnes 'uniques'\")\n",
    "except KeyError:\n",
    "    print(\">>> les colonnes ont déjà été supprimées\")\n",
    "\n",
    "# nombre de colonnes restantes après suppression (normalement 12)\n",
    "print(\">>> nombre de colonnes restantes :\", len(data.columns))"
   ]
  },
  {
   "cell_type": "markdown",
   "metadata": {},
   "source": [
    ">> #### 2.3.1.1. - Analyse plus poussée - IDEMPLACEMENT"
   ]
  },
  {
   "cell_type": "code",
   "execution_count": 7,
   "metadata": {
    "scrolled": true
   },
   "outputs": [
    {
     "name": "stdout",
     "output_type": "stream",
     "text": [
      ">>> complétude de la colonne : ( 100.0 % ) - ( 205319 )\n",
      ">>> unicité de la colonne : ( 34.3 % ) - ( 70426 )\n",
      "\n",
      ">>> zoom 1 : aucun identifiant n'est en doublon + de 20532 fois (10%)\n",
      "(0.0, 0.1]    70426\n",
      "(0.1, 0.2]        0\n",
      "(0.2, 0.3]        0\n",
      "(0.3, 0.4]        0\n",
      "(0.4, 0.5]        0\n",
      "(0.5, 0.6]        0\n",
      "(0.6, 0.7]        0\n",
      "(0.7, 0.8]        0\n",
      "(0.8, 0.9]        0\n",
      "Name: IDEMPLACEMENT, dtype: int64\n",
      "\n",
      ">>> zoom 2 : aucun identifiant n'est en doublon + de 2053 fois (1%)\n",
      "(0.0, 0.01]     70426\n",
      "(0.01, 0.02]        0\n",
      "(0.02, 0.03]        0\n",
      "(0.03, 0.04]        0\n",
      "(0.04, 0.05]        0\n",
      "(0.05, 0.06]        0\n",
      "(0.06, 0.07]        0\n",
      "(0.07, 0.08]        0\n",
      "(0.08, 0.09]        0\n",
      "Name: IDEMPLACEMENT, dtype: int64\n",
      "\n",
      ">>> zoom 3  : la plupart des identifiants sont en doublons + de 205 fois (0.1%)\n",
      "(0.0, 0.001]      70320\n",
      "(0.001, 0.002]       72\n",
      "(0.002, 0.003]       16\n",
      "(0.003, 0.004]        7\n",
      "(0.004, 0.005]        4\n",
      "(0.005, 0.006]        4\n",
      "(0.006, 0.007]        1\n",
      "(0.007, 0.008]        2\n",
      "(0.008, 0.009]        0\n",
      "Name: IDEMPLACEMENT, dtype: int64\n",
      "\n",
      ">>> zoom 4  : la plupart des identifiants sont en doublons + de 205 fois (0.01%)\n",
      "(0.001, 0.0015]    53\n",
      "(0.0015, 0.002]    19\n",
      "(0.002, 0.0025]    11\n",
      "(0.0025, 0.003]     5\n",
      "(0.003, 0.0035]     5\n",
      "(0.0035, 0.004]     2\n",
      "(0.004, 0.0045]     2\n",
      "(0.0045, 0.005]     2\n",
      "(0.005, 0.0055]     2\n",
      "(0.0055, 0.006]     2\n",
      "(0.006, 0.0065]     1\n",
      "(0.0065, 0.007]     0\n",
      "(0.007, 0.0075]     1\n",
      "(0.0075, 0.008]     1\n",
      "(0.008, 0.0085]     0\n",
      "Name: IDEMPLACEMENT, dtype: int64\n",
      "\n"
     ]
    }
   ],
   "source": [
    "# complétude de la colonne\n",
    "print(\">>> complétude de la colonne : (\",\n",
    "      round(data['IDEMPLACEMENT'].count()/len(data)*100,2),\n",
    "      \"% )\",\n",
    "      \"- (\",\n",
    "      data[column].count(),\n",
    "      \")\"\n",
    "     )\n",
    "\n",
    "# unicité de la colonne\n",
    "print(\">>> unicité de la colonne : (\",\n",
    "      round(data['IDEMPLACEMENT'].value_counts().count()/len(data)*100,2), \"% )\", \n",
    "      \"- (\", \n",
    "      data['IDEMPLACEMENT'].value_counts().count(),\n",
    "      \")\"\n",
    "     )\n",
    "print()\n",
    "\n",
    "\n",
    "#zoom 1:\n",
    "idcut = pd.cut(data['IDEMPLACEMENT'].value_counts(normalize=True),np.arange(0,1,0.1))\n",
    "print(\">>> zoom 1 : aucun identifiant n'est en doublon + de\", int(round(0.1*len(data),0)), \"fois (10%)\")\n",
    "print(idcut.value_counts().sort_index())\n",
    "print()\n",
    "\n",
    "#zoom 2:\n",
    "idcut = pd.cut(data['IDEMPLACEMENT'].value_counts(normalize=True),np.arange(0,0.1,0.01))\n",
    "print(\">>> zoom 2 : aucun identifiant n'est en doublon + de\", int(round(0.01*len(data),0)), \"fois (1%)\")\n",
    "print(idcut.value_counts().sort_index())\n",
    "print()\n",
    "\n",
    "#zoom 3: \n",
    "idcut = pd.cut(data['IDEMPLACEMENT'].value_counts(normalize=True),np.arange(0,0.01,0.001))\n",
    "print(\">>> zoom 3  : la plupart des identifiants sont en doublons + de\", int(round(0.001*len(data),0)), \"fois (0.1%)\")\n",
    "print(idcut.value_counts().sort_index())\n",
    "print()\n",
    "\n",
    "#zoom 4: \n",
    "idcut = pd.cut(data['IDEMPLACEMENT'].value_counts(normalize=True),np.arange(0.001,0.009,0.0005))\n",
    "print(\">>> zoom 4  : la plupart des identifiants sont en doublons + de\", int(round(0.001*len(data),0)), \"fois (0.01%)\")\n",
    "print(idcut.value_counts().sort_index())\n",
    "print()"
   ]
  },
  {
   "cell_type": "markdown",
   "metadata": {},
   "source": [
    "**/!\\ Quid de cette information ? /!\\**\n",
    "* doit-on la supprimer car c'est un identifiant ? on estime dès lors que les doublons sont des anomalies\n",
    "* doit-on essayer de l'exploiter et la relier à d'autres valeurs ?"
   ]
  },
  {
   "cell_type": "markdown",
   "metadata": {},
   "source": [
    ">> #### 2.3.1.2. - Analyse plus poussée - STADE DE DEVELOPPEMENT"
   ]
  },
  {
   "cell_type": "code",
   "execution_count": 8,
   "metadata": {
    "scrolled": true
   },
   "outputs": [
    {
     "name": "stdout",
     "output_type": "stream",
     "text": [
      ">>> complétude de la colonne : ( 72.1 % ) - ( 205319 )\n",
      "\n",
      ">>> répartition des valeurs :\n",
      "A : ( 34.85 % ) - ( 71560 )\n",
      "JA : ( 18.28 % ) - ( 37527 )\n",
      "J : ( 15.51 % ) - ( 31836 )\n",
      "M : ( 3.46 % ) - ( 7112 )\n"
     ]
    }
   ],
   "source": [
    "# complétude de la colonne\n",
    "print(\">>> complétude de la colonne : (\",\n",
    "      round(data['STADE DE DEVELOPPEMENT'].count()/len(data)*100,2),\n",
    "      \"% )\",\n",
    "      \"- (\",\n",
    "      data[column].count(),\n",
    "      \")\"\n",
    "     )\n",
    "print()\n",
    "\n",
    "# répartition des valeurs\n",
    "print(\">>> répartition des valeurs :\")\n",
    "\n",
    "serie = data['STADE DE DEVELOPPEMENT'].value_counts()\n",
    "\n",
    "for index in serie.index:\n",
    "    print(index,\n",
    "          \": (\",\n",
    "          round(serie[index]/len(data)*100,2), \"% )\", \n",
    "          \"- (\", \n",
    "          serie[index],\n",
    "          \")\"\n",
    "         )"
   ]
  },
  {
   "cell_type": "markdown",
   "metadata": {},
   "source": [
    "* Bilan de l'analyse de la colonne **STADE DE DEVELOPPEMENT** :\n",
    "  * elle est complète à **72%**\n",
    "  * ces données sont suffisamment réparties entre les différentes catégories\n",
    " \n",
    "**/!\\ Pour être exploitée, cette colonne doit être complétée /!\\**\n",
    " \n",
    "* Comment compléter intelligemment les données manquantes ?\n",
    "  * peut-on déduire un lien entre **STADE DE DEVELOPPEMENT** et d'autres colonnes ?\n",
    "    * ex : GENRE / ESPECE ?\n",
    "    * ex : CIRCONFERENCE / HAUTEUR ?"
   ]
  },
  {
   "cell_type": "markdown",
   "metadata": {},
   "source": [
    ">> #### 2.3.1.3. - Analyse plus poussée - REMARQUABLE"
   ]
  },
  {
   "cell_type": "code",
   "execution_count": 9,
   "metadata": {
    "scrolled": true
   },
   "outputs": [
    {
     "name": "stdout",
     "output_type": "stream",
     "text": [
      ">>> complétude de la colonne : ( 81.61 % ) - ( 205319 )\n",
      "\n",
      ">>> répartition des valeurs :\n",
      "NON : ( 81.52 % ) - ( 167380 )\n",
      "OUI : ( 0.09 % ) - ( 182 )\n"
     ]
    }
   ],
   "source": [
    "# complétude de la colonne\n",
    "print(\">>> complétude de la colonne : (\",\n",
    "      round(data['REMARQUABLE'].count()/len(data)*100,2),\n",
    "      \"% )\",\n",
    "      \"- (\",\n",
    "      data[column].count(),\n",
    "      \")\"\n",
    "     )\n",
    "print()\n",
    "\n",
    "# répartition des valeurs\n",
    "print(\">>> répartition des valeurs :\")\n",
    "\n",
    "serie = data['REMARQUABLE'].value_counts()\n",
    "\n",
    "for index in serie.index:\n",
    "    print(index,\n",
    "          \": (\",\n",
    "          round(serie[index]/len(data)*100,2), \"% )\", \n",
    "          \"- (\", \n",
    "          serie[index],\n",
    "          \")\"\n",
    "         )"
   ]
  },
  {
   "cell_type": "markdown",
   "metadata": {},
   "source": [
    "* Bilan de l'analyse de la colonne **REMARQUABLE** :\n",
    "  * elle est complète à **82%**\n",
    "  * la quasi totalité des données est répartie dans une seule catégorie (NON)\n",
    " \n",
    "**/!\\ Cette colonne peut être supprimée /!\\**"
   ]
  },
  {
   "cell_type": "code",
   "execution_count": 10,
   "metadata": {},
   "outputs": [
    {
     "name": "stdout",
     "output_type": "stream",
     "text": [
      ">>> suppression de la colonne REMARQUABLE\n",
      ">>> nombre de colonnes restantes : 11\n"
     ]
    }
   ],
   "source": [
    "# suppression des de la colonne REMARQUABLE\n",
    "try:\n",
    "    data = data.drop(columns=['REMARQUABLE'])\n",
    "    print(\">>> suppression de la colonne REMARQUABLE\")\n",
    "except KeyError:\n",
    "    print(\">>> les colonnes ont déjà été supprimées\")\n",
    "\n",
    "# nombre de colonnes restantes après suppression (normalement 11)\n",
    "print(\">>> nombre de colonnes restantes :\", len(data.columns))"
   ]
  },
  {
   "cell_type": "markdown",
   "metadata": {},
   "source": [
    "> ### 2.3.2. - Suppression des colonnes correspondantes à une autre (lien 1-1)"
   ]
  },
  {
   "cell_type": "code",
   "execution_count": 11,
   "metadata": {
    "scrolled": true
   },
   "outputs": [
    {
     "name": "stdout",
     "output_type": "stream",
     "text": [
      ">>> nombre d'index distincts par colonne :\n",
      "\n",
      "DOMANIALITE : ( 9 )\n",
      "ARRONDISSEMENT : ( 25 )\n",
      "LIEU / ADRESSE : ( 7147 )\n",
      "IDEMPLACEMENT : ( 70426 )\n",
      "LIBELLE FRANCAIS : ( 192 )\n",
      "GENRE : ( 175 )\n",
      "ESPECE : ( 540 )\n",
      "CIRCONFERENCE (cm) : ( 510 )\n",
      "HAUTEUR (m) : ( 147 )\n",
      "STADE DE DEVELOPPEMENT : ( 4 )\n",
      "geo_point_2d : ( 205310 )\n",
      "\n"
     ]
    }
   ],
   "source": [
    "# nombre d'index distincts par colonne\n",
    "print(\">>> nombre d'index distincts par colonne :\")\n",
    "print()\n",
    "for column in data.columns:\n",
    "    print(column, \": (\", len(data[column].value_counts()), \")\")\n",
    "print()"
   ]
  },
  {
   "cell_type": "markdown",
   "metadata": {},
   "source": [
    "* les colonnes les plus suceptibles de se correspondre ont un nombre d'index et des données similaires\n",
    "* les seules assez proches dans ce cas sont **LIBELLE FRANCAIS** & **GENRE**"
   ]
  },
  {
   "cell_type": "code",
   "execution_count": 16,
   "metadata": {},
   "outputs": [
    {
     "name": "stdout",
     "output_type": "stream",
     "text": [
      "La colonne GENRE a déjà été supprimée\n"
     ]
    }
   ],
   "source": [
    "# liste des LIBELLE FRANCAIS ayant plus de 1 genre\n",
    "\n",
    "try:\n",
    "    sub_data = data[['LIBELLE FRANCAIS', 'GENRE']]\n",
    "    serie = sub_data.groupby('LIBELLE FRANCAIS').GENRE.nunique() > 1\n",
    "\n",
    "    for index in serie.index:\n",
    "        if serie[index]:\n",
    "            print(\">>>\", index)\n",
    "            #print(\">>>\", data_save.loc[data_save['LIBELLE FRANCAIS'] == index, 'GENRE'].unique())\n",
    "            print(data_save.loc[data_save['LIBELLE FRANCAIS'] == index, 'GENRE'].value_counts())\n",
    "            print()\n",
    "except KeyError:\n",
    "    print(\"La colonne GENRE a déjà été supprimée\")"
   ]
  },
  {
   "cell_type": "markdown",
   "metadata": {},
   "source": [
    "Analyse des LIBELLE FRANCAIS:\n",
    "* Chimonanthe:\n",
    "  * Il y a une simple confusion entre l'ESPECE (Chionanthus) et le le GENRE (Chimonanthus)\n",
    "* Chêne:\n",
    "  * 1 seule différence qui semble être une erreur (Sapindus)\n",
    "* Cyprès:\n",
    "  * les deux catégories font référence à des Cyprès bien qu'il y ait de légères différences\n",
    "* ...\n",
    "\n",
    "dans l'ensemble la colonne **GENRE** n'apporte que très peu de valeur ajoutée par rapport à **LIBELLE FRANCAIS**\n",
    "* Soit il s'agit d'erreurs \n",
    "* Soit il n'y a qu'une seule différence qui est négligeable\n",
    "* Soit la différence concrète entre les genres est trop subtile pour être exploitée\n",
    "\n",
    "**/!\\ Nous pouvons supprimer la colonne GENRE /!\\**"
   ]
  },
  {
   "cell_type": "code",
   "execution_count": 13,
   "metadata": {},
   "outputs": [
    {
     "name": "stdout",
     "output_type": "stream",
     "text": [
      ">>> suppression de la colonne GENRE\n",
      ">>> nombre de colonnes restantes : 10\n"
     ]
    }
   ],
   "source": [
    "# suppression des de la colonne GENRE\n",
    "try:\n",
    "    data = data.drop(columns=['GENRE'])\n",
    "    print(\">>> suppression de la colonne GENRE\")\n",
    "except KeyError:\n",
    "    print(\">>> les colonnes ont déjà été supprimées\")\n",
    "\n",
    "# nombre de colonnes restantes après suppression (normalement 11)\n",
    "print(\">>> nombre de colonnes restantes :\", len(data.columns))"
   ]
  },
  {
   "cell_type": "markdown",
   "metadata": {},
   "source": [
    "> ### 2.3.3. - Suppression / Merge des données trop peu representées"
   ]
  },
  {
   "cell_type": "code",
   "execution_count": 14,
   "metadata": {},
   "outputs": [
    {
     "name": "stdout",
     "output_type": "stream",
     "text": [
      ">>> nombre d'index distincts par colonne :\n",
      "\n",
      "DOMANIALITE : ( 9 )\n",
      "ARRONDISSEMENT : ( 25 )\n",
      "LIEU / ADRESSE : ( 7147 )\n",
      "IDEMPLACEMENT : ( 70426 )\n",
      "LIBELLE FRANCAIS : ( 192 )\n",
      "ESPECE : ( 540 )\n",
      "CIRCONFERENCE (cm) : ( 510 )\n",
      "HAUTEUR (m) : ( 147 )\n",
      "STADE DE DEVELOPPEMENT : ( 4 )\n",
      "geo_point_2d : ( 205310 )\n",
      "\n",
      ">>> répartition des valeurs par colonne ayant peu d'index distincts (< 50) :\n",
      "\n",
      "              DOMANIALITE          %\n",
      "Alignement         106412  51.827644\n",
      "Jardin              48671  23.705064\n",
      "CIMETIERE           32201  15.683400\n",
      "DASCO                7126   3.470697\n",
      "PERIPHERIQUE         5399   2.629567\n",
      "DJS                  4072   1.983255\n",
      "DFPE                 1406   0.684788\n",
      "DAC                    21   0.010228\n",
      "DASES                  11   0.005358\n",
      "\n",
      "                   ARRONDISSEMENT         %\n",
      "PARIS 15E ARRDT             17369  8.459519\n",
      "PARIS 16E ARRDT             17076  8.316814\n",
      "PARIS 13E ARRDT             17058  8.308047\n",
      "PARIS 20E ARRDT             15554  7.575529\n",
      "PARIS 19E ARRDT             14443  7.034420\n",
      "PARIS 12E ARRDT             12606  6.139714\n",
      "PARIS 14E ARRDT             12000  5.844564\n",
      "BOIS DE VINCENNES           11841  5.767123\n",
      "SEINE-SAINT-DENIS           11622  5.660460\n",
      "PARIS 17E ARRDT             11048  5.380895\n",
      "PARIS 18E ARRDT             10476  5.102304\n",
      "PARIS 7E ARRDT               8758  4.265557\n",
      "VAL-DE-MARNE                 7553  3.678666\n",
      "PARIS 8E ARRDT               7238  3.525246\n",
      "PARIS 11E ARRDT              5919  2.882831\n",
      "HAUTS-DE-SEINE               5497  2.677297\n",
      "BOIS DE BOULOGNE             4100  1.996893\n",
      "PARIS 10E ARRDT              3435  1.673006\n",
      "PARIS 4E ARRDT               2771  1.349607\n",
      "PARIS 5E ARRDT               2505  1.220053\n",
      "PARIS 6E ARRDT               1783  0.868405\n",
      "PARIS 1ER ARRDT              1702  0.828954\n",
      "PARIS 3E ARRDT               1244  0.605886\n",
      "PARIS 9E ARRDT               1184  0.576664\n",
      "PARIS 2E ARRDT                537  0.261544\n",
      "\n",
      "    STADE DE DEVELOPPEMENT          %\n",
      "A                    71560  34.853082\n",
      "JA                   37527  18.277412\n",
      "J                    31836  15.505628\n",
      "M                     7112   3.463878\n",
      "\n"
     ]
    }
   ],
   "source": [
    "# nombre d'index distincts par colonne\n",
    "print(\">>> nombre d'index distincts par colonne :\")\n",
    "print()\n",
    "for column in data.columns:\n",
    "    print(column, \": (\", len(data[column].value_counts()), \")\")\n",
    "print()\n",
    "\n",
    "# répartition des valeurs par colonne ayant peu d'index distincts (< 50)\n",
    "print(\">>> répartition des valeurs par colonne ayant peu d'index distincts (< 50) :\")\n",
    "print()\n",
    "\n",
    "for column in data.columns:\n",
    "    if len(data[column].value_counts()) < 50:\n",
    "        serie = data[column].value_counts()\n",
    "        serie2 = data[column].value_counts()/len(data)*100\n",
    "        serie_f = serie.to_frame()\n",
    "        serie_f['%'] = serie2\n",
    "        print(serie_f)\n",
    "        print()"
   ]
  },
  {
   "cell_type": "markdown",
   "metadata": {},
   "source": [
    "**DOMANIALITE**\n",
    "* **On remarque que:**\n",
    "  * les index DAC / DASES / DFPE sont très faiblement représentés (< %1)\n",
    "  * les index DASCO / PERIPHERIQUE / DJS sont faiblement représentés (< 5%)\n",
    "    * total = 8%\n",
    "  * les trois autres index sont représentés comme suit :\n",
    "    * Alignement : 52%\n",
    "    * Jardin : 24%\n",
    "    * CIMETIERE :16%\n",
    "    * total = 92% \n",
    "* **Que faire des données ?**\n",
    "  * Doit-on supprimer les lignes trop peu représentées ?\n",
    "    * À partir de quel % est-ce acceptable de supprimer ? < à 1% cela semble OK\n",
    "    * Par contre, 3% de 200k lignes = 6k lignes\n",
    "  * Ou doit-on merger les groupes trop faiblement représentés entre-eux ? \n",
    "    * pour DAC / DASES / DFPE / DASCO / DJS on pourrait dire que cela a potentiellement du sens car ce sont des acronymes...\n",
    "    * Est-ce que cela a du sens pour PERIPHERIQUE ?\n",
    "    \n",
    ">\n",
    "\n",
    "**ARRONDISSEMENT**\n",
    "* **On remarque que:** \n",
    "  * l'ensemble des index sont plutôt bien répartis\n",
    "  * mais certaines valeurs sont très faibles par rapport à d'autres\n",
    "* **Que faire des données ?** : \n",
    "  * on les laisse telles quelles ?\n",
    "  * on merge des arrondissement proches entre eux ?\n",
    "  * [arrondissement de Paris](https://lh3.googleusercontent.com/proxy/QhI2ql8p8ZGKatVZJN_nDz4x0oPXkvlkVQuoa68onT3Ql6w_RJqDA5-gyzYxc_TTeEbeUNfayJrhwxQexcnoSJ5bQMT9TXbX0qbEApoUaWjgz61r0taWEck7l_1Zhmyz--7jygblsgvBJ5FOoNAR6XT-)\n",
    "    * ex: 1er + 2eme + 3eme + 4eme\n",
    "    * ex : 6eme + 7eme\n",
    "    * ex : 8eme + 9eme\n",
    "    * ex : Val de Marne + Bois de Vincenne ?\n",
    "    * ex : Hauts de Seine + Bois de Boulogne\n",
    "\n",
    ">\n",
    "\n",
    "**STADE DE DEVELOPPEMENT**\n",
    "* **On remarque que:** l'ensemble des index sont plutôt bien répartis\n",
    "* **Que faire des données ?** : on les laisse telles quelles"
   ]
  },
  {
   "cell_type": "markdown",
   "metadata": {},
   "source": [
    "> ### 2.3.4. - Suppression / Modification des données anormales"
   ]
  },
  {
   "cell_type": "markdown",
   "metadata": {},
   "source": [
    "Les colonnes les plus suceptibles d'abriter des donnnées anormales sont :\n",
    "* CIRCONFERENCE (cm)\n",
    "* HAUTEUR (m)\n",
    "    "
   ]
  },
  {
   "cell_type": "markdown",
   "metadata": {},
   "source": [
    "#### Analyse plus poussée - CIRCONFERENCE (cm)"
   ]
  },
  {
   "cell_type": "code",
   "execution_count": 72,
   "metadata": {
    "scrolled": true
   },
   "outputs": [
    {
     "data": {
      "text/plain": [
       "<matplotlib.axes._subplots.AxesSubplot at 0x1b2e110e388>"
      ]
     },
     "execution_count": 72,
     "metadata": {},
     "output_type": "execute_result"
    },
    {
     "data": {
      "image/png": "[encoded data removed]",
      "text/plain": [
       "<Figure size 432x288 with 1 Axes>"
      ]
     },
     "metadata": {
      "needs_background": "light"
     },
     "output_type": "display_data"
    }
   ],
   "source": [
    "sns.stripplot(x=data[['CIRCONFERENCE (cm)']], orient='v')"
   ]
  },
  {
   "cell_type": "markdown",
   "metadata": {},
   "source": [
    "* Quelques lignes semblent avoir des circonférences abherrantes\n",
    "* Nous pouvons les supprimer pour y voir plus clair"
   ]
  },
  {
   "cell_type": "code",
   "execution_count": 80,
   "metadata": {},
   "outputs": [
    {
     "data": {
      "text/plain": [
       "<matplotlib.axes._subplots.AxesSubplot at 0x1b2e1255308>"
      ]
     },
     "execution_count": 80,
     "metadata": {},
     "output_type": "execute_result"
    },
    {
     "data": {
      "image/png": "[encoded data removed]",
      "text/plain": [
       "<Figure size 432x288 with 1 Axes>"
      ]
     },
     "metadata": {
      "needs_background": "light"
     },
     "output_type": "display_data"
    }
   ],
   "source": [
    "clean_data = data[~(data['CIRCONFERENCE (cm)'] > 10000)]\n",
    "sns.stripplot(x=clean_data['CIRCONFERENCE (cm)'], orient='v')"
   ]
  },
  {
   "cell_type": "markdown",
   "metadata": {},
   "source": [
    "#### Analyse plus poussée - HAUTEUR (m)"
   ]
  },
  {
   "cell_type": "code",
   "execution_count": 71,
   "metadata": {},
   "outputs": [
    {
     "data": {
      "text/plain": [
       "<matplotlib.axes._subplots.AxesSubplot at 0x1b2dfde4208>"
      ]
     },
     "execution_count": 71,
     "metadata": {},
     "output_type": "execute_result"
    },
    {
     "data": {
      "image/png": "[encoded data removed]",
      "text/plain": [
       "<Figure size 432x288 with 1 Axes>"
      ]
     },
     "metadata": {
      "needs_background": "light"
     },
     "output_type": "display_data"
    }
   ],
   "source": [
    "sns.stripplot(x=data[['HAUTEUR (m)']], orient='v')"
   ]
  },
  {
   "cell_type": "code",
   "execution_count": null,
   "metadata": {},
   "outputs": [],
   "source": []
  },
  {
   "cell_type": "markdown",
   "metadata": {},
   "source": [
    "## 2.4. - Compléter les données manquantes\n",
    "---"
   ]
  },
  {
   "cell_type": "markdown",
   "metadata": {},
   "source": [
    "> ### 2.4.1. - Complétion de la colonne ESPECE"
   ]
  },
  {
   "cell_type": "markdown",
   "metadata": {},
   "source": [
    "> ### 2.4.2. - Complétion de la colonne STADE DE DEVELOPPEMENT"
   ]
  },
  {
   "cell_type": "markdown",
   "metadata": {},
   "source": [
    "## 2.5. - Revérification suite à la complétion des données \n",
    "---"
   ]
  },
  {
   "cell_type": "markdown",
   "metadata": {},
   "source": [
    "# 3. - Analyser & exploiter\n",
    "---\n",
    "---"
   ]
  }
 ],
 "metadata": {
  "kernelspec": {
   "display_name": "Python 3",
   "language": "python",
   "name": "python3"
  },
  "language_info": {
   "codemirror_mode": {
    "name": "ipython",
    "version": 3
   },
   "file_extension": ".py",
   "mimetype": "text/x-python",
   "name": "python",
   "nbconvert_exporter": "python",
   "pygments_lexer": "ipython3",
   "version": "3.7.6"
  }
 },
 "nbformat": 4,
 "nbformat_minor": 4
}
