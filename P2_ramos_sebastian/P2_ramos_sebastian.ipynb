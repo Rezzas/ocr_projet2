{
 "cells": [
  {
   "cell_type": "markdown",
   "metadata": {
    "toc": true
   },
   "source": [
    "<h1>Sommaire<span class=\"tocSkip\"></span></h1>\n",
    "<div class=\"toc\"><ul class=\"toc-item\"><li><span><a href=\"#--Récupérer-&amp;-charger-les-données\" data-toc-modified-id=\"--Récupérer-&amp;-charger-les-données-1\"><span class=\"toc-item-num\">1&nbsp;&nbsp;</span>- Récupérer &amp; charger les données</a></span><ul class=\"toc-item\"><li><span><a href=\"#--Récupérer-le-jeu-de-données\" data-toc-modified-id=\"--Récupérer-le-jeu-de-données-1.1\"><span class=\"toc-item-num\">1.1&nbsp;&nbsp;</span>- Récupérer le jeu de données</a></span></li><li><span><a href=\"#--Définition-des-acronymes\" data-toc-modified-id=\"--Définition-des-acronymes-1.2\"><span class=\"toc-item-num\">1.2&nbsp;&nbsp;</span>- Définition des acronymes</a></span></li><li><span><a href=\"#--Charger-les-données-dans-le-Notebook\" data-toc-modified-id=\"--Charger-les-données-dans-le-Notebook-1.3\"><span class=\"toc-item-num\">1.3&nbsp;&nbsp;</span>- Charger les données dans le Notebook</a></span></li></ul></li><li><span><a href=\"#--Nettoyer-&amp;-consolider\" data-toc-modified-id=\"--Nettoyer-&amp;-consolider-2\"><span class=\"toc-item-num\">2&nbsp;&nbsp;</span>- Nettoyer &amp; consolider</a></span><ul class=\"toc-item\"><li><span><a href=\"#--Analyse-rapide-du-fichier\" data-toc-modified-id=\"--Analyse-rapide-du-fichier-2.1\"><span class=\"toc-item-num\">2.1&nbsp;&nbsp;</span>- Analyse rapide du fichier</a></span></li><li><span><a href=\"#--Suppression-des-données-trop-incomplètes\" data-toc-modified-id=\"--Suppression-des-données-trop-incomplètes-2.2\"><span class=\"toc-item-num\">2.2&nbsp;&nbsp;</span>- Suppression des données trop incomplètes</a></span></li><li><span><a href=\"#--Suppression-/-Modification-/-Merge-des-données\" data-toc-modified-id=\"--Suppression-/-Modification-/-Merge-des-données-2.3\"><span class=\"toc-item-num\">2.3&nbsp;&nbsp;</span>- Suppression / Modification / Merge des données</a></span><ul class=\"toc-item\"><li><span><a href=\"#--Suppression-des-colonnes-toujours-uniques-/-identiques-(ou-quasi)\" data-toc-modified-id=\"--Suppression-des-colonnes-toujours-uniques-/-identiques-(ou-quasi)-2.3.1\"><span class=\"toc-item-num\">2.3.1&nbsp;&nbsp;</span>- Suppression des colonnes toujours uniques / identiques (ou quasi)</a></span><ul class=\"toc-item\"><li><span><a href=\"#--Analyse-plus-poussée---IDEMPLACEMENT\" data-toc-modified-id=\"--Analyse-plus-poussée---IDEMPLACEMENT-2.3.1.1\"><span class=\"toc-item-num\">2.3.1.1&nbsp;&nbsp;</span>- Analyse plus poussée - IDEMPLACEMENT</a></span></li><li><span><a href=\"#--Analyse-plus-poussée---STADE-DE-DEVELOPPEMENT\" data-toc-modified-id=\"--Analyse-plus-poussée---STADE-DE-DEVELOPPEMENT-2.3.1.2\"><span class=\"toc-item-num\">2.3.1.2&nbsp;&nbsp;</span>- Analyse plus poussée - STADE DE DEVELOPPEMENT</a></span></li><li><span><a href=\"#--Analyse-plus-poussée---REMARQUABLE\" data-toc-modified-id=\"--Analyse-plus-poussée---REMARQUABLE-2.3.1.3\"><span class=\"toc-item-num\">2.3.1.3&nbsp;&nbsp;</span>- Analyse plus poussée - REMARQUABLE</a></span></li></ul></li><li><span><a href=\"#--Suppression-des-colonnes-correspondantes-à-une-autre-(lien-1-1)\" data-toc-modified-id=\"--Suppression-des-colonnes-correspondantes-à-une-autre-(lien-1-1)-2.3.2\"><span class=\"toc-item-num\">2.3.2&nbsp;&nbsp;</span>- Suppression des colonnes correspondantes à une autre (lien 1-1)</a></span></li><li><span><a href=\"#--Suppression-/-Merge-des-données-trop-peu-représentées\" data-toc-modified-id=\"--Suppression-/-Merge-des-données-trop-peu-représentées-2.3.3\"><span class=\"toc-item-num\">2.3.3&nbsp;&nbsp;</span>- Suppression / Merge des données trop peu représentées</a></span></li><li><span><a href=\"#--Analyse-des-données-anormales\" data-toc-modified-id=\"--Analyse-des-données-anormales-2.3.4\"><span class=\"toc-item-num\">2.3.4&nbsp;&nbsp;</span>- Analyse des données anormales</a></span><ul class=\"toc-item\"><li><span><a href=\"#CIRCONFERENCE-(cm)\" data-toc-modified-id=\"CIRCONFERENCE-(cm)-2.3.4.1\"><span class=\"toc-item-num\">2.3.4.1&nbsp;&nbsp;</span>CIRCONFERENCE (cm)</a></span></li><li><span><a href=\"#HAUTEUR-(m)\" data-toc-modified-id=\"HAUTEUR-(m)-2.3.4.2\"><span class=\"toc-item-num\">2.3.4.2&nbsp;&nbsp;</span>HAUTEUR (m)</a></span></li></ul></li><li><span><a href=\"#--Modifier-les-données-égales-à-0-&amp;-Supprimer-les-données-anormales\" data-toc-modified-id=\"--Modifier-les-données-égales-à-0-&amp;-Supprimer-les-données-anormales-2.3.5\"><span class=\"toc-item-num\">2.3.5&nbsp;&nbsp;</span>- Modifier les données égales à 0 &amp; Supprimer les données anormales</a></span><ul class=\"toc-item\"><li><span><a href=\"#CIRCONFERENCE-(cm)-et-HAUTEUR-(m)-égales-à-0\" data-toc-modified-id=\"CIRCONFERENCE-(cm)-et-HAUTEUR-(m)-égales-à-0-2.3.5.1\"><span class=\"toc-item-num\">2.3.5.1&nbsp;&nbsp;</span>CIRCONFERENCE (cm) et HAUTEUR (m) égales à 0</a></span></li><li><span><a href=\"#CIRCONFERENCE-(cm)-et-HAUTEUR-(m)-anormales-(z-score)\" data-toc-modified-id=\"CIRCONFERENCE-(cm)-et-HAUTEUR-(m)-anormales-(z-score)-2.3.5.2\"><span class=\"toc-item-num\">2.3.5.2&nbsp;&nbsp;</span>CIRCONFERENCE (cm) et HAUTEUR (m) anormales (z-score)</a></span></li></ul></li></ul></li><li><span><a href=\"#--Compléter-les-données-manquantes\" data-toc-modified-id=\"--Compléter-les-données-manquantes-2.4\"><span class=\"toc-item-num\">2.4&nbsp;&nbsp;</span>- Compléter les données manquantes</a></span><ul class=\"toc-item\"><li><span><a href=\"#--Complétion-de-la-colonne-LIBELLE-FRANCAIS\" data-toc-modified-id=\"--Complétion-de-la-colonne-LIBELLE-FRANCAIS-2.4.1\"><span class=\"toc-item-num\">2.4.1&nbsp;&nbsp;</span>- Complétion de la colonne LIBELLE FRANCAIS</a></span><ul class=\"toc-item\"><li><span><a href=\"#complétion-avec-le-GENRE\" data-toc-modified-id=\"complétion-avec-le-GENRE-2.4.1.1\"><span class=\"toc-item-num\">2.4.1.1&nbsp;&nbsp;</span>complétion avec le GENRE</a></span></li><li><span><a href=\"#complétion-avec-l'ESPECE\" data-toc-modified-id=\"complétion-avec-l'ESPECE-2.4.1.2\"><span class=\"toc-item-num\">2.4.1.2&nbsp;&nbsp;</span>complétion avec l'ESPECE</a></span></li><li><span><a href=\"#Suppression-des-derniers-LIBELLE-FRANCAIS-vides\" data-toc-modified-id=\"Suppression-des-derniers-LIBELLE-FRANCAIS-vides-2.4.1.3\"><span class=\"toc-item-num\">2.4.1.3&nbsp;&nbsp;</span>Suppression des derniers LIBELLE FRANCAIS vides</a></span></li></ul></li><li><span><a href=\"#--Complétion-de-la-colonne-ESPECE\" data-toc-modified-id=\"--Complétion-de-la-colonne-ESPECE-2.4.2\"><span class=\"toc-item-num\">2.4.2&nbsp;&nbsp;</span>- Complétion de la colonne ESPECE</a></span></li><li><span><a href=\"#--Complétion-de-la-colonne-STADE-DE-DEVELOPPEMENT\" data-toc-modified-id=\"--Complétion-de-la-colonne-STADE-DE-DEVELOPPEMENT-2.4.3\"><span class=\"toc-item-num\">2.4.3&nbsp;&nbsp;</span>- Complétion de la colonne STADE DE DEVELOPPEMENT</a></span></li></ul></li><li><span><a href=\"#--Résumé-des-données-supprimées-/-complétés-/-mergées\" data-toc-modified-id=\"--Résumé-des-données-supprimées-/-complétés-/-mergées-2.5\"><span class=\"toc-item-num\">2.5&nbsp;&nbsp;</span>- Résumé des données supprimées / complétés / mergées</a></span></li></ul></li><li><span><a href=\"#--Analyser-&amp;-exploiter\" data-toc-modified-id=\"--Analyser-&amp;-exploiter-3\"><span class=\"toc-item-num\">3&nbsp;&nbsp;</span>- Analyser &amp; exploiter</a></span><ul class=\"toc-item\"><li><span><a href=\"#Distribution-des-variables-continues\" data-toc-modified-id=\"Distribution-des-variables-continues-3.1\"><span class=\"toc-item-num\">3.1&nbsp;&nbsp;</span>Distribution des variables continues</a></span></li><li><span><a href=\"#Distribution-des-variables-catégorielles\" data-toc-modified-id=\"Distribution-des-variables-catégorielles-3.2\"><span class=\"toc-item-num\">3.2&nbsp;&nbsp;</span>Distribution des variables catégorielles</a></span></li></ul></li></ul></div>"
   ]
  },
  {
   "cell_type": "code",
   "execution_count": null,
   "metadata": {},
   "outputs": [],
   "source": []
  },
  {
   "cell_type": "code",
   "execution_count": null,
   "metadata": {},
   "outputs": [],
   "source": []
  },
  {
   "cell_type": "markdown",
   "metadata": {},
   "source": [
    ">> TO DO\n",
    "\n",
    "2...\n",
    "* Revoir l'ordre de complétion (modification des valeurs égales à 0) des données\n",
    "  * ESPECE ?\n",
    "  * LIBELLE FRANCAIS \n",
    "  * CIRCONFERENCE\n",
    "  * HAUTEUR\n",
    "  * STADE DE DEVELOPPEMENT\n",
    "  \n",
    "* Ecarter les valeurs anormales (z-score)\n",
    "\n",
    "\n",
    "3....\n",
    "* Analyse des colonnes\n",
    "  * distribution variables continues (boxplot)\n",
    "  * distribution variables catégorielles (barplot)\n",
    "  \n",
    "* Affichage de la carte Folium"
   ]
  },
  {
   "cell_type": "code",
   "execution_count": null,
   "metadata": {},
   "outputs": [],
   "source": []
  },
  {
   "cell_type": "code",
   "execution_count": null,
   "metadata": {},
   "outputs": [],
   "source": []
  },
  {
   "cell_type": "markdown",
   "metadata": {},
   "source": [
    "# - Récupérer & charger les données\n",
    "---\n",
    "---"
   ]
  },
  {
   "cell_type": "markdown",
   "metadata": {},
   "source": [
    "## - Récupérer le jeu de données\n",
    "---\n",
    "\n",
    "[Lien officiel de la Mairie de Paris pour exporter le jeu de données - les arbres](https://opendata.paris.fr/explore/dataset/les-arbres/export/)"
   ]
  },
  {
   "cell_type": "markdown",
   "metadata": {},
   "source": [
    "## - Définition des acronymes\n",
    "---"
   ]
  },
  {
   "cell_type": "markdown",
   "metadata": {},
   "source": [
    "* **Stade de développement** (dans l'ordre de croissance)\n",
    "  * J = **J**eune\n",
    "  * JA = **J**eune **A**rbre\n",
    "  * A = **A**dulte\n",
    "  * M = **M**ature\n",
    "  \n",
    "  \n",
    "* **Domanialité**\n",
    "  * DASCO = **D**irection des **A**ffaires **SCO**laires\n",
    "  * DJS = **D**irection de la **J**eunesse et des **S**ports\n",
    "  * DFPE = **D**irection des **F**amilles et de la **P**etite **E**nfance\n",
    "  * DAC = **D**irection des **A**ffaires **C**ulturelles\n",
    "  * DASES = **D**irection de l'**A**ction **S**ociale, de l'**E**nfance et de la **S**anté\n",
    "  * Alignement = le long des voies\n",
    "  \n",
    "* **Espece**\n",
    "  * n. sp. = new specie (nouvelle espèce)"
   ]
  },
  {
   "cell_type": "markdown",
   "metadata": {},
   "source": [
    "## - Charger les données dans le Notebook\n",
    "---"
   ]
  },
  {
   "cell_type": "code",
   "execution_count": 1,
   "metadata": {
    "scrolled": true
   },
   "outputs": [
    {
     "data": {
      "text/html": [
       "<div>\n",
       "<style scoped>\n",
       "    .dataframe tbody tr th:only-of-type {\n",
       "        vertical-align: middle;\n",
       "    }\n",
       "\n",
       "    .dataframe tbody tr th {\n",
       "        vertical-align: top;\n",
       "    }\n",
       "\n",
       "    .dataframe thead th {\n",
       "        text-align: right;\n",
       "    }\n",
       "</style>\n",
       "<table border=\"1\" class=\"dataframe\">\n",
       "  <thead>\n",
       "    <tr style=\"text-align: right;\">\n",
       "      <th></th>\n",
       "      <th>IDBASE</th>\n",
       "      <th>TYPE EMPLACEMENT</th>\n",
       "      <th>DOMANIALITE</th>\n",
       "      <th>ARRONDISSEMENT</th>\n",
       "      <th>COMPLEMENT ADRESSE</th>\n",
       "      <th>NUMERO</th>\n",
       "      <th>LIEU / ADRESSE</th>\n",
       "      <th>IDEMPLACEMENT</th>\n",
       "      <th>LIBELLE FRANCAIS</th>\n",
       "      <th>GENRE</th>\n",
       "      <th>ESPECE</th>\n",
       "      <th>VARIETE OUCULTIVAR</th>\n",
       "      <th>CIRCONFERENCE (cm)</th>\n",
       "      <th>HAUTEUR (m)</th>\n",
       "      <th>STADE DE DEVELOPPEMENT</th>\n",
       "      <th>REMARQUABLE</th>\n",
       "      <th>geo_point_2d</th>\n",
       "    </tr>\n",
       "  </thead>\n",
       "  <tbody>\n",
       "    <tr>\n",
       "      <th>0</th>\n",
       "      <td>205333</td>\n",
       "      <td>Arbre</td>\n",
       "      <td>Alignement</td>\n",
       "      <td>PARIS 16E ARRDT</td>\n",
       "      <td>NaN</td>\n",
       "      <td>NaN</td>\n",
       "      <td>AVENUE RAPHAEL</td>\n",
       "      <td>000402003</td>\n",
       "      <td>Marronnier</td>\n",
       "      <td>Aesculus</td>\n",
       "      <td>x carnea</td>\n",
       "      <td>''Briotii''</td>\n",
       "      <td>45</td>\n",
       "      <td>6</td>\n",
       "      <td>JA</td>\n",
       "      <td>NON</td>\n",
       "      <td>48.8588402306,2.26763110493</td>\n",
       "    </tr>\n",
       "    <tr>\n",
       "      <th>1</th>\n",
       "      <td>240074</td>\n",
       "      <td>Arbre</td>\n",
       "      <td>Alignement</td>\n",
       "      <td>PARIS 14E ARRDT</td>\n",
       "      <td>NaN</td>\n",
       "      <td>NaN</td>\n",
       "      <td>AVENUE JEAN MOULIN</td>\n",
       "      <td>000802013</td>\n",
       "      <td>Frêne</td>\n",
       "      <td>Fraxinus</td>\n",
       "      <td>excelsior</td>\n",
       "      <td>NaN</td>\n",
       "      <td>115</td>\n",
       "      <td>10</td>\n",
       "      <td>A</td>\n",
       "      <td>NON</td>\n",
       "      <td>48.8250125374,2.32019536596</td>\n",
       "    </tr>\n",
       "    <tr>\n",
       "      <th>2</th>\n",
       "      <td>246914</td>\n",
       "      <td>Arbre</td>\n",
       "      <td>Alignement</td>\n",
       "      <td>PARIS 6E ARRDT</td>\n",
       "      <td>F40 guynemer</td>\n",
       "      <td>NaN</td>\n",
       "      <td>RUE GUYNEMER</td>\n",
       "      <td>000101028</td>\n",
       "      <td>Chêne</td>\n",
       "      <td>Quercus</td>\n",
       "      <td>rubra</td>\n",
       "      <td>NaN</td>\n",
       "      <td>60</td>\n",
       "      <td>10</td>\n",
       "      <td>A</td>\n",
       "      <td>NON</td>\n",
       "      <td>48.8452824993,2.33245623015</td>\n",
       "    </tr>\n",
       "    <tr>\n",
       "      <th>3</th>\n",
       "      <td>150768</td>\n",
       "      <td>Arbre</td>\n",
       "      <td>CIMETIERE</td>\n",
       "      <td>SEINE-SAINT-DENIS</td>\n",
       "      <td>NaN</td>\n",
       "      <td>NaN</td>\n",
       "      <td>CIMETIERE DE PANTIN / AVENUE DES MARRONNIERS A...</td>\n",
       "      <td>A06400210008</td>\n",
       "      <td>Marronnier</td>\n",
       "      <td>Aesculus</td>\n",
       "      <td>hippocastanum</td>\n",
       "      <td>''Baumannii''</td>\n",
       "      <td>0</td>\n",
       "      <td>0</td>\n",
       "      <td>NaN</td>\n",
       "      <td>NaN</td>\n",
       "      <td>48.9071597597,2.40980703764</td>\n",
       "    </tr>\n",
       "    <tr>\n",
       "      <th>4</th>\n",
       "      <td>184316</td>\n",
       "      <td>Arbre</td>\n",
       "      <td>DASCO</td>\n",
       "      <td>PARIS 18E ARRDT</td>\n",
       "      <td>NaN</td>\n",
       "      <td>NaN</td>\n",
       "      <td>ECOLE ELEMENTAIRE / 5 RUE FERDINAND FLOCON</td>\n",
       "      <td>105401006</td>\n",
       "      <td>Platane</td>\n",
       "      <td>Platanus</td>\n",
       "      <td>x hispanica</td>\n",
       "      <td>NaN</td>\n",
       "      <td>180</td>\n",
       "      <td>18</td>\n",
       "      <td>A</td>\n",
       "      <td>NON</td>\n",
       "      <td>48.8916314581,2.34521334828</td>\n",
       "    </tr>\n",
       "  </tbody>\n",
       "</table>\n",
       "</div>"
      ],
      "text/plain": [
       "   IDBASE TYPE EMPLACEMENT DOMANIALITE     ARRONDISSEMENT COMPLEMENT ADRESSE  \\\n",
       "0  205333            Arbre  Alignement    PARIS 16E ARRDT                NaN   \n",
       "1  240074            Arbre  Alignement    PARIS 14E ARRDT                NaN   \n",
       "2  246914            Arbre  Alignement     PARIS 6E ARRDT       F40 guynemer   \n",
       "3  150768            Arbre   CIMETIERE  SEINE-SAINT-DENIS                NaN   \n",
       "4  184316            Arbre       DASCO    PARIS 18E ARRDT                NaN   \n",
       "\n",
       "   NUMERO                                     LIEU / ADRESSE IDEMPLACEMENT  \\\n",
       "0     NaN                                     AVENUE RAPHAEL     000402003   \n",
       "1     NaN                                 AVENUE JEAN MOULIN     000802013   \n",
       "2     NaN                                       RUE GUYNEMER     000101028   \n",
       "3     NaN  CIMETIERE DE PANTIN / AVENUE DES MARRONNIERS A...  A06400210008   \n",
       "4     NaN         ECOLE ELEMENTAIRE / 5 RUE FERDINAND FLOCON     105401006   \n",
       "\n",
       "  LIBELLE FRANCAIS     GENRE         ESPECE VARIETE OUCULTIVAR  \\\n",
       "0       Marronnier  Aesculus       x carnea        ''Briotii''   \n",
       "1            Frêne  Fraxinus      excelsior                NaN   \n",
       "2            Chêne   Quercus          rubra                NaN   \n",
       "3       Marronnier  Aesculus  hippocastanum      ''Baumannii''   \n",
       "4          Platane  Platanus    x hispanica                NaN   \n",
       "\n",
       "   CIRCONFERENCE (cm)  HAUTEUR (m) STADE DE DEVELOPPEMENT REMARQUABLE  \\\n",
       "0                  45            6                     JA         NON   \n",
       "1                 115           10                      A         NON   \n",
       "2                  60           10                      A         NON   \n",
       "3                   0            0                    NaN         NaN   \n",
       "4                 180           18                      A         NON   \n",
       "\n",
       "                  geo_point_2d  \n",
       "0  48.8588402306,2.26763110493  \n",
       "1  48.8250125374,2.32019536596  \n",
       "2  48.8452824993,2.33245623015  \n",
       "3  48.9071597597,2.40980703764  \n",
       "4  48.8916314581,2.34521334828  "
      ]
     },
     "execution_count": 1,
     "metadata": {},
     "output_type": "execute_result"
    }
   ],
   "source": [
    "# import des librairies utiles à l'analyse\n",
    "import numpy as np\n",
    "import pandas as pd\n",
    "import seaborn as sns\n",
    "\n",
    "# lecture du fichier les-arbres.csv pour le charger en tant que DataFrame\n",
    "data = pd.read_csv('les-arbres.csv', sep=';')\n",
    "\n",
    "# données sauvegardées q5ui ne subiront pas de modification\n",
    "data_save = data\n",
    "\n",
    "# affichage des 5 premières lignes du fichier\n",
    "data.head(5)"
   ]
  },
  {
   "cell_type": "markdown",
   "metadata": {},
   "source": [
    "# - Nettoyer & consolider\n",
    "---\n",
    "---"
   ]
  },
  {
   "cell_type": "markdown",
   "metadata": {},
   "source": [
    "## - Analyse rapide du fichier\n",
    "---"
   ]
  },
  {
   "cell_type": "code",
   "execution_count": null,
   "metadata": {
    "scrolled": true
   },
   "outputs": [],
   "source": [
    "# nombre de lignes\n",
    "print(\">>> nombre de lignes :\", len(data))\n",
    "\n",
    "# nombre de colonnes\n",
    "print(\">>> nombre de colonnes :\", len(data.columns))"
   ]
  },
  {
   "cell_type": "markdown",
   "metadata": {},
   "source": [
    "## - Suppression des données trop incomplètes\n",
    "---"
   ]
  },
  {
   "cell_type": "code",
   "execution_count": null,
   "metadata": {},
   "outputs": [],
   "source": [
    "# complétude de chaque colonne\n",
    "print(\">>> complétude de chaque colonne : ( nombre de lignes totale :\", len(data),\")\")\n",
    "print()\n",
    "\n",
    "for column in data.columns:\n",
    "    print(column, \n",
    "          \": (\", \n",
    "          round(data[column].count()/len(data)*100,2), \"% )\",\n",
    "          \"- (\",\n",
    "          data[column].count(),\n",
    "          \")\"\n",
    "         )"
   ]
  },
  {
   "cell_type": "markdown",
   "metadata": {},
   "source": [
    "* Les colonnes suivantes peuvent être supprimées :\n",
    "  * **COMPLEMENT ADRESSE** n'est complète qu'à **18%**\n",
    "  * **NUMERO** est toujours **vide**\n",
    "  * **VARIETE OUCULTIVAR** n'est complète qu'à **19%**\n",
    "\n",
    "\n",
    "* À noter que certaines colonnes ne sont que partiellement incomplètes :\n",
    "  * **LIBELLE FRANCAIS** est complète à **99%**\n",
    "  * **ESPECE** est complète à **99%**\n",
    "  * **STADE DE DEVELOPPEMENT** est complète à **72%**\n",
    "  * **REMARQUABLE** est complète à **82%**\n",
    "* Une analyse plus poussée est à faire sur ces colonnes (voir plus bas)"
   ]
  },
  {
   "cell_type": "code",
   "execution_count": null,
   "metadata": {},
   "outputs": [],
   "source": [
    "# suppression des colonnes trop incomplètes\n",
    "try:\n",
    "    data = data.drop(columns=['COMPLEMENT ADRESSE', 'NUMERO', 'VARIETE OUCULTIVAR'])\n",
    "    print(\">>> suppression des colonnes trop incomplètes\")\n",
    "except KeyError:\n",
    "    print(\">>> les colonnes ont déjà été supprimées\")\n",
    "\n",
    "# nombre de colonnes restantes après suppression (normalement 14)\n",
    "print(\">>> nombre de colonnes restantes :\", len(data.columns))"
   ]
  },
  {
   "cell_type": "markdown",
   "metadata": {},
   "source": [
    "## - Suppression / Modification / Merge des données\n",
    "---\n",
    "\n",
    "**Une colonne peut être jugée inutile si :**\n",
    "* l'ensemble de ses valeurs sont toujours uniques (hors coordonnées GPS)\n",
    "  - suppression de la donnée\n",
    "  \n",
    "  \n",
    "* l'ensemble de ses valeurs sont toujours identiques ou quasiment identiques\n",
    "  * suppression de la donnée\n",
    "  \n",
    "  \n",
    "* l'ensemble de ses valeurs, bien que différentes, correspondent valeur par valeur à une autre colonne (lien 1-1)\n",
    "  * suppression d'une des données\n",
    "\n",
    "**Une donnée peut être jugée inutile si :**\n",
    "* elle est trop peu représentée pour avoir un réel impact sur l'analyse\n",
    "  * ex : la domanialité DASES ne concerne que 11 lignes du fichier\n",
    "  * suppression ou merge de la donnée\n",
    "  \n",
    "  \n",
    "* par rapport à l'ensemble des données du même type, sa valeur est radicalement différente sans raison apparente\n",
    "  * ex : une hauteur de 10 000 mètres pour un arbre n'est pas crédible\n",
    "  * suppression ou modification de la donnée"
   ]
  },
  {
   "cell_type": "markdown",
   "metadata": {},
   "source": [
    "> ### - Suppression des colonnes toujours uniques / identiques (ou quasi)"
   ]
  },
  {
   "cell_type": "code",
   "execution_count": null,
   "metadata": {
    "scrolled": true
   },
   "outputs": [],
   "source": [
    "# unicité de chaque colonne\n",
    "print(\">>> unicité de chaque colonne :\")\n",
    "print()\n",
    "\n",
    "for column in data.columns:\n",
    "    print(column, \n",
    "          \": (\", \n",
    "          round(data[column].value_counts().count()/len(data)*100,2), \"% )\", \n",
    "          \"- (\", \n",
    "          data[column].value_counts().count(),\n",
    "          \")\"\n",
    "         )"
   ]
  },
  {
   "cell_type": "markdown",
   "metadata": {},
   "source": [
    "* Les colonnes suivantes peuvent être supprimées :\n",
    "  * **IDBASE** est unique à **100%** puisque c'est un ID\n",
    "  * **TYPE EMPLACEMENT** contient une **unique valeur ( 1 )** (Arbre)\n",
    "  \n",
    "\n",
    "\n",
    "* À noter que la colonne **geo_point_2d** ne contient que des valeurs uniques mais reste pertinente pour l'analyse des données\n",
    "\n",
    "\n",
    "* À noter qu'une analyse plus poussée est nécessaire pour les colonnes suivantes :\n",
    "  * **IDEMPLACEMENT** n'est **pas toujours unique** malgré que ce soit à priori un ID\n",
    "  * **STADE DE DEVELOPPEMENT** ne contient que **4 valeurs distinctes**\n",
    "  * **REMARQUABLE** ne contient que **2 valeurs distinctes**"
   ]
  },
  {
   "cell_type": "code",
   "execution_count": null,
   "metadata": {},
   "outputs": [],
   "source": [
    "# suppression des colonnes \"uniques\"\n",
    "try:\n",
    "    data = data.drop(columns=['IDBASE', 'TYPE EMPLACEMENT'])\n",
    "    print(\">>> suppression des colonnes 'uniques'\")\n",
    "except KeyError:\n",
    "    print(\">>> les colonnes ont déjà été supprimées\")\n",
    "\n",
    "# nombre de colonnes restantes après suppression (normalement 12)\n",
    "print(\">>> nombre de colonnes restantes :\", len(data.columns))"
   ]
  },
  {
   "cell_type": "markdown",
   "metadata": {},
   "source": [
    ">> #### - Analyse plus poussée - IDEMPLACEMENT"
   ]
  },
  {
   "cell_type": "code",
   "execution_count": null,
   "metadata": {
    "scrolled": true
   },
   "outputs": [],
   "source": [
    "# complétude de la colonne\n",
    "print(\">>> complétude de la colonne : (\",\n",
    "      round(data['IDEMPLACEMENT'].count()/len(data)*100,2),\n",
    "      \"% )\",\n",
    "      \"- (\",\n",
    "      data[column].count(),\n",
    "      \")\"\n",
    "     )\n",
    "\n",
    "# unicité de la colonne\n",
    "print(\">>> unicité de la colonne : (\",\n",
    "      round(data['IDEMPLACEMENT'].value_counts().count()/len(data)*100,2), \"% )\", \n",
    "      \"- (\", \n",
    "      data['IDEMPLACEMENT'].value_counts().count(),\n",
    "      \")\"\n",
    "     )\n",
    "print()\n",
    "\n",
    "\n",
    "#zoom 1:\n",
    "idcut = pd.cut(data['IDEMPLACEMENT'].value_counts(normalize=True),np.arange(0,1,0.1))\n",
    "print(\">>> zoom 1 : aucun identifiant n'est en doublon + de\", int(round(0.1*len(data),0)), \"fois (10%)\")\n",
    "print(idcut.value_counts().sort_index())\n",
    "print()\n",
    "\n",
    "#zoom 2:\n",
    "idcut = pd.cut(data['IDEMPLACEMENT'].value_counts(normalize=True),np.arange(0,0.1,0.01))\n",
    "print(\">>> zoom 2 : aucun identifiant n'est en doublon + de\", int(round(0.01*len(data),0)), \"fois (1%)\")\n",
    "print(idcut.value_counts().sort_index())\n",
    "print()\n",
    "\n",
    "#zoom 3: \n",
    "idcut = pd.cut(data['IDEMPLACEMENT'].value_counts(normalize=True),np.arange(0,0.01,0.001))\n",
    "print(\">>> zoom 3  : la plupart des identifiants sont en doublons + de\", int(round(0.001*len(data),0)), \"fois (0.1%)\")\n",
    "print(idcut.value_counts().sort_index())\n",
    "print()\n",
    "\n",
    "#zoom 4: \n",
    "idcut = pd.cut(data['IDEMPLACEMENT'].value_counts(normalize=True),np.arange(0.001,0.009,0.0005))\n",
    "print(\">>> zoom 4  : la plupart des identifiants sont en doublons + de\", int(round(0.001*len(data),0)), \"fois (0.01%)\")\n",
    "print(idcut.value_counts().sort_index())\n",
    "print()\n",
    "\n",
    "#liste des identifiants en doublon\n",
    "print(\">>> liste des identifiants en doublon:\")\n",
    "print(data['IDEMPLACEMENT'].value_counts())\n",
    "\n"
   ]
  },
  {
   "cell_type": "markdown",
   "metadata": {},
   "source": [
    "* Cette donnée ressemble plus à une catégorie qu'à un ID (qui serait unique pour chaque ligne)\n",
    "* Mais si l'on affiche sur une carte les arbres ayant un IDEMPLACEMENT communs, on remarque qu'ils sont dispatchés sur toute la carte sans lien apparent\n",
    "* De plus si l'on regarde les autres données de ces arbres, il n'y a aucun point commun qui revient\n",
    "* Enfin, si l'on prend un arbre en particulier ayant un IDEMPLACEMENT partagé et que l'on regarde les IDEMPLACEMENT d'autres arbres très proches de lui, ils ne sont pas identiques mais incrémentés ou décrémentés de 1\n",
    "* Cet ID fonctionne à un niveau local (ex : SQUARE REJANE) mais au niveau global de Paris, il y a des similitudes forfuites\n",
    "\n",
    "> **Cette donnée peut être supprimée, c'est très certainement un ID**"
   ]
  },
  {
   "cell_type": "code",
   "execution_count": null,
   "metadata": {},
   "outputs": [],
   "source": [
    "# suppression de la colonne IDEMPLACEMENT\n",
    "try:\n",
    "    data = data.drop(columns=['IDEMPLACEMENT'])\n",
    "    print(\">>> suppression des colonnes IDEMPLACEMENT\")\n",
    "except KeyError:\n",
    "    print(\">>> les colonnes ont déjà été supprimées\")\n",
    "\n",
    "# nombre de colonnes restantes après suppression (normalement 11)\n",
    "print(\">>> nombre de colonnes restantes :\", len(data.columns))"
   ]
  },
  {
   "cell_type": "markdown",
   "metadata": {},
   "source": [
    ">> #### - Analyse plus poussée - STADE DE DEVELOPPEMENT"
   ]
  },
  {
   "cell_type": "code",
   "execution_count": null,
   "metadata": {
    "scrolled": true
   },
   "outputs": [],
   "source": [
    "# complétude de la colonne\n",
    "print(\">>> complétude de la colonne : (\",\n",
    "      round(data['STADE DE DEVELOPPEMENT'].count()/len(data)*100,2),\n",
    "      \"% )\",\n",
    "      \"- (\",\n",
    "      data[column].count(),\n",
    "      \")\"\n",
    "     )\n",
    "print()\n",
    "\n",
    "# répartition des valeurs\n",
    "print(\">>> répartition des valeurs :\")\n",
    "\n",
    "serie = data['STADE DE DEVELOPPEMENT'].value_counts()\n",
    "\n",
    "for index in serie.index:\n",
    "    print(index,\n",
    "          \": (\",\n",
    "          round(serie[index]/len(data)*100,2), \"% )\", \n",
    "          \"- (\", \n",
    "          serie[index],\n",
    "          \")\"\n",
    "         )"
   ]
  },
  {
   "cell_type": "markdown",
   "metadata": {},
   "source": [
    "* Bilan de l'analyse de la colonne **STADE DE DEVELOPPEMENT** :\n",
    "  * elle est complète à **72%**\n",
    "  * ces données sont suffisamment réparties entre les différentes catégories\n",
    "\n",
    "\n",
    "* **/!\\ Pour être exploitée, cette colonne doit être complétée (voir plus bas) /!\\**\n",
    " \n",
    " \n",
    "* Pour compléter intelligemment les données manquantes, il y a sûrement un lien à faire avec:\n",
    "  * LIBELLE FRANCAIS / ESPECE\n",
    "  * CIRCONFERENCE / HAUTEUR"
   ]
  },
  {
   "cell_type": "markdown",
   "metadata": {},
   "source": [
    ">> #### - Analyse plus poussée - REMARQUABLE"
   ]
  },
  {
   "cell_type": "code",
   "execution_count": null,
   "metadata": {
    "scrolled": true
   },
   "outputs": [],
   "source": [
    "# complétude de la colonne\n",
    "print(\">>> complétude de la colonne : (\",\n",
    "      round(data['REMARQUABLE'].count()/len(data)*100,2),\n",
    "      \"% )\",\n",
    "      \"- (\",\n",
    "      data[column].count(),\n",
    "      \")\"\n",
    "     )\n",
    "print()\n",
    "\n",
    "# répartition des valeurs\n",
    "print(\">>> répartition des valeurs :\")\n",
    "\n",
    "serie = data['REMARQUABLE'].value_counts()\n",
    "\n",
    "for index in serie.index:\n",
    "    print(index,\n",
    "          \": (\",\n",
    "          round(serie[index]/len(data)*100,2), \"% )\", \n",
    "          \"- (\", \n",
    "          serie[index],\n",
    "          \")\"\n",
    "         )"
   ]
  },
  {
   "cell_type": "markdown",
   "metadata": {},
   "source": [
    "* Bilan de l'analyse de la colonne **REMARQUABLE** :\n",
    "  * elle est complète à **82%**\n",
    "  * la quasi totalité des données est répartie dans une seule catégorie (NON)\n",
    " \n",
    "\n",
    "* **/!\\ Cette colonne peut être supprimée /!\\**"
   ]
  },
  {
   "cell_type": "code",
   "execution_count": null,
   "metadata": {},
   "outputs": [],
   "source": [
    "# suppression des de la colonne REMARQUABLE\n",
    "try:\n",
    "    data = data.drop(columns=['REMARQUABLE'])\n",
    "    print(\">>> suppression de la colonne REMARQUABLE\")\n",
    "except KeyError:\n",
    "    print(\">>> les colonnes ont déjà été supprimées\")\n",
    "\n",
    "# nombre de colonnes restantes après suppression (normalement 10)\n",
    "print(\">>> nombre de colonnes restantes :\", len(data.columns))"
   ]
  },
  {
   "cell_type": "markdown",
   "metadata": {},
   "source": [
    "> ### - Suppression des colonnes correspondantes à une autre (lien 1-1)"
   ]
  },
  {
   "cell_type": "code",
   "execution_count": null,
   "metadata": {
    "scrolled": true
   },
   "outputs": [],
   "source": [
    "# nombre d'index distincts par colonne\n",
    "print(\">>> nombre d'index distincts par colonne :\")\n",
    "print()\n",
    "for column in data.columns:\n",
    "    print(column, \": (\", len(data[column].value_counts()), \")\")\n",
    "print()"
   ]
  },
  {
   "cell_type": "markdown",
   "metadata": {},
   "source": [
    "* les colonnes les plus suceptibles de se correspondre ont un nombre d'index et des données similaires\n",
    "* les seules assez proches dans ce cas sont **LIBELLE FRANCAIS** & **GENRE**"
   ]
  },
  {
   "cell_type": "code",
   "execution_count": null,
   "metadata": {},
   "outputs": [],
   "source": [
    "# liste des LIBELLE FRANCAIS ayant plus de 1 genre\n",
    "\n",
    "try:\n",
    "    sub_data = data[['LIBELLE FRANCAIS', 'GENRE']]\n",
    "    serie = sub_data.groupby('LIBELLE FRANCAIS').GENRE.nunique() > 1\n",
    "\n",
    "    for index in serie.index:\n",
    "        if serie[index]:\n",
    "            print(\">>>\", index)\n",
    "            #print(\">>>\", data_save.loc[data_save['LIBELLE FRANCAIS'] == index, 'GENRE'].unique())\n",
    "            print(data.loc[data['LIBELLE FRANCAIS'] == index, 'GENRE'].value_counts())\n",
    "            print()\n",
    "except KeyError:\n",
    "    print(\"La colonne GENRE a déjà été supprimée\")"
   ]
  },
  {
   "cell_type": "markdown",
   "metadata": {},
   "source": [
    "**Analyse des LIBELLE FRANCAIS:**\n",
    "* Chimonanthe:\n",
    "  * Il y a une simple confusion entre l'ESPECE (Chionanthus) et le le GENRE (Chimonanthus)\n",
    "* Chêne:\n",
    "  * 1 seule différence qui semble être une erreur (Sapindus)\n",
    "* Cyprès:\n",
    "  * les deux catégories font référence à des Cyprès bien qu'il y ait de légères différences\n",
    "* ...\n",
    "\n",
    "\n",
    "* dans l'ensemble la colonne **GENRE** n'apporte que très peu de valeur ajoutée par rapport à **LIBELLE FRANCAIS**\n",
    "  * Soit il s'agit d'erreurs (ex : un chêne ayant pour genre Sapindus)\n",
    "  * Soit il n'y a qu'une seule différence qui est négligeable\n",
    "  * Soit la différence concrète entre les genres est trop subtile pour être exploitée\n",
    "\n",
    "\n",
    "* **/!\\ Nous pouvons supprimer la colonne GENRE /!\\**"
   ]
  },
  {
   "cell_type": "code",
   "execution_count": null,
   "metadata": {},
   "outputs": [],
   "source": [
    "# suppression de la colonne GENRE\n",
    "try:\n",
    "    data = data.drop(columns=['GENRE'])\n",
    "    print(\">>> suppression de la colonne GENRE\")\n",
    "except KeyError:\n",
    "    print(\">>> les colonnes ont déjà été supprimées\")\n",
    "\n",
    "# nombre de colonnes restantes après suppression (normalement 9)\n",
    "print(\">>> nombre de colonnes restantes :\", len(data.columns))"
   ]
  },
  {
   "cell_type": "markdown",
   "metadata": {},
   "source": [
    "> ### - Suppression / Merge des données trop peu représentées"
   ]
  },
  {
   "cell_type": "code",
   "execution_count": null,
   "metadata": {},
   "outputs": [],
   "source": [
    "# nombre d'index distincts par colonne\n",
    "print(\">>> nombre d'index distincts par colonne :\")\n",
    "print()\n",
    "for column in data.columns:\n",
    "    print(column, \": (\", len(data[column].value_counts()), \")\")\n",
    "print()\n",
    "\n",
    "# répartition des valeurs par colonne ayant peu d'index distincts (< 50)\n",
    "print(\">>> répartition des valeurs par colonne ayant peu d'index distincts (< 50) :\")\n",
    "print()\n",
    "\n",
    "for column in data.columns:\n",
    "    if len(data[column].value_counts()) < 50:\n",
    "        serie = data[column].value_counts()\n",
    "        serie2 = data[column].value_counts()/len(data)*100\n",
    "        serie_f = serie.to_frame()\n",
    "        serie_f['%'] = serie2\n",
    "        print(serie_f)\n",
    "        print()"
   ]
  },
  {
   "cell_type": "markdown",
   "metadata": {},
   "source": [
    "**DOMANIALITE**\n",
    "* **On remarque que:**\n",
    "  * les index DAC / DASES / DFPE sont très faiblement représentés (< %1)\n",
    "  * les index DASCO / PERIPHERIQUE / DJS sont faiblement représentés (< 5%)\n",
    "    * les deux groupes d'index faiblements cumulés = 8%\n",
    "  * les trois autres index sont représentés comme suit :\n",
    "    * Alignement : 52%\n",
    "    * Jardin : 24%\n",
    "    * CIMETIERE :16%\n",
    "    * total = 92% \n",
    "* **Que faire des données ?**\n",
    "  * Même s'il peut y avoir un lien entre les domanialités et d'autres données (ex : les arbres des jardins ont tendance à être plus petits que ceux en alignement), ce lien n'est pas utile\n",
    "  * Les domanialités n'ont en réalité que peu d'intérêt pour établir une stratégie viable d'optimisation des trajets\n",
    "  * En effet, il est tout à fait possible que géographiquement un jardin puisse être à la fois à l'Est de Paris et un autre complétement à l'Ouest\n",
    "  * Nous lui préferons une autre donnée géographique comme l'arrondissement ou les coordonées GPS\n",
    "  * **/!\\ Suppression de la donnée /!\\**\n",
    "  \n",
    ">\n",
    "\n",
    "**ARRONDISSEMENT**\n",
    "* **On remarque que:** \n",
    "  * l'ensemble des index sont plutôt bien répartis\n",
    "  * mais certaines valeurs sont très faibles par rapport à d'autres\n",
    "* **Que faire des données ?** : \n",
    "  * Il est préférable de merge des arrondissement proches entre eux\n",
    "  * [arrondissement de Paris](https://homeselect.paris/wp-content/uploads/Capture-d%E2%80%99e%CC%81cran-2019-07-09-a%CC%80-13.53.12-1024x512.jpg)\n",
    "    * ex: 1er + 2eme + 3eme + 4eme (centre Paris)\n",
    "    * ex : 5eme  + 6eme + 7eme\n",
    "    * ex : 8eme + 9eme + 10eme + 11eme\n",
    "    * ex : Val de Marne + Bois de Vincenne ? (Est de Paris)\n",
    "    * ex : Hauts de Seine + Bois de Boulogne (Ouest de Paris)\n",
    "\n",
    ">\n",
    "\n",
    "**STADE DE DEVELOPPEMENT**\n",
    "* **On remarque que:** l'ensemble des index sont plutôt bien répartis\n",
    "* **Que faire des données ?** : on ne les supprime pas et on ne les merge pas, il faut les compléter"
   ]
  },
  {
   "cell_type": "code",
   "execution_count": null,
   "metadata": {},
   "outputs": [],
   "source": [
    "# suppression de la colonne DOMANIALITE\n",
    "try:\n",
    "    data = data.drop(columns=['DOMANIALITE'])\n",
    "    print(\">>> suppression de la colonne DOMANIALITE\")\n",
    "except KeyError:\n",
    "    print(\">>> les colonnes ont déjà été supprimées\")\n",
    "\n",
    "# nombre de colonnes restantes après suppression (normalement 8)\n",
    "print(\">>> nombre de colonnes restantes :\", len(data.columns))"
   ]
  },
  {
   "cell_type": "code",
   "execution_count": null,
   "metadata": {},
   "outputs": [],
   "source": [
    "# Merge des données de la colonne ARRONDISSEMENT\n",
    "\n",
    "## Merge des arrondissements 1, 2, 3, et 4\n",
    "data.loc[(data['ARRONDISSEMENT'] == 'PARIS 1ER ARRDT') \n",
    "         | (data['ARRONDISSEMENT'] == 'PARIS 2E ARRDT')\n",
    "         | (data['ARRONDISSEMENT'] == 'PARIS 3E ARRDT')\n",
    "         | (data['ARRONDISSEMENT'] == 'PARIS 4E ARRDT')\n",
    "         ,'ARRONDISSEMENT'] = 'PARIS 1234 ARRDT'\n",
    "\n",
    "## Merge des arrondissements 5, 6, et 7\n",
    "data.loc[(data['ARRONDISSEMENT'] == 'PARIS 5E ARRDT')\n",
    "         | (data['ARRONDISSEMENT'] == 'PARIS 6E ARRDT')\n",
    "         | (data['ARRONDISSEMENT'] == 'PARIS 7E ARRDT')\n",
    "         ,'ARRONDISSEMENT'] = 'PARIS 567 ARRDT'\n",
    "\n",
    "\n",
    "## Merge des arrondissements 8, 9, 10 et 11\n",
    "data.loc[(data['ARRONDISSEMENT'] == 'PARIS 8E ARRDT')\n",
    "         | (data['ARRONDISSEMENT'] == 'PARIS 9E ARRDT')\n",
    "         | (data['ARRONDISSEMENT'] == 'PARIS 10E ARRDT')\n",
    "         | (data['ARRONDISSEMENT'] == 'PARIS 11E ARRDT')\n",
    "         ,'ARRONDISSEMENT'] = 'PARIS 891011 ARRDT'\n",
    "\n",
    "## Merge des arrondissements Val de Marne + Bois de Vincenne (Est de Paris)\n",
    "data.loc[(data['ARRONDISSEMENT'] == 'VAL-DE-MARNE')\n",
    "         | (data['ARRONDISSEMENT'] == 'BOIS DE VINCENNES')\n",
    "         ,'ARRONDISSEMENT'] = 'PARIS EST'\n",
    "\n",
    "## Merge des arrondissements Hauts de Seine + Bois de Boulogne (Ouest de Paris)\n",
    "data.loc[(data['ARRONDISSEMENT'] == 'HAUTS-DE-SEINE')\n",
    "         | (data['ARRONDISSEMENT'] == 'BOIS DE BOULOGNE')\n",
    "         ,'ARRONDISSEMENT'] = 'PARIS OUEST'\n",
    "\n",
    "data['ARRONDISSEMENT'].value_counts()"
   ]
  },
  {
   "cell_type": "markdown",
   "metadata": {},
   "source": [
    "> ### - Analyse des données anormales"
   ]
  },
  {
   "cell_type": "markdown",
   "metadata": {},
   "source": [
    "**Les colonnes les plus suceptibles d'abriter des donnnées anormales sont:**\n",
    "* CIRCONFERENCE (cm)\n",
    "* HAUTEUR (m)\n",
    "    "
   ]
  },
  {
   "cell_type": "markdown",
   "metadata": {},
   "source": [
    "#### CIRCONFERENCE (cm)"
   ]
  },
  {
   "cell_type": "code",
   "execution_count": null,
   "metadata": {
    "scrolled": true
   },
   "outputs": [],
   "source": [
    "sns.stripplot(x=data[['CIRCONFERENCE (cm)']], orient='v')"
   ]
  },
  {
   "cell_type": "markdown",
   "metadata": {},
   "source": [
    "* Quelques données semblent avoir des circonférences anormales\n",
    "  * des circonférences ont l'air bien trop élevées\n",
    "  * des circonférences sont égales à 0\n",
    "  \n",
    "\n",
    "* Si la valeur est proche de 0 nous pouvons considérer qu'elle est juste\n",
    "\n",
    "\n",
    "* À noter : le conifère Taxodium mucronatum est l'arbre le plus gros du monde avec 50 mètres de circonférence au sol et 34.50m à 1m50 du sol.\n",
    "  * À minima nous pouvons partir du principe que toute circonference au-delà de cette valeur est anormale\n",
    "  * [Ce que ça donne en vrai](https://scontent-cdg2-1.xx.fbcdn.net/v/t1.0-9/69862665_1104919109697608_4295910582487351296_o.jpg?_nc_cat=102&_nc_sid=8024bb&_nc_ohc=daP98v15geMAX9ydgz-&_nc_ht=scontent-cdg2-1.xx&oh=7d490189780f044e08d8adab0e38ba48&oe=5F09B800)\n",
    "  * Sans trop de risques, nous pouvons estimer qu'une circonférence au delà de 3000 est anormale"
   ]
  },
  {
   "cell_type": "code",
   "execution_count": null,
   "metadata": {
    "scrolled": false
   },
   "outputs": [],
   "source": [
    "# données sans valeurs anormales\n",
    "clean_data_circ = data[~(data['CIRCONFERENCE (cm)'] > 3000)]\n",
    "clean_data_circ = clean_data_circ[~(clean_data_circ['CIRCONFERENCE (cm)'] == 0)]\n",
    "\n",
    "sns.stripplot(x='CIRCONFERENCE (cm)', data=clean_data_circ, orient='v')"
   ]
  },
  {
   "cell_type": "code",
   "execution_count": null,
   "metadata": {},
   "outputs": [],
   "source": [
    "sns.distplot(clean_data_circ['CIRCONFERENCE (cm)'])"
   ]
  },
  {
   "cell_type": "markdown",
   "metadata": {},
   "source": [
    "* La plupart des circonférences sont entre 0 et 500 cm\n",
    "\n",
    ">\n",
    "\n",
    "* **Que faire des données ?** : \n",
    "  * une analyse plus poussée doit être faite pour les valeurs égales à 0 : (voir plus bas)\n",
    "    * combien y'en-a-t-il dans le dataset ?\n",
    "      * s'il y en a peu, nous pouvons les supprimer\n",
    "      * sinon, il faudra les modifier intelligemment en croisant avec \n",
    "        * la hauteur\n",
    "        * le stade de developpement\n",
    "        * le libelle français et l'espece\n",
    "  * pour les valeurs anormalement grandes (z-score)\n",
    "     * supprimer les lignes"
   ]
  },
  {
   "cell_type": "markdown",
   "metadata": {},
   "source": [
    "#### HAUTEUR (m)"
   ]
  },
  {
   "cell_type": "code",
   "execution_count": null,
   "metadata": {},
   "outputs": [],
   "source": [
    "sns.stripplot(x=data[['HAUTEUR (m)']], orient='v')"
   ]
  },
  {
   "cell_type": "markdown",
   "metadata": {},
   "source": [
    "* Quelques données semblent avoir des hauteurs anormales\n",
    "  * des hauteurs ont l'air bien trop élevées\n",
    "  * des hauteurs sont égales à 0 \n",
    "\n",
    ">\n",
    "\n",
    "* À noter que l'arbre le plus grand du monde mesure 115 mètres\n",
    "  * À minima nous pouvons partir du principe que toute hauteur au-delà de cette valeur est anormale\n",
    "  * [arbre le plus grand du monde](https://www.futura-sciences.com/planete/questions-reponses/arbre-plus-grand-arbre-monde-1112/)"
   ]
  },
  {
   "cell_type": "code",
   "execution_count": null,
   "metadata": {
    "scrolled": false
   },
   "outputs": [],
   "source": [
    "clean_data_haut = data[~(data['HAUTEUR (m)'] > 115)]\n",
    "clean_data_haut = clean_data_haut[~(clean_data_haut['HAUTEUR (m)'] == 0)]\n",
    "sns.stripplot(x=\"HAUTEUR (m)\", data=clean_data_haut, orient='v')"
   ]
  },
  {
   "cell_type": "code",
   "execution_count": null,
   "metadata": {},
   "outputs": [],
   "source": [
    "sns.distplot(clean_data_haut['HAUTEUR (m)'])"
   ]
  },
  {
   "cell_type": "markdown",
   "metadata": {},
   "source": [
    "* La plupart des données se situent entre 0 et 35 mètres\n",
    "\n",
    ">\n",
    "\n",
    "* **Que faire des données ?** : \n",
    "  * pour les valeurs égales à 0 : même réponse que pour la circonférence (voir plus bas)\n",
    "  * pour les valeurs anormalement grandes (z-score)\n",
    "     * supprimer les lignes"
   ]
  },
  {
   "cell_type": "markdown",
   "metadata": {},
   "source": [
    "> ### - Modifier les données égales à 0 & Supprimer les données anormales"
   ]
  },
  {
   "cell_type": "markdown",
   "metadata": {},
   "source": [
    "#### CIRCONFERENCE (cm) et HAUTEUR (m) égales à 0"
   ]
  },
  {
   "cell_type": "code",
   "execution_count": null,
   "metadata": {
    "scrolled": true
   },
   "outputs": [],
   "source": [
    "# nombre de circonférences égales à 0\n",
    "nbr_zero = (data['CIRCONFERENCE (cm)'] == 0).value_counts()\n",
    "print('>>> nombre de circonférences égales à 0')\n",
    "print(nbr_zero)\n",
    "\n",
    "print()\n",
    "\n",
    "print('>>> soit :',  round(nbr_zero[True]/len(data)*100,2), \"%\")"
   ]
  },
  {
   "cell_type": "code",
   "execution_count": null,
   "metadata": {},
   "outputs": [],
   "source": [
    "# nombre de hauteurs égales à 0\n",
    "nbr_zero = (data['HAUTEUR (m)'] == 0).value_counts()\n",
    "print('>>> nombre de hauteurs égales à 0')\n",
    "print(nbr_zero)\n",
    "\n",
    "print()\n",
    "\n",
    "print('>>> soit :',  round(nbr_zero[True]/len(data)*100,2), \"%\")"
   ]
  },
  {
   "cell_type": "markdown",
   "metadata": {},
   "source": [
    "* Nous ne pouvons pas simplement supprimer les données car il y a trop de données dans le dataset égales à 0"
   ]
  },
  {
   "cell_type": "code",
   "execution_count": null,
   "metadata": {},
   "outputs": [],
   "source": [
    "# nombre de lignes ayant CIRCONFERENCE = 0 et HAUTEUR = 0\n",
    "nbr_double_zero = len(data[(data['CIRCONFERENCE (cm)'] == 0) & (data['HAUTEUR (m)'] == 0)])\n",
    "print('>>> nombre de lignes ayant CIRCONFERENCE = 0 et HAUTEUR = 0:',nbr_double_zero)\n",
    "\n",
    "print(\">>> soit:\", \n",
    "        round(\n",
    "            nbr_double_zero\n",
    "            /\n",
    "            len(data[(data['CIRCONFERENCE (cm)'] == 0)])*100\n",
    "        ,2), \"% des lignes ayant CIRCONFERENCE = 0\")\n",
    "\n",
    "print(\">>> soit:\", \n",
    "        round(\n",
    "            nbr_double_zero\n",
    "            /\n",
    "            len(data[(data['HAUTEUR (m)'] == 0)])*100\n",
    "        ,2), \"% des lignes ayant HAUTEUR = 0\")"
   ]
  },
  {
   "cell_type": "markdown",
   "metadata": {},
   "source": [
    "* Pour la CIRCONFERENCE nous ne pouvons pas utiliser la HAUTEUR dans 99% des cas\n",
    "* En revanche, pour la HAUTEUR nous pouvons utiliser la CIRCONFERENCE dans 28% des cas\n",
    "* Nous pouvons utiliser d'autres données pour établir une corrélation entre HAUTEUR & CIRCONFERENCE, telles que:\n",
    "  * STADE DE DEVELOPPEMENT\n",
    "  * LIBELLE FRANCAIS / ESPECE "
   ]
  },
  {
   "cell_type": "code",
   "execution_count": 21,
   "metadata": {},
   "outputs": [
    {
     "name": "stdout",
     "output_type": "stream",
     "text": [
      ">>> nombre de lignes ayant CIRCONFERENCE = 0 et HAUTEUR = 0 et STADE DE DEVELOPPEMENT vide: 706\n",
      ">>> soit: 100.0 %\n"
     ]
    }
   ],
   "source": [
    "# nombre de STADE DE DEVELOPPEMENT vides quand CIRCONFERENCE = 0 et HAUTEUR = 0\n",
    "temp = data[\n",
    "            (data['CIRCONFERENCE (cm)'] == 0) &\n",
    "            (data['HAUTEUR (m)'] == 0) &\n",
    "            (data['STADE DE DEVELOPPEMENT'].isna())\n",
    "           ]\n",
    "\n",
    "print('>>> nombre de lignes ayant CIRCONFERENCE = 0 et HAUTEUR = 0 et STADE DE DEVELOPPEMENT vide:', len(temp))\n",
    "\n",
    "print(\">>> soit:\", \n",
    "        round(\n",
    "            len(temp)\n",
    "            /\n",
    "            len(data[(data['CIRCONFERENCE (cm)'] == 0) & (data['HAUTEUR (m)'] == 0)])*100\n",
    "        ,2), \"%\")"
   ]
  },
  {
   "cell_type": "markdown",
   "metadata": {},
   "source": [
    "* Le stade de développement ne peut pas être utilisé pour déduire la circonférence ou la hauteur\n",
    "  * cette donnée n'est pas renseigné quand CIRCONFERENCE = 0 et HAUTEUR = 0 (ce qui semble logique)\n",
    "* Reste le LIBELLE FRANCAIS et l'ESPECE"
   ]
  },
  {
   "cell_type": "code",
   "execution_count": 22,
   "metadata": {},
   "outputs": [
    {
     "name": "stdout",
     "output_type": "stream",
     "text": [
      ">>> nombre de lignes ayant CIRCONFERENCE = 0 et HAUTEUR = 0 et LIBELLE FRANCAIS vide: 144\n",
      ">>> soit: 20.4 %\n"
     ]
    }
   ],
   "source": [
    "# nombre de LIBELLE FRANCAIS vides quand CIRCONFERENCE = 0 et HAUTEUR = 0\n",
    "temp = data[\n",
    "            (data['CIRCONFERENCE (cm)'] == 0) &\n",
    "            (data['HAUTEUR (m)'] == 0) &\n",
    "            (data['LIBELLE FRANCAIS'].isna())\n",
    "           ]\n",
    "\n",
    "print('>>> nombre de lignes ayant CIRCONFERENCE = 0 et HAUTEUR = 0 et LIBELLE FRANCAIS vide:', len(temp))\n",
    "\n",
    "print(\">>> soit:\", \n",
    "        round(\n",
    "            len(temp)\n",
    "            /\n",
    "            len(data[(data['CIRCONFERENCE (cm)'] == 0) & (data['HAUTEUR (m)'] == 0)])*100\n",
    "        ,2), \"%\")"
   ]
  },
  {
   "cell_type": "code",
   "execution_count": 23,
   "metadata": {},
   "outputs": [
    {
     "name": "stdout",
     "output_type": "stream",
     "text": [
      ">>> nombre de lignes ayant CIRCONFERENCE = 0 et HAUTEUR = 0 et ESPECE vide: 405\n",
      ">>> soit: 57.37 %\n"
     ]
    }
   ],
   "source": [
    "# nombre de ESPECE vides quand CIRCONFERENCE = 0 et HAUTEUR = 0\n",
    "temp = data[\n",
    "            (data['CIRCONFERENCE (cm)'] == 0) &\n",
    "            (data['HAUTEUR (m)'] == 0) &\n",
    "            (data['ESPECE'].isna())\n",
    "           ]\n",
    "\n",
    "print('>>> nombre de lignes ayant CIRCONFERENCE = 0 et HAUTEUR = 0 et ESPECE vide:', len(temp))\n",
    "\n",
    "print(\">>> soit:\", \n",
    "        round(\n",
    "            len(temp)\n",
    "            /\n",
    "            len(data[(data['CIRCONFERENCE (cm)'] == 0) & (data['HAUTEUR (m)'] == 0)])*100\n",
    "        ,2), \"%\")"
   ]
  },
  {
   "cell_type": "markdown",
   "metadata": {},
   "source": [
    "* le LIBELLE FRANCAIS en conjonction avec l'ESPECE peuvent être utilisés"
   ]
  },
  {
   "cell_type": "code",
   "execution_count": 15,
   "metadata": {},
   "outputs": [
    {
     "name": "stdout",
     "output_type": "stream",
     "text": [
      "171425\n"
     ]
    },
    {
     "data": {
      "text/html": [
       "<div>\n",
       "<style scoped>\n",
       "    .dataframe tbody tr th:only-of-type {\n",
       "        vertical-align: middle;\n",
       "    }\n",
       "\n",
       "    .dataframe tbody tr th {\n",
       "        vertical-align: top;\n",
       "    }\n",
       "\n",
       "    .dataframe thead th {\n",
       "        text-align: right;\n",
       "    }\n",
       "</style>\n",
       "<table border=\"1\" class=\"dataframe\">\n",
       "  <thead>\n",
       "    <tr style=\"text-align: right;\">\n",
       "      <th></th>\n",
       "      <th>LIBELLE FRANCAIS</th>\n",
       "      <th>ESPECE</th>\n",
       "      <th>CIRCONFERENCE (cm)</th>\n",
       "      <th>HAUTEUR (m)</th>\n",
       "    </tr>\n",
       "  </thead>\n",
       "  <tbody>\n",
       "    <tr>\n",
       "      <th>0</th>\n",
       "      <td>Marronnier</td>\n",
       "      <td>x carnea</td>\n",
       "      <td>45</td>\n",
       "      <td>6</td>\n",
       "    </tr>\n",
       "    <tr>\n",
       "      <th>1</th>\n",
       "      <td>Frêne</td>\n",
       "      <td>excelsior</td>\n",
       "      <td>115</td>\n",
       "      <td>10</td>\n",
       "    </tr>\n",
       "    <tr>\n",
       "      <th>2</th>\n",
       "      <td>Chêne</td>\n",
       "      <td>rubra</td>\n",
       "      <td>60</td>\n",
       "      <td>10</td>\n",
       "    </tr>\n",
       "    <tr>\n",
       "      <th>4</th>\n",
       "      <td>Platane</td>\n",
       "      <td>x hispanica</td>\n",
       "      <td>180</td>\n",
       "      <td>18</td>\n",
       "    </tr>\n",
       "    <tr>\n",
       "      <th>5</th>\n",
       "      <td>Noisetier de Byzance</td>\n",
       "      <td>colurna</td>\n",
       "      <td>140</td>\n",
       "      <td>10</td>\n",
       "    </tr>\n",
       "  </tbody>\n",
       "</table>\n",
       "</div>"
      ],
      "text/plain": [
       "       LIBELLE FRANCAIS       ESPECE  CIRCONFERENCE (cm)  HAUTEUR (m)\n",
       "0            Marronnier     x carnea                  45            6\n",
       "1                 Frêne    excelsior                 115           10\n",
       "2                 Chêne        rubra                  60           10\n",
       "4               Platane  x hispanica                 180           18\n",
       "5  Noisetier de Byzance      colurna                 140           10"
      ]
     },
     "execution_count": 15,
     "metadata": {},
     "output_type": "execute_result"
    }
   ],
   "source": [
    "# liste des hauteurs et circonférences non nulles et des libelles francais\n",
    "sub_data = data[\n",
    "    ~(data['CIRCONFERENCE (cm)'] == 0) &\n",
    "    ~(data['HAUTEUR (m)'] == 0) &\n",
    "    ~(data['ESPECE'].isna()) &\n",
    "    ~(data['LIBELLE FRANCAIS'].isna())\n",
    "][['LIBELLE FRANCAIS', 'ESPECE', 'CIRCONFERENCE (cm)', 'HAUTEUR (m)']]\n",
    "\n",
    "print(len(sub_data))\n",
    "sub_data.head(5)"
   ]
  },
  {
   "cell_type": "code",
   "execution_count": 16,
   "metadata": {},
   "outputs": [
    {
     "data": {
      "text/html": [
       "<div>\n",
       "<style scoped>\n",
       "    .dataframe tbody tr th:only-of-type {\n",
       "        vertical-align: middle;\n",
       "    }\n",
       "\n",
       "    .dataframe tbody tr th {\n",
       "        vertical-align: top;\n",
       "    }\n",
       "\n",
       "    .dataframe thead th {\n",
       "        text-align: right;\n",
       "    }\n",
       "</style>\n",
       "<table border=\"1\" class=\"dataframe\">\n",
       "  <thead>\n",
       "    <tr style=\"text-align: right;\">\n",
       "      <th></th>\n",
       "      <th></th>\n",
       "      <th>CIRCONFERENCE (cm)</th>\n",
       "      <th>HAUTEUR (m)</th>\n",
       "    </tr>\n",
       "    <tr>\n",
       "      <th>LIBELLE FRANCAIS</th>\n",
       "      <th>ESPECE</th>\n",
       "      <th></th>\n",
       "      <th></th>\n",
       "    </tr>\n",
       "  </thead>\n",
       "  <tbody>\n",
       "    <tr>\n",
       "      <th rowspan=\"2\" valign=\"top\">Abelia</th>\n",
       "      <th>n. sp.</th>\n",
       "      <td>20.000000</td>\n",
       "      <td>5.000000</td>\n",
       "    </tr>\n",
       "    <tr>\n",
       "      <th>triflora</th>\n",
       "      <td>75.000000</td>\n",
       "      <td>6.000000</td>\n",
       "    </tr>\n",
       "    <tr>\n",
       "      <th>Abricotier</th>\n",
       "      <th>armeniaca</th>\n",
       "      <td>15.708333</td>\n",
       "      <td>2.520833</td>\n",
       "    </tr>\n",
       "    <tr>\n",
       "      <th>Abricotier fruit</th>\n",
       "      <th>armeniaca</th>\n",
       "      <td>10.000000</td>\n",
       "      <td>2.000000</td>\n",
       "    </tr>\n",
       "    <tr>\n",
       "      <th>Ailante</th>\n",
       "      <th>altissima</th>\n",
       "      <td>104.263235</td>\n",
       "      <td>10.805882</td>\n",
       "    </tr>\n",
       "    <tr>\n",
       "      <th>...</th>\n",
       "      <th>...</th>\n",
       "      <td>...</td>\n",
       "      <td>...</td>\n",
       "    </tr>\n",
       "    <tr>\n",
       "      <th rowspan=\"2\" valign=\"top\">Viorne</th>\n",
       "      <th>odoratissimum</th>\n",
       "      <td>10.000000</td>\n",
       "      <td>1.000000</td>\n",
       "    </tr>\n",
       "    <tr>\n",
       "      <th>tinus</th>\n",
       "      <td>30.000000</td>\n",
       "      <td>5.000000</td>\n",
       "    </tr>\n",
       "    <tr>\n",
       "      <th rowspan=\"3\" valign=\"top\">Virgilier</th>\n",
       "      <th>kentukea</th>\n",
       "      <td>57.480000</td>\n",
       "      <td>5.320000</td>\n",
       "    </tr>\n",
       "    <tr>\n",
       "      <th>n. sp.</th>\n",
       "      <td>95.000000</td>\n",
       "      <td>5.000000</td>\n",
       "    </tr>\n",
       "    <tr>\n",
       "      <th>sinensis</th>\n",
       "      <td>55.250000</td>\n",
       "      <td>5.625000</td>\n",
       "    </tr>\n",
       "  </tbody>\n",
       "</table>\n",
       "<p>587 rows × 2 columns</p>\n",
       "</div>"
      ],
      "text/plain": [
       "                                CIRCONFERENCE (cm)  HAUTEUR (m)\n",
       "LIBELLE FRANCAIS ESPECE                                        \n",
       "Abelia           n. sp.                  20.000000     5.000000\n",
       "                 triflora                75.000000     6.000000\n",
       "Abricotier       armeniaca               15.708333     2.520833\n",
       "Abricotier fruit armeniaca               10.000000     2.000000\n",
       "Ailante          altissima              104.263235    10.805882\n",
       "...                                            ...          ...\n",
       "Viorne           odoratissimum           10.000000     1.000000\n",
       "                 tinus                   30.000000     5.000000\n",
       "Virgilier        kentukea                57.480000     5.320000\n",
       "                 n. sp.                  95.000000     5.000000\n",
       "                 sinensis                55.250000     5.625000\n",
       "\n",
       "[587 rows x 2 columns]"
      ]
     },
     "execution_count": 16,
     "metadata": {},
     "output_type": "execute_result"
    }
   ],
   "source": [
    "# la moyenne des hauteurs et circonférences par couple de LIBELLE FRANCAIS / ESPECE\n",
    "pivot = pd.pivot_table(sub_data, index=['LIBELLE FRANCAIS', 'ESPECE'], aggfunc='mean')\n",
    "\n",
    "pivot"
   ]
  },
  {
   "cell_type": "code",
   "execution_count": 17,
   "metadata": {},
   "outputs": [
    {
     "name": "stdout",
     "output_type": "stream",
     "text": [
      ">>> nombre de modifications : 22113\n"
     ]
    }
   ],
   "source": [
    "# nombre de modifications \n",
    "count_modif = 0\n",
    "\n",
    "# pour chaque couple libelle francais et espece\n",
    "for lib_fr, espece in pivot.index:\n",
    "    \n",
    "    # on récupère tous les couples ayant CIRCONFERENCE = 0 et HAUTEUR = 0\n",
    "    temp = data[\n",
    "            (data['LIBELLE FRANCAIS'] == lib_fr) & \n",
    "            (data['ESPECE'] == espece) & \n",
    "            (data['CIRCONFERENCE (cm)'] == 0) &\n",
    "            (data['HAUTEUR (m)'] == 0)\n",
    "           ]\n",
    "\n",
    "    # on modifie chaque index de ce couple par la moyenne des CIRCONFERENCE et HAUTEUR correspondante à ce couple\n",
    "    if len(temp) !=0:\n",
    "        data.loc[temp.index, 'CIRCONFERENCE (cm)'] = pivot.loc[lib_fr, espece]['CIRCONFERENCE (cm)']\n",
    "        data.loc[temp.index, 'HAUTEUR (m)'] = pivot.loc[lib_fr,espece]['HAUTEUR (m)']\n",
    "        count_modif = count_modif + len(temp)\n",
    "    \n",
    "print(\">>> nombre de modifications :\", count_modif)"
   ]
  },
  {
   "cell_type": "code",
   "execution_count": 18,
   "metadata": {
    "scrolled": true
   },
   "outputs": [
    {
     "name": "stdout",
     "output_type": "stream",
     "text": [
      ">>> nombre de circonférences égales à 0\n",
      "False    204314\n",
      "True        987\n",
      "Name: CIRCONFERENCE (cm), dtype: int64\n",
      "\n",
      ">>> soit : 0.48 %\n"
     ]
    }
   ],
   "source": [
    "nbr_zero = (data['CIRCONFERENCE (cm)'] == 0).value_counts()\n",
    "print('>>> nombre de circonférences égales à 0')\n",
    "print(nbr_zero)\n",
    "\n",
    "print()\n",
    "\n",
    "print('>>> soit :',  round(nbr_zero[True]/len(data)*100,2), \"%\")"
   ]
  },
  {
   "cell_type": "code",
   "execution_count": 19,
   "metadata": {},
   "outputs": [
    {
     "name": "stdout",
     "output_type": "stream",
     "text": [
      ">>> nombre de hauteurs égales à 0\n",
      "False    195527\n",
      "True       9774\n",
      "Name: HAUTEUR (m), dtype: int64\n",
      "\n",
      ">>> soit : 4.76 %\n"
     ]
    }
   ],
   "source": [
    "nbr_zero = (data['HAUTEUR (m)'] == 0).value_counts()\n",
    "print('>>> nombre de hauteurs égales à 0')\n",
    "print(nbr_zero)\n",
    "\n",
    "print()\n",
    "\n",
    "print('>>> soit :',  round(nbr_zero[True]/len(data)*100,2), \"%\")"
   ]
  },
  {
   "cell_type": "markdown",
   "metadata": {},
   "source": [
    "* Il reste ~10k HAUTEURS à modifier, ce sont celles dont la CIRCONFERENCE n'étaient pas égales à 0"
   ]
  },
  {
   "cell_type": "code",
   "execution_count": 20,
   "metadata": {
    "scrolled": true
   },
   "outputs": [
    {
     "name": "stdout",
     "output_type": "stream",
     "text": [
      ">>> nombre de données HAUTEUR (y.c celle égale à 0) ayant une CIRCONFERENCE, un LIBELLE FRANCAIS et une ESPECE:  202474\n"
     ]
    },
    {
     "data": {
      "text/html": [
       "<div>\n",
       "<style scoped>\n",
       "    .dataframe tbody tr th:only-of-type {\n",
       "        vertical-align: middle;\n",
       "    }\n",
       "\n",
       "    .dataframe tbody tr th {\n",
       "        vertical-align: top;\n",
       "    }\n",
       "\n",
       "    .dataframe thead th {\n",
       "        text-align: right;\n",
       "    }\n",
       "</style>\n",
       "<table border=\"1\" class=\"dataframe\">\n",
       "  <thead>\n",
       "    <tr style=\"text-align: right;\">\n",
       "      <th></th>\n",
       "      <th>LIBELLE FRANCAIS</th>\n",
       "      <th>ESPECE</th>\n",
       "      <th>CIRCONFERENCE (cm)</th>\n",
       "      <th>HAUTEUR (m)</th>\n",
       "    </tr>\n",
       "  </thead>\n",
       "  <tbody>\n",
       "    <tr>\n",
       "      <th>0</th>\n",
       "      <td>Marronnier</td>\n",
       "      <td>x carnea</td>\n",
       "      <td>45.0</td>\n",
       "      <td>6.0</td>\n",
       "    </tr>\n",
       "    <tr>\n",
       "      <th>1</th>\n",
       "      <td>Frêne</td>\n",
       "      <td>excelsior</td>\n",
       "      <td>115.0</td>\n",
       "      <td>10.0</td>\n",
       "    </tr>\n",
       "    <tr>\n",
       "      <th>2</th>\n",
       "      <td>Chêne</td>\n",
       "      <td>rubra</td>\n",
       "      <td>60.0</td>\n",
       "      <td>10.0</td>\n",
       "    </tr>\n",
       "    <tr>\n",
       "      <th>3</th>\n",
       "      <td>Marronnier</td>\n",
       "      <td>hippocastanum</td>\n",
       "      <td>141.18182307940955</td>\n",
       "      <td>12.982544984376684</td>\n",
       "    </tr>\n",
       "    <tr>\n",
       "      <th>4</th>\n",
       "      <td>Platane</td>\n",
       "      <td>x hispanica</td>\n",
       "      <td>180.0</td>\n",
       "      <td>18.0</td>\n",
       "    </tr>\n",
       "    <tr>\n",
       "      <th>...</th>\n",
       "      <td>...</td>\n",
       "      <td>...</td>\n",
       "      <td>...</td>\n",
       "      <td>...</td>\n",
       "    </tr>\n",
       "    <tr>\n",
       "      <th>202469</th>\n",
       "      <td>Erable</td>\n",
       "      <td>pseudoplatanus</td>\n",
       "      <td>60.0</td>\n",
       "      <td>6.0</td>\n",
       "    </tr>\n",
       "    <tr>\n",
       "      <th>202470</th>\n",
       "      <td>Tilleul</td>\n",
       "      <td>tomentosa</td>\n",
       "      <td>115.0</td>\n",
       "      <td>12.0</td>\n",
       "    </tr>\n",
       "    <tr>\n",
       "      <th>202471</th>\n",
       "      <td>Platane</td>\n",
       "      <td>x hispanica</td>\n",
       "      <td>50.0</td>\n",
       "      <td>6.0</td>\n",
       "    </tr>\n",
       "    <tr>\n",
       "      <th>202472</th>\n",
       "      <td>Marronnier</td>\n",
       "      <td>hippocastanum</td>\n",
       "      <td>125.0</td>\n",
       "      <td>15.0</td>\n",
       "    </tr>\n",
       "    <tr>\n",
       "      <th>202473</th>\n",
       "      <td>Marronnier</td>\n",
       "      <td>hippocastanum</td>\n",
       "      <td>94.0</td>\n",
       "      <td>10.0</td>\n",
       "    </tr>\n",
       "  </tbody>\n",
       "</table>\n",
       "<p>202474 rows × 4 columns</p>\n",
       "</div>"
      ],
      "text/plain": [
       "       LIBELLE FRANCAIS          ESPECE  CIRCONFERENCE (cm)  \\\n",
       "0            Marronnier        x carnea                45.0   \n",
       "1                 Frêne       excelsior               115.0   \n",
       "2                 Chêne           rubra                60.0   \n",
       "3            Marronnier   hippocastanum  141.18182307940955   \n",
       "4               Platane     x hispanica               180.0   \n",
       "...                 ...             ...                 ...   \n",
       "202469           Erable  pseudoplatanus                60.0   \n",
       "202470          Tilleul       tomentosa               115.0   \n",
       "202471          Platane     x hispanica                50.0   \n",
       "202472       Marronnier   hippocastanum               125.0   \n",
       "202473       Marronnier   hippocastanum                94.0   \n",
       "\n",
       "               HAUTEUR (m)  \n",
       "0                      6.0  \n",
       "1                     10.0  \n",
       "2                     10.0  \n",
       "3       12.982544984376684  \n",
       "4                     18.0  \n",
       "...                    ...  \n",
       "202469                 6.0  \n",
       "202470                12.0  \n",
       "202471                 6.0  \n",
       "202472                15.0  \n",
       "202473                10.0  \n",
       "\n",
       "[202474 rows x 4 columns]"
      ]
     },
     "execution_count": 20,
     "metadata": {},
     "output_type": "execute_result"
    }
   ],
   "source": [
    "from sklearn.experimental import enable_iterative_imputer\n",
    "from sklearn.impute import IterativeImputer\n",
    "from sklearn.preprocessing import LabelEncoder \n",
    "\n",
    "# on récupère toutes les données HAUTEUR (y.c celle égale à 0) ayant une CIRCONFERENCE, un LIBELLE FRANCAIS et une ESPECE\n",
    "temp = data[\n",
    "    (data['CIRCONFERENCE (cm)'] != 0) & \n",
    "    ~(data['LIBELLE FRANCAIS'].isna()) &\n",
    "    ~(data['ESPECE'].isna())\n",
    "#][['CIRCONFERENCE (cm)','HAUTEUR (m)']]\n",
    "][['LIBELLE FRANCAIS', 'ESPECE', 'CIRCONFERENCE (cm)','HAUTEUR (m)']]\n",
    "\n",
    "print(\">>> nombre de données HAUTEUR (y.c celle égale à 0) ayant une CIRCONFERENCE, un LIBELLE FRANCAIS et une ESPECE: \",\n",
    "      len(temp))\n",
    "\n",
    "# on encode les données de type String\n",
    "le = LabelEncoder()\n",
    "lib_fr = le.fit_transform(temp['LIBELLE FRANCAIS'])\n",
    "lib_fr_cor = temp['LIBELLE FRANCAIS'].to_numpy()\n",
    "espece = le.fit_transform(temp['ESPECE'])\n",
    "espece_cor = temp['ESPECE'].to_numpy()\n",
    "\n",
    "# on crée le tableau sur lequel on veut lancer le IterativeImputer\n",
    "data_to_impute = np.c_[ lib_fr, espece, temp['CIRCONFERENCE (cm)'].to_numpy(), temp['HAUTEUR (m)'].to_numpy() ]   \n",
    "\n",
    "# on crée et on lance le Iterative Imputer\n",
    "imputer = IterativeImputer(missing_values=0, random_state=0)\n",
    "imputed_data = imputer.fit_transform(data_to_impute)\n",
    "\n",
    "imputed_data = imputed_data.astype('<U32') \n",
    "imputed_data[:,0] = lib_fr_cor\n",
    "imputed_data[:,1] = espece_cor\n",
    "\n",
    "df = pd.DataFrame(imputed_data, columns=['LIBELLE FRANCAIS', 'ESPECE', 'CIRCONFERENCE (cm)', 'HAUTEUR (m)'])\n",
    "\n",
    "df\n"
   ]
  },
  {
   "cell_type": "markdown",
   "metadata": {},
   "source": [
    "#### CIRCONFERENCE (cm) et HAUTEUR (m) anormales (z-score)"
   ]
  },
  {
   "cell_type": "markdown",
   "metadata": {},
   "source": [
    "## - Compléter les données manquantes\n",
    "---"
   ]
  },
  {
   "cell_type": "markdown",
   "metadata": {},
   "source": [
    "> ### - Complétion de la colonne LIBELLE FRANCAIS"
   ]
  },
  {
   "cell_type": "code",
   "execution_count": null,
   "metadata": {},
   "outputs": [],
   "source": [
    "save = data_save\n",
    "print(\"nombre de libellés français vide\", len(save[(save['LIBELLE FRANCAIS'].isna())]))"
   ]
  },
  {
   "cell_type": "markdown",
   "metadata": {},
   "source": [
    ">> #### complétion avec le GENRE"
   ]
  },
  {
   "cell_type": "code",
   "execution_count": null,
   "metadata": {
    "scrolled": true
   },
   "outputs": [],
   "source": [
    "# tous les libellés français vides qui ont une genre définie\n",
    "emptylibfr_genre = save[(save['LIBELLE FRANCAIS'].isna()) & ~(save['GENRE'] == 'Non spécifié') & ~(save['GENRE'].isna())]\n",
    "print(\">>> nombre de libelle français vide ayant un genre non vide:\", len(emptylibfr_genre))"
   ]
  },
  {
   "cell_type": "code",
   "execution_count": null,
   "metadata": {
    "scrolled": false
   },
   "outputs": [],
   "source": [
    "# nombre de modifications\n",
    "count_modif = 0\n",
    "count_non_modif = 0\n",
    "\n",
    "# pour chaque genre ayant un libelle fr vide\n",
    "for genre in emptylibfr_genre[\"GENRE\"].unique():\n",
    "    \n",
    "    # liste des remplacents (non vides) possibles pour ce genre\n",
    "    liste_remplacents = save[(save['GENRE'] == genre)]['LIBELLE FRANCAIS'].dropna().unique()\n",
    "    \n",
    "    # s'il y a un seul remplacent on modifie le libelle fr de chaque index correspondant à ce genre\n",
    "    if (len(liste_remplacents) == 1):\n",
    "        print(\">>> (== 1) - genre :\", genre, \">>>\",  liste_remplacents[0])\n",
    "        for index in emptylibfr_genre[emptylibfr_genre['GENRE']==genre].index:\n",
    "            data.loc[index,'LIBELLE FRANCAIS'] = liste_remplacents[0]\n",
    "            count_modif +=1\n",
    "            \n",
    "    # s'il y a plusieurs remplacents, on ne fait rien\n",
    "    elif (len(liste_remplacents) > 1):\n",
    "        #print(\">>> (> 1) - genre :\", genre, \">>>\",  liste_remplacents)\n",
    "        for index in emptylibfr_genre[emptylibfr_genre['GENRE']==genre].index:\n",
    "            count_non_modif +=1\n",
    "    \n",
    "    # si l'espece n'a pas de correspondance ou si elle en a trop car trop générique (n. sp.), on ne fait rien\n",
    "    else:\n",
    "        #print(\">>> vide:\", liste_remplacents)\n",
    "        for index in emptylibfr_genre[emptylibfr_genre['GENRE']==genre].index:\n",
    "            count_non_modif +=1\n",
    "        \n",
    "print()\n",
    "\n",
    "if count_modif+count_non_modif == len(emptylibfr_genre):\n",
    "    print('>>> OK :)')\n",
    "    print(\"\\t>>> nombre de modifications effectuées:\" , count_modif)\n",
    "    print(\"\\t>>> nombre de données non modifiées :\" , count_non_modif)\n",
    "    print(\"\\t>>> nombre de libelle français vides ayant un genre non vide:\", len(emptylibfr_genre))\n",
    "else:\n",
    "    print('>>> KO !!')\n",
    "    print(\"\\t>>> nombre de modifications effectuées:\" , count_modif)\n",
    "    print(\"\\t>>> nombre de données non modifiées :\" , count_non_modif)\n",
    "    print(\"\\>>> nombre de libelle français vides ayant un genre non vide:\", len(emptylibfr_genre))"
   ]
  },
  {
   "cell_type": "code",
   "execution_count": null,
   "metadata": {},
   "outputs": [],
   "source": [
    "# tous les libellés français vides qui ont une genre défini\n",
    "emptylibfr_genre = data[(data['LIBELLE FRANCAIS'].isna()) & ~(data['GENRE'] == 'Non spécifié') & ~(data['GENRE'].isna())]\n",
    "print(\">>> nombre de libelle français vide ayant un genre non vide:\", len(emptylibfr_genre))\n",
    "\n",
    "if len(emptylibfr_genre) == count_non_modif:\n",
    "    print('>>> OK :)')\n",
    "else:\n",
    "    print('>>> KO !!')\n",
    "   "
   ]
  },
  {
   "cell_type": "code",
   "execution_count": null,
   "metadata": {},
   "outputs": [],
   "source": [
    "print(\"nombre de libellés français vide\", len(data[(data['LIBELLE FRANCAIS'].isna())]))"
   ]
  },
  {
   "cell_type": "markdown",
   "metadata": {},
   "source": [
    ">> #### complétion avec l'ESPECE"
   ]
  },
  {
   "cell_type": "code",
   "execution_count": null,
   "metadata": {
    "scrolled": true
   },
   "outputs": [],
   "source": [
    "# tous les libellés français vides qui ont une espèce définie\n",
    "emptylibfr_espece = data[(data['LIBELLE FRANCAIS'].isna()) & ~(data['ESPECE'].isna())]\n",
    "print(\">>> nombre de libelle français vide ayant une espece non vide:\", len(emptylibfr_espece))"
   ]
  },
  {
   "cell_type": "code",
   "execution_count": null,
   "metadata": {},
   "outputs": [],
   "source": [
    "# nombre de modifications\n",
    "count_modif = 0\n",
    "count_non_modif = 0\n",
    "\n",
    "# pour chaque espece ayant un libelle fr vide\n",
    "for espece in emptylibfr_espece[\"ESPECE\"].unique():\n",
    "    \n",
    "    # liste des remplacents possibles pour cette espece\n",
    "    liste_remplacents = data[(data['ESPECE'] == espece)]['LIBELLE FRANCAIS'].dropna().unique()\n",
    "    \n",
    "    # s'il y a un seul remplacent on modifie le libelle fr de chaque index correspondant à cette espece\n",
    "    if (espece != 'n. sp.') & (len(liste_remplacents) == 1):\n",
    "        print(\">>> (== 1) - espece :\", espece, \">>>\",  liste_remplacents[0])\n",
    "        for index in emptylibfr_espece[emptylibfr_espece['ESPECE']==espece].index:\n",
    "            data.loc[index,'LIBELLE FRANCAIS'] = liste_remplacents[0]\n",
    "            count_modif +=1\n",
    "    \n",
    "    # s'il y a plusieurs remplacents, on ne fait rien\n",
    "    elif (espece != 'n. sp.') & (len(liste_remplacents) > 1):\n",
    "        #print(\">>> (> 1) - espece :\", espece, \">>>\",  liste_remplacents)\n",
    "        for index in emptylibfr_espece[emptylibfr_espece['ESPECE']==espece].index:\n",
    "            count_non_modif +=1\n",
    "        \n",
    "    # si l'espece n'a pas de correspondance ou si elle en a trop car trop générique (n. sp.), on ne fait rien\n",
    "    else:\n",
    "        #print(\">>> vide ou n. sp.\")\n",
    "        for index in emptylibfr_espece[emptylibfr_espece['ESPECE']==espece].index:\n",
    "            count_non_modif +=1\n",
    "            \n",
    "print()\n",
    "\n",
    "if count_modif+count_non_modif == len(emptylibfr_espece):\n",
    "    print('>>> OK :)')\n",
    "    print(\"\\t>>> nombre de modifications effectuées:\" , count_modif)\n",
    "    print(\"\\t>>> nombre de données non modifiées :\" , count_non_modif)\n",
    "    print(\"\\t>>> nombre de libelle français vides ayant un genre non vide:\", len(emptylibfr_espece))\n",
    "else:\n",
    "    print('>>> KO !!')\n",
    "    print(\"\\t>>> nombre de modifications effectuées:\" , count_modif)\n",
    "    print(\"\\t>>> nombre de données non modifiées :\" , count_non_modif)\n",
    "    print(\"\\>>> nombre de libelle français vides ayant un genre non vide:\", len(emptylibfr_espece))"
   ]
  },
  {
   "cell_type": "code",
   "execution_count": null,
   "metadata": {},
   "outputs": [],
   "source": [
    "# tous les libellés français vides qui ont une genre défini\n",
    "emptylibfr_espece = data[(data['LIBELLE FRANCAIS'].isna()) & ~(data['ESPECE'].isna())]\n",
    "print(\">>> nombre de libelle français vide ayant une espece non vide:\", len(emptylibfr_espece))\n",
    "\n",
    "if len(emptylibfr_espece) == count_non_modif:\n",
    "    print('>>> OK :)')\n",
    "else:\n",
    "    print('>>> KO !!')\n",
    "   "
   ]
  },
  {
   "cell_type": "markdown",
   "metadata": {},
   "source": [
    ">> #### Suppression des derniers LIBELLE FRANCAIS vides"
   ]
  },
  {
   "cell_type": "code",
   "execution_count": null,
   "metadata": {},
   "outputs": [],
   "source": [
    "print(\"AVANT SUPPR - nombre de LIBELLE FRANCAIS encore vides:\", len(data[(data['LIBELLE FRANCAIS'].isna())]))\n",
    "data = data.drop(data[(data['LIBELLE FRANCAIS'].isna())].index)\n",
    "print(\"APRES SUPPR - nombre de LIBELLE FRANCAIS encore vides:\", len(data[(data['LIBELLE FRANCAIS'].isna())]))"
   ]
  },
  {
   "cell_type": "markdown",
   "metadata": {},
   "source": [
    "> ### - Complétion de la colonne ESPECE"
   ]
  },
  {
   "cell_type": "markdown",
   "metadata": {},
   "source": [
    "> ### - Complétion de la colonne STADE DE DEVELOPPEMENT"
   ]
  },
  {
   "cell_type": "markdown",
   "metadata": {},
   "source": [
    "## - Résumé des données supprimées / complétés / mergées\n",
    "---"
   ]
  },
  {
   "cell_type": "markdown",
   "metadata": {},
   "source": [
    "* Données supprimées\n",
    "  * aa\n",
    "  \n",
    "  \n",
    "* Données complétées\n",
    "\n",
    "\n",
    "* Données mergées"
   ]
  },
  {
   "cell_type": "markdown",
   "metadata": {},
   "source": [
    "# - Analyser & exploiter\n",
    "---\n",
    "---"
   ]
  },
  {
   "cell_type": "markdown",
   "metadata": {},
   "source": [
    "## Distribution des variables continues"
   ]
  },
  {
   "cell_type": "markdown",
   "metadata": {},
   "source": [
    "## Distribution des variables catégorielles"
   ]
  }
 ],
 "metadata": {
  "kernelspec": {
   "display_name": "Python 3",
   "language": "python",
   "name": "python3"
  },
  "language_info": {
   "codemirror_mode": {
    "name": "ipython",
    "version": 3
   },
   "file_extension": ".py",
   "mimetype": "text/x-python",
   "name": "python",
   "nbconvert_exporter": "python",
   "pygments_lexer": "ipython3",
   "version": "3.8.3"
  },
  "toc": {
   "base_numbering": "1",
   "nav_menu": {},
   "number_sections": true,
   "sideBar": true,
   "skip_h1_title": false,
   "title_cell": "Sommaire",
   "title_sidebar": "Contents",
   "toc_cell": true,
   "toc_position": {
    "height": "calc(100% - 180px)",
    "left": "10px",
    "top": "150px",
    "width": "384px"
   },
   "toc_section_display": true,
   "toc_window_display": true
  }
 },
 "nbformat": 4,
 "nbformat_minor": 4
}
