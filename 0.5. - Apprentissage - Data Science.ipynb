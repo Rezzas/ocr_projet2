{
 "cells": [
  {
   "cell_type": "markdown",
   "metadata": {},
   "source": [
    "# Cours\n",
    "* [OpenClassRooms - librairies Data Science](https://openclassrooms.com/fr/courses/4452741-decouvrez-les-librairies-python-pour-la-data-science)"
   ]
  },
  {
   "cell_type": "markdown",
   "metadata": {},
   "source": [
    "# Sommaire \n",
    "* [exemple du problème de Monty Hall](#montyhall)\n",
    "* [théorème central limite](#theoremecentralimite)\n",
    "* [Monty Hall avec Numpy](#montyhallnumpy)"
   ]
  },
  {
   "cell_type": "markdown",
   "metadata": {},
   "source": [
    "<a id=\"montyhall\"></a>"
   ]
  },
  {
   "cell_type": "markdown",
   "metadata": {},
   "source": [
    "## exemple du problème de Monty Hall\n",
    "\n",
    "L'exposé du problème est plutôt simple. Imaginez un jeu télévisé où il y a trois portes sur le plateau de jeu. Seule une de ces portes cache un trésor. Il n'y a rien derrière les deux autres portes. Rien ne permet de savoir quelle porte cache le trésor.\n",
    "\n",
    "La tâche du joueur consiste à choisir parmi les trois portes celle qu'il veut ouvrir. Il aura droit au trésor s'il choisit la bonne porte, et rien sinon. Pour faire son choix, il n'a aucune information. Il doit donc simplement s'en remettre au hasard.\n",
    "\n",
    "Jusqu'ici, le problème n'a rien de remarquable. Mais il y a un twist ! Une fois que le joueur a fait son choix, mais avant d'ouvrir la porte, le présentateur élimine, parmi les deux portes non choisies, une porte qui ne contient pas de trésor. Si les deux portes restantes ne contiennent rien, le présentateur élimine simplement une d'entre elles au hasard.\n",
    "\n",
    "Le joueur doit alors faire un nouveau choix. Il peut soit choisir d'ouvrir la première porte qu'il avait choisie, soit changer pour la porte non éliminée par le présentateur. La question est, qu'a-t-il intérêt à faire ? Réfléchissez-y. Vous n'avez en principe pas besoin de connaissances poussées en probabilités pour résoudre ce problème. Que feriez-vous ?"
   ]
  },
  {
   "cell_type": "code",
   "execution_count": 2,
   "metadata": {
    "scrolled": false
   },
   "outputs": [
    {
     "name": "stdout",
     "output_type": "stream",
     "text": [
      "CHANGER pourcentage de réussite : 66.99000000000001%\n",
      "GARDER pourcentage de réussite : 34.12%\n"
     ]
    },
    {
     "data": {
      "text/plain": [
       "<matplotlib.collections.PathCollection at 0x13dc1e2af40>"
      ]
     },
     "execution_count": 2,
     "metadata": {},
     "output_type": "execute_result"
    },
    {
     "data": {
      "image/png": "[encoded data removed]",
      "text/plain": [
       "<Figure size 432x288 with 1 Axes>"
      ]
     },
     "metadata": {
      "needs_background": "light"
     },
     "output_type": "display_data"
    },
    {
     "data": {
      "image/png": "[encoded data removed]",
      "text/plain": [
       "<Figure size 432x288 with 1 Axes>"
      ]
     },
     "metadata": {
      "needs_background": "light"
     },
     "output_type": "display_data"
    }
   ],
   "source": [
    "%matplotlib inline\n",
    "import random as rd\n",
    "import enum as e\n",
    "import matplotlib.pyplot as plt\n",
    "\n",
    "class Strategie(e.Enum):\n",
    "    CHANGER = 1\n",
    "    GARDER = 0\n",
    "    \n",
    "    \n",
    "def play_game(strategie):\n",
    "    \n",
    "    # print(\"-------------------------------------------------\")\n",
    "    # print(\"---- Premier choix... que va-t-il choisir ?? ----\")\n",
    "    # print(\"-------------------------------------------------\")\n",
    "    \n",
    "    portes = [0,1,2]\n",
    "    # print(portes)\n",
    "    \n",
    "    bonne_porte = rd.randint(0,2)\n",
    "    # print(\"bonne porte : {}\".format(bonne_porte))\n",
    "    \n",
    "    premier_choix = rd.randint(0,2)\n",
    "    # print(\"premier choix : {}\".format(premier_choix))\n",
    "    \n",
    "    portes.remove(premier_choix)\n",
    "    # print(\"portes restantes sans premier choix : {}\".format(portes))\n",
    "    \n",
    "    if premier_choix == bonne_porte:\n",
    "        portes.remove(portes[rd.randint(0,1)])\n",
    "        #print(\"si premier choix = bonne porte\")\n",
    "        # print(\"portes restantes en plus du premier choix : {}\".format(portes))\n",
    "    else :\n",
    "        portes = [bonne_porte]\n",
    "        #print(\"sinon\")\n",
    "        # print(\"portes restantes en plus du premier choix : {}\".format(portes))\n",
    "        \n",
    "    \n",
    "    # print(\"-------------------------------------------------\")\n",
    "    # print(\"---- ICI il lui reste le choix entre [{},{}] ----\".format(premier_choix, portes[0]))\n",
    "    # print(\"---- Que va-t-il faire ? Changer ou Garder ? ----\")\n",
    "    # print(\"-------------------------------------------------\")\n",
    "        \n",
    "    # il reste un seul élément dans portes qui est le second choix possible\n",
    "    \n",
    "    if strategie == Strategie.CHANGER:\n",
    "        deuxieme_choix = portes[0]\n",
    "        # print(\"CHANGER pour la porte restante: {}\".format(deuxieme_choix))\n",
    "    else:\n",
    "        deuxieme_choix = premier_choix\n",
    "        # print(\"GARDER son premier choix: {}\".format(deuxieme_choix))\n",
    "\n",
    "    return deuxieme_choix == bonne_porte\n",
    "\n",
    "\n",
    "# une version qui se base sur True or False en tant que résultat\n",
    "# le problème c'est que ces valeurs ne sont pas exploitables pour tracer un graphique\n",
    "# mieux vaut renvoyer des 1 ou des 0\n",
    "# on pourrait modifier la fonction play_game mais il y a plus propre à faire\n",
    "\"\"\"\n",
    "def play(strategie, nb_tours):\n",
    "    results = []\n",
    "    i = 0\n",
    "    while i < nb_tours:\n",
    "        results.append(play_game(strategie))\n",
    "        i += 1\n",
    "    return results\n",
    "    \n",
    "results_changer = play(Strategie.CHANGER, 30000)\n",
    "print(\"CHANGER pourcentage de réussite : {}%\".format((results_changer.count(True)/len(results_changer))*100))\n",
    "\n",
    "results_garder = play(Strategie.GARDER, 30000)\n",
    "print(\"GARDER pourcentage de réussite : {}%\".format((results_garder.count(True)/len(results_garder))*100))\n",
    "\"\"\"\n",
    "\n",
    "def play(strategie, nb_tours):\n",
    "    return [1 if play_game(strategie) else 0 for i in range(nb_tours)]\n",
    "\n",
    "nb_tours = 10000\n",
    "\n",
    "results_changer = play(Strategie.CHANGER, nb_tours)\n",
    "pourc_changer = (sum(results_changer)/nb_tours)*100\n",
    "print(\"CHANGER pourcentage de réussite : {}%\".format(pourc_changer))\n",
    "\n",
    "results_garder = play(Strategie.GARDER, nb_tours)\n",
    "pourc_garder = (sum(results_garder)/nb_tours)*100\n",
    "print(\"GARDER pourcentage de réussite : {}%\".format(pourc_garder))\n",
    "\n",
    "\n",
    "# la méthode plot dessine des points et les relie entre eux\n",
    "# comme nous avons trop de points, le résultat ressemble à un carré plein\n",
    "# plt.plot(results_changer)\n",
    "# plt.plot(results_garder)\n",
    "\n",
    "# la méthode scatter dessine des points aussi mais sans les relier\n",
    "# x & y doivent être de la même taille, ici nb_tours éléments\n",
    "# le problème de ce graphe c'est qu'il n'est pas exploitable pour une meilleure compréhension de la différence de résultat\n",
    "# plt.scatter(range(nb_tours), results_changer)\n",
    "# plt.scatter(range(nb_tours), results_garder)\n",
    "\n",
    "# la méthode bar dessine des barres \n",
    "# le premier argument [1,2] aurait pu être [5,6] ou plutôt [abscicsse bar 1, abscicsse bar 2]\n",
    "# le second argument [pourc_changer,pourc_garder] sont les hauteurs des barres\n",
    "# le troisième argument tick_label=[\"Changer\", \"Garder\"] est le libellé des barres\n",
    "plt.bar([1,2], [pourc_changer,pourc_garder], tick_label=[\"Changer\", \"Garder\"])\n",
    "\n",
    "\n",
    "# voir l'évolution des gains en fonction de chaque stratégie\n",
    "gains_changer = []\n",
    "gains_garder = []\n",
    "sample_nbtours = [100, 250, 500, 750, 1000, 2500, 5000, 7500, 10000]\n",
    "\n",
    "for i in sample_nbtours:\n",
    "    gains_changer.append(sum(play(Strategie.CHANGER, i)))\n",
    "    gains_garder.append(sum(play(Strategie.GARDER, i)))\n",
    "    \n",
    "def calcul_evol(gains):\n",
    "    gains_evol = []\n",
    "    for gain in gains:\n",
    "        i = gains.index(gain)\n",
    "        cumul = 0\n",
    "        while i >= 0:\n",
    "            cumul += gains[i]\n",
    "            i -=1\n",
    "        gains_evol.append(cumul)\n",
    "    return gains_evol\n",
    "    \n",
    "gains_changer_evol = calcul_evol(gains_changer)\n",
    "gains_garder_evol = calcul_evol(gains_garder)\n",
    "\n",
    "\n",
    "plt.figure() # permet d'avoir une nouvelle figure\n",
    "plt.scatter(sample_nbtours, [gains_changer_evol])\n",
    "plt.scatter(sample_nbtours, [gains_garder_evol])\n"
   ]
  },
  {
   "cell_type": "markdown",
   "metadata": {},
   "source": [
    "<a id=\"centralelimite\"></a>"
   ]
  },
  {
   "cell_type": "markdown",
   "metadata": {},
   "source": [
    "##  théorème central limite\n",
    "\n",
    "[Théorème central limite explications](https://www.youtube.com/watch?v=4dhm2QAA2x4)\n",
    "\n",
    "* X une variable aléatoire : x1 et x2 deux valeurs possibles qui représentent l'état de cette variable\n",
    "\n",
    "* X une variable aléatoire discrète ayant pour fonction de masse P(X) \n",
    "  * X --> P(X)\n",
    "  * P(x1) est la probabilité que X = x1\n",
    "  * une fonction de masse est : \n",
    "    * P est l'ensemble des états de X\n",
    "    * 0 <= P(X) <= 1\n",
    "    * sum(x€X) P(x) = 1\n",
    "\n",
    "* X une variable aléatoire continue ayant pour fonction de densité p(X)\n",
    "  * on intègre p(x) pour connaître la proba que X=x\n",
    "  * fonction de densité p\n",
    "    * domaine de p = ensemble des états possible de X\n",
    "    * pour tout x€X p(x) >= 0\n",
    "    * intégrale p(x)dx = 1 (air sous la courbe p(x)\n",
    "\n",
    "* X une variable aléatoire discrète obéissant à une distribution quelconque\n",
    "  * ex : un dé truqué qui fait plus souvent 1 et 6;  X:{1,2,3,4,5,6} --> P(X):{40%,5%,5%,5%,5%,40%}\n",
    "  * la distribution de la moyenne des échantillons s'approche d'une loi normale quand le nombre d'échantillon est élevé (distribution gaussienne)\n",
    "    * échantillon S1:{1,1,6,3,6,1,2,1,1,6} --> moyenne = (1+1+6+3+6+1+2+1+1+6)/10 = 2.8\n",
    "  * si la taille échantillon --> + infini alors la distribution des moyennes s'approche de + en + d'une loi normale"
   ]
  },
  {
   "cell_type": "code",
   "execution_count": 11,
   "metadata": {},
   "outputs": [
    {
     "name": "stdout",
     "output_type": "stream",
     "text": [
      "-------------------------------\n",
      "--- distribution gaussienne ---\n",
      "-------------------------------\n"
     ]
    },
    {
     "data": {
      "image/png": "[encoded data removed]",
      "text/plain": [
       "<Figure size 432x288 with 1 Axes>"
      ]
     },
     "metadata": {
      "needs_background": "light"
     },
     "output_type": "display_data"
    },
    {
     "name": "stdout",
     "output_type": "stream",
     "text": [
      "\n",
      "-------------------------------\n",
      "--- théorème central limite ---\n",
      "-------------------------------\n"
     ]
    },
    {
     "data": {
      "image/png": "[encoded data removed]",
      "text/plain": [
       "<Figure size 432x288 with 1 Axes>"
      ]
     },
     "metadata": {
      "needs_background": "light"
     },
     "output_type": "display_data"
    },
    {
     "name": "stdout",
     "output_type": "stream",
     "text": [
      "La moyenne empirique de notre distribution est 4998.754278510733.\n",
      "La moyenne empirique de la variable généré par la fonction rand est 0.5011835263616943.\n",
      "La variance empirique de notre distribution est 849.0455069683024.\n",
      "La variance empirique de la variable généré par la fonction rand est 0.08936399340435398.\n"
     ]
    }
   ],
   "source": [
    "%matplotlib inline  \n",
    "import numpy as np\n",
    "import matplotlib.pyplot as plt\n",
    "from math import sqrt, pi, exp\n",
    "\n",
    "\n",
    "print(\"-------------------------------\")\n",
    "print(\"--- distribution gaussienne ---\")\n",
    "print(\"-------------------------------\")\n",
    "\n",
    "domaine = range(-100,100) # génère une liste de -100 à 100 qui incrèmente de 1\n",
    "mu = 0\n",
    "sigma = 20\n",
    "\n",
    "f = lambda x : 1/(sqrt(2*pi*pow(sigma,2))) * exp(-pow((x-mu),2)/(2*pow(sigma,2)))\n",
    "y = [f(x) for x in domaine] \n",
    "\"\"\"\n",
    "c'est la même chose que :\n",
    "y = []\n",
    "for x in domaine:\n",
    "    y.append(f(x))\n",
    "\"\"\"\n",
    "\n",
    "plt.plot(domaine, y)\n",
    "plt.show()\n",
    "print()\n",
    "\n",
    "\n",
    "print(\"-------------------------------\")\n",
    "print(\"--- théorème central limite ---\")\n",
    "print(\"-------------------------------\")\n",
    "\n",
    "# version crade\n",
    "# somme de variables aléatoires différentes identiquement distribuées\n",
    "\"\"\"\n",
    "nb_var = 100000\n",
    "sum_var = np.zeros(10000)\n",
    "i=0\n",
    "while i < nb_var:\n",
    "    sum_var += np.random.uniform(0,1,10000)\n",
    "    i +=1\n",
    "plt.hist(sum_var, bins=100)\n",
    "plt.show()\n",
    "\"\"\"\n",
    "\n",
    "# version crade\n",
    "# moyenne des échantillons d'une distribution aléatoire\n",
    "# tous les échantillons sont des variables aléatoires identiquement distribués\n",
    "# bins donne le nombre de catégories pour répartir les données.\n",
    "# si les nombres sont réels ils ont de grande chance d'être unique donc d'être dans un max de catégories différentes\n",
    "# alors que là les nombres proches sont regroupés\n",
    "\"\"\"\n",
    "nb_echantillon = 10000\n",
    "taille_echantillon = 1000\n",
    "moyenne_echantillon = []\n",
    "i=0\n",
    "while i < nb_echantillon:\n",
    "    echantillon = np.random.uniform(0,1,taille_echantillon)\n",
    "    moyenne_echantillon.append(sum(echantillon)/len(echantillon))\n",
    "    i +=1\n",
    "\n",
    "\n",
    "plt.hist(moyenne_echantillon, bins=100) \n",
    "plt.show()\n",
    "\"\"\"\n",
    "    \n",
    "# version propre : utilisation des matrices\n",
    "nb_echantillon = 10000\n",
    "taille_echantillon = 1000\n",
    "sommes = np.sum(np.random.rand(nb_echantillon, taille_echantillon),0)\n",
    "plt.hist(sommes, bins=10) \n",
    "plt.show()\n",
    "\n",
    "\n",
    "print(\"La moyenne empirique de notre distribution est {}.\"\n",
    "      .format(np.mean(sommes)))\n",
    "print(\"La moyenne empirique de la variable généré par la fonction rand est {}.\"\n",
    "      .format(np.mean(np.random.rand(taille_echantillon))))\n",
    "print(\"La variance empirique de notre distribution est {}.\"\n",
    "      .format(np.var(sommes)))\n",
    "print(\"La variance empirique de la variable généré par la fonction rand est {}.\"\n",
    "      .format(np.var(np.random.rand(taille_echantillon))))\n",
    "\n"
   ]
  },
  {
   "cell_type": "markdown",
   "metadata": {},
   "source": [
    "<a id=\"montyhallnumpy\"></a>"
   ]
  },
  {
   "cell_type": "markdown",
   "metadata": {},
   "source": [
    "## Monty Hall avec Numpy\n",
    "\n",
    "On peut reformuler le problème de cette manière :\n",
    "\n",
    "* si (premier_choix != bonne_porte)\n",
    "  * si joueur CHANGE --> gagne (1)\n",
    "  * si joueur GARDE  --> perd  (0)\n",
    "* else (premier_choix == bonne_porte)\n",
    "  * si joueur CHANGE --> perd  (0)\n",
    "  * si joueur GARDE  --> gagne (1)\n",
    "  \n",
    "Ce qui veut aussi dire :\n",
    "\n",
    "* les gains du joueurs s'il CHANGE\n",
    "  * si premier_choix != bonne_porte --> 1\n",
    "  * si premier_choix == bonne_porte --> 0\n",
    "* les gains du joueur s'il GARDE\n",
    "  * si premier_choix == bonne_porte --> 1\n",
    "  * si premier_choix != bonne_porte --> 0"
   ]
  },
  {
   "cell_type": "code",
   "execution_count": 4,
   "metadata": {
    "scrolled": false
   },
   "outputs": [
    {
     "data": {
      "image/png": "[encoded data removed]",
      "text/plain": [
       "<Figure size 432x288 with 1 Axes>"
      ]
     },
     "metadata": {
      "needs_background": "light"
     },
     "output_type": "display_data"
    },
    {
     "data": {
      "image/png": "[encoded data removed]",
      "text/plain": [
       "<Figure size 432x288 with 1 Axes>"
      ]
     },
     "metadata": {
      "needs_background": "light"
     },
     "output_type": "display_data"
    }
   ],
   "source": [
    "import numpy as np\n",
    "%matplotlib inline\n",
    "import matplotlib.pyplot as plt\n",
    "\n",
    "N_TRIALS = 1000\n",
    "\n",
    "prizes = np.random.randint(0,3, size=(N_TRIALS))\n",
    "first_choices = np.random.randint(0,3, size=(N_TRIALS))\n",
    "\n",
    "# les gains du joueurs s'il CHANGE\n",
    "#    si premier_choix != bonne_porte --> 1\n",
    "#    si premier_choix == bonne_porte --> 0\n",
    "switching_player_gains = (prizes!=first_choices).astype(int) # remplace True par 1 et False par 0\n",
    "\n",
    "\n",
    "# les gains du joueur s'il GARDE\n",
    "#    si premier_choix == bonne_porte --> 1\n",
    "#    si premier_choix != bonne_porte --> 0\n",
    "keeping_player_gains = (prizes==first_choices).astype(int)\n",
    "\n",
    "plot = plt.bar([1,2],[switching_player_gains.sum(), keeping_player_gains.sum()],tick_label=[\"Changer\",\"Garder\"])\n",
    "\n",
    "figure = plt.figure()\n",
    "# la fonction cumsum() cumule chaque valeur de la liste aur fur et à mesure\n",
    "# autrement la liste ne contient que des 0 et 1\n",
    "plot = plt.scatter(range(N_TRIALS), switching_player_gains.cumsum()) \n",
    "plot = plt.scatter(range(N_TRIALS), keeping_player_gains.cumsum())\n"
   ]
  },
  {
   "cell_type": "code",
   "execution_count": null,
   "metadata": {},
   "outputs": [],
   "source": []
  },
  {
   "cell_type": "code",
   "execution_count": null,
   "metadata": {},
   "outputs": [],
   "source": []
  },
  {
   "cell_type": "code",
   "execution_count": null,
   "metadata": {},
   "outputs": [],
   "source": []
  },
  {
   "cell_type": "code",
   "execution_count": null,
   "metadata": {},
   "outputs": [],
   "source": []
  }
 ],
 "metadata": {
  "kernelspec": {
   "display_name": "Python 3",
   "language": "python",
   "name": "python3"
  },
  "language_info": {
   "codemirror_mode": {
    "name": "ipython",
    "version": 3
   },
   "file_extension": ".py",
   "mimetype": "text/x-python",
   "name": "python",
   "nbconvert_exporter": "python",
   "pygments_lexer": "ipython3",
   "version": "3.8.3"
  }
 },
 "nbformat": 4,
 "nbformat_minor": 4
}
