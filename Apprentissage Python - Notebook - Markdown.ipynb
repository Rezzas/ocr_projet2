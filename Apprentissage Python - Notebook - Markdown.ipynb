{
 "cells": [
  {
   "cell_type": "markdown",
   "metadata": {},
   "source": [
    "# Python\n",
    "\n",
    "* Cours :\n",
    "  * [OpenClassRooms - base du Python](https://openclassrooms.com/fr/courses/4262331-demarrez-votre-projet-avec-python)\n",
    "  * [OpenClassRooms - librairies Data Science](https://openclassrooms.com/fr/courses/4452741-decouvrez-les-librairies-python-pour-la-data-science)\n",
    "\n",
    "\n",
    "* Sommaire :\n",
    "  * [base du Python](#basepython)\n",
    "    * [les variables](#variables)\n",
    "    * [les opérateurs](#operateurs)\n",
    "    * [if / elif / else](#ifelifelse)\n",
    "    * [les fonctions](#fonctions)\n",
    "    * [if name == main](#namemain)\n",
    "    * [les boucles](#boucles)\n",
    "    * [les chaînes de caractères](#chaines)\n",
    "    * [les listes](#listes)\n",
    "    * [les dictionnaires](#dictionnaires)\n",
    "    * [import](#import)\n",
    "    * [les classes](#classes)\n",
    "  * [librairies Data Science](#libdatascience)"
   ]
  },
  {
   "cell_type": "markdown",
   "metadata": {},
   "source": [
    "<a id=\"basepython\"></a>"
   ]
  },
  {
   "cell_type": "markdown",
   "metadata": {},
   "source": [
    "## base du Python"
   ]
  },
  {
   "cell_type": "markdown",
   "metadata": {},
   "source": [
    "<a id=\"variables\"></a>"
   ]
  },
  {
   "cell_type": "markdown",
   "metadata": {},
   "source": [
    "### les variables"
   ]
  },
  {
   "cell_type": "code",
   "execution_count": 52,
   "metadata": {},
   "outputs": [
    {
     "name": "stdout",
     "output_type": "stream",
     "text": [
      "unTexteUneLigne >>> to\"to <class 'str'>\n",
      "unTexteXLignes >>> ligne 1...\n",
      "                ...ligne 2\n",
      "                ... ligne3  <class 'str'>\n",
      "unEntier >>> 1 <class 'int'>\n",
      "unFlottant >>> 3.14 <class 'float'>\n",
      "uneListe >>> ['elem1', 'elem2', 'elem3'] <class 'list'>\n",
      "uneListe elem1 >>> elem1 <class 'str'>\n",
      "unBoolean >>> True <class 'bool'>\n",
      "unTuple >>> ('elem1', 'elem2', 'elem3') <class 'tuple'>\n",
      "unTuple elem1 >>> elem1 <class 'str'>\n",
      "unDico >>> {'key1': 'value1', 'key2': True, 'key3': ['elem1', 'elem2', 'elem3']} <class 'dict'>\n",
      "unDico key3 >>> ['elem1', 'elem2', 'elem3'] <class 'list'>\n",
      "suppr une variable avec del(var)\n"
     ]
    }
   ],
   "source": [
    "unTexteUneLigne = \"to\\\"to\"\n",
    "unTexteXLignes = \"\"\"ligne 1...\n",
    "                ...ligne 2\n",
    "                ... ligne3 \"\"\"\n",
    "unEntier = 1\n",
    "unFlottant = 3.14\n",
    "uneListe = [\"elem1\", \"elem2\", \"elem3\"]\n",
    "unBoolean = 1 < 2\n",
    "unTuple = (\"elem1\", \"elem2\", \"elem3\")\n",
    "unDico = {\n",
    "    'key1': 'value1',\n",
    "    'key2': unBoolean,\n",
    "    'key3': uneListe,\n",
    "}\n",
    "\n",
    "print(\"unTexteUneLigne >>> \" + unTexteUneLigne + \" \" + str(type(unTexteUneLigne)))\n",
    "print(\"unTexteXLignes >>> \" + unTexteXLignes + \" \" + str(type(unTexteXLignes)))\n",
    "print(\"unEntier >>> \" + str(unEntier) + \" \" + str(type(unEntier)))\n",
    "print(\"unFlottant >>> \" + str(unFlottant) + \" \" + str(type(unFlottant)))\n",
    "print(\"uneListe >>> \" + str(uneListe) + \" \" + str(type(uneListe)))\n",
    "print(\"uneListe elem1 >>> \" + str(uneListe[0]) + \" \" + str(type(uneListe[0])))\n",
    "print(\"unBoolean >>> \" + str(unBoolean) + \" \" + str(type(unBoolean)))\n",
    "print(\"unTuple >>> \" + str(unTuple) + \" \" + str(type(unTuple)))\n",
    "print(\"unTuple elem1 >>> \" + str(unTuple[0]) + \" \" + str(type(unTuple[0])))\n",
    "print(\"unDico >>> \" + str(unDico) + \" \" + str(type(unDico)))\n",
    "print(\"unDico key3 >>> \" + str(unDico['key3']) + \" \" + str(type(unDico['key3'])))\n",
    "print(\"suppr une variable avec del(var)\")"
   ]
  },
  {
   "cell_type": "markdown",
   "metadata": {},
   "source": [
    "<a id=\"operateurs\"></a>"
   ]
  },
  {
   "cell_type": "markdown",
   "metadata": {},
   "source": [
    "### les opérateurs\n",
    "\n",
    "le signe = est déjà utilisé pour les variables\n",
    "donc la comparaison se fait via le signe ==\n",
    "\n",
    "liste des signes:\n",
    "    1. ==\n",
    "    2. !=\n",
    "    3. >=\n",
    "    4. <=\n",
    "    5. >\n",
    "    6. <"
   ]
  },
  {
   "cell_type": "code",
   "execution_count": 53,
   "metadata": {},
   "outputs": [
    {
     "name": "stdout",
     "output_type": "stream",
     "text": [
      "True\n",
      "True\n",
      "False\n"
     ]
    }
   ],
   "source": [
    "print(1==1)\n",
    "print(1!=2)\n",
    "print(1 > 2)"
   ]
  },
  {
   "cell_type": "markdown",
   "metadata": {},
   "source": [
    "<a id=\"ifelifelse\"></a>"
   ]
  },
  {
   "cell_type": "markdown",
   "metadata": {},
   "source": [
    "### if / elif / else"
   ]
  },
  {
   "cell_type": "code",
   "execution_count": 54,
   "metadata": {},
   "outputs": [
    {
     "name": "stdout",
     "output_type": "stream",
     "text": [
      "else\n"
     ]
    }
   ],
   "source": [
    "test = \"C\"\n",
    "if test == \"A\":\n",
    "    pass\n",
    "elif test == \"B\":\n",
    "    pass\n",
    "else:\n",
    "    print(\"else\")"
   ]
  },
  {
   "cell_type": "markdown",
   "metadata": {},
   "source": [
    "<a id=\"fonctions\"></a>"
   ]
  },
  {
   "cell_type": "markdown",
   "metadata": {},
   "source": [
    "### les fonctions\n",
    "\n",
    "/!\\ Attention aux : qui démarre la fonction et aux 2 sauts de ligne qui marquent la fin /!\\"
   ]
  },
  {
   "cell_type": "code",
   "execution_count": 55,
   "metadata": {},
   "outputs": [
    {
     "name": "stdout",
     "output_type": "stream",
     "text": [
      "jupyter - notebook\n"
     ]
    }
   ],
   "source": [
    "def ma_fonction(param1, param2):\n",
    "    return (param1 + \" - \" + param2)\n",
    "    \n",
    "\n",
    "texte1 = \"jupyter\"\n",
    "texte2 = \"notebook\"\n",
    "concat = ma_fonction(texte1, texte2)\n",
    "print(concat)"
   ]
  },
  {
   "cell_type": "markdown",
   "metadata": {},
   "source": [
    "<a id=\"namemain\"></a>"
   ]
  },
  {
   "cell_type": "markdown",
   "metadata": {},
   "source": [
    "### if \\_\\_name\\_\\_ == '\\_\\_main\\_\\_':\n",
    "\n",
    "* le if permet d'avoir du code qui ne sera exécuté que si le script est lancé directement mais pas s'il est importé\n",
    "* le def main(): permet en cas d'import de quand même pouvoir lancer la méthode main() du script"
   ]
  },
  {
   "cell_type": "code",
   "execution_count": 56,
   "metadata": {},
   "outputs": [
    {
     "name": "stdout",
     "output_type": "stream",
     "text": [
      "script lancé directement\n"
     ]
    }
   ],
   "source": [
    "def main():\n",
    "    print(\"script lancé directement\")\n",
    "\n",
    "if __name__ == '__main__':\n",
    "    main()\n",
    "else:\n",
    "    print(\"script lancé via import\")"
   ]
  },
  {
   "cell_type": "markdown",
   "metadata": {},
   "source": [
    "<a id=\"boucles\"></a>"
   ]
  },
  {
   "cell_type": "markdown",
   "metadata": {},
   "source": [
    "### les boucles"
   ]
  },
  {
   "cell_type": "markdown",
   "metadata": {},
   "source": [
    "#### while\n",
    "\n",
    "continue / break sont possibles"
   ]
  },
  {
   "cell_type": "code",
   "execution_count": 67,
   "metadata": {},
   "outputs": [
    {
     "name": "stdout",
     "output_type": "stream",
     "text": [
      "a\n",
      "b\n",
      "c\n"
     ]
    }
   ],
   "source": [
    "liste = [\"a\",\"b\",\"c\",\"d\"]\n",
    "i = 0\n",
    "\n",
    "while liste[i] != \"d\":\n",
    "    print(liste[i])\n",
    "    i += 1"
   ]
  },
  {
   "cell_type": "markdown",
   "metadata": {},
   "source": [
    "#### for"
   ]
  },
  {
   "cell_type": "code",
   "execution_count": 68,
   "metadata": {},
   "outputs": [
    {
     "name": "stdout",
     "output_type": "stream",
     "text": [
      "a\n",
      "b\n",
      "c\n",
      "d\n"
     ]
    }
   ],
   "source": [
    "liste = [\"a\",\"b\",\"c\",\"d\"]\n",
    "\n",
    "for item in liste:\n",
    "    print(item)"
   ]
  },
  {
   "cell_type": "markdown",
   "metadata": {},
   "source": [
    "<a id=\"chaines\"></a>"
   ]
  },
  {
   "cell_type": "markdown",
   "metadata": {},
   "source": [
    "### les chaînes de caractères\n",
    "\n",
    "#### fonctions usuelles"
   ]
  },
  {
   "cell_type": "code",
   "execution_count": 59,
   "metadata": {},
   "outputs": [
    {
     "name": "stdout",
     "output_type": "stream",
     "text": [
      "['heLLo', 'wORLd!']\n",
      "heLLo wORLd!\n",
      "  HELLO WORLD!  \n",
      "  hello world!  \n"
     ]
    }
   ],
   "source": [
    "chaine = \"  heLLo wORLd!  \"\n",
    "print(chaine.split())\n",
    "print(chaine.strip())\n",
    "print(chaine.upper())\n",
    "print(chaine.lower())"
   ]
  },
  {
   "cell_type": "markdown",
   "metadata": {},
   "source": [
    "#### format"
   ]
  },
  {
   "cell_type": "code",
   "execution_count": 60,
   "metadata": {},
   "outputs": [
    {
     "data": {
      "text/plain": [
       "'insert something here OK or here KO'"
      ]
     },
     "execution_count": 60,
     "metadata": {},
     "output_type": "execute_result"
    }
   ],
   "source": [
    "\"insert something here {} or here {}\".format(\"OK\", \"KO\")"
   ]
  },
  {
   "cell_type": "markdown",
   "metadata": {},
   "source": [
    "<a id=\"listes\"></a>"
   ]
  },
  {
   "cell_type": "markdown",
   "metadata": {},
   "source": [
    "### les listes\n",
    "\n",
    "* liste.index(\"elem\") : renvoie l'index de l'élément\n",
    "* liste.append(\"new elem\") : ajoute un élément en fin de liste\n",
    "* liste.insert(index, \"new elem\") : ajoute un élément à l'index\n",
    "* liste.pop(null|index) : \n",
    "  * si null alors on supprime le dernier élément et on renvoie sa valeur\n",
    "  * si index alors on supprime l'élément à l'index et on renvoie sa valeur\n",
    "* liste.remove(\"elem\") : on supprime un élément sans renvoyer sa valeur\n",
    "* len(liste) : taille de la liste\n",
    "* liste[-1] : dernier élément de la liste"
   ]
  },
  {
   "cell_type": "code",
   "execution_count": 61,
   "metadata": {},
   "outputs": [
    {
     "name": "stdout",
     "output_type": "stream",
     "text": [
      "['a', 'b', 'c', 'd', 'e', 'f', 'g']\n",
      "élément 3 de la liste >>> c\n",
      "index de l'élément e >>> 4\n",
      "ajout d'un élément en fin de liste >>> h >>> ['a', 'b', 'c', 'd', 'e', 'f', 'g', 'h']\n",
      "ajout d'un élément à l'index 3 de la liste >>> z >>> ['a', 'b', 'c', 'z', 'd', 'e', 'f', 'g', 'h']\n",
      "suppression d'un élément à l'index 3 de la liste >>> d >>> ['a', 'b', 'c', 'd', 'e', 'f', 'g', 'h']\n"
     ]
    }
   ],
   "source": [
    "liste = [\"a\",\"b\",\"c\",\"d\",\"e\",\"f\",\"g\"]\n",
    "\n",
    "\n",
    "print(liste)\n",
    "print(\"élément 3 de la liste >>> \" + liste[2])\n",
    "print(\"index de l'élément e >>> \" + str(liste.index(\"e\")))\n",
    "\n",
    "liste.append(\"h\")\n",
    "print(\"ajout d'un élément en fin de liste >>> \" + liste[-1] + \" >>> \" + str(liste))\n",
    "\n",
    "liste.insert(3,\"z\")\n",
    "print(\"ajout d'un élément à l'index 3 de la liste >>> \" + liste[3] + \" >>> \" + str(liste))\n",
    "\n",
    "liste.pop(3)\n",
    "print(\"suppression d'un élément à l'index 3 de la liste >>> \" + liste[3] + \" >>> \" + str(liste))"
   ]
  },
  {
   "cell_type": "markdown",
   "metadata": {},
   "source": [
    "<a id=\"dictionnaires\"></a>"
   ]
  },
  {
   "cell_type": "markdown",
   "metadata": {},
   "source": [
    "### les dictionnaires"
   ]
  },
  {
   "cell_type": "code",
   "execution_count": 62,
   "metadata": {},
   "outputs": [
    {
     "name": "stdout",
     "output_type": "stream",
     "text": [
      "{'liste': ['a', 'b', 'c', 'd', 'e', 'f', 'g'], 'dico': {'key1': 'value1', 'key2': 'value2', 'key3': ['v', 'w', 'x', 'y', 'z']}}\n",
      "['a', 'b', 'c', 'd', 'e', 'f', 'g']\n",
      "d\n",
      "value1\n",
      "['v', 'w', 'x', 'y', 'z']\n",
      "z\n",
      "['a', 'b', 'c', 'd', 'e', 'f', 'g', 'test']\n",
      "{'liste': ['euh', 'test'], 'dico': 'test'}\n"
     ]
    }
   ],
   "source": [
    "dictionnaire = {\n",
    "    \"liste\": [\"a\",\"b\",\"c\",\"d\",\"e\",\"f\",\"g\"],\n",
    "    \"dico\": {\n",
    "        \"key1\": \"value1\",\n",
    "        \"key2\": \"value2\",\n",
    "        \"key3\": [\"v\",\"w\",\"x\",\"y\",\"z\"]\n",
    "    }\n",
    "}\n",
    "\n",
    "print(dictionnaire)\n",
    "print(dictionnaire[\"liste\"])\n",
    "print(dictionnaire[\"liste\"][3])\n",
    "print(dictionnaire[\"dico\"][\"key1\"])\n",
    "print(dictionnaire[\"dico\"][\"key3\"])\n",
    "print(dictionnaire[\"dico\"][\"key3\"][4])\n",
    "\n",
    "dictionnaire[\"liste\"].append(\"test\")\n",
    "print(dictionnaire[\"liste\"])\n",
    "\n",
    "\n",
    "dictionnaire.update({\"liste\": [\"euh\", \"test\"], \"dico\": \"test\"})\n",
    "print(dictionnaire)"
   ]
  },
  {
   "cell_type": "markdown",
   "metadata": {},
   "source": [
    "<a id=\"import\"></a>"
   ]
  },
  {
   "cell_type": "markdown",
   "metadata": {},
   "source": [
    "### import"
   ]
  },
  {
   "cell_type": "code",
   "execution_count": null,
   "metadata": {},
   "outputs": [],
   "source": [
    "import numpy as np\n"
   ]
  },
  {
   "cell_type": "markdown",
   "metadata": {},
   "source": [
    "<a id=\"classes\"></a>"
   ]
  },
  {
   "cell_type": "markdown",
   "metadata": {},
   "source": [
    "### les classes"
   ]
  },
  {
   "cell_type": "code",
   "execution_count": null,
   "metadata": {},
   "outputs": [],
   "source": []
  },
  {
   "cell_type": "markdown",
   "metadata": {},
   "source": [
    "## librairies Data Science"
   ]
  },
  {
   "cell_type": "markdown",
   "metadata": {},
   "source": [
    "### Matplotlib\n",
    "\n",
    "%matplotlib inline \n",
    "> une fonction du notebook qui configure la bibliothèque pour dessiner le graphique \n",
    ">> inline : on utilise la bibliothèque intégrée à notebook\n",
    ">> Cette directive doit être incluse au tout début de votre script, avant même les directives d'import des librairies.\n",
    "\n",
    "> Pour afficher la liste des bibliothèques graphiques prise en charge, il existe la commande \"%matplotlib --list\".\n"
   ]
  },
  {
   "cell_type": "code",
   "execution_count": 63,
   "metadata": {},
   "outputs": [
    {
     "name": "stdout",
     "output_type": "stream",
     "text": [
      "Available matplotlib backends: ['tk', 'gtk', 'gtk3', 'wx', 'qt4', 'qt5', 'qt', 'osx', 'nbagg', 'notebook', 'agg', 'svg', 'pdf', 'ps', 'inline', 'ipympl', 'widget']\n"
     ]
    }
   ],
   "source": [
    "%matplotlib --list"
   ]
  },
  {
   "cell_type": "code",
   "execution_count": 64,
   "metadata": {},
   "outputs": [],
   "source": [
    "%matplotlib inline"
   ]
  },
  {
   "cell_type": "code",
   "execution_count": 65,
   "metadata": {},
   "outputs": [
    {
     "data": {
      "image/png": "[encoded data removed]",
      "text/plain": [
       "<Figure size 432x288 with 1 Axes>"
      ]
     },
     "metadata": {
      "needs_background": "light"
     },
     "output_type": "display_data"
    }
   ],
   "source": [
    "import matplotlib.pyplot as plt\n",
    "import numpy as np\n",
    "x = np.linspace(0, 3*np.pi, 500)\n",
    "plt.plot(x, np.sin(x**2))\n",
    "plt.title('Graphique simple');"
   ]
  },
  {
   "cell_type": "markdown",
   "metadata": {},
   "source": [
    "# Jupyter Notebook\n",
    "\n",
    "## Help > Keyboard Shortcuts\n",
    "\n",
    "* H =ouvrir le menu des raccourcis\n",
    "* ctrl + entrée = exécuter la cellule\n",
    "* maj + entrée = exécuter la cellule puis passer à la suivante\n",
    "* Y = transformer en cellule code\n",
    "* M = transformer en cellule Markdown\n",
    "* A = insérer une cellule avant\n",
    "* B = insérer une cellule après\n",
    "* X = couper les cellules selectionnées\n",
    "* C = copier les cellules selectionnées\n",
    "* V = coller les cellules selectionnées\n",
    "* D,D = supprimer les cellulles selectionnées\n",
    "\n",
    "## Les lignes magiques\n",
    "\n",
    "\n",
    "* Python permet d'écrire des raccourcis de fonction via le caractère %\n",
    "    * %fonction param1 param2 ... les paramètres sont ceux passés sur la même ligne\n",
    "    * %%fonction param1 param2 ... les paramètres sont ceux passés sur la même ligne et aussi les lignes en dessous \n",
    "    \n",
    "\n",
    "%alias  %alias_magic  %autoawait  %autocall  %automagic  %autosave  %bookmark  %cd  %clear  %cls  %colors  %conda  %config  %connect_info  %copy  %ddir  %debug  %dhist  %dirs  %doctest_mode  %echo  %ed  %edit  %env  %gui  %hist  %history  %killbgscripts  %ldir  %less  %load  %load_ext  %loadpy  %logoff  %logon  %logstart  %logstate  %logstop  %ls  %lsmagic  %macro  %magic  %matplotlib  %mkdir  %more  %notebook  %page  %pastebin  %pdb  %pdef  %pdoc  %pfile  %pinfo  %pinfo2  %pip  %popd  %pprint  %precision  %prun  %psearch  %psource  %pushd  %pwd  %pycat  %pylab  %qtconsole  %quickref  %recall  %rehashx  %reload_ext  %ren  %rep  %rerun  %reset  %reset_selective  %rmdir  %run  %save  %sc  %set_env  %store  %sx  %system  %tb  %time  %timeit  %unalias  %unload_ext  %who  %who_ls  %whos  %xdel  %xmode\n",
    "\n",
    "## Les cellules magiques\n",
    "\n",
    "%%!  %%HTML  %%SVG  %%bash  %%capture  %%cmd  %%debug  %%file  %%html  %%javascript  %%js  %%latex  %%markdown  %%perl  %%prun  %%pypy  %%python  %%python2  %%python3  %%ruby  %%script  %%sh  %%svg  %%sx  %%system  %%time  %%timeit  %%writefile"
   ]
  },
  {
   "cell_type": "code",
   "execution_count": 66,
   "metadata": {},
   "outputs": [
    {
     "name": "stdout",
     "output_type": "stream",
     "text": [
      "55.6 µs ± 613 ns per loop (mean ± std. dev. of 7 runs, 10000 loops each)\n"
     ]
    }
   ],
   "source": [
    "%%timeit\n",
    "square_evens = [n*n for n in range(1000)]"
   ]
  },
  {
   "cell_type": "markdown",
   "metadata": {},
   "source": [
    "# Markdown\n",
    "\n",
    "[Markdown Cheatsheet](https://github.com/adam-p/markdown-here/wiki/Markdown-Cheatsheet)"
   ]
  }
 ],
 "metadata": {
  "kernelspec": {
   "display_name": "Python 3",
   "language": "python",
   "name": "python3"
  },
  "language_info": {
   "codemirror_mode": {
    "name": "ipython",
    "version": 3
   },
   "file_extension": ".py",
   "mimetype": "text/x-python",
   "name": "python",
   "nbconvert_exporter": "python",
   "pygments_lexer": "ipython3",
   "version": "3.8.3"
  }
 },
 "nbformat": 4,
 "nbformat_minor": 4
}
