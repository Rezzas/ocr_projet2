{
 "cells": [
  {
   "cell_type": "markdown",
   "metadata": {},
   "source": [
    "# Python\n",
    "\n",
    "* Cours :\n",
    "  * [OpenClassRooms - base du Python](https://openclassrooms.com/fr/courses/4262331-demarrez-votre-projet-avec-python)\n",
    "  * [FormationVidéo - playlist YouTube](https://www.youtube.com/watch?v=HWxBtxPBCAc&list=PLrSOXFDHBtfHg8fWBd7sKPxEmahwyVBkC)\n",
    "  * [Documentation - Opérateur surchargeable](https://docs.python.org/3.8/library/operator.html)\n",
    "  * [OpenClassRooms - librairies Data Science](https://openclassrooms.com/fr/courses/4452741-decouvrez-les-librairies-python-pour-la-data-science)\n",
    "\n",
    "\n",
    "* Sommaire :\n",
    "  * [base du Python](#basepython)\n",
    "    * [les variables](#variables)\n",
    "    * [les opérateurs](#operateurs)\n",
    "    * [if / elif / else](#ifelifelse)\n",
    "    * [les fonctions](#fonctions)\n",
    "    * [if name == main](#namemain)\n",
    "    * [les boucles](#boucles)\n",
    "    * [les chaînes de caractères](#chaines)\n",
    "    * [les listes](#listes)\n",
    "    * [les dictionnaires](#dictionnaires)\n",
    "    * [import](#import)\n",
    "    * [try / except](#tryexcept)\n",
    "    * [les classes](#classes)\n",
    "    * [les metaclasses](#metaclasses)\n",
    "  * [librairies Data Science](#libdatascience)\n",
    "    * [problème de Monty Hall](#montyhall)\n",
    "    * [Théorème Centrale Limite](#centralelimite)"
   ]
  },
  {
   "cell_type": "markdown",
   "metadata": {},
   "source": [
    "<a id=\"basepython\"></a>"
   ]
  },
  {
   "cell_type": "markdown",
   "metadata": {},
   "source": [
    "## base du Python"
   ]
  },
  {
   "cell_type": "markdown",
   "metadata": {},
   "source": [
    "<a id=\"variables\"></a>"
   ]
  },
  {
   "cell_type": "markdown",
   "metadata": {},
   "source": [
    "### les variables"
   ]
  },
  {
   "cell_type": "code",
   "execution_count": null,
   "metadata": {},
   "outputs": [],
   "source": [
    "unTexteUneLigne = \"to\\\"to\"\n",
    "unTexteXLignes = \"\"\"ligne 1...\n",
    "                ...ligne 2\n",
    "                ... ligne3 \"\"\"\n",
    "unEntier = 1\n",
    "unFlottant = 3.14\n",
    "uneListe = [\"elem1\", \"elem2\", \"elem3\"]\n",
    "unBoolean = 1 < 2\n",
    "unTuple = (\"elem1\", \"elem2\", \"elem3\")\n",
    "unDico = {\n",
    "    'key1': 'value1',\n",
    "    'key2': unBoolean,\n",
    "    'key3': uneListe,\n",
    "}\n",
    "\n",
    "print(\"unTexteUneLigne >>> \" + unTexteUneLigne + \" \" + str(type(unTexteUneLigne)))\n",
    "print(\"unTexteXLignes >>> \" + unTexteXLignes + \" \" + str(type(unTexteXLignes)))\n",
    "print(\"unEntier >>> \" + str(unEntier) + \" \" + str(type(unEntier)))\n",
    "print(\"unFlottant >>> \" + str(unFlottant) + \" \" + str(type(unFlottant)))\n",
    "print(\"uneListe >>> \" + str(uneListe) + \" \" + str(type(uneListe)))\n",
    "print(\"uneListe elem1 >>> \" + str(uneListe[0]) + \" \" + str(type(uneListe[0])))\n",
    "print(\"unBoolean >>> \" + str(unBoolean) + \" \" + str(type(unBoolean)))\n",
    "print(\"unTuple >>> \" + str(unTuple) + \" \" + str(type(unTuple)))\n",
    "print(\"unTuple elem1 >>> \" + str(unTuple[0]) + \" \" + str(type(unTuple[0])))\n",
    "print(\"unDico >>> \" + str(unDico) + \" \" + str(type(unDico)))\n",
    "print(\"unDico key3 >>> \" + str(unDico['key3']) + \" \" + str(type(unDico['key3'])))\n",
    "print(\"suppr une variable avec del(var)\")"
   ]
  },
  {
   "cell_type": "markdown",
   "metadata": {},
   "source": [
    "<a id=\"operateurs\"></a>"
   ]
  },
  {
   "cell_type": "markdown",
   "metadata": {},
   "source": [
    "### les opérateurs\n",
    "\n",
    "le signe = est déjà utilisé pour les variables\n",
    "donc la comparaison se fait via le signe ==\n",
    "\n",
    "liste des signes:\n",
    "    1. ==\n",
    "    2. !=\n",
    "    3. >=\n",
    "    4. <=\n",
    "    5. >\n",
    "    6. <"
   ]
  },
  {
   "cell_type": "code",
   "execution_count": null,
   "metadata": {},
   "outputs": [],
   "source": [
    "print(1==1)\n",
    "print(1!=2)\n",
    "print(1 > 2)"
   ]
  },
  {
   "cell_type": "markdown",
   "metadata": {},
   "source": [
    "<a id=\"ifelifelse\"></a>"
   ]
  },
  {
   "cell_type": "markdown",
   "metadata": {},
   "source": [
    "### if / elif / else"
   ]
  },
  {
   "cell_type": "code",
   "execution_count": null,
   "metadata": {},
   "outputs": [],
   "source": [
    "test = \"C\"\n",
    "if test == \"A\":\n",
    "    pass\n",
    "elif test == \"B\":\n",
    "    pass\n",
    "else:\n",
    "    print(\"else\")"
   ]
  },
  {
   "cell_type": "markdown",
   "metadata": {},
   "source": [
    "<a id=\"fonctions\"></a>"
   ]
  },
  {
   "cell_type": "markdown",
   "metadata": {},
   "source": [
    "### les fonctions\n",
    "\n",
    "/!\\ Attention à def et aux : qui démarre la fonction et aux 2 sauts de ligne qui marquent la fin /!\\"
   ]
  },
  {
   "cell_type": "code",
   "execution_count": null,
   "metadata": {},
   "outputs": [],
   "source": [
    "def ma_fonction(param1, param2):\n",
    "    return (param1 + \" - \" + param2)\n",
    "    \n",
    "\n",
    "texte1 = \"jupyter\"\n",
    "texte2 = \"notebook\"\n",
    "concat = ma_fonction(texte1, texte2)\n",
    "print(concat)"
   ]
  },
  {
   "cell_type": "markdown",
   "metadata": {},
   "source": [
    "<a id=\"namemain\"></a>"
   ]
  },
  {
   "cell_type": "markdown",
   "metadata": {},
   "source": [
    "### if \\_\\_name\\_\\_ == '\\_\\_main\\_\\_':\n",
    "\n",
    "* le if permet d'avoir du code qui ne sera exécuté que si le script est lancé directement mais pas s'il est importé\n",
    "* le def main(): permet en cas d'import de quand même pouvoir lancer la méthode main() du script"
   ]
  },
  {
   "cell_type": "code",
   "execution_count": null,
   "metadata": {},
   "outputs": [],
   "source": [
    "def main():\n",
    "    print(\"script lancé directement\")\n",
    "\n",
    "if __name__ == '__main__':\n",
    "    main()\n",
    "else:\n",
    "    print(\"script lancé via import\")"
   ]
  },
  {
   "cell_type": "markdown",
   "metadata": {},
   "source": [
    "<a id=\"boucles\"></a>"
   ]
  },
  {
   "cell_type": "markdown",
   "metadata": {},
   "source": [
    "### les boucles"
   ]
  },
  {
   "cell_type": "markdown",
   "metadata": {},
   "source": [
    "#### while\n",
    "\n",
    "continue / break sont possibles"
   ]
  },
  {
   "cell_type": "code",
   "execution_count": null,
   "metadata": {},
   "outputs": [],
   "source": [
    "liste = [\"a\",\"b\",\"c\",\"d\"]\n",
    "i = 0\n",
    "\n",
    "while liste[i] != \"d\":\n",
    "    print(liste[i])\n",
    "    i += 1"
   ]
  },
  {
   "cell_type": "markdown",
   "metadata": {},
   "source": [
    "#### for"
   ]
  },
  {
   "cell_type": "code",
   "execution_count": null,
   "metadata": {},
   "outputs": [],
   "source": [
    "liste = [\"a\",\"b\",\"c\",\"d\"]\n",
    "\n",
    "for item in liste:\n",
    "    print(item)"
   ]
  },
  {
   "cell_type": "markdown",
   "metadata": {},
   "source": [
    "<a id=\"chaines\"></a>"
   ]
  },
  {
   "cell_type": "markdown",
   "metadata": {},
   "source": [
    "### les chaînes de caractères\n",
    "\n",
    "#### fonctions usuelles"
   ]
  },
  {
   "cell_type": "code",
   "execution_count": null,
   "metadata": {},
   "outputs": [],
   "source": [
    "chaine = \"  heLLo wORLd!  \"\n",
    "print(chaine.split())\n",
    "print(chaine.strip())\n",
    "print(chaine.upper())\n",
    "print(chaine.lower())"
   ]
  },
  {
   "cell_type": "markdown",
   "metadata": {},
   "source": [
    "#### format"
   ]
  },
  {
   "cell_type": "code",
   "execution_count": null,
   "metadata": {},
   "outputs": [],
   "source": [
    "\"insert something here {} or here {}\".format(\"OK\", \"KO\")"
   ]
  },
  {
   "cell_type": "markdown",
   "metadata": {},
   "source": [
    "<a id=\"listes\"></a>"
   ]
  },
  {
   "cell_type": "markdown",
   "metadata": {},
   "source": [
    "### les listes\n",
    "\n",
    "* liste.index(\"elem\") : renvoie l'index de l'élément\n",
    "* liste.append(\"new elem\") : ajoute un élément en fin de liste\n",
    "* liste.insert(index, \"new elem\") : ajoute un élément à l'index\n",
    "* liste.pop(null|index) : \n",
    "  * si null alors on supprime le dernier élément et on renvoie sa valeur\n",
    "  * si index alors on supprime l'élément à l'index et on renvoie sa valeur\n",
    "* liste.remove(\"elem\") : on supprime un élément sans renvoyer sa valeur\n",
    "* len(liste) : taille de la liste\n",
    "* liste[-1] : dernier élément de la liste"
   ]
  },
  {
   "cell_type": "code",
   "execution_count": null,
   "metadata": {},
   "outputs": [],
   "source": [
    "liste = [\"a\",\"b\",\"c\",\"d\",\"e\",\"f\",\"g\"]\n",
    "\n",
    "\n",
    "print(liste)\n",
    "print(\"élément 3 de la liste >>> \" + liste[2])\n",
    "print(\"index de l'élément e >>> \" + str(liste.index(\"e\")))\n",
    "\n",
    "liste.append(\"h\")\n",
    "print(\"ajout d'un élément en fin de liste >>> \" + liste[-1] + \" >>> \" + str(liste))\n",
    "\n",
    "liste.insert(3,\"z\")\n",
    "print(\"ajout d'un élément à l'index 3 de la liste >>> \" + liste[3] + \" >>> \" + str(liste))\n",
    "\n",
    "liste.pop(3)\n",
    "print(\"suppression d'un élément à l'index 3 de la liste >>> \" + liste[3] + \" >>> \" + str(liste))"
   ]
  },
  {
   "cell_type": "markdown",
   "metadata": {},
   "source": [
    "<a id=\"dictionnaires\"></a>"
   ]
  },
  {
   "cell_type": "markdown",
   "metadata": {},
   "source": [
    "### les dictionnaires"
   ]
  },
  {
   "cell_type": "code",
   "execution_count": null,
   "metadata": {},
   "outputs": [],
   "source": [
    "dictionnaire = {\n",
    "    \"liste\": [\"a\",\"b\",\"c\",\"d\",\"e\",\"f\",\"g\"],\n",
    "    \"dico\": {\n",
    "        \"key1\": \"value1\",\n",
    "        \"key2\": \"value2\",\n",
    "        \"key3\": [\"v\",\"w\",\"x\",\"y\",\"z\"]\n",
    "    }\n",
    "}\n",
    "\n",
    "print(dictionnaire)\n",
    "print(dictionnaire[\"liste\"])\n",
    "print(dictionnaire[\"liste\"][3])\n",
    "print(dictionnaire[\"dico\"][\"key1\"])\n",
    "print(dictionnaire[\"dico\"][\"key3\"])\n",
    "print(dictionnaire[\"dico\"][\"key3\"][4])\n",
    "\n",
    "dictionnaire[\"liste\"].append(\"test\")\n",
    "print(dictionnaire[\"liste\"])\n",
    "\n",
    "dictionnaire.update({\"liste\": [\"euh\", \"test\"], \"dico\": \"test\"})\n",
    "print(dictionnaire)"
   ]
  },
  {
   "cell_type": "markdown",
   "metadata": {},
   "source": [
    "<a id=\"import\"></a>"
   ]
  },
  {
   "cell_type": "markdown",
   "metadata": {},
   "source": [
    "### import\n",
    "\n",
    "Importer un module afin de ne pas avoir à recoder soi-même tout un tas de fonctionnalités\n",
    "\n",
    "Deux méthodes d'import :\n",
    "1. (conseillée) import module as name\n",
    "  * permet d'importer le module sous le nom name\n",
    "  * on utilise ensuite les méthodes du module : name.method(param)\n",
    "2. (déconseillée) from module import * ou some_object\n",
    "  * permet aussi d'importer un module mais sans avoir à l'appeler pour utiliser ses méthodes\n",
    "  * on peut directement utiliser : method()\n",
    "  * /!\\ attention cependant car si plusieurs modules sont importés de cette manière et qu'ils partagent le même nom de méthode, il y aura un conflit /!\\\n"
   ]
  },
  {
   "cell_type": "code",
   "execution_count": null,
   "metadata": {},
   "outputs": [],
   "source": [
    "import numpy as np\n",
    "from numpy import *\n",
    "\n",
    "import mon_module as mm\n",
    "print(mm.addition(2,3))"
   ]
  },
  {
   "cell_type": "markdown",
   "metadata": {},
   "source": [
    "<a id=\"tryexcept\"></a>"
   ]
  },
  {
   "cell_type": "markdown",
   "metadata": {},
   "source": [
    "### try / except"
   ]
  },
  {
   "cell_type": "code",
   "execution_count": null,
   "metadata": {},
   "outputs": [],
   "source": [
    "try:\n",
    "    print(\"Je m'appelle : {}\".format(prenom))\n",
    "except NameError:\n",
    "    print(\"La variable prenom n'est pas définie\")\n",
    "    \n",
    "prenom = \"Marcel\"\n",
    "\n",
    "try:\n",
    "    print(\"Je m'appelle : {}\".format(prenom))\n",
    "except NameError:\n",
    "    print(\"La variable prenom n'est pas définie\")"
   ]
  },
  {
   "cell_type": "markdown",
   "metadata": {},
   "source": [
    "<a id=\"classes\"></a>"
   ]
  },
  {
   "cell_type": "markdown",
   "metadata": {},
   "source": [
    "### les classes / programmation orienté objet\n",
    "\n",
    "* Classe: plan de conception / nouveau type d'objet (ex : Humain)\n",
    "* Objet: instance d'une classe (ex: Julien est un objet de classe Humain)\n",
    "* Attribut: variable d'une classe (ex : prénom, âge, sexe, taille, poids,...)\n",
    "* Propriété: manière de manipuler/contrôler des attributs (encapsulation)\n",
    "\n",
    "> plutôt que d'accéder/modifier/supprimer directement un attribut on peut les encapsuler dans des propriétés\n",
    "\n",
    "> l'idée étant de contrôler correctement les attributs \n",
    "\n",
    ">> ex: empêcher qu'une valeur négative ne soit définie et mettre par défaut 0 dans ce cas\n",
    "\n",
    ">> ex: vérifier qu'un utilisateur envoie bien un numéro de tél et pas une chaîne de caractère\n",
    "\n",
    ">> ex: vérifier le nombre max de caractères permis pour un attribut donné\n",
    "\n",
    "> par convention on déclare un attribut \\_attribut avec un \\_ pour signaler que l'on ne veut pas y accéder directement mais via des propriétés (bien qu'on pourrait toujours le faire si on le souhaitait)\n",
    "\n",
    "> une propriété peut avoir 4 paramètres (<getter\\>, <setter\\>, <deleter\\>, <helper\\>)\n",
    " \n",
    ">> si le <getter\\> ne fait qu'un \"return self.var\"il ne sert à rien ! \n",
    "\n",
    ">> ces paramètres sont à définir si on joue de manière particulière avec l'attribut qu'on encapsule\n",
    "\n",
    "* Méthode d'instance: fonction sur une instance (objet)\n",
    "* Méthode de classe: fonction sur une classe\n",
    "* Méthode statique: fonction indépendante mais \"liée\" à une classe\n",
    "\n",
    "> méthode spéciale : le constructeur : def \\_\\_init\\_\\_(self):\n",
    "\n",
    "> en Python, pas la peine de faire des accesseurs comme en C++ (getAge, setAge...) on peut directement modifier les attributs"
   ]
  },
  {
   "cell_type": "code",
   "execution_count": null,
   "metadata": {},
   "outputs": [],
   "source": [
    "class Humain:\n",
    "    \"\"\"\n",
    "    classe des êtres humains\n",
    "    \"\"\"\n",
    "    # attribut de classe / variable globale partagée entre toutes les instances de la classe\n",
    "    humains_crees = 0\n",
    "    lieu_habitation = \"Paris\"\n",
    "    \n",
    "    # constructeur\n",
    "    def __init__(self, prenom, sexe, age, taille, poids):\n",
    "        print(\"Création d'un humain...\")\n",
    "        #attribut d'objet\n",
    "        self.prenom = prenom\n",
    "        self.sexe = sexe\n",
    "        self.age = age\n",
    "        self.taille = taille\n",
    "        # attribut à encapsuler\n",
    "        self._poids = poids\n",
    "        Humain.humains_crees += 1\n",
    "        print(\"Humain créé !\")\n",
    "    \n",
    "    # <getter>\n",
    "    # puisqu'il est possible de supprimer l'attribut poids on va vérifier qu'il exsite avant de le retourner\n",
    "    def _getPoids(self):\n",
    "        # on pourrait imaginer un if self.pays == \"USA\" alors on convertit en pounds\n",
    "        try:\n",
    "            return str(self._poids) + \" kgs\"\n",
    "        except AttributeError:\n",
    "            return \"poids_non_defini\"\n",
    "    \n",
    "    # <setter>\n",
    "    # dans cet exemple l'humain ne peut faire que grossir\n",
    "    def _setPoids(self, poids):\n",
    "        try:\n",
    "            if poids > self._poids:\n",
    "                self._poids = poids\n",
    "        except AttributeError:\n",
    "                self._poids = poids\n",
    "        \n",
    "    # <deleter>\n",
    "    def _delPoids(self):\n",
    "        del self._poids\n",
    "       \n",
    "    # propriété / encapsulation\n",
    "    # 4 paramètres (non obligatoire) pour property (<getter>, <setter>, <deleter>, <helper>)\n",
    "    poids = property(_getPoids, _setPoids, _delPoids, \"Je suis le poids d'un humain\")\n",
    "\n",
    "    # méthode d'instance\n",
    "    # ce n'est pas une méthode de classe car la méthode agit sur self\n",
    "    # si je ne crée pas d'objet humain1 = Humain(...), je ne peux pas utiliser la méthode\n",
    "    def parler(self,parole):\n",
    "        print(\"{} a dit : {}\".format(self.prenom, parole))\n",
    "         \n",
    "    # méthode de classe\n",
    "    # je peux utiliser la méthode sans créer d'êtres humains\n",
    "    def changerVille(cls, ville):\n",
    "        Humain.lieu_habitation = ville\n",
    "    changerVille = classmethod(changerVille)\n",
    "    \n",
    "    # méthode statique\n",
    "    # classe utilitaire que l'on peut appeler un peu n'importe comment\n",
    "    def kesakoUnHumain():\n",
    "        print(\"un être humain est un habitant de la planète Terre et il possède une conscience de lui-même\")\n",
    "    kesakoUnHumain = staticmethod(kesakoUnHumain)\n",
    "    \n",
    "    \n",
    "class Handicape(Humain):\n",
    "    def __init__(self, prenom, sexe, age, taille, poids, handicap):\n",
    "        Humain.__init__(self, prenom, sexe, age, taille, poids)\n",
    "        self.handicap = handicap\n",
    "    \n",
    "    # surcharge d'opérateur\n",
    "    def __str__(self):\n",
    "        return str(self.prenom)+\" \"+str(self.sexe)+\" \"+str(self.age)+\" \"+str(self.taille)+\" \"+str(self.poids)+\" \"+str(self.handicap)\n",
    "        \n",
    "\n",
    "\n",
    "print(\"Lancement du programme...\")\n",
    "print()\n",
    "\n",
    "# nouvelle instance de la classe Humain\n",
    "humain1 = Humain(\"Julien\", \"H\", 30, 1.83, 70.2)\n",
    "\n",
    "# pas besoin d'accesseur pour lire l'instance\n",
    "print(\"Prénom de humain1 : {}\".format(humain1.prenom))\n",
    "print(\"Sexe de humain1 : {}\".format(humain1.sexe))\n",
    "print(\"Age de humain1 : {}\".format(humain1.age))\n",
    "print(\"Taille de humain1 : {}\".format(humain1.taille))\n",
    "print()\n",
    "\n",
    "# pas besoin d'accesseur pour modifier l'attribut\n",
    "humain1.age = 60 \n",
    "print(\"Age de humain1 : {}\".format(humain1.age))\n",
    "print()\n",
    "\n",
    "# utilisation du getter _getPoids()\n",
    "print(\"Poids de humain1 : {}\".format(humain1.poids))\n",
    "print()\n",
    "\n",
    "# utilisation du setter _setPoids(poids) de la propriété poids\n",
    "humain1._setPoids(90.8)\n",
    "print(\"Nouveau poids de humain1 : {}\".format(humain1.poids))\n",
    "humain1._setPoids(60.8)\n",
    "print(\"Nouveau poids de humain1 : {}\".format(humain1.poids))\n",
    "print()\n",
    "\n",
    "# utilisation du deleter _delPoids()\n",
    "print(\">>>>> deleter <<<<<<\")\n",
    "\n",
    "## humain1._delPoids() # on peut appeler la méthode que l'on a créée\n",
    "del(humain1.poids)     # ou la méthode del qui va utiliser notre méthode _delPoids()\n",
    "\n",
    "if humain1.poids != \"poids_non_defini\":\n",
    "    print(\"Poids de humain1 : {}\".format(humain1.poids))\n",
    "else:\n",
    "    print(\"Impossible d'afficher un poids car l'humain1 n'en a pas\")\n",
    "    \n",
    "humain1._setPoids(60.8)\n",
    "print(\"Nouveau poids de humain1 : {}\".format(humain1.poids))\n",
    "print()\n",
    "\n",
    "\n",
    "# utilisation du helper\n",
    "help(Humain.poids)\n",
    "\n",
    "# affichage et évolution de la variable globale humains_crees\n",
    "print(\"Humains existants : {}\".format(Humain.humains_crees))\n",
    "humain2 = Humain(\"Martine\", \"F\", 45, 1.64, 60)\n",
    "print(\"Humains existants : {}\".format(Humain.humains_crees))\n",
    "print()\n",
    "\n",
    "# utilisation de la méthode d'instance parler(parole)\n",
    "humain1.parler(\"hello world\")\n",
    "humain2.parler(\"oh hello l'ami\")\n",
    "humain1.parler(\"ça va ?\")\n",
    "humain2.parler(\"pépouze, j'apprends les classes\")\n",
    "print()\n",
    "\n",
    "# utilisation de la méthode de classe changerVille(ville)\n",
    "print(\"Ville actuelle des humains : {}\".format(Humain.lieu_habitation))\n",
    "Humain.changerVille(\"Lyon\")\n",
    "print(\"Nouvelle ville des humains : {}\".format(Humain.lieu_habitation))\n",
    "print()\n",
    "\n",
    "# utilisation de la méthode statique kesakoUnHumain()\n",
    "Humain.kesakoUnHumain()\n",
    "print()\n",
    "\n",
    "#Héritage\n",
    "handicape1 = Handicape(\"Paul\", \"H\", 40, 1.23, 50.2, \"nanisme\")\n",
    "print(\"Prénom de handicape1 : {}\".format(handicape1.prenom))\n",
    "print(\"Sexe de handicape1 : {}\".format(handicape1.sexe))\n",
    "print(\"Age de handicape1 : {}\".format(handicape1.age))\n",
    "print(\"Taille de handicape1 : {}\".format(handicape1.taille))\n",
    "print(\"Handicap de handicape1 : {}\".format(handicape1.handicap))\n",
    "print()\n",
    "Handicape.kesakoUnHumain()\n",
    "\n",
    "# surcharge opérateur __str__\n",
    "print(handicape1)\n"
   ]
  },
  {
   "cell_type": "markdown",
   "metadata": {},
   "source": [
    "<a id=\"metaclasses\"></a>"
   ]
  },
  {
   "cell_type": "markdown",
   "metadata": {},
   "source": [
    "### Métaclass"
   ]
  },
  {
   "cell_type": "code",
   "execution_count": null,
   "metadata": {},
   "outputs": [],
   "source": [
    "# fonction type\n",
    "# type (object) --> renvoie le type d'un objet\n",
    "# type (name, bases, dict) --> renvoie un nouvel objet basé sur les arguments passés\n",
    "# https://www.programiz.com/python-programming/methods/built-in/type\n",
    "\n",
    "class C:\n",
    "    pass\n",
    "\n",
    "I = C()\n",
    "print(I.__class__) #le type d'une instance d'une classe est la classe\n",
    "#print(type(I))\n",
    "\n",
    "t = I.__class__\n",
    "print(t.__class__) #le type d'un objet type est type # par défaut la classe est de type type\n",
    "#print(type(t))\n",
    "\n",
    "\n",
    "# class B(metaclass = M):\n",
    "#           ...\n",
    "# au lieu de faire B = type('B', (), ...)\n",
    "# on veut B = M('B', (), ...)"
   ]
  },
  {
   "cell_type": "markdown",
   "metadata": {},
   "source": [
    "<a id=\"libdatascience\"></a>"
   ]
  },
  {
   "cell_type": "markdown",
   "metadata": {},
   "source": [
    "## librairies Data Science"
   ]
  },
  {
   "cell_type": "markdown",
   "metadata": {},
   "source": [
    "<a id=\"montyhall\"></a>"
   ]
  },
  {
   "cell_type": "markdown",
   "metadata": {},
   "source": [
    "### problème de Monty Hall"
   ]
  },
  {
   "cell_type": "code",
   "execution_count": 47,
   "metadata": {},
   "outputs": [
    {
     "name": "stdout",
     "output_type": "stream",
     "text": [
      "CHANGER pourcentage de réussite : 65.79%\n",
      "GARDER pourcentage de réussite : 32.89%\n"
     ]
    },
    {
     "data": {
      "text/plain": [
       "<matplotlib.collections.PathCollection at 0x190c5852820>"
      ]
     },
     "execution_count": 47,
     "metadata": {},
     "output_type": "execute_result"
    },
    {
     "data": {
      "image/png": "[encoded data removed]",
      "text/plain": [
       "<Figure size 432x288 with 1 Axes>"
      ]
     },
     "metadata": {
      "needs_background": "light"
     },
     "output_type": "display_data"
    },
    {
     "data": {
      "image/png": "[encoded data removed]",
      "text/plain": [
       "<Figure size 432x288 with 1 Axes>"
      ]
     },
     "metadata": {
      "needs_background": "light"
     },
     "output_type": "display_data"
    }
   ],
   "source": [
    "%matplotlib inline\n",
    "import random as rd\n",
    "import enum as e\n",
    "import matplotlib.pyplot as plt\n",
    "\n",
    "class Strategie(e.Enum):\n",
    "    CHANGER = 1\n",
    "    GARDER = 0\n",
    "    \n",
    "    \n",
    "def play_game(strategie):\n",
    "    \n",
    "    # print(\"-------------------------------------------------\")\n",
    "    # print(\"---- Premier choix... que va-t-il choisir ?? ----\")\n",
    "    # print(\"-------------------------------------------------\")\n",
    "    \n",
    "    portes = [0,1,2]\n",
    "    # print(portes)\n",
    "    \n",
    "    bonne_porte = rd.randint(0,2)\n",
    "    # print(\"bonne porte : {}\".format(bonne_porte))\n",
    "    \n",
    "    premier_choix = rd.randint(0,2)\n",
    "    # print(\"premier choix : {}\".format(premier_choix))\n",
    "    \n",
    "    portes.remove(premier_choix)\n",
    "    # print(\"portes restantes sans premier choix : {}\".format(portes))\n",
    "    \n",
    "    if premier_choix == bonne_porte:\n",
    "        portes.remove(portes[rd.randint(0,1)])\n",
    "        #print(\"si premier choix = bonne porte\")\n",
    "        # print(\"portes restantes en plus du premier choix : {}\".format(portes))\n",
    "    else :\n",
    "        portes = [bonne_porte]\n",
    "        #print(\"sinon\")\n",
    "        # print(\"portes restantes en plus du premier choix : {}\".format(portes))\n",
    "        \n",
    "    \n",
    "    # print(\"-------------------------------------------------\")\n",
    "    # print(\"---- ICI il lui reste le choix entre [{},{}] ----\".format(premier_choix, portes[0]))\n",
    "    # print(\"---- Que va-t-il faire ? Changer ou Garder ? ----\")\n",
    "    # print(\"-------------------------------------------------\")\n",
    "        \n",
    "    # il reste un seul élément dans portes qui est le second choix possible\n",
    "    \n",
    "    if strategie == Strategie.CHANGER:\n",
    "        deuxieme_choix = portes[0]\n",
    "        # print(\"CHANGER pour la porte restante: {}\".format(deuxieme_choix))\n",
    "    else:\n",
    "        deuxieme_choix = premier_choix\n",
    "        # print(\"GARDER son premier choix: {}\".format(deuxieme_choix))\n",
    "\n",
    "    return deuxieme_choix == bonne_porte\n",
    "\n",
    "\n",
    "# une version qui se base sur True or False en tant que résultat\n",
    "# le problème c'est que ces valeurs ne sont pas exploitables pour tracer un graphique\n",
    "# mieux vaut renvoyer des 1 ou des 0\n",
    "# on pourrait modifier la fonction play_game mais il y a plus propre à faire\n",
    "\"\"\"\n",
    "def play(strategie, nb_tours):\n",
    "    results = []\n",
    "    i = 0\n",
    "    while i < nb_tours:\n",
    "        results.append(play_game(strategie))\n",
    "        i += 1\n",
    "    \n",
    "    return results\n",
    "    \n",
    "\n",
    "results_changer = play(Strategie.CHANGER, 30000)\n",
    "print(\"CHANGER pourcentage de réussite : {}%\".format((results_changer.count(True)/len(results_changer))*100))\n",
    "\n",
    "results_garder = play(Strategie.GARDER, 30000)\n",
    "print(\"GARDER pourcentage de réussite : {}%\".format((results_garder.count(True)/len(results_garder))*100))\n",
    "\"\"\"\n",
    "\n",
    "def play(strategie, nb_tours):\n",
    "    return [1 if play_game(strategie) else 0 for i in range(nb_tours)]\n",
    "\n",
    "nb_tours = 10000\n",
    "\n",
    "results_changer = play(Strategie.CHANGER, nb_tours)\n",
    "pourc_changer = (sum(results_changer)/nb_tours)*100\n",
    "print(\"CHANGER pourcentage de réussite : {}%\".format(pourc_changer))\n",
    "\n",
    "results_garder = play(Strategie.GARDER, nb_tours)\n",
    "pourc_garder = (sum(results_garder)/nb_tours)*100\n",
    "print(\"GARDER pourcentage de réussite : {}%\".format(pourc_garder))\n",
    "\n",
    "\n",
    "# la méthode plot dessine des points et les relie entre eux\n",
    "# comme nous avons trop de points, le résultat ressemble à un carré plein\n",
    "# plt.plot(results_changer)\n",
    "# plt.plot(results_garder)\n",
    "\n",
    "# la méthode scatter dessine des points aussi mais sans les relier\n",
    "# x & y doivent être de la même taille, ici nb_tours éléments\n",
    "# le problème de ce graphe c'est qu'il n'est pas exploitable pour une meilleure compréhension de la différence de résultat\n",
    "# plt.scatter(range(nb_tours), results_changer)\n",
    "# plt.scatter(range(nb_tours), results_garder)\n",
    "\n",
    "# la méthode bar dessine des barres \n",
    "# le premier argument [1,2] aurait pu être [5,6] ou plutôt [pos bar 1, pos bar 2]\n",
    "# le second argument [pourc_changer,pourc_garder] sont les hauteurs des barres\n",
    "# le troisième argument tick_label=[\"Changer\", \"Garder\"] est le libellé des barres\n",
    "plt.bar([1,2], [pourc_changer,pourc_garder], tick_label=[\"Changer\", \"Garder\"])\n",
    "\n",
    "\n",
    "# voir l'évolution des gains en fonction de chaque stratégie\n",
    "gains_changer = []\n",
    "gains_garder = []\n",
    "sample_nbtours = [100, 250, 500, 750, 1000, 2500, 5000, 7500, 10000]\n",
    "\n",
    "for i in sample_nbtours:\n",
    "    gains_changer.append(sum(play(Strategie.CHANGER, i)))\n",
    "    gains_garder.append(sum(play(Strategie.GARDER, i)))\n",
    "    \n",
    "def calcul_evol(gains):\n",
    "    gains_evol = []\n",
    "    for gain in gains:\n",
    "        i = gains.index(gain)\n",
    "        cumul = 0\n",
    "        while i >= 0:\n",
    "            cumul += gains[i]\n",
    "            i -=1\n",
    "        gains_evol.append(cumul)\n",
    "    return gains_evol\n",
    "    \n",
    "gains_changer_evol = calcul_evol(gains_changer)\n",
    "gains_garder_evol = calcul_evol(gains_garder)\n",
    "\n",
    "\n",
    "plt.figure() # permet d'avoir une nouvelle figure\n",
    "plt.scatter(sample_nbtours, [gains_changer_evol])\n",
    "plt.scatter(sample_nbtours, [gains_garder_evol])\n"
   ]
  },
  {
   "cell_type": "markdown",
   "metadata": {},
   "source": [
    "<a id=\"centralelimite\"></a>"
   ]
  },
  {
   "cell_type": "markdown",
   "metadata": {},
   "source": [
    "###  théorème central limite\n",
    "\n",
    "[Théorème central limite explications](https://www.youtube.com/watch?v=4dhm2QAA2x4)\n",
    "\n",
    "* X une variable aléatoire : x1 et x2 deux valeurs possibles qui représentent l'état de cette variable\n",
    "\n",
    "* X une variable aléatoire discrète ayant pour fonction de masse P(X) \n",
    "  * X --> P(X)\n",
    "  * P(x1) est la probabilité que X = x1\n",
    "  * une fonction de masse est : \n",
    "    * P est l'ensemble des états de X\n",
    "    * 0 <= P(X) <= 1\n",
    "    * sum(x€X) P(x) = 1\n",
    "\n",
    "* X une variable aléatoire continue ayant pour fonction de densité p(X)\n",
    "  * on intègre p(x) pour connaître la proba que X=x\n",
    "  * fonction de densité p\n",
    "    * domaine de p = ensemble des états possible de X\n",
    "    * pour tout x€X p(x) >= 0\n",
    "    * intégrale p(x)dx = 1 (air sous la courbe p(x)\n",
    "\n",
    "* X une variable aléatoire discrète obéissant à une distribution quelconque\n",
    "  * ex : un dé truqué qui fait plus souvent 1 et 6;  X:{1,2,3,4,5,6} --> P(X):{40%,5%,5%,5%,5%,40%}\n",
    "  * la distribution de la moyenne des échantillons s'approche d'une loi normale quand le nombre d'échantillon est élevé (distribution gaussienne)\n",
    "    * échantillon S1:{1,1,6,3,6,1,2,1,1,6} --> moyenne = (1+1+6+3+6+1+2+1+1+6)/10 = 2.8\n",
    "  * si la taille échantillon --> + infini alors la distribution des moyennes s'approche de + en + d'une loi normale"
   ]
  },
  {
   "cell_type": "code",
   "execution_count": null,
   "metadata": {},
   "outputs": [],
   "source": [
    "import numpy as np\n",
    "\n",
    "vecteur = np.random.rand(4) # renvoie une liste de 4 valeurs aléatoires comprises entre 0 & 1\n",
    "matrice = np.random.rand(4,3) # renvoie une liste de 4 listes de 2 valeurs aléatoires comprises entre 0 & 1\n",
    "tenseur = np.random.rand(4,3,2) # renvoie une liste de 4 listes de 3 listes de 2 valeurs aléatoires comprises entre 0 & 1\n",
    "\n",
    "print(vecteur)\n",
    "print(matrice)\n",
    "print(tenseur)"
   ]
  },
  {
   "cell_type": "code",
   "execution_count": 46,
   "metadata": {},
   "outputs": [
    {
     "name": "stdout",
     "output_type": "stream",
     "text": [
      "-------------------------------\n",
      "--- distribution gaussienne ---\n",
      "-------------------------------\n"
     ]
    },
    {
     "data": {
      "image/png": "[encoded data removed]",
      "text/plain": [
       "<Figure size 432x288 with 1 Axes>"
      ]
     },
     "metadata": {
      "needs_background": "light"
     },
     "output_type": "display_data"
    },
    {
     "name": "stdout",
     "output_type": "stream",
     "text": [
      "\n",
      "--------------------\n",
      "--- les matrices ---\n",
      "--------------------\n",
      "<class 'numpy.ndarray'>\n",
      "[[0.20930673 0.41302005]\n",
      " [0.39467639 0.59090826]\n",
      " [0.93247604 0.11681407]]\n",
      "\n",
      "ligne 1 : [0.20930673 0.41302005] : <class 'numpy.ndarray'> : (2,)\n",
      "ligne 2 : [0.39467639 0.59090826] : <class 'numpy.ndarray'> : (2,)\n",
      "ligne 3 : [0.93247604 0.11681407] : <class 'numpy.ndarray'> : (2,)\n",
      "somme   : [1.53645916 1.12074238]\n",
      "\n",
      "colonne 1 : [0.20930673 0.39467639 0.93247604] : <class 'numpy.ndarray'> : (3,)\n",
      "colonne 2 : [0.41302005 0.59090826 0.11681407] : <class 'numpy.ndarray'> : (3,)\n",
      "somme     : [0.62232678 0.98558465 1.04929011]\n",
      "\n",
      "-------------------------------\n",
      "--- théorème central limite ---\n",
      "-------------------------------\n"
     ]
    },
    {
     "data": {
      "image/png": "[encoded data removed]",
      "text/plain": [
       "<Figure size 432x288 with 1 Axes>"
      ]
     },
     "metadata": {
      "needs_background": "light"
     },
     "output_type": "display_data"
    },
    {
     "name": "stdout",
     "output_type": "stream",
     "text": [
      "La moyenne empirique de notre distribution est 5000.26074977673.\n",
      "La moyenne empirique de la variable généré par la fonction rand est 0.4997498023716699.\n",
      "La variance empirique de notre distribution est 798.134461790852.\n",
      "La variance empirique de la variable généré par la fonction rand est 0.08169138726878172.\n"
     ]
    }
   ],
   "source": [
    "%matplotlib inline  \n",
    "import numpy as np\n",
    "import matplotlib.pyplot as plt\n",
    "from math import sqrt, pi, exp\n",
    "\n",
    "domaine = range(-100,100) # génère une liste de -100 à 100 qui incrèmente de 1\n",
    "mu = 0\n",
    "sigma = 20\n",
    "\n",
    "# lambda est une petie fonction anonyme\n",
    "# elle prend autant de paramètres qu'on veut mais tient sur une ligne\n",
    "# ici c'est l'équation de la distribution gaussienne\n",
    "f = lambda x : 1/(sqrt(2*pi*pow(sigma,2))) * exp(-pow((x-mu),2)/(2*pow(sigma,2)))\n",
    "\n",
    "y = [f(x) for x in domaine] # pour chaque x dans la range(-100,100) on calcule f(x) et on alimente le tableau qui contient les valeurs\n",
    "\"\"\"\n",
    "c'est la même chose que :\n",
    "y = []\n",
    "for x in domaine:\n",
    "    y.append(f(x))\n",
    "\"\"\"\n",
    "print(\"-------------------------------\")\n",
    "print(\"--- distribution gaussienne ---\")\n",
    "print(\"-------------------------------\")\n",
    "plt.plot(domaine, y)\n",
    "plt.show()\n",
    "print()\n",
    "\n",
    "\n",
    "# version crade\n",
    "# somme de variables aléatoires différentes identiquement distribuées\n",
    "\"\"\"\n",
    "nb_var = 100000\n",
    "sum_var = np.zeros(10000)\n",
    "i=0\n",
    "while i < nb_var:\n",
    "    sum_var += np.random.uniform(0,1,10000)\n",
    "    i +=1\n",
    "plt.hist(sum_var, bins=100)\n",
    "plt.show()\n",
    "\"\"\"\n",
    "\n",
    "# version crade\n",
    "# moyenne des échantillons d'une distribution aléatoire\n",
    "# tous les échantillons sont des variables aléatoires identiquement distribués\n",
    "# bins donne le nombre de catégories pour répartir les données.\n",
    "# si les nombres sont réels ils ont de grande chance d'être unique donc d'être dans un max de catégories différentes\n",
    "# alors que là les nombres proches sont regroupés\n",
    "\"\"\"\n",
    "nb_echantillon = 10000\n",
    "taille_echantillon = 1000\n",
    "moyenne_echantillon = []\n",
    "i=0\n",
    "while i < nb_echantillon:\n",
    "    echantillon = np.random.uniform(0,1,taille_echantillon)\n",
    "    moyenne_echantillon.append(sum(echantillon)/len(echantillon))\n",
    "    i +=1\n",
    "\n",
    "\n",
    "plt.hist(moyenne_echantillon, bins=100) \n",
    "plt.show()\n",
    "\"\"\"\n",
    "# les matrices\n",
    "# 3 listes de 2 éléments\n",
    "# shape (3,) <=> (3,1)\n",
    "print(\"--------------------\")\n",
    "print(\"--- les matrices ---\")\n",
    "print(\"--------------------\")\n",
    "matrice = np.random.rand(3,2)\n",
    "print(type(matrice))\n",
    "print(matrice)\n",
    "print()\n",
    "\n",
    "for i in range(0, len(matrice)):\n",
    "    print(\"ligne {} : {} : {} : {}\".format(i+1, matrice[i,:], type(matrice[i,:]), matrice[i,:].shape))\n",
    "print(\"somme   : {}\".format(np.sum(matrice,0))) # somme les lignes entre elles\n",
    "print()\n",
    "\n",
    "for i in range(0, len(matrice[0])):\n",
    "    print(\"colonne {} : {} : {} : {}\".format(i+1, matrice[:,i], type(matrice[:,i]), matrice[:,i].shape))\n",
    "print(\"somme     : {}\".format(np.sum(matrice,1))) # somme des colonnes\n",
    "\n",
    "print()\n",
    "    \n",
    "# version propre : utilisation des matrices\n",
    "print(\"-------------------------------\")\n",
    "print(\"--- théorème central limite ---\")\n",
    "print(\"-------------------------------\")\n",
    "nb_echantillon = 10000\n",
    "taille_echantillon = 1000\n",
    "sommes = np.sum(np.random.rand(nb_echantillon, taille_echantillon),0)\n",
    "plt.hist(sommes, bins=10) \n",
    "plt.show()\n",
    "\n",
    "\n",
    "print(\"La moyenne empirique de notre distribution est {}.\"\n",
    "      .format(np.mean(sommes)))\n",
    "print(\"La moyenne empirique de la variable généré par la fonction rand est {}.\"\n",
    "      .format(np.mean(np.random.rand(taille_echantillon))))\n",
    "print(\"La variance empirique de notre distribution est {}.\"\n",
    "      .format(np.var(sommes)))\n",
    "print(\"La variance empirique de la variable généré par la fonction rand est {}.\"\n",
    "      .format(np.var(np.random.rand(taille_echantillon))))\n",
    "\n"
   ]
  },
  {
   "cell_type": "markdown",
   "metadata": {},
   "source": [
    "### Matplotlib\n",
    "\n",
    "%matplotlib inline \n",
    "> une fonction du notebook qui configure la bibliothèque pour dessiner le graphique \n",
    ">> inline : on utilise la bibliothèque intégrée à notebook\n",
    ">> Cette directive doit être incluse au tout début de votre script, avant même les directives d'import des librairies.\n",
    "\n",
    "> Pour afficher la liste des bibliothèques graphiques prise en charge, il existe la commande \"%matplotlib --list\".\n"
   ]
  },
  {
   "cell_type": "code",
   "execution_count": null,
   "metadata": {},
   "outputs": [],
   "source": [
    "%matplotlib --list"
   ]
  },
  {
   "cell_type": "code",
   "execution_count": null,
   "metadata": {},
   "outputs": [],
   "source": [
    "%matplotlib inline"
   ]
  },
  {
   "cell_type": "code",
   "execution_count": null,
   "metadata": {},
   "outputs": [],
   "source": [
    "import matplotlib.pyplot as plt\n",
    "import numpy as np\n",
    "x = np.linspace(0, 3*np.pi, 500)\n",
    "plt.plot(x, np.sin(x**2))\n",
    "plt.title('Graphique simple');"
   ]
  },
  {
   "cell_type": "markdown",
   "metadata": {},
   "source": [
    "# Jupyter Notebook\n",
    "\n",
    "## Help > Keyboard Shortcuts\n",
    "\n",
    "* H =ouvrir le menu des raccourcis\n",
    "* ctrl + entrée = exécuter la cellule\n",
    "* maj + entrée = exécuter la cellule puis passer à la suivante\n",
    "* Y = transformer en cellule code\n",
    "* M = transformer en cellule Markdown\n",
    "* A = insérer une cellule avant\n",
    "* B = insérer une cellule après\n",
    "* X = couper les cellules selectionnées\n",
    "* C = copier les cellules selectionnées\n",
    "* V = coller les cellules selectionnées\n",
    "* D,D = supprimer les cellulles selectionnées\n",
    "\n",
    "## Les lignes magiques\n",
    "\n",
    "\n",
    "* Python permet d'écrire des raccourcis de fonction via le caractère %\n",
    "    * %fonction param1 param2 ... les paramètres sont ceux passés sur la même ligne\n",
    "    * %%fonction param1 param2 ... les paramètres sont ceux passés sur la même ligne et aussi les lignes en dessous \n",
    "    \n",
    "\n",
    "%alias  %alias_magic  %autoawait  %autocall  %automagic  %autosave  %bookmark  %cd  %clear  %cls  %colors  %conda  %config  %connect_info  %copy  %ddir  %debug  %dhist  %dirs  %doctest_mode  %echo  %ed  %edit  %env  %gui  %hist  %history  %killbgscripts  %ldir  %less  %load  %load_ext  %loadpy  %logoff  %logon  %logstart  %logstate  %logstop  %ls  %lsmagic  %macro  %magic  %matplotlib  %mkdir  %more  %notebook  %page  %pastebin  %pdb  %pdef  %pdoc  %pfile  %pinfo  %pinfo2  %pip  %popd  %pprint  %precision  %prun  %psearch  %psource  %pushd  %pwd  %pycat  %pylab  %qtconsole  %quickref  %recall  %rehashx  %reload_ext  %ren  %rep  %rerun  %reset  %reset_selective  %rmdir  %run  %save  %sc  %set_env  %store  %sx  %system  %tb  %time  %timeit  %unalias  %unload_ext  %who  %who_ls  %whos  %xdel  %xmode\n",
    "\n",
    "## Les cellules magiques\n",
    "\n",
    "%%!  %%HTML  %%SVG  %%bash  %%capture  %%cmd  %%debug  %%file  %%html  %%javascript  %%js  %%latex  %%markdown  %%perl  %%prun  %%pypy  %%python  %%python2  %%python3  %%ruby  %%script  %%sh  %%svg  %%sx  %%system  %%time  %%timeit  %%writefile"
   ]
  },
  {
   "cell_type": "code",
   "execution_count": null,
   "metadata": {},
   "outputs": [],
   "source": [
    "%%timeit\n",
    "square_evens = [n*n for n in range(1000)]"
   ]
  },
  {
   "cell_type": "markdown",
   "metadata": {},
   "source": [
    "# Markdown\n",
    "\n",
    "[Markdown Cheatsheet](https://github.com/adam-p/markdown-here/wiki/Markdown-Cheatsheet)"
   ]
  }
 ],
 "metadata": {
  "kernelspec": {
   "display_name": "Python 3",
   "language": "python",
   "name": "python3"
  },
  "language_info": {
   "codemirror_mode": {
    "name": "ipython",
    "version": 3
   },
   "file_extension": ".py",
   "mimetype": "text/x-python",
   "name": "python",
   "nbconvert_exporter": "python",
   "pygments_lexer": "ipython3",
   "version": "3.8.3"
  }
 },
 "nbformat": 4,
 "nbformat_minor": 4
}
