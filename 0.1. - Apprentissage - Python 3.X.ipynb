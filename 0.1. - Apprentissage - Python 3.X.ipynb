{
 "cells": [
  {
   "cell_type": "markdown",
   "metadata": {},
   "source": [
    "# Cours\n",
    "\n",
    "* [OpenClassRooms - base du Python](https://openclassrooms.com/fr/courses/4262331-demarrez-votre-projet-avec-python)\n",
    "* [FormationVidéo - playlist YouTube](https://www.youtube.com/watch?v=HWxBtxPBCAc&list=PLrSOXFDHBtfHg8fWBd7sKPxEmahwyVBkC)\n",
    "* [Documentation - Opérateur surchargeable](https://docs.python.org/3.8/library/operator.html)\n",
    "* [YouTube - Tips & Tricks](https://www.youtube.com/watch?v=C-gEQdGVXbk)"
   ]
  },
  {
   "cell_type": "markdown",
   "metadata": {},
   "source": [
    "# Sommaire\n",
    "\n",
    "* [les variables](#variables)\n",
    "* [les chaînes de caractères](#chaines)\n",
    "* [les listes](#listes)\n",
    "* [les dictionnaires](#dictionnaires)\n",
    "* [les opérateurs](#operateurs)\n",
    "* [if / elif / else](#ifelifelse)\n",
    "* [les fonctions](#fonctions).\n",
    "* [les boucles](#boucles)\n",
    "* [import](#import)\n",
    "* [try / except](#tryexcept)\n",
    "* [les classes](#classes)\n",
    "* [les metaclasses](#metaclasses)\n",
    "* [if '\\_\\_name\\_\\_' == '\\_\\_main\\_\\_'](#namemain)\n",
    "* [module enum](#enum)\n",
    "* [raccourcis d'écriture](#raccourcisecriture)\n",
    "* [lambda](#lambda)\n",
    "* [tips & tricks](#tipstricks)"
   ]
  },
  {
   "cell_type": "markdown",
   "metadata": {},
   "source": [
    "<a id=\"variables\"></a>"
   ]
  },
  {
   "cell_type": "markdown",
   "metadata": {},
   "source": [
    "## les variables"
   ]
  },
  {
   "cell_type": "code",
   "execution_count": 10,
   "metadata": {},
   "outputs": [
    {
     "name": "stdout",
     "output_type": "stream",
     "text": [
      "unTexteUneLigne >>> to\"to <class 'str'>\n",
      "unTexteXLignes >>> ligne 1...\n",
      "                ...ligne 2\n",
      "                ... ligne3  <class 'str'>\n",
      "unEntier >>> 1 <class 'int'>\n",
      "unFlottant >>> 3.14 <class 'float'>\n",
      "uneListe >>> ['elem1', 'elem2', 'elem3'] <class 'list'>\n",
      "uneListe elem1 >>> elem1 <class 'str'>\n",
      "unBoolean >>> True <class 'bool'>\n",
      "unTuple >>> ('elem1', 'elem2', 'elem3') <class 'tuple'>\n",
      "unTuple elem1 >>> elem1 <class 'str'>\n",
      "unDico >>> {'key1': 'value1', 'key2': True, 'key3': ['elem1', 'elem2', 'elem3']} <class 'dict'>\n",
      "unDico key3 >>> ['elem1', 'elem2', 'elem3'] <class 'list'>\n",
      "suppr une variable avec del(var)\n"
     ]
    }
   ],
   "source": [
    "unTexteUneLigne = \"to\\\"to\"\n",
    "unTexteXLignes = \"\"\"ligne 1...\n",
    "                ...ligne 2\n",
    "                ... ligne3 \"\"\"\n",
    "unEntier = 1\n",
    "unFlottant = 3.14\n",
    "uneListe = [\"elem1\", \"elem2\", \"elem3\"]\n",
    "unBoolean = 1 < 2\n",
    "unTuple = (\"elem1\", \"elem2\", \"elem3\")\n",
    "unDico = {\n",
    "    'key1': 'value1',\n",
    "    'key2': unBoolean,\n",
    "    'key3': uneListe,\n",
    "}\n",
    "\n",
    "print(\"unTexteUneLigne >>> \" + unTexteUneLigne + \" \" + str(type(unTexteUneLigne)))\n",
    "print(\"unTexteXLignes >>> \" + unTexteXLignes + \" \" + str(type(unTexteXLignes)))\n",
    "print(\"unEntier >>> \" + str(unEntier) + \" \" + str(type(unEntier)))\n",
    "print(\"unFlottant >>> \" + str(unFlottant) + \" \" + str(type(unFlottant)))\n",
    "print(\"uneListe >>> \" + str(uneListe) + \" \" + str(type(uneListe)))\n",
    "print(\"uneListe elem1 >>> \" + str(uneListe[0]) + \" \" + str(type(uneListe[0])))\n",
    "print(\"unBoolean >>> \" + str(unBoolean) + \" \" + str(type(unBoolean)))\n",
    "print(\"unTuple >>> \" + str(unTuple) + \" \" + str(type(unTuple)))\n",
    "print(\"unTuple elem1 >>> \" + str(unTuple[0]) + \" \" + str(type(unTuple[0])))\n",
    "print(\"unDico >>> \" + str(unDico) + \" \" + str(type(unDico)))\n",
    "print(\"unDico key3 >>> \" + str(unDico['key3']) + \" \" + str(type(unDico['key3'])))\n",
    "print(\"suppr une variable avec del(var)\")"
   ]
  },
  {
   "cell_type": "markdown",
   "metadata": {},
   "source": [
    "<a id=\"chaines\"></a>"
   ]
  },
  {
   "cell_type": "markdown",
   "metadata": {},
   "source": [
    "## les chaînes de caractères\n",
    "\n",
    "### fonctions usuelles"
   ]
  },
  {
   "cell_type": "code",
   "execution_count": 11,
   "metadata": {},
   "outputs": [
    {
     "name": "stdout",
     "output_type": "stream",
     "text": [
      "['heLLo', 'wORLd!']\n",
      "heLLo wORLd!\n",
      "  HELLO WORLD!  \n",
      "  hello world!  \n"
     ]
    }
   ],
   "source": [
    "chaine = \"  heLLo wORLd!  \"\n",
    "print(chaine.split())\n",
    "print(chaine.strip())\n",
    "print(chaine.upper())\n",
    "print(chaine.lower())"
   ]
  },
  {
   "cell_type": "markdown",
   "metadata": {},
   "source": [
    "### \"{}\".format(value)"
   ]
  },
  {
   "cell_type": "code",
   "execution_count": 12,
   "metadata": {},
   "outputs": [
    {
     "data": {
      "text/plain": [
       "'insert something here OK or here KO'"
      ]
     },
     "execution_count": 12,
     "metadata": {},
     "output_type": "execute_result"
    }
   ],
   "source": [
    "\"insert something here {} or here {}\".format(\"OK\", \"KO\")"
   ]
  },
  {
   "cell_type": "markdown",
   "metadata": {},
   "source": [
    "<a id=\"listes\"></a>"
   ]
  },
  {
   "cell_type": "markdown",
   "metadata": {},
   "source": [
    "## les listes\n",
    "\n",
    "* liste.index(\"elem\") : renvoie l'index de l'élément\n",
    "* liste.append(\"new elem\") : ajoute un élément en fin de liste\n",
    "* liste.insert(index, \"new elem\") : ajoute un élément à l'index\n",
    "* liste.pop(null|index) : \n",
    "  * si null alors on supprime le dernier élément et on renvoie sa valeur\n",
    "  * si index alors on supprime l'élément à l'index et on renvoie sa valeur\n",
    "* liste.remove(\"elem\") : on supprime un élément sans renvoyer sa valeur\n",
    "* len(liste) : taille de la liste\n",
    "* liste[-1] : dernier élément de la liste"
   ]
  },
  {
   "cell_type": "code",
   "execution_count": 13,
   "metadata": {},
   "outputs": [
    {
     "name": "stdout",
     "output_type": "stream",
     "text": [
      "['a', 'b', 'c', 'd', 'e', 'f', 'g']\n",
      "élément 3 de la liste >>> c\n",
      "index de l'élément e >>> 4\n",
      "ajout d'un élément en fin de liste >>> h >>> ['a', 'b', 'c', 'd', 'e', 'f', 'g', 'h']\n",
      "ajout d'un élément à l'index 3 de la liste >>> z >>> ['a', 'b', 'c', 'z', 'd', 'e', 'f', 'g', 'h']\n",
      "suppression d'un élément à l'index 3 de la liste >>> d >>> ['a', 'b', 'c', 'd', 'e', 'f', 'g', 'h']\n"
     ]
    }
   ],
   "source": [
    "liste = [\"a\",\"b\",\"c\",\"d\",\"e\",\"f\",\"g\"]\n",
    "\n",
    "\n",
    "print(liste)\n",
    "print(\"élément 3 de la liste >>> \" + liste[2])\n",
    "print(\"index de l'élément e >>> \" + str(liste.index(\"e\")))\n",
    "\n",
    "liste.append(\"h\")\n",
    "print(\"ajout d'un élément en fin de liste >>> \" + liste[-1] + \" >>> \" + str(liste))\n",
    "\n",
    "liste.insert(3,\"z\")\n",
    "print(\"ajout d'un élément à l'index 3 de la liste >>> \" + liste[3] + \" >>> \" + str(liste))\n",
    "\n",
    "liste.pop(3)\n",
    "print(\"suppression d'un élément à l'index 3 de la liste >>> \" + liste[3] + \" >>> \" + str(liste))"
   ]
  },
  {
   "cell_type": "markdown",
   "metadata": {},
   "source": [
    "<a id=\"dictionnaires\"></a>"
   ]
  },
  {
   "cell_type": "markdown",
   "metadata": {},
   "source": [
    "## les dictionnaires"
   ]
  },
  {
   "cell_type": "code",
   "execution_count": 14,
   "metadata": {},
   "outputs": [
    {
     "name": "stdout",
     "output_type": "stream",
     "text": [
      "{'liste': ['a', 'b', 'c', 'd', 'e', 'f', 'g'], 'dico': {'key1': 'value1', 'key2': 'value2', 'key3': ['v', 'w', 'x', 'y', 'z']}}\n",
      "['a', 'b', 'c', 'd', 'e', 'f', 'g']\n",
      "d\n",
      "value1\n",
      "['v', 'w', 'x', 'y', 'z']\n",
      "z\n",
      "['a', 'b', 'c', 'd', 'e', 'f', 'g', 'test']\n",
      "{'liste': ['euh', 'test'], 'dico': 'test'}\n"
     ]
    }
   ],
   "source": [
    "dictionnaire = {\n",
    "    \"liste\": [\"a\",\"b\",\"c\",\"d\",\"e\",\"f\",\"g\"],\n",
    "    \"dico\": {\n",
    "        \"key1\": \"value1\",\n",
    "        \"key2\": \"value2\",\n",
    "        \"key3\": [\"v\",\"w\",\"x\",\"y\",\"z\"]\n",
    "    }\n",
    "}\n",
    "\n",
    "print(dictionnaire)\n",
    "print(dictionnaire[\"liste\"])\n",
    "print(dictionnaire[\"liste\"][3])\n",
    "print(dictionnaire[\"dico\"][\"key1\"])\n",
    "print(dictionnaire[\"dico\"][\"key3\"])\n",
    "print(dictionnaire[\"dico\"][\"key3\"][4])\n",
    "\n",
    "dictionnaire[\"liste\"].append(\"test\")\n",
    "print(dictionnaire[\"liste\"])\n",
    "\n",
    "dictionnaire.update({\"liste\": [\"euh\", \"test\"], \"dico\": \"test\"})\n",
    "print(dictionnaire)"
   ]
  },
  {
   "cell_type": "markdown",
   "metadata": {},
   "source": [
    "<a id=\"operateurs\"></a>"
   ]
  },
  {
   "cell_type": "markdown",
   "metadata": {},
   "source": [
    "## les opérateurs\n",
    "\n",
    "le signe = est déjà utilisé pour les variables\n",
    "donc la comparaison se fait via le signe ==\n",
    "\n",
    "liste des signes:\n",
    "    1. ==\n",
    "    2. !=\n",
    "    3. >=\n",
    "    4. <=\n",
    "    5. >\n",
    "    6. <"
   ]
  },
  {
   "cell_type": "code",
   "execution_count": 15,
   "metadata": {},
   "outputs": [
    {
     "name": "stdout",
     "output_type": "stream",
     "text": [
      "True\n",
      "True\n",
      "False\n"
     ]
    }
   ],
   "source": [
    "print(1==1)\n",
    "print(1!=2)\n",
    "print(1 > 2)"
   ]
  },
  {
   "cell_type": "markdown",
   "metadata": {},
   "source": [
    "<a id=\"ifelifelse\"></a>"
   ]
  },
  {
   "cell_type": "markdown",
   "metadata": {},
   "source": [
    "## if / elif / else"
   ]
  },
  {
   "cell_type": "code",
   "execution_count": 16,
   "metadata": {},
   "outputs": [
    {
     "name": "stdout",
     "output_type": "stream",
     "text": [
      "else\n"
     ]
    }
   ],
   "source": [
    "test = \"C\"\n",
    "if test == \"A\":\n",
    "    pass\n",
    "elif test == \"B\":\n",
    "    pass\n",
    "else:\n",
    "    print(\"else\")"
   ]
  },
  {
   "cell_type": "markdown",
   "metadata": {},
   "source": [
    "<a id=\"fonctions\"></a>"
   ]
  },
  {
   "cell_type": "markdown",
   "metadata": {},
   "source": [
    "## les fonctions\n",
    "\n",
    "* Attention aux mots-clefs \"def\" et aux \":\" qui démarre la fonction\n",
    "* les lignes de code de la fonction sont identifiées grâce à l'indetation"
   ]
  },
  {
   "cell_type": "code",
   "execution_count": 17,
   "metadata": {},
   "outputs": [
    {
     "name": "stdout",
     "output_type": "stream",
     "text": [
      "jupyter - notebook\n"
     ]
    }
   ],
   "source": [
    "def ma_fonction(param1, param2):\n",
    "    return (param1 + \" - \" + param2)\n",
    "    \n",
    "\n",
    "texte1 = \"jupyter\"\n",
    "texte2 = \"notebook\"\n",
    "concat = ma_fonction(texte1, texte2)\n",
    "print(concat)"
   ]
  },
  {
   "cell_type": "markdown",
   "metadata": {},
   "source": [
    "<a id=\"boucles\"></a>"
   ]
  },
  {
   "cell_type": "markdown",
   "metadata": {},
   "source": [
    "## les boucles"
   ]
  },
  {
   "cell_type": "markdown",
   "metadata": {},
   "source": [
    "### while\n",
    "\n",
    "continue / break sont possibles"
   ]
  },
  {
   "cell_type": "code",
   "execution_count": 18,
   "metadata": {},
   "outputs": [
    {
     "name": "stdout",
     "output_type": "stream",
     "text": [
      "a\n",
      "b\n",
      "c\n"
     ]
    }
   ],
   "source": [
    "liste = [\"a\",\"b\",\"c\",\"d\"]\n",
    "i = 0\n",
    "\n",
    "while liste[i] != \"d\":\n",
    "    print(liste[i])\n",
    "    i += 1"
   ]
  },
  {
   "cell_type": "markdown",
   "metadata": {},
   "source": [
    "### for"
   ]
  },
  {
   "cell_type": "code",
   "execution_count": 19,
   "metadata": {},
   "outputs": [
    {
     "name": "stdout",
     "output_type": "stream",
     "text": [
      "a\n",
      "b\n",
      "c\n",
      "d\n",
      "a\n",
      "b\n",
      "c\n",
      "d\n"
     ]
    }
   ],
   "source": [
    "liste = [\"a\",\"b\",\"c\",\"d\"]\n",
    "\n",
    "for item in liste:\n",
    "    print(item)\n",
    "    \n",
    "for i in range(0, len(liste)):\n",
    "    print(liste[i])"
   ]
  },
  {
   "cell_type": "markdown",
   "metadata": {},
   "source": [
    "<a id=\"import\"></a>"
   ]
  },
  {
   "cell_type": "markdown",
   "metadata": {},
   "source": [
    "## import ... as ... / from ... import ...\n",
    "\n",
    "Importer un module afin de ne pas avoir à recoder soi-même tout un tas de fonctionnalités\n",
    "\n",
    "Deux méthodes d'import :\n",
    "1. (conseillée) import module as name\n",
    "  * permet d'importer le module sous le nom name\n",
    "  * on utilise ensuite les méthodes du module : name.method(param)\n",
    "2. (déconseillée) from module import * ou some_object\n",
    "  * permet aussi d'importer un module mais sans avoir à l'appeler pour utiliser ses méthodes\n",
    "  * on peut directement utiliser : method()\n",
    "  * /!\\ attention cependant car si plusieurs modules sont importés de cette manière et qu'ils partagent le même nom de méthode, il y aura un conflit /!\\\n"
   ]
  },
  {
   "cell_type": "code",
   "execution_count": 31,
   "metadata": {},
   "outputs": [
    {
     "name": "stdout",
     "output_type": "stream",
     "text": [
      "5\n"
     ]
    }
   ],
   "source": [
    "import numpy as np\n",
    "from numpy import *\n",
    "\n",
    "import mon_module as mm\n",
    "print(mm.addition(2,3))"
   ]
  },
  {
   "cell_type": "markdown",
   "metadata": {},
   "source": [
    "<a id=\"tryexcept\"></a>"
   ]
  },
  {
   "cell_type": "markdown",
   "metadata": {},
   "source": [
    "## try / except"
   ]
  },
  {
   "cell_type": "code",
   "execution_count": 21,
   "metadata": {},
   "outputs": [
    {
     "name": "stdout",
     "output_type": "stream",
     "text": [
      "Je m'appelle : Marcel\n",
      "Je m'appelle : Marcel\n"
     ]
    }
   ],
   "source": [
    "try:\n",
    "    print(\"Je m'appelle : {}\".format(prenom))\n",
    "except NameError:\n",
    "    print(\"La variable prenom n'est pas définie\")\n",
    "    \n",
    "prenom = \"Marcel\"\n",
    "\n",
    "try:\n",
    "    print(\"Je m'appelle : {}\".format(prenom))\n",
    "except NameError:\n",
    "    print(\"La variable prenom n'est pas définie\")"
   ]
  },
  {
   "cell_type": "markdown",
   "metadata": {},
   "source": [
    "<a id=\"classes\"></a>"
   ]
  },
  {
   "cell_type": "markdown",
   "metadata": {},
   "source": [
    "## les classes / programmation orienté objet\n",
    "\n",
    "* Classe: plan de conception / nouveau type d'objet (ex : Humain)\n",
    "* Objet: instance d'une classe (ex: Julien est un objet de classe Humain)\n",
    "* Attribut: variable d'une classe (ex : prénom, âge, sexe, taille, poids,...)\n",
    "* Propriété: manière de manipuler/contrôler des attributs (encapsulation)\n",
    "\n",
    "> plutôt que d'accéder/modifier/supprimer directement un attribut on peut les encapsuler dans des propriétés\n",
    "\n",
    "> l'idée étant de contrôler correctement les attributs \n",
    "\n",
    ">> ex: empêcher qu'une valeur négative ne soit définie et mettre par défaut 0 dans ce cas\n",
    "\n",
    ">> ex: vérifier qu'un utilisateur envoie bien un numéro de tél et pas une chaîne de caractère\n",
    "\n",
    ">> ex: vérifier le nombre max de caractères permis pour un attribut donné\n",
    "\n",
    "> par convention on déclare un attribut \\_attribut avec un \\_ pour signaler que l'on ne veut pas y accéder directement mais via des propriétés (bien qu'on pourrait toujours le faire si on le souhaitait)\n",
    "\n",
    "> une propriété peut avoir 4 paramètres (<getter\\>, <setter\\>, <deleter\\>, <helper\\>)\n",
    " \n",
    ">> si le <getter\\> ne fait qu'un \"return self.var\"il ne sert à rien ! \n",
    "\n",
    ">> ces paramètres sont à définir si on joue de manière particulière avec l'attribut qu'on encapsule\n",
    "\n",
    "* Méthode d'instance: fonction sur une instance (objet)\n",
    "* Méthode de classe: fonction sur une classe\n",
    "* Méthode statique: fonction indépendante mais \"liée\" à une classe\n",
    "\n",
    "> méthode spéciale : le constructeur : def \\_\\_init\\_\\_(self):\n",
    "\n",
    "> en Python, pas la peine de faire des accesseurs comme en C++ (getAge, setAge...) on peut directement modifier les attributs"
   ]
  },
  {
   "cell_type": "code",
   "execution_count": 22,
   "metadata": {},
   "outputs": [
    {
     "name": "stdout",
     "output_type": "stream",
     "text": [
      "Lancement du programme...\n",
      "\n",
      "Création d'un humain...\n",
      "Humain créé !\n",
      "Prénom de humain1 : Julien\n",
      "Sexe de humain1 : H\n",
      "Age de humain1 : 30\n",
      "Taille de humain1 : 1.83\n",
      "\n",
      "Age de humain1 : 60\n",
      "\n",
      "Poids de humain1 : 70.2 kgs\n",
      "\n",
      "Nouveau poids de humain1 : 90.8 kgs\n",
      "Nouveau poids de humain1 : 90.8 kgs\n",
      "\n",
      ">>>>> deleter <<<<<<\n",
      "Impossible d'afficher un poids car l'humain1 n'en a pas\n",
      "Nouveau poids de humain1 : 60.8 kgs\n",
      "\n",
      "Help on property:\n",
      "\n",
      "    Je suis le poids d'un humain\n",
      "\n",
      "Humains existants : 1\n",
      "Création d'un humain...\n",
      "Humain créé !\n",
      "Humains existants : 2\n",
      "\n",
      "Julien a dit : hello world\n",
      "Martine a dit : oh hello l'ami\n",
      "Julien a dit : ça va ?\n",
      "Martine a dit : pépouze, j'apprends les classes\n",
      "\n",
      "Ville actuelle des humains : Paris\n",
      "Nouvelle ville des humains : Lyon\n",
      "\n",
      "un être humain est un habitant de la planète Terre et il possède une conscience de lui-même\n",
      "\n",
      "Création d'un humain...\n",
      "Humain créé !\n",
      "Prénom de handicape1 : Paul\n",
      "Sexe de handicape1 : H\n",
      "Age de handicape1 : 40\n",
      "Taille de handicape1 : 1.23\n",
      "Handicap de handicape1 : nanisme\n",
      "\n",
      "un être humain est un habitant de la planète Terre et il possède une conscience de lui-même\n",
      "Paul H 40 1.23 50.2 kgs nanisme\n"
     ]
    }
   ],
   "source": [
    "class Humain:\n",
    "    \"\"\"\n",
    "    classe des êtres humains\n",
    "    \"\"\"\n",
    "    # attribut de classe / variable globale partagée entre toutes les instances de la classe\n",
    "    humains_crees = 0\n",
    "    lieu_habitation = \"Paris\"\n",
    "    \n",
    "    # constructeur\n",
    "    def __init__(self, prenom, sexe, age, taille, poids):\n",
    "        print(\"Création d'un humain...\")\n",
    "        #attribut d'objet\n",
    "        self.prenom = prenom\n",
    "        self.sexe = sexe\n",
    "        self.age = age\n",
    "        self.taille = taille\n",
    "        # attribut à encapsuler\n",
    "        self._poids = poids\n",
    "        Humain.humains_crees += 1\n",
    "        print(\"Humain créé !\")\n",
    "    \n",
    "    # <getter>\n",
    "    # puisqu'il est possible de supprimer l'attribut poids on va vérifier qu'il exsite avant de le retourner\n",
    "    def _getPoids(self):\n",
    "        # on pourrait imaginer un if self.pays == \"USA\" alors on convertit en pounds\n",
    "        try:\n",
    "            return str(self._poids) + \" kgs\"\n",
    "        except AttributeError:\n",
    "            return \"poids_non_defini\"\n",
    "    \n",
    "    # <setter>\n",
    "    # dans cet exemple l'humain ne peut faire que grossir\n",
    "    def _setPoids(self, poids):\n",
    "        try:\n",
    "            if poids > self._poids:\n",
    "                self._poids = poids\n",
    "        except AttributeError:\n",
    "                self._poids = poids\n",
    "        \n",
    "    # <deleter>\n",
    "    def _delPoids(self):\n",
    "        del self._poids\n",
    "       \n",
    "    # propriété / encapsulation\n",
    "    # 4 paramètres (non obligatoire) pour property (<getter>, <setter>, <deleter>, <helper>)\n",
    "    poids = property(_getPoids, _setPoids, _delPoids, \"Je suis le poids d'un humain\")\n",
    "\n",
    "    # méthode d'instance\n",
    "    # ce n'est pas une méthode de classe car la méthode agit sur self\n",
    "    # si je ne crée pas d'objet humain1 = Humain(...), je ne peux pas utiliser la méthode\n",
    "    def parler(self,parole):\n",
    "        print(\"{} a dit : {}\".format(self.prenom, parole))\n",
    "         \n",
    "    # méthode de classe\n",
    "    # je peux utiliser la méthode sans créer d'êtres humains\n",
    "    def changerVille(cls, ville):\n",
    "        Humain.lieu_habitation = ville\n",
    "    changerVille = classmethod(changerVille)\n",
    "    \n",
    "    # méthode statique\n",
    "    # classe utilitaire que l'on peut appeler un peu n'importe comment\n",
    "    def kesakoUnHumain():\n",
    "        print(\"un être humain est un habitant de la planète Terre et il possède une conscience de lui-même\")\n",
    "    kesakoUnHumain = staticmethod(kesakoUnHumain)\n",
    "    \n",
    "    \n",
    "class Handicape(Humain):\n",
    "    def __init__(self, prenom, sexe, age, taille, poids, handicap):\n",
    "        Humain.__init__(self, prenom, sexe, age, taille, poids)\n",
    "        self.handicap = handicap\n",
    "    \n",
    "    # surcharge d'opérateur\n",
    "    def __str__(self):\n",
    "        return str(self.prenom)+\" \"+str(self.sexe)+\" \"+str(self.age)+\" \"+str(self.taille)+\" \"+str(self.poids)+\" \"+str(self.handicap)\n",
    "        \n",
    "\n",
    "\n",
    "print(\"Lancement du programme...\")\n",
    "print()\n",
    "\n",
    "# nouvelle instance de la classe Humain\n",
    "humain1 = Humain(\"Julien\", \"H\", 30, 1.83, 70.2)\n",
    "\n",
    "# pas besoin d'accesseur pour lire l'instance\n",
    "print(\"Prénom de humain1 : {}\".format(humain1.prenom))\n",
    "print(\"Sexe de humain1 : {}\".format(humain1.sexe))\n",
    "print(\"Age de humain1 : {}\".format(humain1.age))\n",
    "print(\"Taille de humain1 : {}\".format(humain1.taille))\n",
    "print()\n",
    "\n",
    "# pas besoin d'accesseur pour modifier l'attribut\n",
    "humain1.age = 60 \n",
    "print(\"Age de humain1 : {}\".format(humain1.age))\n",
    "print()\n",
    "\n",
    "# utilisation du getter _getPoids()\n",
    "print(\"Poids de humain1 : {}\".format(humain1.poids))\n",
    "print()\n",
    "\n",
    "# utilisation du setter _setPoids(poids) de la propriété poids\n",
    "humain1._setPoids(90.8)\n",
    "print(\"Nouveau poids de humain1 : {}\".format(humain1.poids))\n",
    "humain1._setPoids(60.8)\n",
    "print(\"Nouveau poids de humain1 : {}\".format(humain1.poids))\n",
    "print()\n",
    "\n",
    "# utilisation du deleter _delPoids()\n",
    "print(\">>>>> deleter <<<<<<\")\n",
    "\n",
    "## humain1._delPoids() # on peut appeler la méthode que l'on a créée\n",
    "del(humain1.poids)     # ou la méthode del qui va utiliser notre méthode _delPoids()\n",
    "\n",
    "if humain1.poids != \"poids_non_defini\":\n",
    "    print(\"Poids de humain1 : {}\".format(humain1.poids))\n",
    "else:\n",
    "    print(\"Impossible d'afficher un poids car l'humain1 n'en a pas\")\n",
    "    \n",
    "humain1._setPoids(60.8)\n",
    "print(\"Nouveau poids de humain1 : {}\".format(humain1.poids))\n",
    "print()\n",
    "\n",
    "\n",
    "# utilisation du helper\n",
    "help(Humain.poids)\n",
    "\n",
    "# affichage et évolution de la variable globale humains_crees\n",
    "print(\"Humains existants : {}\".format(Humain.humains_crees))\n",
    "humain2 = Humain(\"Martine\", \"F\", 45, 1.64, 60)\n",
    "print(\"Humains existants : {}\".format(Humain.humains_crees))\n",
    "print()\n",
    "\n",
    "# utilisation de la méthode d'instance parler(parole)\n",
    "humain1.parler(\"hello world\")\n",
    "humain2.parler(\"oh hello l'ami\")\n",
    "humain1.parler(\"ça va ?\")\n",
    "humain2.parler(\"pépouze, j'apprends les classes\")\n",
    "print()\n",
    "\n",
    "# utilisation de la méthode de classe changerVille(ville)\n",
    "print(\"Ville actuelle des humains : {}\".format(Humain.lieu_habitation))\n",
    "Humain.changerVille(\"Lyon\")\n",
    "print(\"Nouvelle ville des humains : {}\".format(Humain.lieu_habitation))\n",
    "print()\n",
    "\n",
    "# utilisation de la méthode statique kesakoUnHumain()\n",
    "Humain.kesakoUnHumain()\n",
    "print()\n",
    "\n",
    "#Héritage\n",
    "handicape1 = Handicape(\"Paul\", \"H\", 40, 1.23, 50.2, \"nanisme\")\n",
    "print(\"Prénom de handicape1 : {}\".format(handicape1.prenom))\n",
    "print(\"Sexe de handicape1 : {}\".format(handicape1.sexe))\n",
    "print(\"Age de handicape1 : {}\".format(handicape1.age))\n",
    "print(\"Taille de handicape1 : {}\".format(handicape1.taille))\n",
    "print(\"Handicap de handicape1 : {}\".format(handicape1.handicap))\n",
    "print()\n",
    "Handicape.kesakoUnHumain()\n",
    "\n",
    "# surcharge opérateur __str__\n",
    "print(handicape1)\n"
   ]
  },
  {
   "cell_type": "markdown",
   "metadata": {},
   "source": [
    "<a id=\"metaclasses\"></a>"
   ]
  },
  {
   "cell_type": "markdown",
   "metadata": {},
   "source": [
    "## Métaclass"
   ]
  },
  {
   "cell_type": "code",
   "execution_count": 23,
   "metadata": {},
   "outputs": [
    {
     "name": "stdout",
     "output_type": "stream",
     "text": [
      "<class '__main__.C'>\n",
      "<class 'type'>\n"
     ]
    }
   ],
   "source": [
    "# fonction type\n",
    "# type (object) --> renvoie le type d'un objet\n",
    "# type (name, bases, dict) --> renvoie un nouvel objet basé sur les arguments passés\n",
    "# https://www.programiz.com/python-programming/methods/built-in/type\n",
    "\n",
    "class C:\n",
    "    pass\n",
    "\n",
    "I = C()\n",
    "print(I.__class__) #le type d'une instance d'une classe est la classe\n",
    "#print(type(I))\n",
    "\n",
    "t = I.__class__\n",
    "print(t.__class__) #le type d'un objet type est type # par défaut la classe est de type type\n",
    "#print(type(t))\n",
    "\n",
    "\n",
    "# class B(metaclass = M):\n",
    "#           ...\n",
    "# au lieu de faire B = type('B', (), ...)\n",
    "# on veut B = M('B', (), ...)"
   ]
  },
  {
   "cell_type": "markdown",
   "metadata": {},
   "source": [
    "<a id=\"namemain\"></a>"
   ]
  },
  {
   "cell_type": "markdown",
   "metadata": {},
   "source": [
    "## if \\_\\_name\\_\\_ == '\\_\\_main\\_\\_':\n",
    "\n",
    "* le if permet d'avoir du code qui ne sera exécuté que si le script est lancé directement mais pas s'il est importé\n",
    "* le def main(): permet en cas d'import de quand même pouvoir lancer la méthode main() du script"
   ]
  },
  {
   "cell_type": "code",
   "execution_count": 24,
   "metadata": {},
   "outputs": [
    {
     "name": "stdout",
     "output_type": "stream",
     "text": [
      "script lancé directement\n"
     ]
    }
   ],
   "source": [
    "def main():\n",
    "    print(\"script lancé directement\")\n",
    "\n",
    "if __name__ == '__main__':\n",
    "    main()\n",
    "else:\n",
    "    print(\"script lancé via import\")"
   ]
  },
  {
   "cell_type": "markdown",
   "metadata": {},
   "source": [
    "<a id=\"enum\"></a>"
   ]
  },
  {
   "cell_type": "markdown",
   "metadata": {},
   "source": [
    "## Module enum\n",
    "\n",
    "Force l'utilisation d'une valeur plutôt que laisser le choix à l'utilisateur"
   ]
  },
  {
   "cell_type": "code",
   "execution_count": 25,
   "metadata": {},
   "outputs": [
    {
     "name": "stdout",
     "output_type": "stream",
     "text": [
      "Il faut utiliser un choix et non pas : 1\n",
      "Choix : Choix.UN\n"
     ]
    }
   ],
   "source": [
    "import enum as e\n",
    "\n",
    "# la classe Choix hérite de Enum\n",
    "class Choix(e.Enum):\n",
    "    UN = \"1\"\n",
    "    DEUX = \"2\"\n",
    "\n",
    "choix = \"1\"\n",
    "if choix == Choix.UN:\n",
    "    print(\"Choix : {}\".format(choix))\n",
    "else:\n",
    "    print(\"Il faut utiliser un choix et non pas : {}\".format(choix))\n",
    "    \n",
    "choix = Choix.UN\n",
    "if choix == Choix.UN:\n",
    "    print(\"Choix : {}\".format(choix))\n",
    "else:\n",
    "    print(\"Il faut utiliser un choix et non pas : {}\".format(choix))"
   ]
  },
  {
   "cell_type": "markdown",
   "metadata": {},
   "source": [
    "<a id=\"raccourcisecriture\"></a>"
   ]
  },
  {
   "cell_type": "markdown",
   "metadata": {},
   "source": [
    "## Raccourcis d'écriture"
   ]
  },
  {
   "cell_type": "code",
   "execution_count": 26,
   "metadata": {},
   "outputs": [
    {
     "name": "stdout",
     "output_type": "stream",
     "text": [
      "version longue: 3\n",
      "version courte: 3\n"
     ]
    }
   ],
   "source": [
    "liste = [\"a\",\"a\",\"b\",\"z\",\"a\"]\n",
    "count_a = 0\n",
    "\n",
    "for i in range(len(liste)):\n",
    "    if liste[i] == \"a\":\n",
    "        count_a += 1\n",
    "print(\"version longue: {}\".format(count_a))\n",
    "print(\"version courte: {}\".format(len([i for i in range(len(liste)) if liste[i]==\"a\"])))"
   ]
  },
  {
   "cell_type": "markdown",
   "metadata": {},
   "source": [
    "<a id=\"lambda\"></a>"
   ]
  },
  {
   "cell_type": "markdown",
   "metadata": {},
   "source": [
    "## Lambda\n",
    "\n",
    "une fonction lambda est une petite fonction anonyme qui tient sur une ligne\n",
    "elle permet de créer facilement un petit bout de code pratique sans alourdir le code général\n",
    "\n",
    "lambda arguments : expression"
   ]
  },
  {
   "cell_type": "code",
   "execution_count": 27,
   "metadata": {},
   "outputs": [
    {
     "name": "stdout",
     "output_type": "stream",
     "text": [
      "7\n"
     ]
    }
   ],
   "source": [
    "somme = lambda x,y : x+y\n",
    "print(somme(2,5))"
   ]
  },
  {
   "cell_type": "code",
   "execution_count": 28,
   "metadata": {
    "scrolled": true
   },
   "outputs": [
    {
     "data": {
      "image/png": "[encoded data removed]",
      "text/plain": [
       "<Figure size 432x288 with 1 Axes>"
      ]
     },
     "metadata": {
      "needs_background": "light"
     },
     "output_type": "display_data"
    }
   ],
   "source": [
    "%matplotlib inline  \n",
    "import matplotlib.pyplot as plt\n",
    "from math import sqrt, pi, exp\n",
    "\n",
    "domaine = range(-100,100)\n",
    "mu = 0\n",
    "sigma = 20\n",
    "\n",
    "f = lambda x : 1/(sqrt(2*pi*pow(sigma,2))) * exp(-pow((x-mu),2)/(2*pow(sigma,2))) # définition de f(x)\n",
    "y = [f(x) for x in domaine]  # calcul de f(x) pour un domaine donné\n",
    "\n",
    "plt.plot(domaine, y)\n",
    "plt.show()"
   ]
  },
  {
   "cell_type": "markdown",
   "metadata": {},
   "source": [
    "<a id=\"tipstricks\"></a>"
   ]
  },
  {
   "cell_type": "markdown",
   "metadata": {},
   "source": [
    "## Tips & Tricks"
   ]
  },
  {
   "cell_type": "markdown",
   "metadata": {},
   "source": [
    "### 1 - x if conditon else y"
   ]
  },
  {
   "cell_type": "code",
   "execution_count": 2,
   "metadata": {},
   "outputs": [
    {
     "name": "stdout",
     "output_type": "stream",
     "text": [
      "0\n",
      "1\n"
     ]
    }
   ],
   "source": [
    "condition = False\n",
    "if condition:\n",
    "    x=1\n",
    "else:\n",
    "    x=0    \n",
    "print(x)\n",
    "\n",
    "condition = True\n",
    "x = 1 if condition else 0\n",
    "print(x)"
   ]
  },
  {
   "cell_type": "markdown",
   "metadata": {},
   "source": [
    "### 2 - numbers"
   ]
  },
  {
   "cell_type": "code",
   "execution_count": 5,
   "metadata": {},
   "outputs": [
    {
     "name": "stdout",
     "output_type": "stream",
     "text": [
      "11000000\n",
      "11000000\n"
     ]
    }
   ],
   "source": [
    "num1 = 10000000\n",
    "num2 = 1000000\n",
    "\n",
    "total = num1 + num2\n",
    "print(total)\n",
    "\n",
    "num3 = 10_000_000\n",
    "num4 = 1_000_000\n",
    "\n",
    "total2 = num3 + num4\n",
    "print(total2)"
   ]
  },
  {
   "cell_type": "markdown",
   "metadata": {},
   "source": [
    "### 3 - enumerate / zip"
   ]
  },
  {
   "cell_type": "code",
   "execution_count": 39,
   "metadata": {},
   "outputs": [
    {
     "name": "stdout",
     "output_type": "stream",
     "text": [
      "0 Pierre\n",
      "1 Paul\n",
      "2 Jacques\n",
      "3 David\n",
      "4 Michael\n",
      "\n",
      "1 - Pierre\n",
      "2 - Paul\n",
      "3 - Jacques\n",
      "4 - David\n",
      "5 - Michael\n",
      "\n",
      "0 - Pierre - Deglingo\n",
      "1 - Paul - PetitsPieds\n",
      "2 - Jacques - La Farce\n",
      "3 - David - El Caid\n",
      "4 - Michael - ZOom\n",
      "\n",
      "Pierre - Deglingo\n",
      "Paul - PetitsPieds\n",
      "Jacques - La Farce\n",
      "David - El Caid\n",
      "Michael - ZOom\n",
      "\n",
      "('Pierre', 'Deglingo')\n",
      "('Paul', 'PetitsPieds')\n",
      "('Jacques', 'La Farce')\n",
      "('David', 'El Caid')\n",
      "('Michael', 'ZOom')\n"
     ]
    }
   ],
   "source": [
    "names = ['Pierre','Paul','Jacques','David','Michael']\n",
    "\n",
    "index = 0\n",
    "for name in names:\n",
    "    print(index, name)\n",
    "    index +=1\n",
    "\n",
    "print()\n",
    "for index, name in enumerate(names, start=1):\n",
    "    print(index, \"-\", name)\n",
    "    \n",
    "print()\n",
    "surnoms = ['Deglingo','PetitsPieds','La Farce','El Caid','ZOom']\n",
    "for index, name in enumerate(names):\n",
    "    surnom = surnoms[index]\n",
    "    print(index, \"-\" , name, \"-\", surnom)\n",
    "\n",
    "print()\n",
    "for name, surnom in zip(names, surnoms):\n",
    "    print(name, \"-\", surnom)\n",
    "    \n",
    "print()\n",
    "for value in zip(names, surnoms):\n",
    "    print(value)"
   ]
  },
  {
   "cell_type": "markdown",
   "metadata": {},
   "source": [
    "### 4 - Unpacking"
   ]
  },
  {
   "cell_type": "code",
   "execution_count": 35,
   "metadata": {},
   "outputs": [
    {
     "name": "stdout",
     "output_type": "stream",
     "text": [
      "\n",
      "a: 1\n",
      "b: 2\n",
      "\n",
      "a: 1\n",
      "\n",
      "a: 1\n",
      "b: 2\n",
      "c: [3, 4, 5]\n",
      "\n",
      "a: 1\n",
      "b: 2\n",
      "c: [3, 4, 5, 6]\n",
      "d: 7\n",
      "\n",
      "a: 1\n",
      "b: 2\n",
      "d: 7\n"
     ]
    }
   ],
   "source": [
    "print()\n",
    "a, b = (1,2)\n",
    "print(\"a:\",a)\n",
    "print(\"b:\",b)\n",
    "\n",
    "print()\n",
    "a, _ = (1,2) # _ signifie qu'on ne va pas utiliser cette variable, ça évite une erreur de l'intépreteur\n",
    "print(\"a:\",a)\n",
    "#print(\"b:\",b)\n",
    "\n",
    "\"\"\"\n",
    "print()\n",
    "a, b, c = (1,2,3,4,5) # too many values to unpack\n",
    "print(a)\n",
    "print(b)\n",
    "print(c)\n",
    "\"\"\"\n",
    "\n",
    "print()\n",
    "a, b, *c = (1,2,3,4,5) # * signifie tout ce qui reste\n",
    "print(\"a:\",a)\n",
    "print(\"b:\",b)\n",
    "print(\"c:\",c)\n",
    "\n",
    "\n",
    "print()\n",
    "a, b, *c, d = [1,2,3,4,5,6,7] # * signifie tout ce qui reste tant qu'une autre variable n'est pas renseignée\n",
    "print(\"a:\",a)\n",
    "print(\"b:\",b)\n",
    "print(\"c:\",c)\n",
    "print(\"d:\",d)\n",
    "\n",
    "print()\n",
    "a, b, *_, d = [1,2,3,4,5,6,7] # * signifie tout ce qui reste tant qu'une autre variable n'est pas renseignée\n",
    "print(\"a:\",a)\n",
    "print(\"b:\",b)\n",
    "print(\"d:\",d)\n"
   ]
  },
  {
   "cell_type": "markdown",
   "metadata": {},
   "source": [
    "### 5 - setattr / getattr"
   ]
  },
  {
   "cell_type": "code",
   "execution_count": 38,
   "metadata": {},
   "outputs": [
    {
     "name": "stdout",
     "output_type": "stream",
     "text": [
      "Séb\n",
      "Ramos\n"
     ]
    }
   ],
   "source": [
    "class Person():\n",
    "    pass\n",
    "\n",
    "person = Person()\n",
    "\n",
    "person.firstname=\"Séb\"\n",
    "person.lastname=\"Ramos\"\n",
    "\n",
    "print(person.firstname)\n",
    "print(person.lastname)"
   ]
  },
  {
   "cell_type": "code",
   "execution_count": 54,
   "metadata": {},
   "outputs": [
    {
     "name": "stdout",
     "output_type": "stream",
     "text": [
      "Séb\n",
      "Ramos\n",
      "\n",
      "Séb\n",
      "Ramos\n",
      "\n",
      "Jenny\n",
      "Beck\n"
     ]
    }
   ],
   "source": [
    "class Person():\n",
    "    pass\n",
    "\n",
    "person = Person()\n",
    "\n",
    "firstname_key = 'first'\n",
    "firstname_value = 'Séb'\n",
    "lastname_key = 'second'\n",
    "lastname_value = 'Ramos'\n",
    "\n",
    "setattr(person, firstname_key, firstname_value)\n",
    "setattr(person, lastname_key, lastname_value)\n",
    "print(person.first)\n",
    "print(person.second)\n",
    "\n",
    "print()\n",
    "firstname = getattr(person, firstname_key)\n",
    "lastname = getattr(person, lastname_key)\n",
    "print(firstname)\n",
    "print(lastname)\n",
    "\n",
    "print()\n",
    "person_info = {'firstname': 'Jenny', 'lastname':'Beck'}\n",
    "person2 = Person()\n",
    "for key, value in person_info.items():\n",
    "    setattr(person2, key, value)\n",
    "    \n",
    "for key in person_info.keys():\n",
    "    print(getattr(person2, key))\n"
   ]
  }
 ],
 "metadata": {
  "kernelspec": {
   "display_name": "Python 3",
   "language": "python",
   "name": "python3"
  },
  "language_info": {
   "codemirror_mode": {
    "name": "ipython",
    "version": 3
   },
   "file_extension": ".py",
   "mimetype": "text/x-python",
   "name": "python",
   "nbconvert_exporter": "python",
   "pygments_lexer": "ipython3",
   "version": "3.8.3"
  },
  "toc": {
   "base_numbering": 1,
   "nav_menu": {},
   "number_sections": true,
   "sideBar": true,
   "skip_h1_title": false,
   "title_cell": "Table of Contents",
   "title_sidebar": "Contents",
   "toc_cell": false,
   "toc_position": {},
   "toc_section_display": true,
   "toc_window_display": false
  }
 },
 "nbformat": 4,
 "nbformat_minor": 4
}
