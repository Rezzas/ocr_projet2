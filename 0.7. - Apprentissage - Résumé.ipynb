{
 "cells": [
  {
   "cell_type": "markdown",
   "metadata": {},
   "source": [
    "# NumPy\n",
    "\n",
    "\n",
    "* Les tableaux NumPy permettent de :\n",
    "  * créer / initialiser / charger\n",
    "  * modifier / gérer / manipuler\n",
    "  * stocker\n",
    "* efficacement les données\n",
    "\n",
    "> \n",
    "\n",
    "* Les données peuvent venir de sources très variées, mais nous pouvons toujours les considérer comme des tableaux de nombres.\n",
    "* Par exemple, une image peut être considérée comme un tableau de deux dimensions (une matrice) où chaque nombre représente l'intensité lumineuse d'un pixel. shape(750,540,3) [[[0,0,145]]]"
   ]
  },
  {
   "cell_type": "markdown",
   "metadata": {},
   "source": [
    "# Matplotlib\n",
    "\n",
    "* Matplotlib a vu le jour pour permettre de générer directement des graphiques à partir de Python. \n",
    "* Au fil des années, Matplotlib est devenu une librairie puissante, compatible avec beaucoup de plateformes, et capable de générer des graphiques dans beaucoup de formats différents.\n",
    "\n",
    ">\n",
    "\n",
    "* Matplotlib est plus adapté quand il faut représenter des : fonctions, matrices, etc...\n",
    "* Matplotlib est préféré en : mathématique, science, ingénierie, physique...\n",
    "* Matplotlib permet de faire exactement ce qu'on veut : graphiques spécialisés\n",
    "* En revanche il faut de nombreuses lignes de code pour générer un tableau même simple (titre, labels, couleurs, etc..)\n",
    "\n",
    "> \n",
    "\n",
    "* Matplotlib n'est pas en lien avec Pandas (dataframe)"
   ]
  },
  {
   "cell_type": "markdown",
   "metadata": {},
   "source": [
    "# Seaborn\n",
    "\n",
    "* Seaborn est une librairie basée sur Matplotlib & Pandas\n",
    "* Seaborn permet simplement de tracer des graphes pour faciliter l'analyse de données\n",
    "* Contrairement à Matplotlib, le but de Seaborn est de proposer une solution simple plutôt que complète et entièrement customisable\n",
    "\n",
    ">\n",
    "\n",
    "* Seaborn est plus adapté quand il faut représenter des : dataframe\n",
    "* Seaborn est préféré en : data science\n",
    "* Seaborn ne permet pas de faire ce qu'on veut : il donne une vision globale des données\n",
    "* En revanche avec une seule ligne de code, il est très facile de générer de nombreux graphes pour analyser\n",
    "\n",
    ">\n",
    "\n",
    "* Seaborn est en lien avec Pandas car il consomme des Dataframe\n",
    "\n",
    ">\n",
    "\n",
    "* Les graphes les plus utilisés :\n",
    "  * pairplot\n",
    "  * catplot\n",
    "  * boxplot\n",
    "  * distplot\n",
    "  * jointplot\n",
    "  * heatmap\n",
    " \n",
    " \n",
    " >\n",
    " \n",
    " * Structure quasiment commune à toutes les fonctions Seaborn :\n",
    " ![seaborn](seaborn.jpg)"
   ]
  },
  {
   "cell_type": "markdown",
   "metadata": {},
   "source": [
    "# Pandas"
   ]
  },
  {
   "cell_type": "markdown",
   "metadata": {},
   "source": [
    "# Folium"
   ]
  }
 ],
 "metadata": {
  "kernelspec": {
   "display_name": "Python 3",
   "language": "python",
   "name": "python3"
  },
  "language_info": {
   "codemirror_mode": {
    "name": "ipython",
    "version": 3
   },
   "file_extension": ".py",
   "mimetype": "text/x-python",
   "name": "python",
   "nbconvert_exporter": "python",
   "pygments_lexer": "ipython3",
   "version": "3.7.6"
  }
 },
 "nbformat": 4,
 "nbformat_minor": 4
}
