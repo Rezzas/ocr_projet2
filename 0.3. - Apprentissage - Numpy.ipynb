{
 "cells": [
  {
   "cell_type": "markdown",
   "metadata": {},
   "source": [
    "# Cours"
   ]
  },
  {
   "cell_type": "markdown",
   "metadata": {},
   "source": [
    "# Sommaire"
   ]
  },
  {
   "cell_type": "code",
   "execution_count": 1,
   "metadata": {},
   "outputs": [
    {
     "name": "stdout",
     "output_type": "stream",
     "text": [
      "---------------\n",
      "--- vecteur ---\n",
      "---------------\n",
      "[0.97970079 0.31002598 0.03049281 0.09600296]\n",
      "\n",
      "---------------\n",
      "--- matrice ---\n",
      "---------------\n",
      "[[0.29621346 0.9503757  0.8560037 ]\n",
      " [0.78148955 0.53061894 0.92834684]\n",
      " [0.60969986 0.61566686 0.08962422]\n",
      " [0.88717601 0.16081395 0.48589182]]\n",
      "\n",
      "---------------\n",
      "--- tenseur ---\n",
      "---------------\n",
      "[[[0.5254432  0.48697899]\n",
      "  [0.42561893 0.12221236]\n",
      "  [0.36877247 0.87832685]]\n",
      "\n",
      " [[0.67983902 0.5586112 ]\n",
      "  [0.04999478 0.06300505]\n",
      "  [0.23554925 0.33049438]]\n",
      "\n",
      " [[0.10974588 0.8735356 ]\n",
      "  [0.00294334 0.1586423 ]\n",
      "  [0.22846318 0.72651978]]\n",
      "\n",
      " [[0.11633657 0.98892834]\n",
      "  [0.61427168 0.14752817]\n",
      "  [0.75466042 0.39340171]]]\n"
     ]
    }
   ],
   "source": [
    "import numpy as np\n",
    "\n",
    "vecteur = np.random.rand(4) # renvoie une liste de 4 valeurs aléatoires comprises entre 0 & 1\n",
    "matrice = np.random.rand(4,3) # renvoie une liste de 4 listes de 2 valeurs aléatoires comprises entre 0 & 1\n",
    "tenseur = np.random.rand(4,3,2) # renvoie une liste de 4 listes de 3 listes de 2 valeurs aléatoires comprises entre 0 & 1\n",
    "\n",
    "print(\"---------------\")\n",
    "print(\"--- vecteur ---\")\n",
    "print(\"---------------\")\n",
    "print(vecteur)\n",
    "print()\n",
    "print(\"---------------\")\n",
    "print(\"--- matrice ---\")\n",
    "print(\"---------------\")\n",
    "print(matrice)\n",
    "print()\n",
    "print(\"---------------\")\n",
    "print(\"--- tenseur ---\")\n",
    "print(\"---------------\")\n",
    "print(tenseur)"
   ]
  },
  {
   "cell_type": "code",
   "execution_count": 2,
   "metadata": {},
   "outputs": [
    {
     "name": "stdout",
     "output_type": "stream",
     "text": [
      "--------------------\n",
      "--- les matrices ---\n",
      "--------------------\n",
      "<class 'numpy.ndarray'>\n",
      "[[0.35987112 0.88955992]\n",
      " [0.31679006 0.21934216]\n",
      " [0.09480088 0.63882475]]\n",
      "\n",
      "ligne 1 : [0.35987112 0.88955992] : <class 'numpy.ndarray'> : (2,)\n",
      "ligne 2 : [0.31679006 0.21934216] : <class 'numpy.ndarray'> : (2,)\n",
      "ligne 3 : [0.09480088 0.63882475] : <class 'numpy.ndarray'> : (2,)\n",
      "somme   : [0.77146207 1.74772683]\n",
      "\n",
      "colonne 1 : [0.35987112 0.31679006 0.09480088] : <class 'numpy.ndarray'> : (3,)\n",
      "colonne 2 : [0.88955992 0.21934216 0.63882475] : <class 'numpy.ndarray'> : (3,)\n",
      "somme     : [1.24943103 0.53613222 0.73362564]\n",
      "\n"
     ]
    }
   ],
   "source": [
    "# les matrices\n",
    "# 3 listes de 2 éléments\n",
    "# shape (3,) <=> (3,1)\n",
    "print(\"--------------------\")\n",
    "print(\"--- les matrices ---\")\n",
    "print(\"--------------------\")\n",
    "matrice = np.random.rand(3,2)\n",
    "print(type(matrice))\n",
    "print(matrice)\n",
    "print()\n",
    "\n",
    "for i in range(0, len(matrice)):\n",
    "    print(\"ligne {} : {} : {} : {}\".format(i+1, matrice[i,:], type(matrice[i,:]), matrice[i,:].shape))\n",
    "print(\"somme   : {}\".format(np.sum(matrice,0))) # somme les lignes entre elles\n",
    "print()\n",
    "\n",
    "for i in range(0, len(matrice[0])):\n",
    "    print(\"colonne {} : {} : {} : {}\".format(i+1, matrice[:,i], type(matrice[:,i]), matrice[:,i].shape))\n",
    "print(\"somme     : {}\".format(np.sum(matrice,1))) # somme des colonnes\n",
    "\n",
    "print()"
   ]
  }
 ],
 "metadata": {
  "kernelspec": {
   "display_name": "Python 3",
   "language": "python",
   "name": "python3"
  },
  "language_info": {
   "codemirror_mode": {
    "name": "ipython",
    "version": 3
   },
   "file_extension": ".py",
   "mimetype": "text/x-python",
   "name": "python",
   "nbconvert_exporter": "python",
   "pygments_lexer": "ipython3",
   "version": "3.8.3"
  }
 },
 "nbformat": 4,
 "nbformat_minor": 4
}
